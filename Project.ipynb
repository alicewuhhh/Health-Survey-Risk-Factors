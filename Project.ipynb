{
 "cells": [
  {
   "cell_type": "markdown",
   "id": "30087486",
   "metadata": {},
   "source": [
    "## Health Survey Risk Factors\n",
    "source: https://www.kaggle.com/datasets/lplenka/brfss-data"
   ]
  },
  {
   "cell_type": "code",
   "execution_count": 2,
   "id": "62a6ed9b",
   "metadata": {},
   "outputs": [],
   "source": [
    "import numpy as np\n",
    "import pandas as pd\n",
    "import seaborn as sns\n",
    "import matplotlib.pyplot as plt\n",
    "import statsmodels.api as sm\n",
    "from sklearn.decomposition import PCA\n",
    "from sklearn.decomposition import PCA\n",
    "from sklearn.preprocessing import StandardScaler\n",
    "from sklearn import tree\n",
    "\n",
    "\n",
    "from sklearn.model_selection import train_test_split\n",
    "from sklearn.metrics import precision_score, recall_score, f1_score\n",
    "from sklearn.metrics import classification_report\n",
    "\n",
    "from sklearn.ensemble import RandomForestClassifier\n",
    "from imblearn.ensemble import BalancedBaggingClassifier,BalancedRandomForestClassifier,RUSBoostClassifier,EasyEnsembleClassifier\n",
    "from sklearn.linear_model import LogisticRegression,LinearRegression,Lasso,Ridge,ElasticNet\n",
    "from xgboost import XGBClassifier\n",
    "from sklearn.naive_bayes import BernoulliNB, CategoricalNB, GaussianNB, MultinomialNB  # Naive Bayes classifiers\n",
    "from scipy.stats import chi2_contingency,f_oneway\n",
    "from imblearn.under_sampling import TomekLinks\n",
    "from sklearn.metrics import precision_score, recall_score, f1_score, roc_curve, precision_recall_curve, roc_auc_score,accuracy_score\n",
    "from sklearn.model_selection import GridSearchCV,RandomizedSearchCV\n",
    "from sklearn.tree import DecisionTreeClassifier, plot_tree   # Decision tree\n"
   ]
  },
  {
   "cell_type": "code",
   "execution_count": 71,
   "id": "e9329c08",
   "metadata": {
    "scrolled": true
   },
   "outputs": [
    {
     "data": {
      "text/html": [
       "<div>\n",
       "<style scoped>\n",
       "    .dataframe tbody tr th:only-of-type {\n",
       "        vertical-align: middle;\n",
       "    }\n",
       "\n",
       "    .dataframe tbody tr th {\n",
       "        vertical-align: top;\n",
       "    }\n",
       "\n",
       "    .dataframe thead th {\n",
       "        text-align: right;\n",
       "    }\n",
       "</style>\n",
       "<table border=\"1\" class=\"dataframe\">\n",
       "  <thead>\n",
       "    <tr style=\"text-align: right;\">\n",
       "      <th></th>\n",
       "      <th>genhlth</th>\n",
       "      <th>physhlth</th>\n",
       "      <th>menthlth</th>\n",
       "      <th>hlthpln1</th>\n",
       "      <th>persdoc2</th>\n",
       "      <th>medcost</th>\n",
       "      <th>checkup1</th>\n",
       "      <th>sleptim1</th>\n",
       "      <th>bphigh4</th>\n",
       "      <th>bloodcho</th>\n",
       "      <th>...</th>\n",
       "      <th>fc60_</th>\n",
       "      <th>strfreq_</th>\n",
       "      <th>pamiss1_</th>\n",
       "      <th>X_pastrng</th>\n",
       "      <th>X_lmtact1</th>\n",
       "      <th>X_lmtwrk1</th>\n",
       "      <th>X_lmtscl1</th>\n",
       "      <th>X_rfseat2</th>\n",
       "      <th>X_rfseat3</th>\n",
       "      <th>X_age80</th>\n",
       "    </tr>\n",
       "  </thead>\n",
       "  <tbody>\n",
       "    <tr>\n",
       "      <th>0</th>\n",
       "      <td>Good</td>\n",
       "      <td>0.0</td>\n",
       "      <td>0.0</td>\n",
       "      <td>Yes</td>\n",
       "      <td>Yes, only one</td>\n",
       "      <td>No</td>\n",
       "      <td>Within past year</td>\n",
       "      <td>6.0</td>\n",
       "      <td>No</td>\n",
       "      <td>Yes</td>\n",
       "      <td>...</td>\n",
       "      <td>506.0</td>\n",
       "      <td>0.0</td>\n",
       "      <td>0.0</td>\n",
       "      <td>Did not meet muscle strengthening recommendations</td>\n",
       "      <td>Not told they have arthritis</td>\n",
       "      <td>Not told they have arthritis</td>\n",
       "      <td>Not told they have arthritis</td>\n",
       "      <td>Always or almost always wear seat belt</td>\n",
       "      <td>Always wear seat belt</td>\n",
       "      <td>50.0</td>\n",
       "    </tr>\n",
       "    <tr>\n",
       "      <th>1</th>\n",
       "      <td>Good</td>\n",
       "      <td>3.0</td>\n",
       "      <td>2.0</td>\n",
       "      <td>Yes</td>\n",
       "      <td>Yes, only one</td>\n",
       "      <td>No</td>\n",
       "      <td>Within past year</td>\n",
       "      <td>9.0</td>\n",
       "      <td>No</td>\n",
       "      <td>Yes</td>\n",
       "      <td>...</td>\n",
       "      <td>474.0</td>\n",
       "      <td>0.0</td>\n",
       "      <td>0.0</td>\n",
       "      <td>Did not meet muscle strengthening recommendations</td>\n",
       "      <td>Told have arthritis and have limited usual act...</td>\n",
       "      <td>Told have arthritis and have limited work</td>\n",
       "      <td>Told have arthritis and social activities limi...</td>\n",
       "      <td>Always or almost always wear seat belt</td>\n",
       "      <td>Always wear seat belt</td>\n",
       "      <td>55.0</td>\n",
       "    </tr>\n",
       "    <tr>\n",
       "      <th>2</th>\n",
       "      <td>Very good</td>\n",
       "      <td>2.0</td>\n",
       "      <td>0.0</td>\n",
       "      <td>Yes</td>\n",
       "      <td>Yes, only one</td>\n",
       "      <td>No</td>\n",
       "      <td>Within past 2 years</td>\n",
       "      <td>8.0</td>\n",
       "      <td>No</td>\n",
       "      <td>Yes</td>\n",
       "      <td>...</td>\n",
       "      <td>417.0</td>\n",
       "      <td>0.0</td>\n",
       "      <td>0.0</td>\n",
       "      <td>Did not meet muscle strengthening recommendations</td>\n",
       "      <td>Not told they have arthritis</td>\n",
       "      <td>Not told they have arthritis</td>\n",
       "      <td>Not told they have arthritis</td>\n",
       "      <td>Always or almost always wear seat belt</td>\n",
       "      <td>Always wear seat belt</td>\n",
       "      <td>64.0</td>\n",
       "    </tr>\n",
       "    <tr>\n",
       "      <th>3</th>\n",
       "      <td>Good</td>\n",
       "      <td>10.0</td>\n",
       "      <td>2.0</td>\n",
       "      <td>Yes</td>\n",
       "      <td>Yes, only one</td>\n",
       "      <td>No</td>\n",
       "      <td>5 or more years ago</td>\n",
       "      <td>6.0</td>\n",
       "      <td>Yes</td>\n",
       "      <td>Yes</td>\n",
       "      <td>...</td>\n",
       "      <td>406.0</td>\n",
       "      <td>0.0</td>\n",
       "      <td>0.0</td>\n",
       "      <td>Did not meet muscle strengthening recommendations</td>\n",
       "      <td>Not told they have arthritis</td>\n",
       "      <td>Not told they have arthritis</td>\n",
       "      <td>Not told they have arthritis</td>\n",
       "      <td>Always or almost always wear seat belt</td>\n",
       "      <td>Always wear seat belt</td>\n",
       "      <td>66.0</td>\n",
       "    </tr>\n",
       "    <tr>\n",
       "      <th>4</th>\n",
       "      <td>Very good</td>\n",
       "      <td>0.0</td>\n",
       "      <td>0.0</td>\n",
       "      <td>Yes</td>\n",
       "      <td>Yes, only one</td>\n",
       "      <td>No</td>\n",
       "      <td>Within past year</td>\n",
       "      <td>8.0</td>\n",
       "      <td>Yes</td>\n",
       "      <td>Yes</td>\n",
       "      <td>...</td>\n",
       "      <td>512.0</td>\n",
       "      <td>0.0</td>\n",
       "      <td>0.0</td>\n",
       "      <td>Did not meet muscle strengthening recommendations</td>\n",
       "      <td>Not told they have arthritis</td>\n",
       "      <td>Not told they have arthritis</td>\n",
       "      <td>Not told they have arthritis</td>\n",
       "      <td>Always or almost always wear seat belt</td>\n",
       "      <td>Always wear seat belt</td>\n",
       "      <td>49.0</td>\n",
       "    </tr>\n",
       "  </tbody>\n",
       "</table>\n",
       "<p>5 rows × 124 columns</p>\n",
       "</div>"
      ],
      "text/plain": [
       "     genhlth  physhlth  menthlth hlthpln1       persdoc2 medcost  \\\n",
       "0       Good       0.0       0.0      Yes  Yes, only one      No   \n",
       "1       Good       3.0       2.0      Yes  Yes, only one      No   \n",
       "2  Very good       2.0       0.0      Yes  Yes, only one      No   \n",
       "3       Good      10.0       2.0      Yes  Yes, only one      No   \n",
       "4  Very good       0.0       0.0      Yes  Yes, only one      No   \n",
       "\n",
       "              checkup1  sleptim1 bphigh4 bloodcho  ...  fc60_ strfreq_  \\\n",
       "0     Within past year       6.0      No      Yes  ...  506.0      0.0   \n",
       "1     Within past year       9.0      No      Yes  ...  474.0      0.0   \n",
       "2  Within past 2 years       8.0      No      Yes  ...  417.0      0.0   \n",
       "3  5 or more years ago       6.0     Yes      Yes  ...  406.0      0.0   \n",
       "4     Within past year       8.0     Yes      Yes  ...  512.0      0.0   \n",
       "\n",
       "  pamiss1_                                          X_pastrng  \\\n",
       "0      0.0  Did not meet muscle strengthening recommendations   \n",
       "1      0.0  Did not meet muscle strengthening recommendations   \n",
       "2      0.0  Did not meet muscle strengthening recommendations   \n",
       "3      0.0  Did not meet muscle strengthening recommendations   \n",
       "4      0.0  Did not meet muscle strengthening recommendations   \n",
       "\n",
       "                                           X_lmtact1  \\\n",
       "0                       Not told they have arthritis   \n",
       "1  Told have arthritis and have limited usual act...   \n",
       "2                       Not told they have arthritis   \n",
       "3                       Not told they have arthritis   \n",
       "4                       Not told they have arthritis   \n",
       "\n",
       "                                   X_lmtwrk1  \\\n",
       "0               Not told they have arthritis   \n",
       "1  Told have arthritis and have limited work   \n",
       "2               Not told they have arthritis   \n",
       "3               Not told they have arthritis   \n",
       "4               Not told they have arthritis   \n",
       "\n",
       "                                           X_lmtscl1  \\\n",
       "0                       Not told they have arthritis   \n",
       "1  Told have arthritis and social activities limi...   \n",
       "2                       Not told they have arthritis   \n",
       "3                       Not told they have arthritis   \n",
       "4                       Not told they have arthritis   \n",
       "\n",
       "                                X_rfseat2              X_rfseat3 X_age80  \n",
       "0  Always or almost always wear seat belt  Always wear seat belt    50.0  \n",
       "1  Always or almost always wear seat belt  Always wear seat belt    55.0  \n",
       "2  Always or almost always wear seat belt  Always wear seat belt    64.0  \n",
       "3  Always or almost always wear seat belt  Always wear seat belt    66.0  \n",
       "4  Always or almost always wear seat belt  Always wear seat belt    49.0  \n",
       "\n",
       "[5 rows x 124 columns]"
      ]
     },
     "execution_count": 71,
     "metadata": {},
     "output_type": "execute_result"
    }
   ],
   "source": [
    "df=pd.read_csv('/Users/aliceqichaowu/Desktop/38615/FinalProject/brfss2013/brfss2013_new1.csv',low_memory=False)\n",
    "df.head()\n"
   ]
  },
  {
   "cell_type": "markdown",
   "id": "ad01a2fb",
   "metadata": {},
   "source": [
    "## Preprocessing\n"
   ]
  },
  {
   "cell_type": "code",
   "execution_count": null,
   "id": "6fc0fd9c",
   "metadata": {},
   "outputs": [],
   "source": [
    "## Check missing values\n",
    "# print('There are %i nan in the dataframe' % df.isna().sum().sum())\n",
    "df.isnull().sum()/df.shape[0]"
   ]
  },
  {
   "cell_type": "code",
   "execution_count": null,
   "id": "2729a9bb",
   "metadata": {},
   "outputs": [],
   "source": [
    "## find out how many columns have missing values < 10% data pts for each column\n",
    "## 0.1: 0.69; 0.15: 0.491; 0.2: 0.42;\n",
    "mask=df.isnull().sum()/df.shape[0]<0.1\n",
    "features=df.columns[mask]\n",
    "df1=df[features]\n",
    "print('Percentage of columns remained: ', len(features)/len(df.columns))"
   ]
  },
  {
   "cell_type": "code",
   "execution_count": null,
   "id": "225870e7",
   "metadata": {},
   "outputs": [],
   "source": [
    "rows_remain=len(df1[df1.isnull().any(axis=1)])/len(df1)\n",
    "print('Percentage of rows remained after removing missing values: ',rows_remain )"
   ]
  },
  {
   "cell_type": "code",
   "execution_count": null,
   "id": "0775a14f",
   "metadata": {},
   "outputs": [],
   "source": [
    "df1.dropna(inplace=True)\n",
    "df1.reset_index(drop=True,inplace=True)"
   ]
  },
  {
   "cell_type": "code",
   "execution_count": null,
   "id": "071082f0",
   "metadata": {},
   "outputs": [],
   "source": [
    "## drop useless columns\n",
    "df=df.drop(columns=['X_misfrtn','X_misvegn','X_frtresp','X_vegresp'])"
   ]
  },
  {
   "cell_type": "markdown",
   "id": "6e9950d9",
   "metadata": {},
   "source": [
    "## EDA"
   ]
  },
  {
   "cell_type": "code",
   "execution_count": 72,
   "id": "04c4db2e",
   "metadata": {},
   "outputs": [],
   "source": [
    "features = pd.read_csv('/Users/aliceqichaowu/Desktop/38615/FinalProject/features.txt', sep=' ',header=None)\n",
    "feat_lst=features.iloc[:,0].values.tolist()"
   ]
  },
  {
   "cell_type": "code",
   "execution_count": 73,
   "id": "b3dbd776",
   "metadata": {
    "scrolled": true
   },
   "outputs": [
    {
     "name": "stderr",
     "output_type": "stream",
     "text": [
      "/Users/aliceqichaowu/opt/anaconda3/lib/python3.8/site-packages/pandas/core/series.py:4509: SettingWithCopyWarning: \n",
      "A value is trying to be set on a copy of a slice from a DataFrame\n",
      "\n",
      "See the caveats in the documentation: https://pandas.pydata.org/pandas-docs/stable/user_guide/indexing.html#returning-a-view-versus-a-copy\n",
      "  return super().replace(\n",
      "<ipython-input-73-a12c996e03b4>:8: SettingWithCopyWarning: \n",
      "A value is trying to be set on a copy of a slice from a DataFrame.\n",
      "Try using .loc[row_indexer,col_indexer] = value instead\n",
      "\n",
      "See the caveats in the documentation: https://pandas.pydata.org/pandas-docs/stable/user_guide/indexing.html#returning-a-view-versus-a-copy\n",
      "  df_cat[col_name]=df_cat[col_name].astype('category').cat.codes\n"
     ]
    }
   ],
   "source": [
    "## transform categorical \n",
    "df_cat=df.select_dtypes(include='object')\n",
    "numerics = ['int16', 'int32', 'int64', 'float16', 'float32', 'float64']\n",
    "df_num=df.select_dtypes(include=numerics)\n",
    "df_cat['genhlth'].replace(['Excellent','Very good','Good','Fair','Poor'],\n",
    "                        [1,2,3,4,5], inplace=True)\n",
    "for i in range(1,df_cat.shape[1]):\n",
    "    col_name=df_cat.columns[i]\n",
    "    df_cat[col_name]=df_cat[col_name].astype('category').cat.codes\n",
    "df_new=df_cat.join(df_num)"
   ]
  },
  {
   "cell_type": "code",
   "execution_count": 74,
   "id": "b5cc0f4c",
   "metadata": {},
   "outputs": [
    {
     "name": "stdout",
     "output_type": "stream",
     "text": [
      "(333985, 124)\n"
     ]
    }
   ],
   "source": [
    "def remove_outliers(df,columns,n_std):\n",
    "    for col in columns:\n",
    "        mean = df[col].mean()\n",
    "        sd = df[col].std()       \n",
    "        df = df[(df[col] <= mean+(n_std*sd))]       \n",
    "    return df\n",
    "\n",
    "df_out=remove_outliers(df_new,df_new.columns,8)\n",
    "df=df.drop(columns=['X_misfrtn','X_misvegn','X_frtresp','X_vegresp'])\n",
    "print(df_out.shape)"
   ]
  },
  {
   "cell_type": "code",
   "execution_count": 75,
   "id": "8bea0d05",
   "metadata": {},
   "outputs": [],
   "source": [
    "df_cat_new=df_out.iloc[:,:80].astype('category')\n",
    "df1=df_cat_new.join(df_out.iloc[:,80:])"
   ]
  },
  {
   "cell_type": "code",
   "execution_count": 76,
   "id": "24a1acfe",
   "metadata": {},
   "outputs": [
    {
     "name": "stdout",
     "output_type": "stream",
     "text": [
      "There are 9 variables are highly correlated\n"
     ]
    }
   ],
   "source": [
    "corr_matrix=df_out.iloc[:,1:].corr()\n",
    "corr_matrix\n",
    "upper_tri = corr_matrix.where(np.triu(np.ones(corr_matrix.shape),k=1).astype(np.bool_))\n",
    "to_drop = [column for column in upper_tri.columns if any(abs(upper_tri[column]) > 0.99)]\n",
    "print('There are '+str(len(to_drop))+' variables are highly correlated')"
   ]
  },
  {
   "cell_type": "code",
   "execution_count": null,
   "id": "ff428c2d",
   "metadata": {},
   "outputs": [],
   "source": [
    "cat_sig=[]\n",
    "for i in range(1,df_cat.shape[1]):\n",
    "    crosstab=pd.crosstab(index=df_cat['genhlth'],columns=df_cat.iloc[:,i])\n",
    "    chiq=chi2_contingency(crosstab)\n",
    "    cat_sig.append(chiq[1])\n",
    "    print('p-value',df_cat.columns[i],chiq[1])"
   ]
  },
  {
   "cell_type": "code",
   "execution_count": null,
   "id": "194264e6",
   "metadata": {},
   "outputs": [],
   "source": [
    "num_sig=[]\n",
    "df_anova=df_num.join(df_cat['genhlth'])\n",
    "for i in range(df_anova.shape[1]-1):\n",
    "    catgroup=df_anova.groupby('genhlth')[df_anova.columns[i]].apply(list)\n",
    "    anova=f_oneway(*catgroup)\n",
    "    num_sig.append(anova[1])\n",
    "    print('p-value for ANOVA is: ', df_anova.columns[i],anova[1])\n",
    "    "
   ]
  },
  {
   "cell_type": "markdown",
   "id": "82be2360",
   "metadata": {},
   "source": [
    "## Feature Engineering\n"
   ]
  },
  {
   "cell_type": "code",
   "execution_count": null,
   "id": "eb584620",
   "metadata": {},
   "outputs": [],
   "source": [
    "## feature selection\n",
    "def forward_regression(X, y,\n",
    "                       threshold_in,\n",
    "                       verbose=False):\n",
    "    initial_list = []\n",
    "    included = list(initial_list)\n",
    "    while True:\n",
    "        changed=False\n",
    "        excluded = list(set(X.columns)-set(included))\n",
    "        new_pval = pd.Series(index=excluded)\n",
    "        for new_column in excluded:\n",
    "            model = sm.OLS(y, sm.add_constant(pd.DataFrame(X[included+[new_column]]))).fit()\n",
    "            new_pval[new_column] = model.pvalues[new_column]\n",
    "        best_pval = new_pval.min()\n",
    "        if best_pval < threshold_in:\n",
    "            best_feature = new_pval.idxmin()\n",
    "            included.append(best_feature)\n",
    "            changed=True\n",
    "            if verbose:\n",
    "                print('Add  {:30} with p-value {:.6}'.format(best_feature, best_pval))\n",
    "\n",
    "        if not changed:\n",
    "            break\n",
    "\n",
    "    return included"
   ]
  },
  {
   "cell_type": "code",
   "execution_count": null,
   "id": "26961b7f",
   "metadata": {},
   "outputs": [],
   "source": [
    "included= forward_regression(X,y,0.05,verbose=True)\n",
    "with open('/Users/aliceqichaowu/Desktop/38615/brfss2013/features.txt', 'w') as fp:\n",
    "    fp.write('\\n'.join(included))"
   ]
  },
  {
   "cell_type": "code",
   "execution_count": null,
   "id": "0afc23f2",
   "metadata": {},
   "outputs": [],
   "source": [
    "features = pd.read_csv('/Users/aliceqichaowu/Desktop/38615/FinalProject/features.txt', sep=' ',header=None)\n",
    "feat_lst=features.iloc[:,0].values.tolist()"
   ]
  },
  {
   "cell_type": "markdown",
   "id": "d17eb62a",
   "metadata": {},
   "source": [
    "## Model Building: Logistic regression, Decision Tree, Random Forest, XGBoost"
   ]
  },
  {
   "cell_type": "code",
   "execution_count": null,
   "id": "1dfc2971",
   "metadata": {},
   "outputs": [],
   "source": [
    "## select three classes\n",
    "df3=df1[(df1['genhlth']== 1)|(df1['genhlth']== 3)|(df1['genhlth']== 5)]\n",
    "df3['genhlth'].replace([1,3,5],[0,1,2], inplace=True)\n",
    "\n",
    "y = df3['genhlth']\n",
    "X = df3[feat_lst]"
   ]
  },
  {
   "cell_type": "code",
   "execution_count": 148,
   "id": "3cc91503",
   "metadata": {},
   "outputs": [],
   "source": [
    "## split into training and test \n",
    "X_train, X_test, y_train, y_test = train_test_split(X, y, test_size=0.20, random_state=0)"
   ]
  },
  {
   "cell_type": "markdown",
   "id": "25aac246",
   "metadata": {},
   "source": [
    "- PCA + Histogram"
   ]
  },
  {
   "cell_type": "code",
   "execution_count": null,
   "id": "dc52b1f2",
   "metadata": {},
   "outputs": [],
   "source": [
    "pca_sklearn = PCA()\n",
    "projected = pca_sklearn.fit_transform(X_train)\n",
    "\n",
    "figure = plt.figure(dpi=100)\n",
    "plt.scatter(projected[:, 0], projected[:, 1],c=Y_train, s=15, edgecolor='none', alpha=0.5,cmap=plt.cm.get_cmap('coolwarm', 5))\n",
    "plt.xlabel('component 1')\n",
    "plt.ylabel('component 2')\n",
    "plt.colorbar()\n",
    "plt.show()"
   ]
  },
  {
   "cell_type": "code",
   "execution_count": null,
   "id": "b26d804e",
   "metadata": {},
   "outputs": [],
   "source": [
    "plt.hist(Y_train,bins=[0,2,4,6],rwidth=0.5, color = 'orange')\n",
    "plt.xticks([1,3,5],['Excellent','Good','Poor'])\n",
    "plt.ylabel('Counts')\n",
    "plt.title('Histogram of general health status')\n",
    "plt.show()"
   ]
  },
  {
   "cell_type": "code",
   "execution_count": 149,
   "id": "8d4b8531",
   "metadata": {},
   "outputs": [],
   "source": [
    "# Normalization\n",
    "scaler = StandardScaler()  # normalization: zero mean, unit variance\n",
    "scaler.fit(X_train)  # scaling factor determined from the training set\n",
    "\n",
    "X_train = scaler.transform(X_train)\n",
    "scaler.fit(X_test) \n",
    "X_test = scaler.transform(X_test)"
   ]
  },
  {
   "cell_type": "code",
   "execution_count": null,
   "id": "325aad4a",
   "metadata": {},
   "outputs": [],
   "source": [
    "## logistic\n",
    "mdl_lr = LogisticRegression('l2')\n",
    "mdl_lr.fit(X_train, y_train)\n",
    "y_pred_LR = np.squeeze(mdl_lr.predict(X_test))"
   ]
  },
  {
   "cell_type": "code",
   "execution_count": null,
   "id": "805251a6",
   "metadata": {},
   "outputs": [],
   "source": [
    "# Random forest\n",
    "rf = RandomForestClassifier()\n",
    "rf.fit(X_train, y_train)\n",
    "y_pred_rf = np.squeeze(rf.predict(X_test))\n",
    "y_prob_rf = rf.predict_proba(X_test) "
   ]
  },
  {
   "cell_type": "code",
   "execution_count": 133,
   "id": "67249726",
   "metadata": {},
   "outputs": [
    {
     "name": "stdout",
     "output_type": "stream",
     "text": [
      "[17:10:21] WARNING: /opt/concourse/worker/volumes/live/7a2b9f41-3287-451b-6691-43e9a6c0910f/volume/xgboost-split_1619728204606/work/src/learner.cc:1061: Starting in XGBoost 1.3.0, the default evaluation metric used with the objective 'multi:softprob' was changed from 'merror' to 'mlogloss'. Explicitly set eval_metric if you'd like to restore the old behavior.\n"
     ]
    }
   ],
   "source": [
    "## XGboost\n",
    "mdl_xgb=XGBClassifier(base_score=0.5, booster='gbtree', colsample_bylevel=1,\n",
    "              colsample_bynode=1, colsample_bytree=0.5, gamma=0, gpu_id=-1, verbosity=None,use_label_encoder=False)\n",
    "mdl_xgb.fit(X_train, y_train)\n",
    "y_pred_xgb = np.squeeze(mdl_xgb.predict(X_test))\n",
    "y_prob_xgb = mdl_xgb.predict_proba(X_test) \n"
   ]
  },
  {
   "cell_type": "code",
   "execution_count": 170,
   "id": "c3ae724e",
   "metadata": {},
   "outputs": [],
   "source": [
    "## plot decision tree with 20 features\n",
    "clf = DecisionTreeClassifier();   #create the classifier\n",
    "# Train decision tree\n",
    "clf = clf.fit(X_train, y_train)\n",
    "# Prediction: use the untouched test set\n",
    "y_pred = clf.predict(X_test)"
   ]
  },
  {
   "cell_type": "code",
   "execution_count": 182,
   "id": "1f17f35c",
   "metadata": {
    "scrolled": true
   },
   "outputs": [
    {
     "data": {
      "image/png": "[encoded data removed]",
      "text/plain": [
       "<Figure size 1440x1296 with 1 Axes>"
      ]
     },
     "metadata": {
      "needs_background": "light"
     },
     "output_type": "display_data"
    }
   ],
   "source": [
    "# Visualize decision tree\n",
    "target_names = ['Excellent','Good','Poor']\n",
    "fig = plt.figure(figsize=(20,18))\n",
    "_ = plot_tree(clf,max_depth=5,\n",
    "              feature_names=feature_imp.index[:10],\n",
    "              class_names=target_names,\n",
    "              filled=True,fontsize=7)\n",
    "fig.savefig(\"/Users/aliceqichaowu/Desktop/decision_tree.png\")\n"
   ]
  },
  {
   "cell_type": "code",
   "execution_count": 152,
   "id": "6c11012d",
   "metadata": {},
   "outputs": [
    {
     "data": {
      "text/plain": [
       "(141597, 10)"
      ]
     },
     "execution_count": 152,
     "metadata": {},
     "output_type": "execute_result"
    }
   ],
   "source": [
    "X_train.shape"
   ]
  },
  {
   "cell_type": "code",
   "execution_count": 128,
   "id": "25165b11",
   "metadata": {
    "scrolled": true
   },
   "outputs": [
    {
     "data": {
      "image/png": "[encoded data removed]",
      "text/plain": [
       "<Figure size 2880x2160 with 1 Axes>"
      ]
     },
     "metadata": {
      "needs_background": "light"
     },
     "output_type": "display_data"
    }
   ],
   "source": [
    "# feature_imp = pd.Series(rf.feature_importances_,index=X.columns.values).sort_values(ascending=False)\n",
    "# # Creating a bar plot\n",
    "\n",
    "# Add labels to your graph\n",
    "fig, ax = plt.subplots(figsize=(40, 30))\n",
    "sns.barplot(x=feature_imp[:20], y=feature_imp.index[:20])\n",
    "ax.set_xlabel('Feature Importance Score',size=30)\n",
    "ax.set_ylabel('Features',size=30)\n",
    "ax.set_title(\"Visualizing Important Features\",size=30)\n",
    "fig.savefig(\"/Users/aliceqichaowu/Desktop/feature_imp.png\")\n",
    "# ax.legend()\n",
    "plt.show()"
   ]
  },
  {
   "cell_type": "markdown",
   "id": "a380ffb4",
   "metadata": {},
   "source": [
    "## Evaluation"
   ]
  },
  {
   "cell_type": "code",
   "execution_count": 6,
   "id": "0de325a4",
   "metadata": {},
   "outputs": [],
   "source": [
    "# Evaluation metrics\n",
    "target_names = ['Excellent','Good','Poor']\n",
    "print(classification_report(y_test, y_pred_xgb, target_names=target_names))"
   ]
  },
  {
   "cell_type": "markdown",
   "id": "d372839e",
   "metadata": {},
   "source": [
    "## Deal with imbalanced classes\n"
   ]
  },
  {
   "cell_type": "markdown",
   "id": "240ba815",
   "metadata": {
    "scrolled": true
   },
   "source": [
    "### Method 1: SMOTE - Synthetic Minority Over-sampling Technique"
   ]
  },
  {
   "cell_type": "code",
   "execution_count": 5,
   "id": "2345f45a",
   "metadata": {
    "scrolled": true
   },
   "outputs": [],
   "source": [
    "from imblearn.over_sampling import SMOTE\n",
    "sm = SMOTE(random_state=42)\n",
    "X_res, y_res = sm.fit_resample(X, y)"
   ]
  },
  {
   "cell_type": "markdown",
   "id": "624dfc2e",
   "metadata": {},
   "source": [
    "- PCA + Histogram"
   ]
  },
  {
   "cell_type": "code",
   "execution_count": null,
   "id": "616c7699",
   "metadata": {},
   "outputs": [],
   "source": [
    "pca_sklearn = PCA()\n",
    "projected = pca_sklearn.fit_transform(X_res)\n",
    "\n",
    "figure = plt.figure(dpi=100)\n",
    "plt.scatter(projected[:, 0], projected[:, 1],c=y_res, s=15, edgecolor='none', alpha=0.5,cmap=plt.cm.get_cmap('coolwarm', 5))\n",
    "plt.xlabel('component 1')\n",
    "plt.ylabel('component 2')\n",
    "plt.colorbar()\n",
    "plt.show()"
   ]
  },
  {
   "cell_type": "code",
   "execution_count": null,
   "id": "c51f45ca",
   "metadata": {},
   "outputs": [],
   "source": [
    "plt.hist(y_res,bins=[0,2,4,6],rwidth=0.5, color = 'orange')\n",
    "plt.xticks([1,3,5],['Excellent','Good','Poor'])\n",
    "plt.ylabel('Counts')\n",
    "plt.title('Histogram of general health status')\n",
    "plt.show()"
   ]
  },
  {
   "cell_type": "markdown",
   "id": "3d9a9ff7",
   "metadata": {},
   "source": [
    "### Method 2: Sample Class Weighting"
   ]
  },
  {
   "cell_type": "code",
   "execution_count": 143,
   "id": "3f73c3fa",
   "metadata": {
    "scrolled": true
   },
   "outputs": [
    {
     "name": "stderr",
     "output_type": "stream",
     "text": [
      "/Users/aliceqichaowu/opt/anaconda3/lib/python3.8/site-packages/sklearn/utils/validation.py:70: FutureWarning: Pass classes=[1 2 3 4 5], y=0         3\n",
      "1         3\n",
      "2         2\n",
      "3         3\n",
      "4         2\n",
      "         ..\n",
      "339277    3\n",
      "339278    3\n",
      "339279    4\n",
      "339280    4\n",
      "339281    2\n",
      "Name: genhlth, Length: 333985, dtype: category\n",
      "Categories (5, int64): [1, 2, 3, 4, 5] as keyword args. From version 1.0 (renaming of 0.25) passing these as positional arguments will result in an error\n",
      "  warnings.warn(f\"Pass {args_msg} as keyword args. From version \"\n",
      "<ipython-input-143-1ef6f1dfb185>:9: RuntimeWarning: divide by zero encountered in true_divide\n",
      "  weights = total_samples / (n_classes * class_samples * 1.0)\n",
      "/Users/aliceqichaowu/opt/anaconda3/lib/python3.8/site-packages/xgboost/sklearn.py:888: UserWarning: The use of label encoder in XGBClassifier is deprecated and will be removed in a future release. To remove this warning, do the following: 1) Pass option use_label_encoder=False when constructing XGBClassifier object; and 2) Encode your labels (y) as integers starting with 0, i.e. 0, 1, 2, ..., [num_class - 1].\n",
      "  warnings.warn(label_encoder_deprecation_msg, UserWarning)\n"
     ]
    },
    {
     "name": "stdout",
     "output_type": "stream",
     "text": [
      "[19:33:16] WARNING: /opt/concourse/worker/volumes/live/7a2b9f41-3287-451b-6691-43e9a6c0910f/volume/xgboost-split_1619728204606/work/src/learner.cc:541: \n",
      "Parameters: { sample_weight } might not be used.\n",
      "\n",
      "  This may not be accurate due to some parameters are only used in language bindings but\n",
      "  passed down to XGBoost core.  Or some parameters are not used but slip through this\n",
      "  verification. Please open an issue if you find above cases.\n",
      "\n",
      "\n",
      "[19:33:16] WARNING: /opt/concourse/worker/volumes/live/7a2b9f41-3287-451b-6691-43e9a6c0910f/volume/xgboost-split_1619728204606/work/src/learner.cc:1061: Starting in XGBoost 1.3.0, the default evaluation metric used with the objective 'multi:softprob' was changed from 'merror' to 'mlogloss'. Explicitly set eval_metric if you'd like to restore the old behavior.\n"
     ]
    },
    {
     "data": {
      "text/plain": [
       "XGBClassifier(base_score=0.5, booster='gblinear', colsample_bylevel=None,\n",
       "              colsample_bynode=None, colsample_bytree=None, gamma=None,\n",
       "              gpu_id=-1, importance_type='gain', interaction_constraints=None,\n",
       "              learning_rate=0.5, max_delta_step=None, max_depth=None,\n",
       "              min_child_weight=None, missing=nan, monotone_constraints=None,\n",
       "              n_estimators=100, n_jobs=8, num_parallel_tree=None,...\n",
       "                             inf, 0.4757865075701888, 1.3918129386074578,\n",
       "                             array([0.95497352, 0.50932901, 0.60009102, 1.48993443, 3.89466914]),\n",
       "                             array([0.95497352, 0.50932901, 0.60009102, 1.48993443, 3.89466914]),\n",
       "                             0.5605712712783277, inf, inf, 0.5605712712783277,\n",
       "                             0.4757865075701888, 0.4757865075701888, ...],\n",
       "              scale_pos_weight=None, subsample=None, tree_method=None,\n",
       "              validate_parameters=1, verbosity=None)"
      ]
     },
     "execution_count": 143,
     "metadata": {},
     "output_type": "execute_result"
    }
   ],
   "source": [
    "from sklearn.utils import class_weight\n",
    "class_weight = class_weight.compute_class_weight('balanced', np.unique(y),y)\n",
    "def BalancedSampleWeights(y_train,class_weight_coef):\n",
    "    classes = np.unique(y_train, axis = 0)\n",
    "    classes.sort()\n",
    "    class_samples = np.bincount(y_train)\n",
    "    total_samples = class_samples.sum()\n",
    "    n_classes = len(class_samples)\n",
    "    weights = total_samples / (n_classes * class_samples * 1.0)\n",
    "    class_weight_dict = {key : value for (key, value) in              \n",
    "                        zip(classes, weights)}\n",
    "    class_weight_dict[classes[1]] = class_weight_dict[classes[1]] *  class_weight_coef\n",
    "    sample_weights = [class_weight_dict[i] for i in y_train]\n",
    "    return sample_weights\n",
    "\n",
    "#Usage\n",
    "weight=BalancedSampleWeights(y,class_weight)\n",
    "model = XGBClassifier(booster='gblinear',sample_weight = weight)\n",
    "model.fit(X_train, y_train)"
   ]
  },
  {
   "cell_type": "code",
   "execution_count": 179,
   "id": "abc39d91",
   "metadata": {},
   "outputs": [],
   "source": [
    "X_train, X_test, y_train, y_test = train_test_split(X_res, y_res, test_size=0.20, random_state=0)\n",
    "scaler = StandardScaler()  # normalization: zero mean, unit variance\n",
    "scaler.fit(X_train)  # scaling factor determined from the training set\n",
    "\n",
    "X_train = scaler.transform(X_train)\n",
    "scaler.fit(X_test) \n",
    "X_test = scaler.transform(X_test)"
   ]
  },
  {
   "cell_type": "code",
   "execution_count": 180,
   "id": "da92bfef",
   "metadata": {},
   "outputs": [
    {
     "name": "stderr",
     "output_type": "stream",
     "text": [
      "/Users/aliceqichaowu/opt/anaconda3/lib/python3.8/site-packages/xgboost/sklearn.py:888: UserWarning: The use of label encoder in XGBClassifier is deprecated and will be removed in a future release. To remove this warning, do the following: 1) Pass option use_label_encoder=False when constructing XGBClassifier object; and 2) Encode your labels (y) as integers starting with 0, i.e. 0, 1, 2, ..., [num_class - 1].\n",
      "  warnings.warn(label_encoder_deprecation_msg, UserWarning)\n"
     ]
    },
    {
     "name": "stdout",
     "output_type": "stream",
     "text": [
      "[12:27:32] WARNING: /opt/concourse/worker/volumes/live/7a2b9f41-3287-451b-6691-43e9a6c0910f/volume/xgboost-split_1619728204606/work/src/learner.cc:1061: Starting in XGBoost 1.3.0, the default evaluation metric used with the objective 'multi:softprob' was changed from 'merror' to 'mlogloss'. Explicitly set eval_metric if you'd like to restore the old behavior.\n"
     ]
    }
   ],
   "source": [
    "## xgboost\n",
    "mdl_xgb = XGBClassifier()#booster='gblinear'\n",
    "mdl_xgb.fit(X_train, y_train)\n",
    "y_pred_xgb_samp = np.squeeze(mdl_xgb.predict(X_test))\n",
    "y_prob_xgb = mdl_xgb.predict_proba(X_test)\n"
   ]
  },
  {
   "cell_type": "markdown",
   "id": "383227b4",
   "metadata": {},
   "source": [
    "## Best Model: Oversampling+XGBoost with hyperparameter tuning"
   ]
  },
  {
   "cell_type": "code",
   "execution_count": 24,
   "id": "51973056",
   "metadata": {
    "scrolled": true
   },
   "outputs": [
    {
     "name": "stderr",
     "output_type": "stream",
     "text": [
      "/Users/aliceqichaowu/opt/anaconda3/lib/python3.8/site-packages/joblib/externals/loky/process_executor.py:688: UserWarning: A worker stopped while some jobs were given to the executor. This can be caused by a too short worker timeout or by a memory leak.\n",
      "  warnings.warn(\n",
      "/Users/aliceqichaowu/opt/anaconda3/lib/python3.8/site-packages/xgboost/sklearn.py:888: UserWarning: The use of label encoder in XGBClassifier is deprecated and will be removed in a future release. To remove this warning, do the following: 1) Pass option use_label_encoder=False when constructing XGBClassifier object; and 2) Encode your labels (y) as integers starting with 0, i.e. 0, 1, 2, ..., [num_class - 1].\n",
      "  warnings.warn(label_encoder_deprecation_msg, UserWarning)\n"
     ]
    },
    {
     "name": "stdout",
     "output_type": "stream",
     "text": [
      "[15:11:15] WARNING: /opt/concourse/worker/volumes/live/7a2b9f41-3287-451b-6691-43e9a6c0910f/volume/xgboost-split_1619728204606/work/src/learner.cc:1061: Starting in XGBoost 1.3.0, the default evaluation metric used with the objective 'multi:softprob' was changed from 'merror' to 'mlogloss'. Explicitly set eval_metric if you'd like to restore the old behavior.\n",
      "Best R2 Score by grid search:  0.8032797486485187\n",
      "Best Parameters:  {'colsample_bytree': 0.5, 'max_depth': 7, 'n_estimators': 100}\n",
      "Best Estimators:  XGBClassifier(base_score=0.5, booster='gbtree', colsample_bylevel=1,\n",
      "              colsample_bynode=1, colsample_bytree=0.5, gamma=0, gpu_id=-1,\n",
      "              importance_type='gain', interaction_constraints='',\n",
      "              learning_rate=0.300000012, max_delta_step=0, max_depth=7,\n",
      "              min_child_weight=1, missing=nan, monotone_constraints='()',\n",
      "              n_estimators=100, n_jobs=8, num_parallel_tree=1,\n",
      "              objective='multi:softprob', random_state=0, reg_alpha=0,\n",
      "              reg_lambda=1, scale_pos_weight=None, subsample=1,\n",
      "              tree_method='exact', validate_parameters=1, verbosity=None)\n"
     ]
    }
   ],
   "source": [
    "\n",
    "params = {\n",
    "#         learning_rate': [0.01, 0.1],\n",
    "        'max_depth': [ 7, 10],\n",
    "        'colsample_bytree': [0.5,1],\n",
    "        'n_estimators' : [100, 200],\n",
    "    }\n",
    "gsearch = GridSearchCV(estimator =mdl_xgb,param_grid=params,n_jobs = -1, cv=5)\n",
    "gsearch.fit(X_train,y_train)\n",
    "print(\"Best R2 Score by grid search: \",gsearch.best_score_)\n",
    "print(\"Best Parameters: \", gsearch.best_params_)\n",
    "print(\"Best Estimators: \",gsearch.best_estimator_)"
   ]
  },
  {
   "cell_type": "code",
   "execution_count": 25,
   "id": "e83b5802",
   "metadata": {},
   "outputs": [
    {
     "data": {
      "text/plain": [
       "0.8032797486485187"
      ]
     },
     "execution_count": 25,
     "metadata": {},
     "output_type": "execute_result"
    }
   ],
   "source": [
    "gsearch.best_score_"
   ]
  },
  {
   "cell_type": "code",
   "execution_count": 4,
   "id": "137d041b",
   "metadata": {},
   "outputs": [],
   "source": [
    "target_names = ['Excellent','Very good','Good','Fair','Poor']\n",
    "print(classification_report(y_test, y_pred_xgb_samp, target_names=target_names))"
   ]
  },
  {
   "cell_type": "markdown",
   "id": "179a9617",
   "metadata": {},
   "source": [
    "## Model Evaluation"
   ]
  },
  {
   "cell_type": "code",
   "execution_count": 30,
   "id": "8e80b8e5",
   "metadata": {},
   "outputs": [
    {
     "name": "stdout",
     "output_type": "stream",
     "text": [
      "The ROC score is:  0.8919134007678394\n"
     ]
    }
   ],
   "source": [
    "# Calculate ROC_AUC\n",
    "roc=roc_auc_score(\n",
    "    y_test, y_prob_xgb, multi_class=\"ovr\", average=\"weighted\")\n",
    "print('The ROC score is: ', roc)\n"
   ]
  },
  {
   "cell_type": "code",
   "execution_count": null,
   "id": "d0e09051",
   "metadata": {},
   "outputs": [],
   "source": [
    "train_sizes, train_scores, valid_scores = learning_curve(XGBClassifier(use_label_encoder=False), X, y, train_sizes=np.linspace(0.1, 1, 10), cv=5)"
   ]
  },
  {
   "cell_type": "code",
   "execution_count": 105,
   "id": "a1a8532f",
   "metadata": {
    "scrolled": true
   },
   "outputs": [
    {
     "name": "stdout",
     "output_type": "stream",
     "text": [
      "Accuracy: 0.805\n"
     ]
    },
    {
     "data": {
      "image/png": "[encoded data removed]",
      "text/plain": [
       "<Figure size 432x288 with 1 Axes>"
      ]
     },
     "metadata": {
      "needs_background": "light"
     },
     "output_type": "display_data"
    }
   ],
   "source": [
    "# define the datasets to evaluate each iteration\n",
    "evalset = [(X_train, y_train), (X_test,y_test)]\n",
    "# fit the model\n",
    "# mdl_xgb.fit(X_train, y_train, eval_metric='mlogloss', eval_set=evalset)\n",
    "# evaluate performance\n",
    "yhat = rf.predict(X_test)\n",
    "score = accuracy_score(y_test, yhat)\n",
    "print('Accuracy: %.3f' % score)\n",
    "# retrieve performance metrics\n",
    "results = mdl_xgb.evals_result()\n",
    "# plot learning curves\n",
    "plt.plot(results['validation_0']['mlogloss'], label='train')\n",
    "plt.plot(results['validation_1']['mlogloss'], label='test')\n",
    "plt.title('Learning Curves for the XGBoost Model')\n",
    "plt.xlabel('Iterations')\n",
    "plt.ylabel('Loss')\n",
    "plt.legend()\n",
    "plt.show()"
   ]
  },
  {
   "cell_type": "code",
   "execution_count": 136,
   "id": "1c9e7a75",
   "metadata": {
    "scrolled": false
   },
   "outputs": [
    {
     "data": {
      "text/html": [
       "<div>\n",
       "<style scoped>\n",
       "    .dataframe tbody tr th:only-of-type {\n",
       "        vertical-align: middle;\n",
       "    }\n",
       "\n",
       "    .dataframe tbody tr th {\n",
       "        vertical-align: top;\n",
       "    }\n",
       "\n",
       "    .dataframe thead th {\n",
       "        text-align: right;\n",
       "    }\n",
       "</style>\n",
       "<table border=\"1\" class=\"dataframe\">\n",
       "  <thead>\n",
       "    <tr style=\"text-align: right;\">\n",
       "      <th></th>\n",
       "      <th>Excellent</th>\n",
       "      <th>Good</th>\n",
       "      <th>Poor</th>\n",
       "    </tr>\n",
       "  </thead>\n",
       "  <tbody>\n",
       "    <tr>\n",
       "      <th>TP</th>\n",
       "      <td>7849.000000</td>\n",
       "      <td>16300.000000</td>\n",
       "      <td>3144.0</td>\n",
       "    </tr>\n",
       "    <tr>\n",
       "      <th>TN</th>\n",
       "      <td>19444.000000</td>\n",
       "      <td>10993.000000</td>\n",
       "      <td>32256.0</td>\n",
       "    </tr>\n",
       "    <tr>\n",
       "      <th>FP</th>\n",
       "      <td>3459.000000</td>\n",
       "      <td>4648.000000</td>\n",
       "      <td>0.0</td>\n",
       "    </tr>\n",
       "    <tr>\n",
       "      <th>FN</th>\n",
       "      <td>4648.000000</td>\n",
       "      <td>3459.000000</td>\n",
       "      <td>0.0</td>\n",
       "    </tr>\n",
       "    <tr>\n",
       "      <th>TPR</th>\n",
       "      <td>0.628071</td>\n",
       "      <td>0.824941</td>\n",
       "      <td>1.0</td>\n",
       "    </tr>\n",
       "    <tr>\n",
       "      <th>Recall</th>\n",
       "      <td>0.628071</td>\n",
       "      <td>0.824941</td>\n",
       "      <td>1.0</td>\n",
       "    </tr>\n",
       "    <tr>\n",
       "      <th>Sensitivity</th>\n",
       "      <td>0.628071</td>\n",
       "      <td>0.824941</td>\n",
       "      <td>1.0</td>\n",
       "    </tr>\n",
       "    <tr>\n",
       "      <th>TNR</th>\n",
       "      <td>0.848972</td>\n",
       "      <td>0.702832</td>\n",
       "      <td>1.0</td>\n",
       "    </tr>\n",
       "    <tr>\n",
       "      <th>Specificity</th>\n",
       "      <td>0.848972</td>\n",
       "      <td>0.702832</td>\n",
       "      <td>1.0</td>\n",
       "    </tr>\n",
       "    <tr>\n",
       "      <th>FPR</th>\n",
       "      <td>0.151028</td>\n",
       "      <td>0.297168</td>\n",
       "      <td>0.0</td>\n",
       "    </tr>\n",
       "    <tr>\n",
       "      <th>FNR</th>\n",
       "      <td>0.371929</td>\n",
       "      <td>0.175059</td>\n",
       "      <td>0.0</td>\n",
       "    </tr>\n",
       "    <tr>\n",
       "      <th>PPV</th>\n",
       "      <td>0.694110</td>\n",
       "      <td>0.778117</td>\n",
       "      <td>1.0</td>\n",
       "    </tr>\n",
       "    <tr>\n",
       "      <th>Precision</th>\n",
       "      <td>0.694110</td>\n",
       "      <td>0.778117</td>\n",
       "      <td>1.0</td>\n",
       "    </tr>\n",
       "    <tr>\n",
       "      <th>F1 Score</th>\n",
       "      <td>0.659441</td>\n",
       "      <td>0.800845</td>\n",
       "      <td>1.0</td>\n",
       "    </tr>\n",
       "  </tbody>\n",
       "</table>\n",
       "</div>"
      ],
      "text/plain": [
       "                Excellent          Good     Poor\n",
       "TP            7849.000000  16300.000000   3144.0\n",
       "TN           19444.000000  10993.000000  32256.0\n",
       "FP            3459.000000   4648.000000      0.0\n",
       "FN            4648.000000   3459.000000      0.0\n",
       "TPR              0.628071      0.824941      1.0\n",
       "Recall           0.628071      0.824941      1.0\n",
       "Sensitivity      0.628071      0.824941      1.0\n",
       "TNR              0.848972      0.702832      1.0\n",
       "Specificity      0.848972      0.702832      1.0\n",
       "FPR              0.151028      0.297168      0.0\n",
       "FNR              0.371929      0.175059      0.0\n",
       "PPV              0.694110      0.778117      1.0\n",
       "Precision        0.694110      0.778117      1.0\n",
       "F1 Score         0.659441      0.800845      1.0"
      ]
     },
     "execution_count": 136,
     "metadata": {},
     "output_type": "execute_result"
    }
   ],
   "source": [
    "target_names = ['Excellent','Good','Poor']\n",
    "multi_classification_report(y_test, y_pred_rf, target_names,encoded_labels=True, as_frame=True)\n"
   ]
  },
  {
   "cell_type": "code",
   "execution_count": 168,
   "id": "8888424d",
   "metadata": {
    "scrolled": true
   },
   "outputs": [
    {
     "data": {
      "text/html": [
       "<div>\n",
       "<style scoped>\n",
       "    .dataframe tbody tr th:only-of-type {\n",
       "        vertical-align: middle;\n",
       "    }\n",
       "\n",
       "    .dataframe tbody tr th {\n",
       "        vertical-align: top;\n",
       "    }\n",
       "\n",
       "    .dataframe thead th {\n",
       "        text-align: right;\n",
       "    }\n",
       "</style>\n",
       "<table border=\"1\" class=\"dataframe\">\n",
       "  <thead>\n",
       "    <tr style=\"text-align: right;\">\n",
       "      <th></th>\n",
       "      <th>Excellent</th>\n",
       "      <th>Very good</th>\n",
       "      <th>Good</th>\n",
       "      <th>Fair</th>\n",
       "      <th>Poor</th>\n",
       "    </tr>\n",
       "  </thead>\n",
       "  <tbody>\n",
       "    <tr>\n",
       "      <th>TP</th>\n",
       "      <td>16585.000000</td>\n",
       "      <td>9134.000000</td>\n",
       "      <td>13582.000000</td>\n",
       "      <td>17903.000000</td>\n",
       "      <td>18668.000000</td>\n",
       "    </tr>\n",
       "    <tr>\n",
       "      <th>TN</th>\n",
       "      <td>81822.000000</td>\n",
       "      <td>83226.000000</td>\n",
       "      <td>85121.000000</td>\n",
       "      <td>88725.000000</td>\n",
       "      <td>87960.000000</td>\n",
       "    </tr>\n",
       "    <tr>\n",
       "      <th>FP</th>\n",
       "      <td>11774.000000</td>\n",
       "      <td>10227.000000</td>\n",
       "      <td>8755.000000</td>\n",
       "      <td>4756.000000</td>\n",
       "      <td>5610.000000</td>\n",
       "    </tr>\n",
       "    <tr>\n",
       "      <th>FN</th>\n",
       "      <td>6813.000000</td>\n",
       "      <td>14407.000000</td>\n",
       "      <td>9536.000000</td>\n",
       "      <td>5610.000000</td>\n",
       "      <td>4756.000000</td>\n",
       "    </tr>\n",
       "    <tr>\n",
       "      <th>TPR</th>\n",
       "      <td>0.708821</td>\n",
       "      <td>0.388004</td>\n",
       "      <td>0.587508</td>\n",
       "      <td>0.761409</td>\n",
       "      <td>0.796960</td>\n",
       "    </tr>\n",
       "    <tr>\n",
       "      <th>Recall</th>\n",
       "      <td>0.708821</td>\n",
       "      <td>0.388004</td>\n",
       "      <td>0.587508</td>\n",
       "      <td>0.761409</td>\n",
       "      <td>0.796960</td>\n",
       "    </tr>\n",
       "    <tr>\n",
       "      <th>Sensitivity</th>\n",
       "      <td>0.708821</td>\n",
       "      <td>0.388004</td>\n",
       "      <td>0.587508</td>\n",
       "      <td>0.761409</td>\n",
       "      <td>0.796960</td>\n",
       "    </tr>\n",
       "    <tr>\n",
       "      <th>TNR</th>\n",
       "      <td>0.874204</td>\n",
       "      <td>0.890565</td>\n",
       "      <td>0.906739</td>\n",
       "      <td>0.949123</td>\n",
       "      <td>0.940045</td>\n",
       "    </tr>\n",
       "    <tr>\n",
       "      <th>Specificity</th>\n",
       "      <td>0.874204</td>\n",
       "      <td>0.890565</td>\n",
       "      <td>0.906739</td>\n",
       "      <td>0.949123</td>\n",
       "      <td>0.940045</td>\n",
       "    </tr>\n",
       "    <tr>\n",
       "      <th>FPR</th>\n",
       "      <td>0.125796</td>\n",
       "      <td>0.109435</td>\n",
       "      <td>0.093261</td>\n",
       "      <td>0.050877</td>\n",
       "      <td>0.059955</td>\n",
       "    </tr>\n",
       "    <tr>\n",
       "      <th>FNR</th>\n",
       "      <td>0.291179</td>\n",
       "      <td>0.611996</td>\n",
       "      <td>0.412492</td>\n",
       "      <td>0.238591</td>\n",
       "      <td>0.203040</td>\n",
       "    </tr>\n",
       "    <tr>\n",
       "      <th>PPV</th>\n",
       "      <td>0.584823</td>\n",
       "      <td>0.471773</td>\n",
       "      <td>0.608049</td>\n",
       "      <td>0.790105</td>\n",
       "      <td>0.768927</td>\n",
       "    </tr>\n",
       "    <tr>\n",
       "      <th>Precision</th>\n",
       "      <td>0.584823</td>\n",
       "      <td>0.471773</td>\n",
       "      <td>0.608049</td>\n",
       "      <td>0.790105</td>\n",
       "      <td>0.768927</td>\n",
       "    </tr>\n",
       "    <tr>\n",
       "      <th>F1 Score</th>\n",
       "      <td>0.640879</td>\n",
       "      <td>0.425808</td>\n",
       "      <td>0.597602</td>\n",
       "      <td>0.775492</td>\n",
       "      <td>0.782693</td>\n",
       "    </tr>\n",
       "  </tbody>\n",
       "</table>\n",
       "</div>"
      ],
      "text/plain": [
       "                Excellent     Very good          Good          Fair  \\\n",
       "TP           16585.000000   9134.000000  13582.000000  17903.000000   \n",
       "TN           81822.000000  83226.000000  85121.000000  88725.000000   \n",
       "FP           11774.000000  10227.000000   8755.000000   4756.000000   \n",
       "FN            6813.000000  14407.000000   9536.000000   5610.000000   \n",
       "TPR              0.708821      0.388004      0.587508      0.761409   \n",
       "Recall           0.708821      0.388004      0.587508      0.761409   \n",
       "Sensitivity      0.708821      0.388004      0.587508      0.761409   \n",
       "TNR              0.874204      0.890565      0.906739      0.949123   \n",
       "Specificity      0.874204      0.890565      0.906739      0.949123   \n",
       "FPR              0.125796      0.109435      0.093261      0.050877   \n",
       "FNR              0.291179      0.611996      0.412492      0.238591   \n",
       "PPV              0.584823      0.471773      0.608049      0.790105   \n",
       "Precision        0.584823      0.471773      0.608049      0.790105   \n",
       "F1 Score         0.640879      0.425808      0.597602      0.775492   \n",
       "\n",
       "                     Poor  \n",
       "TP           18668.000000  \n",
       "TN           87960.000000  \n",
       "FP            5610.000000  \n",
       "FN            4756.000000  \n",
       "TPR              0.796960  \n",
       "Recall           0.796960  \n",
       "Sensitivity      0.796960  \n",
       "TNR              0.940045  \n",
       "Specificity      0.940045  \n",
       "FPR              0.059955  \n",
       "FNR              0.203040  \n",
       "PPV              0.768927  \n",
       "Precision        0.768927  \n",
       "F1 Score         0.782693  "
      ]
     },
     "execution_count": 168,
     "metadata": {},
     "output_type": "execute_result"
    }
   ],
   "source": [
    "## Oversampling\n",
    "multi_classification_report(y_test, y_pred_xgb_samp, target_names,encoded_labels=True, as_frame=True)"
   ]
  },
  {
   "cell_type": "code",
   "execution_count": 14,
   "id": "0e1ab69d",
   "metadata": {},
   "outputs": [],
   "source": [
    "def _report(TN, FP, FN, TP):\n",
    "    TPR = TP/(TP+FN) if (TP+FN)!=0 else 0\n",
    "    TNR = TN/(TN+FP) if (TN+FP)!=0 else 0\n",
    "    PPV = TP/(TP+FP) if (TP+FP)!=0 else 0\n",
    "    report = {'TP': TP, 'TN': TN, 'FP': FP, 'FN': FN, \n",
    "              'TPR': TPR, 'Recall': TPR, 'Sensitivity': TPR,\n",
    "              'TNR' : TNR, 'Specificity': TNR,\n",
    "              'FPR': FP/(FP+TN) if (FP+TN)!=0 else 0,\n",
    "              'FNR': FN/(FN+TP) if (FN+TP)!=0 else 0,\n",
    "              'PPV': PPV, 'Precision': PPV,\n",
    "              'F1 Score': 2*(PPV*TPR)/(PPV+TPR)\n",
    "             }\n",
    "    return report\n",
    "\n",
    "def multi_classification_report(y_true, y_pred, labels=None, encoded_labels=True, as_frame=False):\n",
    "    \"\"\"\n",
    "    Args:\n",
    "        y_true (ndarray)\n",
    "        y_pred (ndarray)\n",
    "        labels (list)\n",
    "        encoded_labels (bool): Need to be False if labels are not one hot encoded\n",
    "        as_fram (bool): If True, return type will be DataFrame\n",
    "        \n",
    "    Return:\n",
    "        report (dict)\n",
    "    \"\"\"\n",
    "    \n",
    "    import numpy as np\n",
    "    import pandas as pd\n",
    "    from sklearn.metrics import multilabel_confusion_matrix\n",
    "    \n",
    "    conf_labels = None if encoded_labels else labels\n",
    "    \n",
    "    conf_mat = multilabel_confusion_matrix(y_test, y_pred, labels=conf_labels)\n",
    "    report = dict()\n",
    "    if labels == None:\n",
    "        counter = np.arange(len(conf_mat))\n",
    "    else:\n",
    "        counter = labels\n",
    "        \n",
    "    for i, name in enumerate(counter):\n",
    "        TN, FP, FN, TP = conf_mat[i].ravel()\n",
    "        report[name] = _report(TN, FP, FN, TP)\n",
    "    \n",
    "    if as_frame:\n",
    "        return pd.DataFrame(report)\n",
    "    return report"
   ]
  },
  {
   "cell_type": "code",
   "execution_count": null,
   "id": "ef727570",
   "metadata": {},
   "outputs": [],
   "source": []
  }
 ],
 "metadata": {
  "kernelspec": {
   "display_name": "Python 3 (ipykernel)",
   "language": "python",
   "name": "python3"
  },
  "language_info": {
   "codemirror_mode": {
    "name": "ipython",
    "version": 3
   },
   "file_extension": ".py",
   "mimetype": "text/x-python",
   "name": "python",
   "nbconvert_exporter": "python",
   "pygments_lexer": "ipython3",
   "version": "3.8.3"
  }
 },
 "nbformat": 4,
 "nbformat_minor": 5
}
