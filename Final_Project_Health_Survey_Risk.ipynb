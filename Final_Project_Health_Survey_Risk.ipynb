{
 "cells": [
  {
   "cell_type": "markdown",
   "id": "4bf67a18",
   "metadata": {},
   "source": [
    "## Health Survey Risk Factors\n",
    "source: https://www.kaggle.com/datasets/cdc/behavioral-risk-factor-surveillance-system"
   ]
  },
  {
   "cell_type": "code",
   "execution_count": 1,
   "id": "058be69d",
   "metadata": {},
   "outputs": [],
   "source": [
    "import numpy as np\n",
    "import pandas as pd\n",
    "import seaborn as sns\n",
    "import matplotlib.pyplot as plt\n",
    "from sklearn.decomposition import PCA\n"
   ]
  },
  {
   "cell_type": "code",
   "execution_count": 3,
   "id": "869dcb34",
   "metadata": {
    "scrolled": true
   },
   "outputs": [
    {
     "data": {
      "text/html": [
       "<div>\n",
       "<style scoped>\n",
       "    .dataframe tbody tr th:only-of-type {\n",
       "        vertical-align: middle;\n",
       "    }\n",
       "\n",
       "    .dataframe tbody tr th {\n",
       "        vertical-align: top;\n",
       "    }\n",
       "\n",
       "    .dataframe thead th {\n",
       "        text-align: right;\n",
       "    }\n",
       "</style>\n",
       "<table border=\"1\" class=\"dataframe\">\n",
       "  <thead>\n",
       "    <tr style=\"text-align: right;\">\n",
       "      <th></th>\n",
       "      <th>X_state</th>\n",
       "      <th>fmonth</th>\n",
       "      <th>idate</th>\n",
       "      <th>imonth</th>\n",
       "      <th>iday</th>\n",
       "      <th>iyear</th>\n",
       "      <th>dispcode</th>\n",
       "      <th>seqno</th>\n",
       "      <th>X_psu</th>\n",
       "      <th>ctelenum</th>\n",
       "      <th>...</th>\n",
       "      <th>X_pastae1</th>\n",
       "      <th>X_lmtact1</th>\n",
       "      <th>X_lmtwrk1</th>\n",
       "      <th>X_lmtscl1</th>\n",
       "      <th>X_rfseat2</th>\n",
       "      <th>X_rfseat3</th>\n",
       "      <th>X_flshot6</th>\n",
       "      <th>X_pneumo2</th>\n",
       "      <th>X_aidtst3</th>\n",
       "      <th>X_age80</th>\n",
       "    </tr>\n",
       "  </thead>\n",
       "  <tbody>\n",
       "    <tr>\n",
       "      <th>0</th>\n",
       "      <td>Alabama</td>\n",
       "      <td>January</td>\n",
       "      <td>1092013.0</td>\n",
       "      <td>January</td>\n",
       "      <td>9.0</td>\n",
       "      <td>2013.0</td>\n",
       "      <td>Completed interview</td>\n",
       "      <td>2.013001e+09</td>\n",
       "      <td>2.013001e+09</td>\n",
       "      <td>Yes</td>\n",
       "      <td>...</td>\n",
       "      <td>Did not meet both guidelines</td>\n",
       "      <td>Told have arthritis and have limited usual act...</td>\n",
       "      <td>Told have arthritis and have limited work</td>\n",
       "      <td>Told have arthritis and social activities limi...</td>\n",
       "      <td>Always or almost always wear seat belt</td>\n",
       "      <td>Always wear seat belt</td>\n",
       "      <td>NaN</td>\n",
       "      <td>NaN</td>\n",
       "      <td>No</td>\n",
       "      <td>60.0</td>\n",
       "    </tr>\n",
       "    <tr>\n",
       "      <th>1</th>\n",
       "      <td>Alabama</td>\n",
       "      <td>January</td>\n",
       "      <td>1192013.0</td>\n",
       "      <td>January</td>\n",
       "      <td>19.0</td>\n",
       "      <td>2013.0</td>\n",
       "      <td>Completed interview</td>\n",
       "      <td>2.013001e+09</td>\n",
       "      <td>2.013001e+09</td>\n",
       "      <td>Yes</td>\n",
       "      <td>...</td>\n",
       "      <td>Did not meet both guidelines</td>\n",
       "      <td>Not told they have arthritis</td>\n",
       "      <td>Not told they have arthritis</td>\n",
       "      <td>Not told they have arthritis</td>\n",
       "      <td>Always or almost always wear seat belt</td>\n",
       "      <td>Always wear seat belt</td>\n",
       "      <td>NaN</td>\n",
       "      <td>NaN</td>\n",
       "      <td>Yes</td>\n",
       "      <td>50.0</td>\n",
       "    </tr>\n",
       "    <tr>\n",
       "      <th>2</th>\n",
       "      <td>Alabama</td>\n",
       "      <td>January</td>\n",
       "      <td>1192013.0</td>\n",
       "      <td>January</td>\n",
       "      <td>19.0</td>\n",
       "      <td>2013.0</td>\n",
       "      <td>Completed interview</td>\n",
       "      <td>2.013001e+09</td>\n",
       "      <td>2.013001e+09</td>\n",
       "      <td>Yes</td>\n",
       "      <td>...</td>\n",
       "      <td>Did not meet both guidelines</td>\n",
       "      <td>Told have arthritis and have limited usual act...</td>\n",
       "      <td>Told have arthritis and have limited work</td>\n",
       "      <td>Told have arthritis and social activities limi...</td>\n",
       "      <td>Always or almost always wear seat belt</td>\n",
       "      <td>Always wear seat belt</td>\n",
       "      <td>NaN</td>\n",
       "      <td>NaN</td>\n",
       "      <td>Yes</td>\n",
       "      <td>55.0</td>\n",
       "    </tr>\n",
       "    <tr>\n",
       "      <th>3</th>\n",
       "      <td>Alabama</td>\n",
       "      <td>January</td>\n",
       "      <td>1112013.0</td>\n",
       "      <td>January</td>\n",
       "      <td>11.0</td>\n",
       "      <td>2013.0</td>\n",
       "      <td>Completed interview</td>\n",
       "      <td>2.013001e+09</td>\n",
       "      <td>2.013001e+09</td>\n",
       "      <td>Yes</td>\n",
       "      <td>...</td>\n",
       "      <td>Did not meet both guidelines</td>\n",
       "      <td>Not told they have arthritis</td>\n",
       "      <td>Not told they have arthritis</td>\n",
       "      <td>Not told they have arthritis</td>\n",
       "      <td>Always or almost always wear seat belt</td>\n",
       "      <td>Always wear seat belt</td>\n",
       "      <td>NaN</td>\n",
       "      <td>NaN</td>\n",
       "      <td>No</td>\n",
       "      <td>64.0</td>\n",
       "    </tr>\n",
       "    <tr>\n",
       "      <th>4</th>\n",
       "      <td>Alabama</td>\n",
       "      <td>February</td>\n",
       "      <td>2062013.0</td>\n",
       "      <td>February</td>\n",
       "      <td>6.0</td>\n",
       "      <td>2013.0</td>\n",
       "      <td>Completed interview</td>\n",
       "      <td>2.013001e+09</td>\n",
       "      <td>2.013001e+09</td>\n",
       "      <td>Yes</td>\n",
       "      <td>...</td>\n",
       "      <td>Did not meet both guidelines</td>\n",
       "      <td>Not told they have arthritis</td>\n",
       "      <td>Not told they have arthritis</td>\n",
       "      <td>Not told they have arthritis</td>\n",
       "      <td>Always or almost always wear seat belt</td>\n",
       "      <td>Always wear seat belt</td>\n",
       "      <td>No</td>\n",
       "      <td>No</td>\n",
       "      <td>No</td>\n",
       "      <td>66.0</td>\n",
       "    </tr>\n",
       "  </tbody>\n",
       "</table>\n",
       "<p>5 rows × 330 columns</p>\n",
       "</div>"
      ],
      "text/plain": [
       "   X_state    fmonth      idate    imonth  iday   iyear             dispcode  \\\n",
       "0  Alabama   January  1092013.0   January   9.0  2013.0  Completed interview   \n",
       "1  Alabama   January  1192013.0   January  19.0  2013.0  Completed interview   \n",
       "2  Alabama   January  1192013.0   January  19.0  2013.0  Completed interview   \n",
       "3  Alabama   January  1112013.0   January  11.0  2013.0  Completed interview   \n",
       "4  Alabama  February  2062013.0  February   6.0  2013.0  Completed interview   \n",
       "\n",
       "          seqno         X_psu ctelenum  ...                     X_pastae1  \\\n",
       "0  2.013001e+09  2.013001e+09      Yes  ...  Did not meet both guidelines   \n",
       "1  2.013001e+09  2.013001e+09      Yes  ...  Did not meet both guidelines   \n",
       "2  2.013001e+09  2.013001e+09      Yes  ...  Did not meet both guidelines   \n",
       "3  2.013001e+09  2.013001e+09      Yes  ...  Did not meet both guidelines   \n",
       "4  2.013001e+09  2.013001e+09      Yes  ...  Did not meet both guidelines   \n",
       "\n",
       "                                           X_lmtact1  \\\n",
       "0  Told have arthritis and have limited usual act...   \n",
       "1                       Not told they have arthritis   \n",
       "2  Told have arthritis and have limited usual act...   \n",
       "3                       Not told they have arthritis   \n",
       "4                       Not told they have arthritis   \n",
       "\n",
       "                                   X_lmtwrk1  \\\n",
       "0  Told have arthritis and have limited work   \n",
       "1               Not told they have arthritis   \n",
       "2  Told have arthritis and have limited work   \n",
       "3               Not told they have arthritis   \n",
       "4               Not told they have arthritis   \n",
       "\n",
       "                                           X_lmtscl1  \\\n",
       "0  Told have arthritis and social activities limi...   \n",
       "1                       Not told they have arthritis   \n",
       "2  Told have arthritis and social activities limi...   \n",
       "3                       Not told they have arthritis   \n",
       "4                       Not told they have arthritis   \n",
       "\n",
       "                                X_rfseat2              X_rfseat3  X_flshot6  \\\n",
       "0  Always or almost always wear seat belt  Always wear seat belt        NaN   \n",
       "1  Always or almost always wear seat belt  Always wear seat belt        NaN   \n",
       "2  Always or almost always wear seat belt  Always wear seat belt        NaN   \n",
       "3  Always or almost always wear seat belt  Always wear seat belt        NaN   \n",
       "4  Always or almost always wear seat belt  Always wear seat belt         No   \n",
       "\n",
       "   X_pneumo2 X_aidtst3  X_age80  \n",
       "0        NaN        No     60.0  \n",
       "1        NaN       Yes     50.0  \n",
       "2        NaN       Yes     55.0  \n",
       "3        NaN        No     64.0  \n",
       "4         No        No     66.0  \n",
       "\n",
       "[5 rows x 330 columns]"
      ]
     },
     "execution_count": 3,
     "metadata": {},
     "output_type": "execute_result"
    }
   ],
   "source": [
    "df=pd.read_csv('/Users/aliceqichaowu/Desktop/38615/FinalProject/brfss2013/brfss2013.csv',low_memory=False)\n",
    "df.head()"
   ]
  },
  {
   "cell_type": "code",
   "execution_count": 9,
   "id": "de11484d",
   "metadata": {},
   "outputs": [
    {
     "name": "stdout",
     "output_type": "stream",
     "text": [
      "the index of the general health column: 18\n"
     ]
    }
   ],
   "source": [
    "for i in range(len(df.columns)):\n",
    "    if df.columns[i]=='genhlth':\n",
    "        print('the index of the general health column:', i)"
   ]
  },
  {
   "cell_type": "code",
   "execution_count": 15,
   "id": "bcfe6a79",
   "metadata": {},
   "outputs": [],
   "source": [
    "## select columns with general health and other predictors\n",
    "df=df.iloc[:,18:]\n"
   ]
  },
  {
   "cell_type": "code",
   "execution_count": 21,
   "id": "0405eefb",
   "metadata": {},
   "outputs": [
    {
     "data": {
      "text/plain": [
       "genhlth      0.004036\n",
       "physhlth     0.022281\n",
       "menthlth     0.017543\n",
       "poorhlth     0.494440\n",
       "hlthpln1     0.003872\n",
       "               ...   \n",
       "X_rfseat3    0.079185\n",
       "X_flshot6    0.697634\n",
       "X_pneumo2    0.709784\n",
       "X_aidtst3    0.111016\n",
       "X_age80      0.000022\n",
       "Length: 312, dtype: float64"
      ]
     },
     "execution_count": 21,
     "metadata": {},
     "output_type": "execute_result"
    }
   ],
   "source": [
    "## Check missing values\n",
    "# print('There are %i nan in the dataframe' % df.isna().sum().sum())\n",
    "df.isnull().sum()/df.shape[0]"
   ]
  },
  {
   "cell_type": "code",
   "execution_count": 20,
   "id": "e2476a50",
   "metadata": {},
   "outputs": [
    {
     "data": {
      "text/plain": [
       "(491775, 312)"
      ]
     },
     "execution_count": 20,
     "metadata": {},
     "output_type": "execute_result"
    }
   ],
   "source": [
    "df.shape"
   ]
  },
  {
   "cell_type": "code",
   "execution_count": null,
   "id": "2db2725e",
   "metadata": {},
   "outputs": [],
   "source": []
  }
 ],
 "metadata": {
  "kernelspec": {
   "display_name": "Python 3",
   "language": "python",
   "name": "python3"
  },
  "language_info": {
   "codemirror_mode": {
    "name": "ipython",
    "version": 3
   },
   "file_extension": ".py",
   "mimetype": "text/x-python",
   "name": "python",
   "nbconvert_exporter": "python",
   "pygments_lexer": "ipython3",
   "version": "3.8.8"
  }
 },
 "nbformat": 4,
 "nbformat_minor": 5
}
