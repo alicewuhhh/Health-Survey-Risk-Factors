{
 "cells": [
  {
   "cell_type": "markdown",
   "id": "4bf67a18",
   "metadata": {},
   "source": [
    "## Health Survey Risk Factors\n",
    "source: https://www.kaggle.com/datasets/cdc/behavioral-risk-factor-surveillance-system"
   ]
  },
  {
   "cell_type": "code",
   "execution_count": 54,
   "id": "058be69d",
   "metadata": {},
   "outputs": [],
   "source": [
    "import numpy as np\n",
    "import pandas as pd\n",
    "import seaborn as sns\n",
    "import matplotlib.pyplot as plt\n",
    "from sklearn.decomposition import PCA\n",
    "from sklearn.preprocessing import OneHotEncoder"
   ]
  },
  {
   "cell_type": "code",
   "execution_count": 30,
   "id": "869dcb34",
   "metadata": {
    "scrolled": true
   },
   "outputs": [],
   "source": [
    "df=pd.read_csv('brfss2013.csv', encoding= 'unicode_escape', low_memory=False)"
   ]
  },
  {
   "cell_type": "code",
   "execution_count": 21,
   "id": "bcdab498",
   "metadata": {},
   "outputs": [
    {
     "data": {
      "text/plain": [
       "(491775, 312)"
      ]
     },
     "execution_count": 21,
     "metadata": {},
     "output_type": "execute_result"
    }
   ],
   "source": [
    "df.shape"
   ]
  },
  {
   "cell_type": "code",
   "execution_count": 5,
   "id": "de11484d",
   "metadata": {},
   "outputs": [
    {
     "name": "stdout",
     "output_type": "stream",
     "text": [
      "the index of the general health column: 18\n"
     ]
    }
   ],
   "source": [
    "for i in range(len(df.columns)):\n",
    "    if df.columns[i]=='genhlth':\n",
    "        print('the index of the general health column:', i)"
   ]
  },
  {
   "cell_type": "markdown",
   "id": "06e73d98",
   "metadata": {},
   "source": [
    "## EDA"
   ]
  },
  {
   "cell_type": "code",
   "execution_count": 31,
   "id": "bcfe6a79",
   "metadata": {},
   "outputs": [],
   "source": [
    "## select columns with general health and other predictors\n",
    "df=df.iloc[:,18:]"
   ]
  },
  {
   "cell_type": "code",
   "execution_count": 32,
   "id": "0405eefb",
   "metadata": {
    "scrolled": true
   },
   "outputs": [
    {
     "data": {
      "text/plain": [
       "genhlth      0.004036\n",
       "physhlth     0.022281\n",
       "menthlth     0.017543\n",
       "poorhlth     0.494440\n",
       "hlthpln1     0.003872\n",
       "               ...   \n",
       "X_rfseat3    0.079185\n",
       "X_flshot6    0.697634\n",
       "X_pneumo2    0.709784\n",
       "X_aidtst3    0.111016\n",
       "X_age80      0.000022\n",
       "Length: 312, dtype: float64"
      ]
     },
     "execution_count": 32,
     "metadata": {},
     "output_type": "execute_result"
    }
   ],
   "source": [
    "## Check missing values\n",
    "# print('There are %i nan in the dataframe' % df.isna().sum().sum())\n",
    "df.isnull().sum()/df.shape[0] "
   ]
  },
  {
   "cell_type": "markdown",
   "id": "f8b1ab92",
   "metadata": {},
   "source": [
    "- <0.1 : 339282 * 124 69% row remain\n",
    "- <0.15 : 250425 * 135 49% row remain\n",
    "- <0.2 : 209095 * 140 42% row remain"
   ]
  },
  {
   "cell_type": "code",
   "execution_count": 46,
   "id": "e2476a50",
   "metadata": {},
   "outputs": [],
   "source": [
    "mask=(df.isnull().sum()/df.shape[0])<0.1\n",
    "features=df.columns[mask]"
   ]
  },
  {
   "cell_type": "code",
   "execution_count": 47,
   "id": "2db2725e",
   "metadata": {},
   "outputs": [],
   "source": [
    "df1 = df[features]"
   ]
  },
  {
   "cell_type": "code",
   "execution_count": 49,
   "id": "438a5590",
   "metadata": {},
   "outputs": [
    {
     "name": "stderr",
     "output_type": "stream",
     "text": [
      "/var/folders/tc/hjg8dsq54vzfrk5v6v96k32r0000gn/T/ipykernel_12258/3614008390.py:1: SettingWithCopyWarning: \n",
      "A value is trying to be set on a copy of a slice from a DataFrame\n",
      "\n",
      "See the caveats in the documentation: https://pandas.pydata.org/pandas-docs/stable/user_guide/indexing.html#returning-a-view-versus-a-copy\n",
      "  df1.dropna(inplace=True)\n"
     ]
    }
   ],
   "source": [
    "df1.dropna(inplace=True)"
   ]
  },
  {
   "cell_type": "code",
   "execution_count": 52,
   "id": "e84b6fb7",
   "metadata": {},
   "outputs": [],
   "source": [
    "df1.reset_index(inplace=True)"
   ]
  },
  {
   "cell_type": "code",
   "execution_count": 55,
   "id": "ffaab58f",
   "metadata": {},
   "outputs": [
    {
     "ename": "TypeError",
     "evalue": "__init__() takes 1 positional argument but 2 were given",
     "output_type": "error",
     "traceback": [
      "\u001b[0;31m---------------------------------------------------------------------------\u001b[0m",
      "\u001b[0;31mTypeError\u001b[0m                                 Traceback (most recent call last)",
      "Input \u001b[0;32mIn [55]\u001b[0m, in \u001b[0;36m<cell line: 1>\u001b[0;34m()\u001b[0m\n\u001b[0;32m----> 1\u001b[0m \u001b[43mOneHotEncoder\u001b[49m\u001b[43m(\u001b[49m\u001b[43mdf1\u001b[49m\u001b[43m)\u001b[49m\n",
      "\u001b[0;31mTypeError\u001b[0m: __init__() takes 1 positional argument but 2 were given"
     ]
    }
   ],
   "source": [
    "OneHotEncoder(df1)"
   ]
  },
  {
   "cell_type": "code",
   "execution_count": null,
   "id": "8b0f52bf",
   "metadata": {},
   "outputs": [],
   "source": []
  }
 ],
 "metadata": {
  "kernelspec": {
   "display_name": "Python 3 (ipykernel)",
   "language": "python",
   "name": "python3"
  },
  "language_info": {
   "codemirror_mode": {
    "name": "ipython",
    "version": 3
   },
   "file_extension": ".py",
   "mimetype": "text/x-python",
   "name": "python",
   "nbconvert_exporter": "python",
   "pygments_lexer": "ipython3",
   "version": "3.8.3"
  }
 },
 "nbformat": 4,
 "nbformat_minor": 5
}
