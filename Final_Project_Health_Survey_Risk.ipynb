{
 "cells": [
  {
   "cell_type": "markdown",
   "id": "4bf67a18",
   "metadata": {},
   "source": [
    "## Health Survey Risk Factors\n",
    "source: https://www.kaggle.com/datasets/cdc/behavioral-risk-factor-surveillance-system"
   ]
  },
  {
   "cell_type": "code",
   "execution_count": 131,
   "id": "058be69d",
   "metadata": {},
   "outputs": [],
   "source": [
    "import numpy as np\n",
    "import pandas as pd\n",
    "import seaborn as sns\n",
    "import matplotlib.pyplot as plt\n",
    "import statsmodels.api as sm\n",
    "from sklearn.decomposition import PCA\n",
    "from sklearn.preprocessing import StandardScaler\n",
    "\n",
    "from sklearn.model_selection import train_test_split\n",
    "from sklearn.metrics import precision_score, recall_score, f1_score\n",
    "from sklearn.metrics import classification_report\n",
    "\n",
    "from sklearn.linear_model import LogisticRegression,LinearRegression,Lasso,Ridge,ElasticNet\n",
    "from xgboost import XGBClassifier\n",
    "from sklearn.naive_bayes import BernoulliNB, CategoricalNB, GaussianNB, MultinomialNB  # Naive Bayes classifiers\n",
    "from scipy.stats import chi2_contingency,f_oneway\n",
    "from sklearn.ensemble import RandomForestClassifier\n",
    "from sklearn.model_selection import validation_curve,learning_curve"
   ]
  },
  {
   "cell_type": "code",
   "execution_count": 132,
   "id": "869dcb34",
   "metadata": {
    "scrolled": true
   },
   "outputs": [
    {
     "data": {
      "text/html": [
       "<div>\n",
       "<style scoped>\n",
       "    .dataframe tbody tr th:only-of-type {\n",
       "        vertical-align: middle;\n",
       "    }\n",
       "\n",
       "    .dataframe tbody tr th {\n",
       "        vertical-align: top;\n",
       "    }\n",
       "\n",
       "    .dataframe thead th {\n",
       "        text-align: right;\n",
       "    }\n",
       "</style>\n",
       "<table border=\"1\" class=\"dataframe\">\n",
       "  <thead>\n",
       "    <tr style=\"text-align: right;\">\n",
       "      <th></th>\n",
       "      <th>genhlth</th>\n",
       "      <th>physhlth</th>\n",
       "      <th>menthlth</th>\n",
       "      <th>hlthpln1</th>\n",
       "      <th>persdoc2</th>\n",
       "      <th>medcost</th>\n",
       "      <th>checkup1</th>\n",
       "      <th>sleptim1</th>\n",
       "      <th>bphigh4</th>\n",
       "      <th>bloodcho</th>\n",
       "      <th>...</th>\n",
       "      <th>fc60_</th>\n",
       "      <th>strfreq_</th>\n",
       "      <th>pamiss1_</th>\n",
       "      <th>X_pastrng</th>\n",
       "      <th>X_lmtact1</th>\n",
       "      <th>X_lmtwrk1</th>\n",
       "      <th>X_lmtscl1</th>\n",
       "      <th>X_rfseat2</th>\n",
       "      <th>X_rfseat3</th>\n",
       "      <th>X_age80</th>\n",
       "    </tr>\n",
       "  </thead>\n",
       "  <tbody>\n",
       "    <tr>\n",
       "      <th>0</th>\n",
       "      <td>Good</td>\n",
       "      <td>0.0</td>\n",
       "      <td>0.0</td>\n",
       "      <td>Yes</td>\n",
       "      <td>Yes, only one</td>\n",
       "      <td>No</td>\n",
       "      <td>Within past year</td>\n",
       "      <td>6.0</td>\n",
       "      <td>No</td>\n",
       "      <td>Yes</td>\n",
       "      <td>...</td>\n",
       "      <td>506.0</td>\n",
       "      <td>0.0</td>\n",
       "      <td>0.0</td>\n",
       "      <td>Did not meet muscle strengthening recommendations</td>\n",
       "      <td>Not told they have arthritis</td>\n",
       "      <td>Not told they have arthritis</td>\n",
       "      <td>Not told they have arthritis</td>\n",
       "      <td>Always or almost always wear seat belt</td>\n",
       "      <td>Always wear seat belt</td>\n",
       "      <td>50.0</td>\n",
       "    </tr>\n",
       "    <tr>\n",
       "      <th>1</th>\n",
       "      <td>Good</td>\n",
       "      <td>3.0</td>\n",
       "      <td>2.0</td>\n",
       "      <td>Yes</td>\n",
       "      <td>Yes, only one</td>\n",
       "      <td>No</td>\n",
       "      <td>Within past year</td>\n",
       "      <td>9.0</td>\n",
       "      <td>No</td>\n",
       "      <td>Yes</td>\n",
       "      <td>...</td>\n",
       "      <td>474.0</td>\n",
       "      <td>0.0</td>\n",
       "      <td>0.0</td>\n",
       "      <td>Did not meet muscle strengthening recommendations</td>\n",
       "      <td>Told have arthritis and have limited usual act...</td>\n",
       "      <td>Told have arthritis and have limited work</td>\n",
       "      <td>Told have arthritis and social activities limi...</td>\n",
       "      <td>Always or almost always wear seat belt</td>\n",
       "      <td>Always wear seat belt</td>\n",
       "      <td>55.0</td>\n",
       "    </tr>\n",
       "    <tr>\n",
       "      <th>2</th>\n",
       "      <td>Very good</td>\n",
       "      <td>2.0</td>\n",
       "      <td>0.0</td>\n",
       "      <td>Yes</td>\n",
       "      <td>Yes, only one</td>\n",
       "      <td>No</td>\n",
       "      <td>Within past 2 years</td>\n",
       "      <td>8.0</td>\n",
       "      <td>No</td>\n",
       "      <td>Yes</td>\n",
       "      <td>...</td>\n",
       "      <td>417.0</td>\n",
       "      <td>0.0</td>\n",
       "      <td>0.0</td>\n",
       "      <td>Did not meet muscle strengthening recommendations</td>\n",
       "      <td>Not told they have arthritis</td>\n",
       "      <td>Not told they have arthritis</td>\n",
       "      <td>Not told they have arthritis</td>\n",
       "      <td>Always or almost always wear seat belt</td>\n",
       "      <td>Always wear seat belt</td>\n",
       "      <td>64.0</td>\n",
       "    </tr>\n",
       "    <tr>\n",
       "      <th>3</th>\n",
       "      <td>Good</td>\n",
       "      <td>10.0</td>\n",
       "      <td>2.0</td>\n",
       "      <td>Yes</td>\n",
       "      <td>Yes, only one</td>\n",
       "      <td>No</td>\n",
       "      <td>5 or more years ago</td>\n",
       "      <td>6.0</td>\n",
       "      <td>Yes</td>\n",
       "      <td>Yes</td>\n",
       "      <td>...</td>\n",
       "      <td>406.0</td>\n",
       "      <td>0.0</td>\n",
       "      <td>0.0</td>\n",
       "      <td>Did not meet muscle strengthening recommendations</td>\n",
       "      <td>Not told they have arthritis</td>\n",
       "      <td>Not told they have arthritis</td>\n",
       "      <td>Not told they have arthritis</td>\n",
       "      <td>Always or almost always wear seat belt</td>\n",
       "      <td>Always wear seat belt</td>\n",
       "      <td>66.0</td>\n",
       "    </tr>\n",
       "    <tr>\n",
       "      <th>4</th>\n",
       "      <td>Very good</td>\n",
       "      <td>0.0</td>\n",
       "      <td>0.0</td>\n",
       "      <td>Yes</td>\n",
       "      <td>Yes, only one</td>\n",
       "      <td>No</td>\n",
       "      <td>Within past year</td>\n",
       "      <td>8.0</td>\n",
       "      <td>Yes</td>\n",
       "      <td>Yes</td>\n",
       "      <td>...</td>\n",
       "      <td>512.0</td>\n",
       "      <td>0.0</td>\n",
       "      <td>0.0</td>\n",
       "      <td>Did not meet muscle strengthening recommendations</td>\n",
       "      <td>Not told they have arthritis</td>\n",
       "      <td>Not told they have arthritis</td>\n",
       "      <td>Not told they have arthritis</td>\n",
       "      <td>Always or almost always wear seat belt</td>\n",
       "      <td>Always wear seat belt</td>\n",
       "      <td>49.0</td>\n",
       "    </tr>\n",
       "  </tbody>\n",
       "</table>\n",
       "<p>5 rows × 124 columns</p>\n",
       "</div>"
      ],
      "text/plain": [
       "     genhlth  physhlth  menthlth hlthpln1       persdoc2 medcost  \\\n",
       "0       Good       0.0       0.0      Yes  Yes, only one      No   \n",
       "1       Good       3.0       2.0      Yes  Yes, only one      No   \n",
       "2  Very good       2.0       0.0      Yes  Yes, only one      No   \n",
       "3       Good      10.0       2.0      Yes  Yes, only one      No   \n",
       "4  Very good       0.0       0.0      Yes  Yes, only one      No   \n",
       "\n",
       "              checkup1  sleptim1 bphigh4 bloodcho  ...  fc60_ strfreq_  \\\n",
       "0     Within past year       6.0      No      Yes  ...  506.0      0.0   \n",
       "1     Within past year       9.0      No      Yes  ...  474.0      0.0   \n",
       "2  Within past 2 years       8.0      No      Yes  ...  417.0      0.0   \n",
       "3  5 or more years ago       6.0     Yes      Yes  ...  406.0      0.0   \n",
       "4     Within past year       8.0     Yes      Yes  ...  512.0      0.0   \n",
       "\n",
       "  pamiss1_                                          X_pastrng  \\\n",
       "0      0.0  Did not meet muscle strengthening recommendations   \n",
       "1      0.0  Did not meet muscle strengthening recommendations   \n",
       "2      0.0  Did not meet muscle strengthening recommendations   \n",
       "3      0.0  Did not meet muscle strengthening recommendations   \n",
       "4      0.0  Did not meet muscle strengthening recommendations   \n",
       "\n",
       "                                           X_lmtact1  \\\n",
       "0                       Not told they have arthritis   \n",
       "1  Told have arthritis and have limited usual act...   \n",
       "2                       Not told they have arthritis   \n",
       "3                       Not told they have arthritis   \n",
       "4                       Not told they have arthritis   \n",
       "\n",
       "                                   X_lmtwrk1  \\\n",
       "0               Not told they have arthritis   \n",
       "1  Told have arthritis and have limited work   \n",
       "2               Not told they have arthritis   \n",
       "3               Not told they have arthritis   \n",
       "4               Not told they have arthritis   \n",
       "\n",
       "                                           X_lmtscl1  \\\n",
       "0                       Not told they have arthritis   \n",
       "1  Told have arthritis and social activities limi...   \n",
       "2                       Not told they have arthritis   \n",
       "3                       Not told they have arthritis   \n",
       "4                       Not told they have arthritis   \n",
       "\n",
       "                                X_rfseat2              X_rfseat3 X_age80  \n",
       "0  Always or almost always wear seat belt  Always wear seat belt    50.0  \n",
       "1  Always or almost always wear seat belt  Always wear seat belt    55.0  \n",
       "2  Always or almost always wear seat belt  Always wear seat belt    64.0  \n",
       "3  Always or almost always wear seat belt  Always wear seat belt    66.0  \n",
       "4  Always or almost always wear seat belt  Always wear seat belt    49.0  \n",
       "\n",
       "[5 rows x 124 columns]"
      ]
     },
     "execution_count": 132,
     "metadata": {},
     "output_type": "execute_result"
    }
   ],
   "source": [
    "df=pd.read_csv('/Users/aliceqichaowu/Desktop/38615/FinalProject/brfss2013/brfss2013_new1.csv',low_memory=False)\n",
    "df.head()"
   ]
  },
  {
   "cell_type": "code",
   "execution_count": 133,
   "id": "eb87f6dc",
   "metadata": {},
   "outputs": [
    {
     "name": "stdout",
     "output_type": "stream",
     "text": [
      "<class 'pandas.core.frame.DataFrame'>\n",
      "RangeIndex: 339282 entries, 0 to 339281\n",
      "Columns: 124 entries, genhlth to X_age80\n",
      "dtypes: float64(39), int64(1), object(84)\n",
      "memory usage: 321.0+ MB\n"
     ]
    }
   ],
   "source": [
    "df.info()"
   ]
  },
  {
   "cell_type": "code",
   "execution_count": 134,
   "id": "de11484d",
   "metadata": {},
   "outputs": [
    {
     "name": "stdout",
     "output_type": "stream",
     "text": [
      "the index of the general health column: 0\n"
     ]
    }
   ],
   "source": [
    "for i in range(len(df.columns)):\n",
    "    if df.columns[i]=='genhlth':\n",
    "        print('the index of the general health column:', i)"
   ]
  },
  {
   "cell_type": "code",
   "execution_count": 5,
   "id": "bcfe6a79",
   "metadata": {},
   "outputs": [],
   "source": [
    "## select columns with general health and other predictors\n",
    "df=df.iloc[:,18:]\n"
   ]
  },
  {
   "cell_type": "code",
   "execution_count": 10,
   "id": "0405eefb",
   "metadata": {
    "scrolled": true
   },
   "outputs": [
    {
     "data": {
      "text/plain": [
       "genhlth      0.0\n",
       "physhlth     0.0\n",
       "menthlth     0.0\n",
       "hlthpln1     0.0\n",
       "persdoc2     0.0\n",
       "            ... \n",
       "X_lmtwrk1    0.0\n",
       "X_lmtscl1    0.0\n",
       "X_rfseat2    0.0\n",
       "X_rfseat3    0.0\n",
       "X_age80      0.0\n",
       "Length: 124, dtype: float64"
      ]
     },
     "execution_count": 10,
     "metadata": {},
     "output_type": "execute_result"
    }
   ],
   "source": [
    "## Check missing values\n",
    "# print('There are %i nan in the dataframe' % df.isna().sum().sum())\n",
    "df.isnull().sum()/df.shape[0]"
   ]
  },
  {
   "cell_type": "code",
   "execution_count": 89,
   "id": "e2476a50",
   "metadata": {},
   "outputs": [
    {
     "name": "stdout",
     "output_type": "stream",
     "text": [
      "Percentage of columns remained:  1.0\n"
     ]
    }
   ],
   "source": [
    "## find out how many columns have missing values < 10% data pts for each column\n",
    "## 0.1: 0.69; 0.15: 0.491; 0.2: 0.42;\n",
    "mask=df.isnull().sum()/df.shape[0]<0.1\n",
    "features=df.columns[mask]\n",
    "df1=df[features]\n",
    "print('Percentage of columns remained: ', len(features)/len(df.columns))"
   ]
  },
  {
   "cell_type": "code",
   "execution_count": 57,
   "id": "2db2725e",
   "metadata": {},
   "outputs": [
    {
     "name": "stdout",
     "output_type": "stream",
     "text": [
      "Percentage of rows remained after removing missing values:  0.3100869299984749\n"
     ]
    }
   ],
   "source": [
    "rows_remain=len(df1[df1.isnull().any(axis=1)])/len(df1)\n",
    "print('Percentage of rows remained after removing missing values: ',rows_remain )"
   ]
  },
  {
   "cell_type": "code",
   "execution_count": 58,
   "id": "9d6cefff",
   "metadata": {},
   "outputs": [
    {
     "name": "stderr",
     "output_type": "stream",
     "text": [
      "<ipython-input-58-0f76be566f0c>:1: SettingWithCopyWarning: \n",
      "A value is trying to be set on a copy of a slice from a DataFrame\n",
      "\n",
      "See the caveats in the documentation: https://pandas.pydata.org/pandas-docs/stable/user_guide/indexing.html#returning-a-view-versus-a-copy\n",
      "  df1.dropna(inplace=True)\n"
     ]
    }
   ],
   "source": [
    "df1.dropna(inplace=True)\n",
    "df1.reset_index(drop=True,inplace=True)"
   ]
  },
  {
   "cell_type": "code",
   "execution_count": 61,
   "id": "e2e56a78",
   "metadata": {},
   "outputs": [
    {
     "data": {
      "text/plain": [
       "(339282, 124)"
      ]
     },
     "execution_count": 61,
     "metadata": {},
     "output_type": "execute_result"
    }
   ],
   "source": [
    "df1.tail()\n",
    "df1.shape\n"
   ]
  },
  {
   "cell_type": "code",
   "execution_count": 135,
   "id": "4104bbdb",
   "metadata": {
    "scrolled": true
   },
   "outputs": [],
   "source": [
    "## drop useless columns\n",
    "df=df.drop(columns=['X_misfrtn','X_misvegn','X_frtresp','X_vegresp'])"
   ]
  },
  {
   "cell_type": "code",
   "execution_count": 41,
   "id": "424d37ca",
   "metadata": {},
   "outputs": [],
   "source": [
    "import os  \n",
    "os.makedirs('/Users/aliceqichaowu/Desktop/38615/brfss2013/', exist_ok=True)  \n",
    "df.to_csv('/Users/aliceqichaowu/Desktop/38615/brfss2013/brfss2013_new1.csv',index=False)  \n"
   ]
  },
  {
   "cell_type": "markdown",
   "id": "2355f17b",
   "metadata": {},
   "source": [
    "## Transform categorical data"
   ]
  },
  {
   "cell_type": "code",
   "execution_count": 125,
   "id": "f6c00367",
   "metadata": {},
   "outputs": [],
   "source": [
    "features = pd.read_csv('/Users/aliceqichaowu/Desktop/38615/FinalProject/features.txt', sep=' ',header=None)\n",
    "feat_lst=features.iloc[:,0].values.tolist()"
   ]
  },
  {
   "cell_type": "code",
   "execution_count": 126,
   "id": "084b8ca2",
   "metadata": {
    "scrolled": true
   },
   "outputs": [],
   "source": [
    "\n",
    "df_cat=df.select_dtypes(include='object')\n",
    "numerics = ['int16', 'int32', 'int64', 'float16', 'float32', 'float64']\n",
    "df_num=df.select_dtypes(include=numerics)"
   ]
  },
  {
   "cell_type": "code",
   "execution_count": 127,
   "id": "c2cb6812",
   "metadata": {},
   "outputs": [
    {
     "name": "stderr",
     "output_type": "stream",
     "text": [
      "/Users/aliceqichaowu/opt/anaconda3/lib/python3.8/site-packages/pandas/core/series.py:4509: SettingWithCopyWarning: \n",
      "A value is trying to be set on a copy of a slice from a DataFrame\n",
      "\n",
      "See the caveats in the documentation: https://pandas.pydata.org/pandas-docs/stable/user_guide/indexing.html#returning-a-view-versus-a-copy\n",
      "  return super().replace(\n"
     ]
    }
   ],
   "source": [
    "df_cat['genhlth'].replace(['Excellent','Very good','Good','Fair','Poor'],\n",
    "                        [1,2,3,4,5], inplace=True)\n",
    "# df_cat['genhlth'].replace(['Excellent','Good','Poor'],\n",
    "#                         [0,1,2], inplace=True)"
   ]
  },
  {
   "cell_type": "code",
   "execution_count": 128,
   "id": "2e86d1e9",
   "metadata": {},
   "outputs": [
    {
     "name": "stderr",
     "output_type": "stream",
     "text": [
      "<ipython-input-128-a66fc8f2acf2>:3: SettingWithCopyWarning: \n",
      "A value is trying to be set on a copy of a slice from a DataFrame.\n",
      "Try using .loc[row_indexer,col_indexer] = value instead\n",
      "\n",
      "See the caveats in the documentation: https://pandas.pydata.org/pandas-docs/stable/user_guide/indexing.html#returning-a-view-versus-a-copy\n",
      "  df_cat[col_name]=df_cat[col_name].astype('category').cat.codes\n"
     ]
    }
   ],
   "source": [
    "for i in range(1,df_cat.shape[1]):\n",
    "    col_name=df_cat.columns[i]\n",
    "    df_cat[col_name]=df_cat[col_name].astype('category').cat.codes"
   ]
  },
  {
   "cell_type": "code",
   "execution_count": 129,
   "id": "55201807",
   "metadata": {},
   "outputs": [],
   "source": [
    "df_new=df_cat.join(df_num)"
   ]
  },
  {
   "cell_type": "code",
   "execution_count": 130,
   "id": "4d8a61b2",
   "metadata": {
    "scrolled": true
   },
   "outputs": [
    {
     "ename": "TypeError",
     "evalue": "unsupported operand type(s) for +: 'int' and 'str'",
     "output_type": "error",
     "traceback": [
      "\u001b[0;31m---------------------------------------------------------------------------\u001b[0m",
      "\u001b[0;31mTypeError\u001b[0m                                 Traceback (most recent call last)",
      "\u001b[0;32m<ipython-input-130-75ef3dbc02b7>\u001b[0m in \u001b[0;36m<module>\u001b[0;34m\u001b[0m\n\u001b[1;32m      6\u001b[0m     \u001b[0;32mreturn\u001b[0m \u001b[0mdf\u001b[0m\u001b[0;34m\u001b[0m\u001b[0;34m\u001b[0m\u001b[0m\n\u001b[1;32m      7\u001b[0m \u001b[0;34m\u001b[0m\u001b[0m\n\u001b[0;32m----> 8\u001b[0;31m \u001b[0mdf_out\u001b[0m\u001b[0;34m=\u001b[0m\u001b[0mremove_outliers\u001b[0m\u001b[0;34m(\u001b[0m\u001b[0mdf_new\u001b[0m\u001b[0;34m,\u001b[0m\u001b[0mdf_new\u001b[0m\u001b[0;34m.\u001b[0m\u001b[0mcolumns\u001b[0m\u001b[0;34m,\u001b[0m\u001b[0;36m8\u001b[0m\u001b[0;34m)\u001b[0m\u001b[0;34m\u001b[0m\u001b[0;34m\u001b[0m\u001b[0m\n\u001b[0m\u001b[1;32m      9\u001b[0m \u001b[0;34m\u001b[0m\u001b[0m\n\u001b[1;32m     10\u001b[0m \u001b[0mprint\u001b[0m\u001b[0;34m(\u001b[0m\u001b[0mdf_out\u001b[0m\u001b[0;34m.\u001b[0m\u001b[0mshape\u001b[0m\u001b[0;34m)\u001b[0m\u001b[0;34m\u001b[0m\u001b[0;34m\u001b[0m\u001b[0m\n",
      "\u001b[0;32m<ipython-input-130-75ef3dbc02b7>\u001b[0m in \u001b[0;36mremove_outliers\u001b[0;34m(df, columns, n_std)\u001b[0m\n\u001b[1;32m      1\u001b[0m \u001b[0;32mdef\u001b[0m \u001b[0mremove_outliers\u001b[0m\u001b[0;34m(\u001b[0m\u001b[0mdf\u001b[0m\u001b[0;34m,\u001b[0m\u001b[0mcolumns\u001b[0m\u001b[0;34m,\u001b[0m\u001b[0mn_std\u001b[0m\u001b[0;34m)\u001b[0m\u001b[0;34m:\u001b[0m\u001b[0;34m\u001b[0m\u001b[0;34m\u001b[0m\u001b[0m\n\u001b[1;32m      2\u001b[0m     \u001b[0;32mfor\u001b[0m \u001b[0mcol\u001b[0m \u001b[0;32min\u001b[0m \u001b[0mcolumns\u001b[0m\u001b[0;34m:\u001b[0m\u001b[0;34m\u001b[0m\u001b[0;34m\u001b[0m\u001b[0m\n\u001b[0;32m----> 3\u001b[0;31m         \u001b[0mmean\u001b[0m \u001b[0;34m=\u001b[0m \u001b[0mdf\u001b[0m\u001b[0;34m[\u001b[0m\u001b[0mcol\u001b[0m\u001b[0;34m]\u001b[0m\u001b[0;34m.\u001b[0m\u001b[0mmean\u001b[0m\u001b[0;34m(\u001b[0m\u001b[0;34m)\u001b[0m\u001b[0;34m\u001b[0m\u001b[0;34m\u001b[0m\u001b[0m\n\u001b[0m\u001b[1;32m      4\u001b[0m         \u001b[0msd\u001b[0m \u001b[0;34m=\u001b[0m \u001b[0mdf\u001b[0m\u001b[0;34m[\u001b[0m\u001b[0mcol\u001b[0m\u001b[0;34m]\u001b[0m\u001b[0;34m.\u001b[0m\u001b[0mstd\u001b[0m\u001b[0;34m(\u001b[0m\u001b[0;34m)\u001b[0m\u001b[0;34m\u001b[0m\u001b[0;34m\u001b[0m\u001b[0m\n\u001b[1;32m      5\u001b[0m         \u001b[0mdf\u001b[0m \u001b[0;34m=\u001b[0m \u001b[0mdf\u001b[0m\u001b[0;34m[\u001b[0m\u001b[0;34m(\u001b[0m\u001b[0mdf\u001b[0m\u001b[0;34m[\u001b[0m\u001b[0mcol\u001b[0m\u001b[0;34m]\u001b[0m \u001b[0;34m<=\u001b[0m \u001b[0mmean\u001b[0m\u001b[0;34m+\u001b[0m\u001b[0;34m(\u001b[0m\u001b[0mn_std\u001b[0m\u001b[0;34m*\u001b[0m\u001b[0msd\u001b[0m\u001b[0;34m)\u001b[0m\u001b[0;34m)\u001b[0m\u001b[0;34m]\u001b[0m\u001b[0;34m\u001b[0m\u001b[0;34m\u001b[0m\u001b[0m\n",
      "\u001b[0;32m~/opt/anaconda3/lib/python3.8/site-packages/pandas/core/generic.py\u001b[0m in \u001b[0;36mmean\u001b[0;34m(self, axis, skipna, level, numeric_only, **kwargs)\u001b[0m\n\u001b[1;32m  11116\u001b[0m         )\n\u001b[1;32m  11117\u001b[0m         \u001b[0;32mdef\u001b[0m \u001b[0mmean\u001b[0m\u001b[0;34m(\u001b[0m\u001b[0mself\u001b[0m\u001b[0;34m,\u001b[0m \u001b[0maxis\u001b[0m\u001b[0;34m=\u001b[0m\u001b[0;32mNone\u001b[0m\u001b[0;34m,\u001b[0m \u001b[0mskipna\u001b[0m\u001b[0;34m=\u001b[0m\u001b[0;32mNone\u001b[0m\u001b[0;34m,\u001b[0m \u001b[0mlevel\u001b[0m\u001b[0;34m=\u001b[0m\u001b[0;32mNone\u001b[0m\u001b[0;34m,\u001b[0m \u001b[0mnumeric_only\u001b[0m\u001b[0;34m=\u001b[0m\u001b[0;32mNone\u001b[0m\u001b[0;34m,\u001b[0m \u001b[0;34m**\u001b[0m\u001b[0mkwargs\u001b[0m\u001b[0;34m)\u001b[0m\u001b[0;34m:\u001b[0m\u001b[0;34m\u001b[0m\u001b[0;34m\u001b[0m\u001b[0m\n\u001b[0;32m> 11118\u001b[0;31m             \u001b[0;32mreturn\u001b[0m \u001b[0mNDFrame\u001b[0m\u001b[0;34m.\u001b[0m\u001b[0mmean\u001b[0m\u001b[0;34m(\u001b[0m\u001b[0mself\u001b[0m\u001b[0;34m,\u001b[0m \u001b[0maxis\u001b[0m\u001b[0;34m,\u001b[0m \u001b[0mskipna\u001b[0m\u001b[0;34m,\u001b[0m \u001b[0mlevel\u001b[0m\u001b[0;34m,\u001b[0m \u001b[0mnumeric_only\u001b[0m\u001b[0;34m,\u001b[0m \u001b[0;34m**\u001b[0m\u001b[0mkwargs\u001b[0m\u001b[0;34m)\u001b[0m\u001b[0;34m\u001b[0m\u001b[0;34m\u001b[0m\u001b[0m\n\u001b[0m\u001b[1;32m  11119\u001b[0m \u001b[0;34m\u001b[0m\u001b[0m\n\u001b[1;32m  11120\u001b[0m         \u001b[0;31m# pandas\\core\\generic.py:10924: error: Cannot assign to a method\u001b[0m\u001b[0;34m\u001b[0m\u001b[0;34m\u001b[0m\u001b[0;34m\u001b[0m\u001b[0m\n",
      "\u001b[0;32m~/opt/anaconda3/lib/python3.8/site-packages/pandas/core/generic.py\u001b[0m in \u001b[0;36mmean\u001b[0;34m(self, axis, skipna, level, numeric_only, **kwargs)\u001b[0m\n\u001b[1;32m  10724\u001b[0m \u001b[0;34m\u001b[0m\u001b[0m\n\u001b[1;32m  10725\u001b[0m     \u001b[0;32mdef\u001b[0m \u001b[0mmean\u001b[0m\u001b[0;34m(\u001b[0m\u001b[0mself\u001b[0m\u001b[0;34m,\u001b[0m \u001b[0maxis\u001b[0m\u001b[0;34m=\u001b[0m\u001b[0;32mNone\u001b[0m\u001b[0;34m,\u001b[0m \u001b[0mskipna\u001b[0m\u001b[0;34m=\u001b[0m\u001b[0;32mNone\u001b[0m\u001b[0;34m,\u001b[0m \u001b[0mlevel\u001b[0m\u001b[0;34m=\u001b[0m\u001b[0;32mNone\u001b[0m\u001b[0;34m,\u001b[0m \u001b[0mnumeric_only\u001b[0m\u001b[0;34m=\u001b[0m\u001b[0;32mNone\u001b[0m\u001b[0;34m,\u001b[0m \u001b[0;34m**\u001b[0m\u001b[0mkwargs\u001b[0m\u001b[0;34m)\u001b[0m\u001b[0;34m:\u001b[0m\u001b[0;34m\u001b[0m\u001b[0;34m\u001b[0m\u001b[0m\n\u001b[0;32m> 10726\u001b[0;31m         return self._stat_function(\n\u001b[0m\u001b[1;32m  10727\u001b[0m             \u001b[0;34m\"mean\"\u001b[0m\u001b[0;34m,\u001b[0m \u001b[0mnanops\u001b[0m\u001b[0;34m.\u001b[0m\u001b[0mnanmean\u001b[0m\u001b[0;34m,\u001b[0m \u001b[0maxis\u001b[0m\u001b[0;34m,\u001b[0m \u001b[0mskipna\u001b[0m\u001b[0;34m,\u001b[0m \u001b[0mlevel\u001b[0m\u001b[0;34m,\u001b[0m \u001b[0mnumeric_only\u001b[0m\u001b[0;34m,\u001b[0m \u001b[0;34m**\u001b[0m\u001b[0mkwargs\u001b[0m\u001b[0;34m\u001b[0m\u001b[0;34m\u001b[0m\u001b[0m\n\u001b[1;32m  10728\u001b[0m         )\n",
      "\u001b[0;32m~/opt/anaconda3/lib/python3.8/site-packages/pandas/core/generic.py\u001b[0m in \u001b[0;36m_stat_function\u001b[0;34m(self, name, func, axis, skipna, level, numeric_only, **kwargs)\u001b[0m\n\u001b[1;32m  10709\u001b[0m         \u001b[0;32mif\u001b[0m \u001b[0mlevel\u001b[0m \u001b[0;32mis\u001b[0m \u001b[0;32mnot\u001b[0m \u001b[0;32mNone\u001b[0m\u001b[0;34m:\u001b[0m\u001b[0;34m\u001b[0m\u001b[0;34m\u001b[0m\u001b[0m\n\u001b[1;32m  10710\u001b[0m             \u001b[0;32mreturn\u001b[0m \u001b[0mself\u001b[0m\u001b[0;34m.\u001b[0m\u001b[0m_agg_by_level\u001b[0m\u001b[0;34m(\u001b[0m\u001b[0mname\u001b[0m\u001b[0;34m,\u001b[0m \u001b[0maxis\u001b[0m\u001b[0;34m=\u001b[0m\u001b[0maxis\u001b[0m\u001b[0;34m,\u001b[0m \u001b[0mlevel\u001b[0m\u001b[0;34m=\u001b[0m\u001b[0mlevel\u001b[0m\u001b[0;34m,\u001b[0m \u001b[0mskipna\u001b[0m\u001b[0;34m=\u001b[0m\u001b[0mskipna\u001b[0m\u001b[0;34m)\u001b[0m\u001b[0;34m\u001b[0m\u001b[0;34m\u001b[0m\u001b[0m\n\u001b[0;32m> 10711\u001b[0;31m         return self._reduce(\n\u001b[0m\u001b[1;32m  10712\u001b[0m             \u001b[0mfunc\u001b[0m\u001b[0;34m,\u001b[0m \u001b[0mname\u001b[0m\u001b[0;34m=\u001b[0m\u001b[0mname\u001b[0m\u001b[0;34m,\u001b[0m \u001b[0maxis\u001b[0m\u001b[0;34m=\u001b[0m\u001b[0maxis\u001b[0m\u001b[0;34m,\u001b[0m \u001b[0mskipna\u001b[0m\u001b[0;34m=\u001b[0m\u001b[0mskipna\u001b[0m\u001b[0;34m,\u001b[0m \u001b[0mnumeric_only\u001b[0m\u001b[0;34m=\u001b[0m\u001b[0mnumeric_only\u001b[0m\u001b[0;34m\u001b[0m\u001b[0;34m\u001b[0m\u001b[0m\n\u001b[1;32m  10713\u001b[0m         )\n",
      "\u001b[0;32m~/opt/anaconda3/lib/python3.8/site-packages/pandas/core/series.py\u001b[0m in \u001b[0;36m_reduce\u001b[0;34m(self, op, name, axis, skipna, numeric_only, filter_type, **kwds)\u001b[0m\n\u001b[1;32m   4180\u001b[0m                 )\n\u001b[1;32m   4181\u001b[0m             \u001b[0;32mwith\u001b[0m \u001b[0mnp\u001b[0m\u001b[0;34m.\u001b[0m\u001b[0merrstate\u001b[0m\u001b[0;34m(\u001b[0m\u001b[0mall\u001b[0m\u001b[0;34m=\u001b[0m\u001b[0;34m\"ignore\"\u001b[0m\u001b[0;34m)\u001b[0m\u001b[0;34m:\u001b[0m\u001b[0;34m\u001b[0m\u001b[0;34m\u001b[0m\u001b[0m\n\u001b[0;32m-> 4182\u001b[0;31m                 \u001b[0;32mreturn\u001b[0m \u001b[0mop\u001b[0m\u001b[0;34m(\u001b[0m\u001b[0mdelegate\u001b[0m\u001b[0;34m,\u001b[0m \u001b[0mskipna\u001b[0m\u001b[0;34m=\u001b[0m\u001b[0mskipna\u001b[0m\u001b[0;34m,\u001b[0m \u001b[0;34m**\u001b[0m\u001b[0mkwds\u001b[0m\u001b[0;34m)\u001b[0m\u001b[0;34m\u001b[0m\u001b[0;34m\u001b[0m\u001b[0m\n\u001b[0m\u001b[1;32m   4183\u001b[0m \u001b[0;34m\u001b[0m\u001b[0m\n\u001b[1;32m   4184\u001b[0m     \u001b[0;32mdef\u001b[0m \u001b[0m_reindex_indexer\u001b[0m\u001b[0;34m(\u001b[0m\u001b[0mself\u001b[0m\u001b[0;34m,\u001b[0m \u001b[0mnew_index\u001b[0m\u001b[0;34m,\u001b[0m \u001b[0mindexer\u001b[0m\u001b[0;34m,\u001b[0m \u001b[0mcopy\u001b[0m\u001b[0;34m)\u001b[0m\u001b[0;34m:\u001b[0m\u001b[0;34m\u001b[0m\u001b[0;34m\u001b[0m\u001b[0m\n",
      "\u001b[0;32m~/opt/anaconda3/lib/python3.8/site-packages/pandas/core/nanops.py\u001b[0m in \u001b[0;36m_f\u001b[0;34m(*args, **kwargs)\u001b[0m\n\u001b[1;32m     71\u001b[0m             \u001b[0;32mtry\u001b[0m\u001b[0;34m:\u001b[0m\u001b[0;34m\u001b[0m\u001b[0;34m\u001b[0m\u001b[0m\n\u001b[1;32m     72\u001b[0m                 \u001b[0;32mwith\u001b[0m \u001b[0mnp\u001b[0m\u001b[0;34m.\u001b[0m\u001b[0merrstate\u001b[0m\u001b[0;34m(\u001b[0m\u001b[0minvalid\u001b[0m\u001b[0;34m=\u001b[0m\u001b[0;34m\"ignore\"\u001b[0m\u001b[0;34m)\u001b[0m\u001b[0;34m:\u001b[0m\u001b[0;34m\u001b[0m\u001b[0;34m\u001b[0m\u001b[0m\n\u001b[0;32m---> 73\u001b[0;31m                     \u001b[0;32mreturn\u001b[0m \u001b[0mf\u001b[0m\u001b[0;34m(\u001b[0m\u001b[0;34m*\u001b[0m\u001b[0margs\u001b[0m\u001b[0;34m,\u001b[0m \u001b[0;34m**\u001b[0m\u001b[0mkwargs\u001b[0m\u001b[0;34m)\u001b[0m\u001b[0;34m\u001b[0m\u001b[0;34m\u001b[0m\u001b[0m\n\u001b[0m\u001b[1;32m     74\u001b[0m             \u001b[0;32mexcept\u001b[0m \u001b[0mValueError\u001b[0m \u001b[0;32mas\u001b[0m \u001b[0me\u001b[0m\u001b[0;34m:\u001b[0m\u001b[0;34m\u001b[0m\u001b[0;34m\u001b[0m\u001b[0m\n\u001b[1;32m     75\u001b[0m                 \u001b[0;31m# we want to transform an object array\u001b[0m\u001b[0;34m\u001b[0m\u001b[0;34m\u001b[0m\u001b[0;34m\u001b[0m\u001b[0m\n",
      "\u001b[0;32m~/opt/anaconda3/lib/python3.8/site-packages/pandas/core/nanops.py\u001b[0m in \u001b[0;36mf\u001b[0;34m(values, axis, skipna, **kwds)\u001b[0m\n\u001b[1;32m    133\u001b[0m                     \u001b[0mresult\u001b[0m \u001b[0;34m=\u001b[0m \u001b[0malt\u001b[0m\u001b[0;34m(\u001b[0m\u001b[0mvalues\u001b[0m\u001b[0;34m,\u001b[0m \u001b[0maxis\u001b[0m\u001b[0;34m=\u001b[0m\u001b[0maxis\u001b[0m\u001b[0;34m,\u001b[0m \u001b[0mskipna\u001b[0m\u001b[0;34m=\u001b[0m\u001b[0mskipna\u001b[0m\u001b[0;34m,\u001b[0m \u001b[0;34m**\u001b[0m\u001b[0mkwds\u001b[0m\u001b[0;34m)\u001b[0m\u001b[0;34m\u001b[0m\u001b[0;34m\u001b[0m\u001b[0m\n\u001b[1;32m    134\u001b[0m             \u001b[0;32melse\u001b[0m\u001b[0;34m:\u001b[0m\u001b[0;34m\u001b[0m\u001b[0;34m\u001b[0m\u001b[0m\n\u001b[0;32m--> 135\u001b[0;31m                 \u001b[0mresult\u001b[0m \u001b[0;34m=\u001b[0m \u001b[0malt\u001b[0m\u001b[0;34m(\u001b[0m\u001b[0mvalues\u001b[0m\u001b[0;34m,\u001b[0m \u001b[0maxis\u001b[0m\u001b[0;34m=\u001b[0m\u001b[0maxis\u001b[0m\u001b[0;34m,\u001b[0m \u001b[0mskipna\u001b[0m\u001b[0;34m=\u001b[0m\u001b[0mskipna\u001b[0m\u001b[0;34m,\u001b[0m \u001b[0;34m**\u001b[0m\u001b[0mkwds\u001b[0m\u001b[0;34m)\u001b[0m\u001b[0;34m\u001b[0m\u001b[0;34m\u001b[0m\u001b[0m\n\u001b[0m\u001b[1;32m    136\u001b[0m \u001b[0;34m\u001b[0m\u001b[0m\n\u001b[1;32m    137\u001b[0m             \u001b[0;32mreturn\u001b[0m \u001b[0mresult\u001b[0m\u001b[0;34m\u001b[0m\u001b[0;34m\u001b[0m\u001b[0m\n",
      "\u001b[0;32m~/opt/anaconda3/lib/python3.8/site-packages/pandas/core/nanops.py\u001b[0m in \u001b[0;36mnew_func\u001b[0;34m(values, axis, skipna, mask, **kwargs)\u001b[0m\n\u001b[1;32m    392\u001b[0m             \u001b[0mmask\u001b[0m \u001b[0;34m=\u001b[0m \u001b[0misna\u001b[0m\u001b[0;34m(\u001b[0m\u001b[0mvalues\u001b[0m\u001b[0;34m)\u001b[0m\u001b[0;34m\u001b[0m\u001b[0;34m\u001b[0m\u001b[0m\n\u001b[1;32m    393\u001b[0m \u001b[0;34m\u001b[0m\u001b[0m\n\u001b[0;32m--> 394\u001b[0;31m         \u001b[0mresult\u001b[0m \u001b[0;34m=\u001b[0m \u001b[0mfunc\u001b[0m\u001b[0;34m(\u001b[0m\u001b[0mvalues\u001b[0m\u001b[0;34m,\u001b[0m \u001b[0maxis\u001b[0m\u001b[0;34m=\u001b[0m\u001b[0maxis\u001b[0m\u001b[0;34m,\u001b[0m \u001b[0mskipna\u001b[0m\u001b[0;34m=\u001b[0m\u001b[0mskipna\u001b[0m\u001b[0;34m,\u001b[0m \u001b[0mmask\u001b[0m\u001b[0;34m=\u001b[0m\u001b[0mmask\u001b[0m\u001b[0;34m,\u001b[0m \u001b[0;34m**\u001b[0m\u001b[0mkwargs\u001b[0m\u001b[0;34m)\u001b[0m\u001b[0;34m\u001b[0m\u001b[0;34m\u001b[0m\u001b[0m\n\u001b[0m\u001b[1;32m    395\u001b[0m \u001b[0;34m\u001b[0m\u001b[0m\n\u001b[1;32m    396\u001b[0m         \u001b[0;32mif\u001b[0m \u001b[0mdatetimelike\u001b[0m\u001b[0;34m:\u001b[0m\u001b[0;34m\u001b[0m\u001b[0;34m\u001b[0m\u001b[0m\n",
      "\u001b[0;32m~/opt/anaconda3/lib/python3.8/site-packages/pandas/core/nanops.py\u001b[0m in \u001b[0;36mnanmean\u001b[0;34m(values, axis, skipna, mask)\u001b[0m\n\u001b[1;32m    631\u001b[0m \u001b[0;34m\u001b[0m\u001b[0m\n\u001b[1;32m    632\u001b[0m     \u001b[0mcount\u001b[0m \u001b[0;34m=\u001b[0m \u001b[0m_get_counts\u001b[0m\u001b[0;34m(\u001b[0m\u001b[0mvalues\u001b[0m\u001b[0;34m.\u001b[0m\u001b[0mshape\u001b[0m\u001b[0;34m,\u001b[0m \u001b[0mmask\u001b[0m\u001b[0;34m,\u001b[0m \u001b[0maxis\u001b[0m\u001b[0;34m,\u001b[0m \u001b[0mdtype\u001b[0m\u001b[0;34m=\u001b[0m\u001b[0mdtype_count\u001b[0m\u001b[0;34m)\u001b[0m\u001b[0;34m\u001b[0m\u001b[0;34m\u001b[0m\u001b[0m\n\u001b[0;32m--> 633\u001b[0;31m     \u001b[0mthe_sum\u001b[0m \u001b[0;34m=\u001b[0m \u001b[0m_ensure_numeric\u001b[0m\u001b[0;34m(\u001b[0m\u001b[0mvalues\u001b[0m\u001b[0;34m.\u001b[0m\u001b[0msum\u001b[0m\u001b[0;34m(\u001b[0m\u001b[0maxis\u001b[0m\u001b[0;34m,\u001b[0m \u001b[0mdtype\u001b[0m\u001b[0;34m=\u001b[0m\u001b[0mdtype_sum\u001b[0m\u001b[0;34m)\u001b[0m\u001b[0;34m)\u001b[0m\u001b[0;34m\u001b[0m\u001b[0;34m\u001b[0m\u001b[0m\n\u001b[0m\u001b[1;32m    634\u001b[0m \u001b[0;34m\u001b[0m\u001b[0m\n\u001b[1;32m    635\u001b[0m     \u001b[0;32mif\u001b[0m \u001b[0maxis\u001b[0m \u001b[0;32mis\u001b[0m \u001b[0;32mnot\u001b[0m \u001b[0;32mNone\u001b[0m \u001b[0;32mand\u001b[0m \u001b[0mgetattr\u001b[0m\u001b[0;34m(\u001b[0m\u001b[0mthe_sum\u001b[0m\u001b[0;34m,\u001b[0m \u001b[0;34m\"ndim\"\u001b[0m\u001b[0;34m,\u001b[0m \u001b[0;32mFalse\u001b[0m\u001b[0;34m)\u001b[0m\u001b[0;34m:\u001b[0m\u001b[0;34m\u001b[0m\u001b[0;34m\u001b[0m\u001b[0m\n",
      "\u001b[0;32m~/opt/anaconda3/lib/python3.8/site-packages/numpy/core/_methods.py\u001b[0m in \u001b[0;36m_sum\u001b[0;34m(a, axis, dtype, out, keepdims, initial, where)\u001b[0m\n\u001b[1;32m     45\u001b[0m def _sum(a, axis=None, dtype=None, out=None, keepdims=False,\n\u001b[1;32m     46\u001b[0m          initial=_NoValue, where=True):\n\u001b[0;32m---> 47\u001b[0;31m     \u001b[0;32mreturn\u001b[0m \u001b[0mumr_sum\u001b[0m\u001b[0;34m(\u001b[0m\u001b[0ma\u001b[0m\u001b[0;34m,\u001b[0m \u001b[0maxis\u001b[0m\u001b[0;34m,\u001b[0m \u001b[0mdtype\u001b[0m\u001b[0;34m,\u001b[0m \u001b[0mout\u001b[0m\u001b[0;34m,\u001b[0m \u001b[0mkeepdims\u001b[0m\u001b[0;34m,\u001b[0m \u001b[0minitial\u001b[0m\u001b[0;34m,\u001b[0m \u001b[0mwhere\u001b[0m\u001b[0;34m)\u001b[0m\u001b[0;34m\u001b[0m\u001b[0;34m\u001b[0m\u001b[0m\n\u001b[0m\u001b[1;32m     48\u001b[0m \u001b[0;34m\u001b[0m\u001b[0m\n\u001b[1;32m     49\u001b[0m def _prod(a, axis=None, dtype=None, out=None, keepdims=False,\n",
      "\u001b[0;31mTypeError\u001b[0m: unsupported operand type(s) for +: 'int' and 'str'"
     ]
    }
   ],
   "source": [
    "def remove_outliers(df,columns,n_std):\n",
    "    for col in columns:\n",
    "        mean = df[col].mean()\n",
    "        sd = df[col].std()       \n",
    "        df = df[(df[col] <= mean+(n_std*sd))]       \n",
    "    return df\n",
    "\n",
    "df_out=remove_outliers(df_new,df_new.columns,8)\n",
    "\n",
    "print(df_out.shape)\n"
   ]
  },
  {
   "cell_type": "code",
   "execution_count": null,
   "id": "4fcec411",
   "metadata": {
    "scrolled": true
   },
   "outputs": [],
   "source": [
    "df_cat_new=df_out.iloc[:,:80].astype('category')\n",
    "df1=df_cat_new.join(df_out.iloc[:,80:])"
   ]
  },
  {
   "cell_type": "code",
   "execution_count": null,
   "id": "01e5950a",
   "metadata": {},
   "outputs": [],
   "source": [
    "corr_matrix=df_out.iloc[:,1:].corr()\n",
    "corr_matrix\n",
    "upper_tri = corr_matrix.where(np.triu(np.ones(corr_matrix.shape),k=1).astype(np.bool_))\n",
    "to_drop = [column for column in upper_tri.columns if any(abs(upper_tri[column]) > 0.99)]\n",
    "print('There are '+str(len(to_drop))+' variables are highly correlated')"
   ]
  },
  {
   "cell_type": "code",
   "execution_count": 20,
   "id": "758d7406",
   "metadata": {
    "scrolled": true
   },
   "outputs": [
    {
     "data": {
      "text/html": [
       "<div>\n",
       "<style scoped>\n",
       "    .dataframe tbody tr th:only-of-type {\n",
       "        vertical-align: middle;\n",
       "    }\n",
       "\n",
       "    .dataframe tbody tr th {\n",
       "        vertical-align: top;\n",
       "    }\n",
       "\n",
       "    .dataframe thead th {\n",
       "        text-align: right;\n",
       "    }\n",
       "</style>\n",
       "<table border=\"1\" class=\"dataframe\">\n",
       "  <thead>\n",
       "    <tr style=\"text-align: right;\">\n",
       "      <th></th>\n",
       "      <th>genhlth</th>\n",
       "      <th>hlthpln1</th>\n",
       "      <th>persdoc2</th>\n",
       "      <th>medcost</th>\n",
       "      <th>checkup1</th>\n",
       "      <th>bphigh4</th>\n",
       "      <th>bloodcho</th>\n",
       "      <th>cvdinfr4</th>\n",
       "      <th>cvdcrhd4</th>\n",
       "      <th>cvdstrk3</th>\n",
       "      <th>...</th>\n",
       "      <th>grenday_</th>\n",
       "      <th>orngday_</th>\n",
       "      <th>vegeda1_</th>\n",
       "      <th>X_frutsum</th>\n",
       "      <th>X_vegesum</th>\n",
       "      <th>maxvo2_</th>\n",
       "      <th>fc60_</th>\n",
       "      <th>strfreq_</th>\n",
       "      <th>pamiss1_</th>\n",
       "      <th>X_age80</th>\n",
       "    </tr>\n",
       "  </thead>\n",
       "  <tbody>\n",
       "    <tr>\n",
       "      <th>0</th>\n",
       "      <td>3</td>\n",
       "      <td>1</td>\n",
       "      <td>2</td>\n",
       "      <td>0</td>\n",
       "      <td>4</td>\n",
       "      <td>0</td>\n",
       "      <td>1</td>\n",
       "      <td>0</td>\n",
       "      <td>0</td>\n",
       "      <td>0</td>\n",
       "      <td>...</td>\n",
       "      <td>43.0</td>\n",
       "      <td>29.0</td>\n",
       "      <td>43.0</td>\n",
       "      <td>20.0</td>\n",
       "      <td>148.0</td>\n",
       "      <td>2950.0</td>\n",
       "      <td>506.0</td>\n",
       "      <td>0.0</td>\n",
       "      <td>0.0</td>\n",
       "      <td>50.0</td>\n",
       "    </tr>\n",
       "    <tr>\n",
       "      <th>1</th>\n",
       "      <td>3</td>\n",
       "      <td>1</td>\n",
       "      <td>2</td>\n",
       "      <td>0</td>\n",
       "      <td>4</td>\n",
       "      <td>0</td>\n",
       "      <td>1</td>\n",
       "      <td>0</td>\n",
       "      <td>0</td>\n",
       "      <td>0</td>\n",
       "      <td>...</td>\n",
       "      <td>29.0</td>\n",
       "      <td>33.0</td>\n",
       "      <td>100.0</td>\n",
       "      <td>46.0</td>\n",
       "      <td>191.0</td>\n",
       "      <td>2765.0</td>\n",
       "      <td>474.0</td>\n",
       "      <td>0.0</td>\n",
       "      <td>0.0</td>\n",
       "      <td>55.0</td>\n",
       "    </tr>\n",
       "    <tr>\n",
       "      <th>2</th>\n",
       "      <td>2</td>\n",
       "      <td>1</td>\n",
       "      <td>2</td>\n",
       "      <td>0</td>\n",
       "      <td>2</td>\n",
       "      <td>0</td>\n",
       "      <td>1</td>\n",
       "      <td>0</td>\n",
       "      <td>0</td>\n",
       "      <td>0</td>\n",
       "      <td>...</td>\n",
       "      <td>33.0</td>\n",
       "      <td>17.0</td>\n",
       "      <td>57.0</td>\n",
       "      <td>49.0</td>\n",
       "      <td>136.0</td>\n",
       "      <td>2432.0</td>\n",
       "      <td>417.0</td>\n",
       "      <td>0.0</td>\n",
       "      <td>0.0</td>\n",
       "      <td>64.0</td>\n",
       "    </tr>\n",
       "    <tr>\n",
       "      <th>3</th>\n",
       "      <td>3</td>\n",
       "      <td>1</td>\n",
       "      <td>2</td>\n",
       "      <td>0</td>\n",
       "      <td>0</td>\n",
       "      <td>2</td>\n",
       "      <td>1</td>\n",
       "      <td>0</td>\n",
       "      <td>0</td>\n",
       "      <td>0</td>\n",
       "      <td>...</td>\n",
       "      <td>33.0</td>\n",
       "      <td>10.0</td>\n",
       "      <td>100.0</td>\n",
       "      <td>7.0</td>\n",
       "      <td>243.0</td>\n",
       "      <td>2370.0</td>\n",
       "      <td>406.0</td>\n",
       "      <td>0.0</td>\n",
       "      <td>0.0</td>\n",
       "      <td>66.0</td>\n",
       "    </tr>\n",
       "    <tr>\n",
       "      <th>4</th>\n",
       "      <td>2</td>\n",
       "      <td>1</td>\n",
       "      <td>2</td>\n",
       "      <td>0</td>\n",
       "      <td>4</td>\n",
       "      <td>2</td>\n",
       "      <td>1</td>\n",
       "      <td>0</td>\n",
       "      <td>0</td>\n",
       "      <td>0</td>\n",
       "      <td>...</td>\n",
       "      <td>43.0</td>\n",
       "      <td>0.0</td>\n",
       "      <td>100.0</td>\n",
       "      <td>157.0</td>\n",
       "      <td>143.0</td>\n",
       "      <td>2987.0</td>\n",
       "      <td>512.0</td>\n",
       "      <td>0.0</td>\n",
       "      <td>0.0</td>\n",
       "      <td>49.0</td>\n",
       "    </tr>\n",
       "    <tr>\n",
       "      <th>...</th>\n",
       "      <td>...</td>\n",
       "      <td>...</td>\n",
       "      <td>...</td>\n",
       "      <td>...</td>\n",
       "      <td>...</td>\n",
       "      <td>...</td>\n",
       "      <td>...</td>\n",
       "      <td>...</td>\n",
       "      <td>...</td>\n",
       "      <td>...</td>\n",
       "      <td>...</td>\n",
       "      <td>...</td>\n",
       "      <td>...</td>\n",
       "      <td>...</td>\n",
       "      <td>...</td>\n",
       "      <td>...</td>\n",
       "      <td>...</td>\n",
       "      <td>...</td>\n",
       "      <td>...</td>\n",
       "      <td>...</td>\n",
       "      <td>...</td>\n",
       "    </tr>\n",
       "    <tr>\n",
       "      <th>339277</th>\n",
       "      <td>3</td>\n",
       "      <td>1</td>\n",
       "      <td>2</td>\n",
       "      <td>0</td>\n",
       "      <td>4</td>\n",
       "      <td>0</td>\n",
       "      <td>1</td>\n",
       "      <td>0</td>\n",
       "      <td>0</td>\n",
       "      <td>0</td>\n",
       "      <td>...</td>\n",
       "      <td>43.0</td>\n",
       "      <td>14.0</td>\n",
       "      <td>71.0</td>\n",
       "      <td>0.0</td>\n",
       "      <td>228.0</td>\n",
       "      <td>2395.0</td>\n",
       "      <td>411.0</td>\n",
       "      <td>0.0</td>\n",
       "      <td>0.0</td>\n",
       "      <td>65.0</td>\n",
       "    </tr>\n",
       "    <tr>\n",
       "      <th>339278</th>\n",
       "      <td>3</td>\n",
       "      <td>1</td>\n",
       "      <td>2</td>\n",
       "      <td>0</td>\n",
       "      <td>0</td>\n",
       "      <td>2</td>\n",
       "      <td>1</td>\n",
       "      <td>0</td>\n",
       "      <td>0</td>\n",
       "      <td>0</td>\n",
       "      <td>...</td>\n",
       "      <td>50.0</td>\n",
       "      <td>71.0</td>\n",
       "      <td>100.0</td>\n",
       "      <td>94.0</td>\n",
       "      <td>292.0</td>\n",
       "      <td>3415.0</td>\n",
       "      <td>585.0</td>\n",
       "      <td>0.0</td>\n",
       "      <td>0.0</td>\n",
       "      <td>47.0</td>\n",
       "    </tr>\n",
       "    <tr>\n",
       "      <th>339279</th>\n",
       "      <td>4</td>\n",
       "      <td>1</td>\n",
       "      <td>0</td>\n",
       "      <td>0</td>\n",
       "      <td>4</td>\n",
       "      <td>2</td>\n",
       "      <td>1</td>\n",
       "      <td>1</td>\n",
       "      <td>1</td>\n",
       "      <td>0</td>\n",
       "      <td>...</td>\n",
       "      <td>100.0</td>\n",
       "      <td>29.0</td>\n",
       "      <td>100.0</td>\n",
       "      <td>107.0</td>\n",
       "      <td>329.0</td>\n",
       "      <td>2654.0</td>\n",
       "      <td>455.0</td>\n",
       "      <td>0.0</td>\n",
       "      <td>0.0</td>\n",
       "      <td>58.0</td>\n",
       "    </tr>\n",
       "    <tr>\n",
       "      <th>339280</th>\n",
       "      <td>4</td>\n",
       "      <td>1</td>\n",
       "      <td>0</td>\n",
       "      <td>1</td>\n",
       "      <td>4</td>\n",
       "      <td>0</td>\n",
       "      <td>1</td>\n",
       "      <td>0</td>\n",
       "      <td>0</td>\n",
       "      <td>0</td>\n",
       "      <td>...</td>\n",
       "      <td>13.0</td>\n",
       "      <td>43.0</td>\n",
       "      <td>71.0</td>\n",
       "      <td>500.0</td>\n",
       "      <td>127.0</td>\n",
       "      <td>3431.0</td>\n",
       "      <td>588.0</td>\n",
       "      <td>0.0</td>\n",
       "      <td>0.0</td>\n",
       "      <td>37.0</td>\n",
       "    </tr>\n",
       "    <tr>\n",
       "      <th>339281</th>\n",
       "      <td>2</td>\n",
       "      <td>1</td>\n",
       "      <td>2</td>\n",
       "      <td>0</td>\n",
       "      <td>4</td>\n",
       "      <td>0</td>\n",
       "      <td>0</td>\n",
       "      <td>0</td>\n",
       "      <td>0</td>\n",
       "      <td>0</td>\n",
       "      <td>...</td>\n",
       "      <td>43.0</td>\n",
       "      <td>0.0</td>\n",
       "      <td>43.0</td>\n",
       "      <td>104.0</td>\n",
       "      <td>186.0</td>\n",
       "      <td>3690.0</td>\n",
       "      <td>633.0</td>\n",
       "      <td>0.0</td>\n",
       "      <td>0.0</td>\n",
       "      <td>30.0</td>\n",
       "    </tr>\n",
       "  </tbody>\n",
       "</table>\n",
       "<p>333985 rows × 120 columns</p>\n",
       "</div>"
      ],
      "text/plain": [
       "       genhlth hlthpln1 persdoc2 medcost checkup1 bphigh4 bloodcho cvdinfr4  \\\n",
       "0            3        1        2       0        4       0        1        0   \n",
       "1            3        1        2       0        4       0        1        0   \n",
       "2            2        1        2       0        2       0        1        0   \n",
       "3            3        1        2       0        0       2        1        0   \n",
       "4            2        1        2       0        4       2        1        0   \n",
       "...        ...      ...      ...     ...      ...     ...      ...      ...   \n",
       "339277       3        1        2       0        4       0        1        0   \n",
       "339278       3        1        2       0        0       2        1        0   \n",
       "339279       4        1        0       0        4       2        1        1   \n",
       "339280       4        1        0       1        4       0        1        0   \n",
       "339281       2        1        2       0        4       0        0        0   \n",
       "\n",
       "       cvdcrhd4 cvdstrk3  ... grenday_ orngday_ vegeda1_ X_frutsum X_vegesum  \\\n",
       "0             0        0  ...     43.0     29.0     43.0      20.0     148.0   \n",
       "1             0        0  ...     29.0     33.0    100.0      46.0     191.0   \n",
       "2             0        0  ...     33.0     17.0     57.0      49.0     136.0   \n",
       "3             0        0  ...     33.0     10.0    100.0       7.0     243.0   \n",
       "4             0        0  ...     43.0      0.0    100.0     157.0     143.0   \n",
       "...         ...      ...  ...      ...      ...      ...       ...       ...   \n",
       "339277        0        0  ...     43.0     14.0     71.0       0.0     228.0   \n",
       "339278        0        0  ...     50.0     71.0    100.0      94.0     292.0   \n",
       "339279        1        0  ...    100.0     29.0    100.0     107.0     329.0   \n",
       "339280        0        0  ...     13.0     43.0     71.0     500.0     127.0   \n",
       "339281        0        0  ...     43.0      0.0     43.0     104.0     186.0   \n",
       "\n",
       "       maxvo2_  fc60_ strfreq_ pamiss1_ X_age80  \n",
       "0       2950.0  506.0      0.0      0.0    50.0  \n",
       "1       2765.0  474.0      0.0      0.0    55.0  \n",
       "2       2432.0  417.0      0.0      0.0    64.0  \n",
       "3       2370.0  406.0      0.0      0.0    66.0  \n",
       "4       2987.0  512.0      0.0      0.0    49.0  \n",
       "...        ...    ...      ...      ...     ...  \n",
       "339277  2395.0  411.0      0.0      0.0    65.0  \n",
       "339278  3415.0  585.0      0.0      0.0    47.0  \n",
       "339279  2654.0  455.0      0.0      0.0    58.0  \n",
       "339280  3431.0  588.0      0.0      0.0    37.0  \n",
       "339281  3690.0  633.0      0.0      0.0    30.0  \n",
       "\n",
       "[333985 rows x 120 columns]"
      ]
     },
     "execution_count": 20,
     "metadata": {},
     "output_type": "execute_result"
    }
   ],
   "source": [
    "df1"
   ]
  },
  {
   "cell_type": "code",
   "execution_count": 29,
   "id": "32a6699f",
   "metadata": {
    "scrolled": true
   },
   "outputs": [
    {
     "name": "stdout",
     "output_type": "stream",
     "text": [
      "p-value hlthpln1 7.3261814159059e-310\n",
      "p-value persdoc2 0.0\n",
      "p-value medcost 0.0\n",
      "p-value checkup1 0.0\n",
      "p-value bphigh4 0.0\n",
      "p-value bloodcho 2.3512491047301367e-161\n",
      "p-value cvdinfr4 0.0\n",
      "p-value cvdcrhd4 0.0\n",
      "p-value cvdstrk3 0.0\n",
      "p-value asthma3 0.0\n",
      "p-value chcscncr 3.464363603703956e-111\n",
      "p-value chcocncr 0.0\n",
      "p-value chccopd1 0.0\n",
      "p-value havarth3 0.0\n",
      "p-value addepev2 0.0\n",
      "p-value chckidny 0.0\n",
      "p-value diabete3 0.0\n",
      "p-value veteran3 2.1361371702551086e-108\n",
      "p-value marital 0.0\n",
      "p-value educa 0.0\n",
      "p-value employ1 0.0\n",
      "p-value internet 0.0\n",
      "p-value renthom1 0.0\n",
      "p-value sex 4.75011352308668e-53\n",
      "p-value qlactlm2 0.0\n",
      "p-value useequip 0.0\n",
      "p-value blind 0.0\n",
      "p-value decide 0.0\n",
      "p-value diffwalk 0.0\n",
      "p-value diffdres 0.0\n",
      "p-value diffalon 0.0\n",
      "p-value smoke100 0.0\n",
      "p-value usenow3 6.378762322063607e-11\n",
      "p-value exerany2 0.0\n",
      "p-value seatbelt 0.0\n",
      "p-value flushot6 6.839993150296172e-142\n",
      "p-value qstver 0.0\n",
      "p-value qstlang 0.0\n",
      "p-value X_imprace 0.0\n",
      "p-value X_dualuse 0.0\n",
      "p-value X_rfhlth 0.0\n",
      "p-value X_rfhype5 0.0\n",
      "p-value X_cholchk 8.197810252428417e-273\n",
      "p-value X_ltasth1 0.0\n",
      "p-value X_casthm1 0.0\n",
      "p-value X_asthms1 0.0\n",
      "p-value X_drdxar1 0.0\n",
      "p-value X_prace1 0.0\n",
      "p-value X_mrace1 0.0\n",
      "p-value X_hispanc 0.0\n",
      "p-value X_race 0.0\n",
      "p-value X_raceg21 0.0\n",
      "p-value X_racegr3 0.0\n",
      "p-value X_race_g1 0.0\n",
      "p-value X_ageg5yr 0.0\n",
      "p-value X_age65yr 0.0\n",
      "p-value X_age_g 0.0\n",
      "p-value X_bmi5cat 0.0\n",
      "p-value X_rfbmi5 0.0\n",
      "p-value X_chldcnt 0.0\n",
      "p-value X_educag 0.0\n",
      "p-value X_smoker3 0.0\n",
      "p-value X_rfsmok3 0.0\n",
      "p-value drnkany5 0.0\n",
      "p-value X_rfbing5 0.0\n",
      "p-value X_rfdrhv4 3.4858685267831103e-112\n",
      "p-value X_misfrtn 1.0\n",
      "p-value X_misvegn 1.0\n",
      "p-value X_frtresp 1.0\n",
      "p-value X_vegresp 1.0\n",
      "p-value X_frtlt1 0.0\n",
      "p-value X_veglt1 0.0\n",
      "p-value X_frt16 0.1293956569864394\n",
      "p-value X_veg23 0.04911454560412992\n",
      "p-value X_fruitex 0.1293956569864394\n",
      "p-value X_vegetex 0.04911454560412992\n",
      "p-value X_totinda 0.0\n",
      "p-value X_pastrng 0.0\n",
      "p-value X_lmtact1 0.0\n",
      "p-value X_lmtwrk1 0.0\n",
      "p-value X_lmtscl1 0.0\n",
      "p-value X_rfseat2 7.680048928662821e-265\n",
      "p-value X_rfseat3 5.938780353735016e-184\n"
     ]
    }
   ],
   "source": [
    "cat_sig=[]\n",
    "for i in range(1,df_cat.shape[1]):\n",
    "    crosstab=pd.crosstab(index=df_cat['genhlth'],columns=df_cat.iloc[:,i])\n",
    "    chiq=chi2_contingency(crosstab)\n",
    "    cat_sig.append(chiq[1])\n",
    "    print('p-value',df_cat.columns[i],chiq[1])"
   ]
  },
  {
   "cell_type": "code",
   "execution_count": 30,
   "id": "4e0b6282",
   "metadata": {
    "scrolled": true
   },
   "outputs": [
    {
     "name": "stdout",
     "output_type": "stream",
     "text": [
      "p-value for ANOVA is:  physhlth 0.0\n",
      "p-value for ANOVA is:  menthlth 0.0\n",
      "p-value for ANOVA is:  sleptim1 0.0\n",
      "p-value for ANOVA is:  children 0.0\n",
      "p-value for ANOVA is:  weight2 1.6381925491151653e-94\n",
      "p-value for ANOVA is:  height3 7.175533431499361e-251\n",
      "p-value for ANOVA is:  alcday5 0.0\n",
      "p-value for ANOVA is:  fruitju1 2.628697080911036e-144\n",
      "p-value for ANOVA is:  fruit1 7.457622556608531e-236\n",
      "p-value for ANOVA is:  fvbeans 1.4483490760348645e-200\n",
      "p-value for ANOVA is:  fvgreen 1.7286649013914995e-140\n",
      "p-value for ANOVA is:  fvorang 9.752725902795133e-170\n",
      "p-value for ANOVA is:  vegetab1 4.718642612157395e-195\n",
      "p-value for ANOVA is:  strength 0.0\n",
      "p-value for ANOVA is:  X_ststr 4.803445589620612e-28\n",
      "p-value for ANOVA is:  X_strwt 2.278160535554775e-66\n",
      "p-value for ANOVA is:  X_rawrake 4.697061146335783e-71\n",
      "p-value for ANOVA is:  X_wt2rake 3.130420434784829e-75\n",
      "p-value for ANOVA is:  X_llcpwt2 1.1515691111842374e-45\n",
      "p-value for ANOVA is:  X_llcpwt 1.1267807168875824e-31\n",
      "p-value for ANOVA is:  htin4 0.0\n",
      "p-value for ANOVA is:  htm4 0.0\n",
      "p-value for ANOVA is:  wtkg3 0.0\n",
      "p-value for ANOVA is:  X_bmi5 0.0\n",
      "p-value for ANOVA is:  drocdy3_ 0.0\n",
      "p-value for ANOVA is:  X_drnkdy4 9.52165274053033e-243\n",
      "p-value for ANOVA is:  X_drnkmo4 6.611423221444715e-243\n",
      "p-value for ANOVA is:  ftjuda1_ 7.201455577536133e-26\n",
      "p-value for ANOVA is:  frutda1_ 0.0\n",
      "p-value for ANOVA is:  beanday_ 8.145146968040317e-65\n",
      "p-value for ANOVA is:  grenday_ 0.0\n",
      "p-value for ANOVA is:  orngday_ 0.0\n",
      "p-value for ANOVA is:  vegeda1_ 0.0\n",
      "p-value for ANOVA is:  X_frutsum 0.0\n",
      "p-value for ANOVA is:  X_vegesum 0.0\n",
      "p-value for ANOVA is:  maxvo2_ 0.0\n",
      "p-value for ANOVA is:  fc60_ 0.0\n",
      "p-value for ANOVA is:  strfreq_ 0.0\n",
      "p-value for ANOVA is:  pamiss1_ 3.6819026820230216e-54\n",
      "p-value for ANOVA is:  X_age80 0.0\n"
     ]
    }
   ],
   "source": [
    "num_sig=[]\n",
    "df_anova=df_num.join(df_cat['genhlth'])\n",
    "for i in range(df_anova.shape[1]-1):\n",
    "    catgroup=df_anova.groupby('genhlth')[df_anova.columns[i]].apply(list)\n",
    "    anova=f_oneway(*catgroup)\n",
    "    num_sig.append(anova[1])\n",
    "    print('p-value for ANOVA is: ', df_anova.columns[i],anova[1])"
   ]
  },
  {
   "cell_type": "code",
   "execution_count": 38,
   "id": "2fd69aa1",
   "metadata": {
    "scrolled": true
   },
   "outputs": [
    {
     "data": {
      "text/plain": [
       "[False,\n",
       " False,\n",
       " False,\n",
       " False,\n",
       " False,\n",
       " False,\n",
       " False,\n",
       " False,\n",
       " False,\n",
       " False,\n",
       " False,\n",
       " False,\n",
       " False,\n",
       " False,\n",
       " False,\n",
       " False,\n",
       " False,\n",
       " False,\n",
       " False,\n",
       " False,\n",
       " False,\n",
       " False,\n",
       " False,\n",
       " False,\n",
       " False,\n",
       " False,\n",
       " False,\n",
       " False,\n",
       " False,\n",
       " False,\n",
       " False,\n",
       " False,\n",
       " False,\n",
       " False,\n",
       " False,\n",
       " False,\n",
       " False,\n",
       " False,\n",
       " False,\n",
       " False,\n",
       " False,\n",
       " False,\n",
       " False,\n",
       " False,\n",
       " False,\n",
       " False,\n",
       " False,\n",
       " False,\n",
       " False,\n",
       " False,\n",
       " False,\n",
       " False,\n",
       " False,\n",
       " False,\n",
       " False,\n",
       " False,\n",
       " False,\n",
       " False,\n",
       " False,\n",
       " False,\n",
       " False,\n",
       " False,\n",
       " False,\n",
       " False,\n",
       " False,\n",
       " False,\n",
       " True,\n",
       " True,\n",
       " True,\n",
       " True,\n",
       " False,\n",
       " False,\n",
       " True,\n",
       " False,\n",
       " True,\n",
       " False,\n",
       " False,\n",
       " False,\n",
       " False,\n",
       " False,\n",
       " False,\n",
       " False,\n",
       " False]"
      ]
     },
     "execution_count": 38,
     "metadata": {},
     "output_type": "execute_result"
    }
   ],
   "source": [
    "[i>0.05 for i in cat_sig]"
   ]
  },
  {
   "cell_type": "code",
   "execution_count": 60,
   "id": "feb1d9db",
   "metadata": {
    "scrolled": true
   },
   "outputs": [],
   "source": [
    "features = pd.read_csv('/Users/aliceqichaowu/Desktop/38615/FinalProject/features.txt', sep=' ',header=None)\n",
    "feat_lst=features.iloc[:,0].values.tolist()"
   ]
  },
  {
   "cell_type": "code",
   "execution_count": 71,
   "id": "94025655",
   "metadata": {},
   "outputs": [
    {
     "data": {
      "text/html": [
       "<div>\n",
       "<style scoped>\n",
       "    .dataframe tbody tr th:only-of-type {\n",
       "        vertical-align: middle;\n",
       "    }\n",
       "\n",
       "    .dataframe tbody tr th {\n",
       "        vertical-align: top;\n",
       "    }\n",
       "\n",
       "    .dataframe thead th {\n",
       "        text-align: right;\n",
       "    }\n",
       "</style>\n",
       "<table border=\"1\" class=\"dataframe\">\n",
       "  <thead>\n",
       "    <tr style=\"text-align: right;\">\n",
       "      <th></th>\n",
       "      <th>X_lmtwrk1</th>\n",
       "      <th>X_prace1</th>\n",
       "      <th>diffalon</th>\n",
       "      <th>employ1</th>\n",
       "      <th>diffwalk</th>\n",
       "      <th>alcday5</th>\n",
       "      <th>exerany2</th>\n",
       "      <th>chcocncr</th>\n",
       "      <th>X_frtlt1</th>\n",
       "      <th>useequip</th>\n",
       "      <th>...</th>\n",
       "      <th>X_ageg5yr</th>\n",
       "      <th>X_age80</th>\n",
       "      <th>renthom1</th>\n",
       "      <th>X_race_g1</th>\n",
       "      <th>X_racegr3</th>\n",
       "      <th>X_ststr</th>\n",
       "      <th>X_rfdrhv4</th>\n",
       "      <th>pamiss1_</th>\n",
       "      <th>marital</th>\n",
       "      <th>chcscncr</th>\n",
       "    </tr>\n",
       "  </thead>\n",
       "  <tbody>\n",
       "    <tr>\n",
       "      <th>0</th>\n",
       "      <td>0</td>\n",
       "      <td>7</td>\n",
       "      <td>0</td>\n",
       "      <td>2</td>\n",
       "      <td>0</td>\n",
       "      <td>0.0</td>\n",
       "      <td>1</td>\n",
       "      <td>0</td>\n",
       "      <td>0</td>\n",
       "      <td>0</td>\n",
       "      <td>...</td>\n",
       "      <td>6</td>\n",
       "      <td>50.0</td>\n",
       "      <td>1</td>\n",
       "      <td>4</td>\n",
       "      <td>4</td>\n",
       "      <td>11081.0</td>\n",
       "      <td>0</td>\n",
       "      <td>0.0</td>\n",
       "      <td>2</td>\n",
       "      <td>0</td>\n",
       "    </tr>\n",
       "    <tr>\n",
       "      <th>1</th>\n",
       "      <td>1</td>\n",
       "      <td>7</td>\n",
       "      <td>0</td>\n",
       "      <td>2</td>\n",
       "      <td>1</td>\n",
       "      <td>220.0</td>\n",
       "      <td>0</td>\n",
       "      <td>0</td>\n",
       "      <td>0</td>\n",
       "      <td>0</td>\n",
       "      <td>...</td>\n",
       "      <td>7</td>\n",
       "      <td>55.0</td>\n",
       "      <td>1</td>\n",
       "      <td>4</td>\n",
       "      <td>4</td>\n",
       "      <td>11081.0</td>\n",
       "      <td>1</td>\n",
       "      <td>0.0</td>\n",
       "      <td>2</td>\n",
       "      <td>0</td>\n",
       "    </tr>\n",
       "    <tr>\n",
       "      <th>2</th>\n",
       "      <td>0</td>\n",
       "      <td>7</td>\n",
       "      <td>0</td>\n",
       "      <td>5</td>\n",
       "      <td>0</td>\n",
       "      <td>208.0</td>\n",
       "      <td>1</td>\n",
       "      <td>0</td>\n",
       "      <td>0</td>\n",
       "      <td>0</td>\n",
       "      <td>...</td>\n",
       "      <td>8</td>\n",
       "      <td>64.0</td>\n",
       "      <td>1</td>\n",
       "      <td>4</td>\n",
       "      <td>4</td>\n",
       "      <td>11081.0</td>\n",
       "      <td>0</td>\n",
       "      <td>0.0</td>\n",
       "      <td>2</td>\n",
       "      <td>0</td>\n",
       "    </tr>\n",
       "    <tr>\n",
       "      <th>3</th>\n",
       "      <td>0</td>\n",
       "      <td>7</td>\n",
       "      <td>0</td>\n",
       "      <td>5</td>\n",
       "      <td>0</td>\n",
       "      <td>210.0</td>\n",
       "      <td>0</td>\n",
       "      <td>1</td>\n",
       "      <td>0</td>\n",
       "      <td>0</td>\n",
       "      <td>...</td>\n",
       "      <td>9</td>\n",
       "      <td>66.0</td>\n",
       "      <td>1</td>\n",
       "      <td>4</td>\n",
       "      <td>4</td>\n",
       "      <td>11082.0</td>\n",
       "      <td>0</td>\n",
       "      <td>0.0</td>\n",
       "      <td>2</td>\n",
       "      <td>0</td>\n",
       "    </tr>\n",
       "    <tr>\n",
       "      <th>4</th>\n",
       "      <td>0</td>\n",
       "      <td>2</td>\n",
       "      <td>0</td>\n",
       "      <td>2</td>\n",
       "      <td>0</td>\n",
       "      <td>0.0</td>\n",
       "      <td>1</td>\n",
       "      <td>0</td>\n",
       "      <td>1</td>\n",
       "      <td>0</td>\n",
       "      <td>...</td>\n",
       "      <td>5</td>\n",
       "      <td>49.0</td>\n",
       "      <td>1</td>\n",
       "      <td>0</td>\n",
       "      <td>0</td>\n",
       "      <td>11081.0</td>\n",
       "      <td>0</td>\n",
       "      <td>0.0</td>\n",
       "      <td>1</td>\n",
       "      <td>0</td>\n",
       "    </tr>\n",
       "    <tr>\n",
       "      <th>...</th>\n",
       "      <td>...</td>\n",
       "      <td>...</td>\n",
       "      <td>...</td>\n",
       "      <td>...</td>\n",
       "      <td>...</td>\n",
       "      <td>...</td>\n",
       "      <td>...</td>\n",
       "      <td>...</td>\n",
       "      <td>...</td>\n",
       "      <td>...</td>\n",
       "      <td>...</td>\n",
       "      <td>...</td>\n",
       "      <td>...</td>\n",
       "      <td>...</td>\n",
       "      <td>...</td>\n",
       "      <td>...</td>\n",
       "      <td>...</td>\n",
       "      <td>...</td>\n",
       "      <td>...</td>\n",
       "      <td>...</td>\n",
       "      <td>...</td>\n",
       "    </tr>\n",
       "    <tr>\n",
       "      <th>339277</th>\n",
       "      <td>2</td>\n",
       "      <td>7</td>\n",
       "      <td>0</td>\n",
       "      <td>0</td>\n",
       "      <td>0</td>\n",
       "      <td>0.0</td>\n",
       "      <td>0</td>\n",
       "      <td>0</td>\n",
       "      <td>0</td>\n",
       "      <td>0</td>\n",
       "      <td>...</td>\n",
       "      <td>9</td>\n",
       "      <td>65.0</td>\n",
       "      <td>1</td>\n",
       "      <td>1</td>\n",
       "      <td>1</td>\n",
       "      <td>722019.0</td>\n",
       "      <td>0</td>\n",
       "      <td>0.0</td>\n",
       "      <td>2</td>\n",
       "      <td>0</td>\n",
       "    </tr>\n",
       "    <tr>\n",
       "      <th>339278</th>\n",
       "      <td>0</td>\n",
       "      <td>7</td>\n",
       "      <td>0</td>\n",
       "      <td>2</td>\n",
       "      <td>1</td>\n",
       "      <td>204.0</td>\n",
       "      <td>1</td>\n",
       "      <td>0</td>\n",
       "      <td>0</td>\n",
       "      <td>1</td>\n",
       "      <td>...</td>\n",
       "      <td>5</td>\n",
       "      <td>47.0</td>\n",
       "      <td>1</td>\n",
       "      <td>1</td>\n",
       "      <td>1</td>\n",
       "      <td>722019.0</td>\n",
       "      <td>0</td>\n",
       "      <td>0.0</td>\n",
       "      <td>2</td>\n",
       "      <td>0</td>\n",
       "    </tr>\n",
       "    <tr>\n",
       "      <th>339279</th>\n",
       "      <td>2</td>\n",
       "      <td>7</td>\n",
       "      <td>1</td>\n",
       "      <td>0</td>\n",
       "      <td>1</td>\n",
       "      <td>0.0</td>\n",
       "      <td>0</td>\n",
       "      <td>0</td>\n",
       "      <td>1</td>\n",
       "      <td>0</td>\n",
       "      <td>...</td>\n",
       "      <td>7</td>\n",
       "      <td>58.0</td>\n",
       "      <td>1</td>\n",
       "      <td>1</td>\n",
       "      <td>1</td>\n",
       "      <td>722019.0</td>\n",
       "      <td>0</td>\n",
       "      <td>0.0</td>\n",
       "      <td>1</td>\n",
       "      <td>0</td>\n",
       "    </tr>\n",
       "    <tr>\n",
       "      <th>339280</th>\n",
       "      <td>0</td>\n",
       "      <td>6</td>\n",
       "      <td>0</td>\n",
       "      <td>2</td>\n",
       "      <td>0</td>\n",
       "      <td>0.0</td>\n",
       "      <td>1</td>\n",
       "      <td>0</td>\n",
       "      <td>1</td>\n",
       "      <td>0</td>\n",
       "      <td>...</td>\n",
       "      <td>3</td>\n",
       "      <td>37.0</td>\n",
       "      <td>1</td>\n",
       "      <td>1</td>\n",
       "      <td>1</td>\n",
       "      <td>722019.0</td>\n",
       "      <td>0</td>\n",
       "      <td>0.0</td>\n",
       "      <td>0</td>\n",
       "      <td>0</td>\n",
       "    </tr>\n",
       "    <tr>\n",
       "      <th>339281</th>\n",
       "      <td>0</td>\n",
       "      <td>7</td>\n",
       "      <td>0</td>\n",
       "      <td>0</td>\n",
       "      <td>0</td>\n",
       "      <td>0.0</td>\n",
       "      <td>1</td>\n",
       "      <td>0</td>\n",
       "      <td>1</td>\n",
       "      <td>0</td>\n",
       "      <td>...</td>\n",
       "      <td>2</td>\n",
       "      <td>30.0</td>\n",
       "      <td>0</td>\n",
       "      <td>1</td>\n",
       "      <td>1</td>\n",
       "      <td>722019.0</td>\n",
       "      <td>0</td>\n",
       "      <td>0.0</td>\n",
       "      <td>4</td>\n",
       "      <td>0</td>\n",
       "    </tr>\n",
       "  </tbody>\n",
       "</table>\n",
       "<p>333985 rows × 81 columns</p>\n",
       "</div>"
      ],
      "text/plain": [
       "        X_lmtwrk1 X_prace1 diffalon employ1 diffwalk  alcday5 exerany2  \\\n",
       "0               0        7        0       2        0      0.0        1   \n",
       "1               1        7        0       2        1    220.0        0   \n",
       "2               0        7        0       5        0    208.0        1   \n",
       "3               0        7        0       5        0    210.0        0   \n",
       "4               0        2        0       2        0      0.0        1   \n",
       "...           ...      ...      ...     ...      ...      ...      ...   \n",
       "339277          2        7        0       0        0      0.0        0   \n",
       "339278          0        7        0       2        1    204.0        1   \n",
       "339279          2        7        1       0        1      0.0        0   \n",
       "339280          0        6        0       2        0      0.0        1   \n",
       "339281          0        7        0       0        0      0.0        1   \n",
       "\n",
       "       chcocncr X_frtlt1 useequip  ...  X_ageg5yr X_age80 renthom1 X_race_g1  \\\n",
       "0             0        0        0  ...          6    50.0        1         4   \n",
       "1             0        0        0  ...          7    55.0        1         4   \n",
       "2             0        0        0  ...          8    64.0        1         4   \n",
       "3             1        0        0  ...          9    66.0        1         4   \n",
       "4             0        1        0  ...          5    49.0        1         0   \n",
       "...         ...      ...      ...  ...        ...     ...      ...       ...   \n",
       "339277        0        0        0  ...          9    65.0        1         1   \n",
       "339278        0        0        1  ...          5    47.0        1         1   \n",
       "339279        0        1        0  ...          7    58.0        1         1   \n",
       "339280        0        1        0  ...          3    37.0        1         1   \n",
       "339281        0        1        0  ...          2    30.0        0         1   \n",
       "\n",
       "       X_racegr3   X_ststr X_rfdrhv4 pamiss1_ marital  chcscncr  \n",
       "0              4   11081.0         0      0.0       2         0  \n",
       "1              4   11081.0         1      0.0       2         0  \n",
       "2              4   11081.0         0      0.0       2         0  \n",
       "3              4   11082.0         0      0.0       2         0  \n",
       "4              0   11081.0         0      0.0       1         0  \n",
       "...          ...       ...       ...      ...     ...       ...  \n",
       "339277         1  722019.0         0      0.0       2         0  \n",
       "339278         1  722019.0         0      0.0       2         0  \n",
       "339279         1  722019.0         0      0.0       1         0  \n",
       "339280         1  722019.0         0      0.0       0         0  \n",
       "339281         1  722019.0         0      0.0       4         0  \n",
       "\n",
       "[333985 rows x 81 columns]"
      ]
     },
     "execution_count": 71,
     "metadata": {},
     "output_type": "execute_result"
    }
   ],
   "source": [
    "# y = df1['genhlth']\n",
    "# X = df1.iloc[:,1:]\n",
    "y = df1['genhlth']\n",
    "X = df1[feat_lst]\n",
    "X"
   ]
  },
  {
   "cell_type": "code",
   "execution_count": 62,
   "id": "6657068d",
   "metadata": {
    "scrolled": true
   },
   "outputs": [
    {
     "data": {
      "text/plain": [
       "2    116994\n",
       "3     99299\n",
       "1     62398\n",
       "4     39994\n",
       "5     15300\n",
       "Name: genhlth, dtype: int64"
      ]
     },
     "execution_count": 62,
     "metadata": {},
     "output_type": "execute_result"
    }
   ],
   "source": [
    "y.value_counts()"
   ]
  },
  {
   "cell_type": "code",
   "execution_count": 23,
   "id": "28420b10",
   "metadata": {
    "scrolled": true
   },
   "outputs": [
    {
     "ename": "NameError",
     "evalue": "name 'X' is not defined",
     "output_type": "error",
     "traceback": [
      "\u001b[0;31m---------------------------------------------------------------------------\u001b[0m",
      "\u001b[0;31mNameError\u001b[0m                                 Traceback (most recent call last)",
      "\u001b[0;32m<ipython-input-23-68dd5c23903a>\u001b[0m in \u001b[0;36m<module>\u001b[0;34m\u001b[0m\n\u001b[0;32m----> 1\u001b[0;31m \u001b[0mX_train\u001b[0m\u001b[0;34m,\u001b[0m \u001b[0mX_test\u001b[0m\u001b[0;34m,\u001b[0m \u001b[0my_train\u001b[0m\u001b[0;34m,\u001b[0m \u001b[0my_test\u001b[0m \u001b[0;34m=\u001b[0m \u001b[0mtrain_test_split\u001b[0m\u001b[0;34m(\u001b[0m\u001b[0mX\u001b[0m\u001b[0;34m,\u001b[0m \u001b[0my\u001b[0m\u001b[0;34m,\u001b[0m \u001b[0mtest_size\u001b[0m\u001b[0;34m=\u001b[0m\u001b[0;36m0.20\u001b[0m\u001b[0;34m,\u001b[0m \u001b[0mrandom_state\u001b[0m\u001b[0;34m=\u001b[0m\u001b[0;36m0\u001b[0m\u001b[0;34m)\u001b[0m\u001b[0;34m\u001b[0m\u001b[0;34m\u001b[0m\u001b[0m\n\u001b[0m",
      "\u001b[0;31mNameError\u001b[0m: name 'X' is not defined"
     ]
    }
   ],
   "source": [
    "X_train, X_test, y_train, y_test = train_test_split(X, y, test_size=0.20, random_state=0)\n"
   ]
  },
  {
   "cell_type": "code",
   "execution_count": 82,
   "id": "251fb606",
   "metadata": {},
   "outputs": [],
   "source": [
    "# Normalization\n",
    "scaler = StandardScaler()  # normalization: zero mean, unit variance\n",
    "scaler.fit(X_train)  # scaling factor determined from the training set\n",
    "\n",
    "X_train = scaler.transform(X_train)\n",
    "scaler.fit(X_test) \n",
    "X_test = scaler.transform(X_test)\n"
   ]
  },
  {
   "cell_type": "code",
   "execution_count": 24,
   "id": "ba3e89d4",
   "metadata": {},
   "outputs": [],
   "source": [
    "## feature selection\n",
    "def forward_regression(X, y,\n",
    "                       threshold_in,\n",
    "                       verbose=False):\n",
    "    initial_list = []\n",
    "    included = list(initial_list)\n",
    "    while True:\n",
    "        changed=False\n",
    "        excluded = list(set(X.columns)-set(included))\n",
    "        new_pval = pd.Series(index=excluded)\n",
    "        for new_column in excluded:\n",
    "            model = sm.OLS(y, sm.add_constant(pd.DataFrame(X[included+[new_column]]))).fit()\n",
    "            new_pval[new_column] = model.pvalues[new_column]\n",
    "        best_pval = new_pval.min()\n",
    "        if best_pval < threshold_in:\n",
    "            best_feature = new_pval.idxmin()\n",
    "            included.append(best_feature)\n",
    "            changed=True\n",
    "            if verbose:\n",
    "                print('Add  {:30} with p-value {:.6}'.format(best_feature, best_pval))\n",
    "\n",
    "        if not changed:\n",
    "            break\n",
    "\n",
    "    return included\n"
   ]
  },
  {
   "cell_type": "code",
   "execution_count": 65,
   "id": "d12fa72b",
   "metadata": {
    "scrolled": true
   },
   "outputs": [
    {
     "name": "stderr",
     "output_type": "stream",
     "text": [
      "<ipython-input-63-039d06be3595>:10: DeprecationWarning: The default dtype for empty Series will be 'object' instead of 'float64' in a future version. Specify a dtype explicitly to silence this warning.\n",
      "  new_pval = pd.Series(index=excluded)\n"
     ]
    },
    {
     "name": "stdout",
     "output_type": "stream",
     "text": [
      "Add  X_lmtwrk1                      with p-value 0.0\n"
     ]
    },
    {
     "name": "stderr",
     "output_type": "stream",
     "text": [
      "<ipython-input-63-039d06be3595>:10: DeprecationWarning: The default dtype for empty Series will be 'object' instead of 'float64' in a future version. Specify a dtype explicitly to silence this warning.\n",
      "  new_pval = pd.Series(index=excluded)\n"
     ]
    },
    {
     "name": "stdout",
     "output_type": "stream",
     "text": [
      "Add  X_prace1                       with p-value 0.0\n"
     ]
    },
    {
     "name": "stderr",
     "output_type": "stream",
     "text": [
      "<ipython-input-63-039d06be3595>:10: DeprecationWarning: The default dtype for empty Series will be 'object' instead of 'float64' in a future version. Specify a dtype explicitly to silence this warning.\n",
      "  new_pval = pd.Series(index=excluded)\n"
     ]
    },
    {
     "name": "stdout",
     "output_type": "stream",
     "text": [
      "Add  diffalon                       with p-value 0.0\n"
     ]
    },
    {
     "name": "stderr",
     "output_type": "stream",
     "text": [
      "<ipython-input-63-039d06be3595>:10: DeprecationWarning: The default dtype for empty Series will be 'object' instead of 'float64' in a future version. Specify a dtype explicitly to silence this warning.\n",
      "  new_pval = pd.Series(index=excluded)\n"
     ]
    },
    {
     "name": "stdout",
     "output_type": "stream",
     "text": [
      "Add  employ1                        with p-value 0.0\n"
     ]
    },
    {
     "name": "stderr",
     "output_type": "stream",
     "text": [
      "<ipython-input-63-039d06be3595>:10: DeprecationWarning: The default dtype for empty Series will be 'object' instead of 'float64' in a future version. Specify a dtype explicitly to silence this warning.\n",
      "  new_pval = pd.Series(index=excluded)\n"
     ]
    },
    {
     "name": "stdout",
     "output_type": "stream",
     "text": [
      "Add  diffwalk                       with p-value 0.0\n"
     ]
    },
    {
     "name": "stderr",
     "output_type": "stream",
     "text": [
      "<ipython-input-63-039d06be3595>:10: DeprecationWarning: The default dtype for empty Series will be 'object' instead of 'float64' in a future version. Specify a dtype explicitly to silence this warning.\n",
      "  new_pval = pd.Series(index=excluded)\n"
     ]
    },
    {
     "name": "stdout",
     "output_type": "stream",
     "text": [
      "Add  alcday5                        with p-value 0.0\n"
     ]
    },
    {
     "name": "stderr",
     "output_type": "stream",
     "text": [
      "<ipython-input-63-039d06be3595>:10: DeprecationWarning: The default dtype for empty Series will be 'object' instead of 'float64' in a future version. Specify a dtype explicitly to silence this warning.\n",
      "  new_pval = pd.Series(index=excluded)\n"
     ]
    },
    {
     "name": "stdout",
     "output_type": "stream",
     "text": [
      "Add  exerany2                       with p-value 0.0\n"
     ]
    },
    {
     "name": "stderr",
     "output_type": "stream",
     "text": [
      "<ipython-input-63-039d06be3595>:10: DeprecationWarning: The default dtype for empty Series will be 'object' instead of 'float64' in a future version. Specify a dtype explicitly to silence this warning.\n",
      "  new_pval = pd.Series(index=excluded)\n"
     ]
    },
    {
     "name": "stdout",
     "output_type": "stream",
     "text": [
      "Add  chcocncr                       with p-value 0.0\n"
     ]
    },
    {
     "name": "stderr",
     "output_type": "stream",
     "text": [
      "<ipython-input-63-039d06be3595>:10: DeprecationWarning: The default dtype for empty Series will be 'object' instead of 'float64' in a future version. Specify a dtype explicitly to silence this warning.\n",
      "  new_pval = pd.Series(index=excluded)\n"
     ]
    },
    {
     "name": "stdout",
     "output_type": "stream",
     "text": [
      "Add  X_frtlt1                       with p-value 0.0\n"
     ]
    },
    {
     "name": "stderr",
     "output_type": "stream",
     "text": [
      "<ipython-input-63-039d06be3595>:10: DeprecationWarning: The default dtype for empty Series will be 'object' instead of 'float64' in a future version. Specify a dtype explicitly to silence this warning.\n",
      "  new_pval = pd.Series(index=excluded)\n"
     ]
    },
    {
     "name": "stdout",
     "output_type": "stream",
     "text": [
      "Add  useequip                       with p-value 0.0\n"
     ]
    },
    {
     "name": "stderr",
     "output_type": "stream",
     "text": [
      "<ipython-input-63-039d06be3595>:10: DeprecationWarning: The default dtype for empty Series will be 'object' instead of 'float64' in a future version. Specify a dtype explicitly to silence this warning.\n",
      "  new_pval = pd.Series(index=excluded)\n"
     ]
    },
    {
     "name": "stdout",
     "output_type": "stream",
     "text": [
      "Add  X_vegesum                      with p-value 0.0\n"
     ]
    },
    {
     "name": "stderr",
     "output_type": "stream",
     "text": [
      "<ipython-input-63-039d06be3595>:10: DeprecationWarning: The default dtype for empty Series will be 'object' instead of 'float64' in a future version. Specify a dtype explicitly to silence this warning.\n",
      "  new_pval = pd.Series(index=excluded)\n"
     ]
    },
    {
     "name": "stdout",
     "output_type": "stream",
     "text": [
      "Add  X_drdxar1                      with p-value 0.0\n"
     ]
    },
    {
     "name": "stderr",
     "output_type": "stream",
     "text": [
      "<ipython-input-63-039d06be3595>:10: DeprecationWarning: The default dtype for empty Series will be 'object' instead of 'float64' in a future version. Specify a dtype explicitly to silence this warning.\n",
      "  new_pval = pd.Series(index=excluded)\n"
     ]
    },
    {
     "name": "stdout",
     "output_type": "stream",
     "text": [
      "Add  X_fruitex                      with p-value 0.0\n"
     ]
    },
    {
     "name": "stderr",
     "output_type": "stream",
     "text": [
      "<ipython-input-63-039d06be3595>:10: DeprecationWarning: The default dtype for empty Series will be 'object' instead of 'float64' in a future version. Specify a dtype explicitly to silence this warning.\n",
      "  new_pval = pd.Series(index=excluded)\n"
     ]
    },
    {
     "name": "stdout",
     "output_type": "stream",
     "text": [
      "Add  cvdinfr4                       with p-value 0.0\n"
     ]
    },
    {
     "name": "stderr",
     "output_type": "stream",
     "text": [
      "<ipython-input-63-039d06be3595>:10: DeprecationWarning: The default dtype for empty Series will be 'object' instead of 'float64' in a future version. Specify a dtype explicitly to silence this warning.\n",
      "  new_pval = pd.Series(index=excluded)\n"
     ]
    },
    {
     "name": "stdout",
     "output_type": "stream",
     "text": [
      "Add  bphigh4                        with p-value 0.0\n"
     ]
    },
    {
     "name": "stderr",
     "output_type": "stream",
     "text": [
      "<ipython-input-63-039d06be3595>:10: DeprecationWarning: The default dtype for empty Series will be 'object' instead of 'float64' in a future version. Specify a dtype explicitly to silence this warning.\n",
      "  new_pval = pd.Series(index=excluded)\n"
     ]
    },
    {
     "name": "stdout",
     "output_type": "stream",
     "text": [
      "Add  X_rfbmi5                       with p-value 0.0\n"
     ]
    },
    {
     "name": "stderr",
     "output_type": "stream",
     "text": [
      "<ipython-input-63-039d06be3595>:10: DeprecationWarning: The default dtype for empty Series will be 'object' instead of 'float64' in a future version. Specify a dtype explicitly to silence this warning.\n",
      "  new_pval = pd.Series(index=excluded)\n"
     ]
    },
    {
     "name": "stdout",
     "output_type": "stream",
     "text": [
      "Add  X_rfhlth                       with p-value 0.0\n"
     ]
    },
    {
     "name": "stderr",
     "output_type": "stream",
     "text": [
      "<ipython-input-63-039d06be3595>:10: DeprecationWarning: The default dtype for empty Series will be 'object' instead of 'float64' in a future version. Specify a dtype explicitly to silence this warning.\n",
      "  new_pval = pd.Series(index=excluded)\n"
     ]
    },
    {
     "name": "stdout",
     "output_type": "stream",
     "text": [
      "Add  decide                         with p-value 0.0\n"
     ]
    },
    {
     "name": "stderr",
     "output_type": "stream",
     "text": [
      "<ipython-input-63-039d06be3595>:10: DeprecationWarning: The default dtype for empty Series will be 'object' instead of 'float64' in a future version. Specify a dtype explicitly to silence this warning.\n",
      "  new_pval = pd.Series(index=excluded)\n"
     ]
    },
    {
     "name": "stdout",
     "output_type": "stream",
     "text": [
      "Add  X_rfsmok3                      with p-value 0.0\n"
     ]
    },
    {
     "name": "stderr",
     "output_type": "stream",
     "text": [
      "<ipython-input-63-039d06be3595>:10: DeprecationWarning: The default dtype for empty Series will be 'object' instead of 'float64' in a future version. Specify a dtype explicitly to silence this warning.\n",
      "  new_pval = pd.Series(index=excluded)\n"
     ]
    },
    {
     "name": "stdout",
     "output_type": "stream",
     "text": [
      "Add  X_bmi5                         with p-value 0.0\n"
     ]
    },
    {
     "name": "stderr",
     "output_type": "stream",
     "text": [
      "<ipython-input-63-039d06be3595>:10: DeprecationWarning: The default dtype for empty Series will be 'object' instead of 'float64' in a future version. Specify a dtype explicitly to silence this warning.\n",
      "  new_pval = pd.Series(index=excluded)\n"
     ]
    },
    {
     "name": "stdout",
     "output_type": "stream",
     "text": [
      "Add  qlactlm2                       with p-value 0.0\n"
     ]
    },
    {
     "name": "stderr",
     "output_type": "stream",
     "text": [
      "<ipython-input-63-039d06be3595>:10: DeprecationWarning: The default dtype for empty Series will be 'object' instead of 'float64' in a future version. Specify a dtype explicitly to silence this warning.\n",
      "  new_pval = pd.Series(index=excluded)\n"
     ]
    },
    {
     "name": "stdout",
     "output_type": "stream",
     "text": [
      "Add  X_totinda                      with p-value 0.0\n"
     ]
    },
    {
     "name": "stderr",
     "output_type": "stream",
     "text": [
      "<ipython-input-63-039d06be3595>:10: DeprecationWarning: The default dtype for empty Series will be 'object' instead of 'float64' in a future version. Specify a dtype explicitly to silence this warning.\n",
      "  new_pval = pd.Series(index=excluded)\n"
     ]
    },
    {
     "name": "stdout",
     "output_type": "stream",
     "text": [
      "Add  X_pastrng                      with p-value 0.0\n"
     ]
    },
    {
     "name": "stderr",
     "output_type": "stream",
     "text": [
      "<ipython-input-63-039d06be3595>:10: DeprecationWarning: The default dtype for empty Series will be 'object' instead of 'float64' in a future version. Specify a dtype explicitly to silence this warning.\n",
      "  new_pval = pd.Series(index=excluded)\n"
     ]
    },
    {
     "name": "stdout",
     "output_type": "stream",
     "text": [
      "Add  diabete3                       with p-value 0.0\n"
     ]
    },
    {
     "name": "stderr",
     "output_type": "stream",
     "text": [
      "<ipython-input-63-039d06be3595>:10: DeprecationWarning: The default dtype for empty Series will be 'object' instead of 'float64' in a future version. Specify a dtype explicitly to silence this warning.\n",
      "  new_pval = pd.Series(index=excluded)\n"
     ]
    },
    {
     "name": "stdout",
     "output_type": "stream",
     "text": [
      "Add  havarth3                       with p-value 0.0\n"
     ]
    },
    {
     "name": "stderr",
     "output_type": "stream",
     "text": [
      "<ipython-input-63-039d06be3595>:10: DeprecationWarning: The default dtype for empty Series will be 'object' instead of 'float64' in a future version. Specify a dtype explicitly to silence this warning.\n",
      "  new_pval = pd.Series(index=excluded)\n"
     ]
    },
    {
     "name": "stdout",
     "output_type": "stream",
     "text": [
      "Add  physhlth                       with p-value 0.0\n"
     ]
    },
    {
     "name": "stderr",
     "output_type": "stream",
     "text": [
      "<ipython-input-63-039d06be3595>:10: DeprecationWarning: The default dtype for empty Series will be 'object' instead of 'float64' in a future version. Specify a dtype explicitly to silence this warning.\n",
      "  new_pval = pd.Series(index=excluded)\n"
     ]
    },
    {
     "name": "stdout",
     "output_type": "stream",
     "text": [
      "Add  internet                       with p-value 0.0\n"
     ]
    },
    {
     "name": "stderr",
     "output_type": "stream",
     "text": [
      "<ipython-input-63-039d06be3595>:10: DeprecationWarning: The default dtype for empty Series will be 'object' instead of 'float64' in a future version. Specify a dtype explicitly to silence this warning.\n",
      "  new_pval = pd.Series(index=excluded)\n"
     ]
    },
    {
     "name": "stdout",
     "output_type": "stream",
     "text": [
      "Add  medcost                        with p-value 1.04026e-264\n"
     ]
    },
    {
     "name": "stderr",
     "output_type": "stream",
     "text": [
      "<ipython-input-63-039d06be3595>:10: DeprecationWarning: The default dtype for empty Series will be 'object' instead of 'float64' in a future version. Specify a dtype explicitly to silence this warning.\n",
      "  new_pval = pd.Series(index=excluded)\n"
     ]
    },
    {
     "name": "stdout",
     "output_type": "stream",
     "text": [
      "Add  menthlth                       with p-value 1.25772e-147\n"
     ]
    },
    {
     "name": "stderr",
     "output_type": "stream",
     "text": [
      "<ipython-input-63-039d06be3595>:10: DeprecationWarning: The default dtype for empty Series will be 'object' instead of 'float64' in a future version. Specify a dtype explicitly to silence this warning.\n",
      "  new_pval = pd.Series(index=excluded)\n"
     ]
    },
    {
     "name": "stdout",
     "output_type": "stream",
     "text": [
      "Add  chccopd1                       with p-value 1.63838e-122\n"
     ]
    },
    {
     "name": "stderr",
     "output_type": "stream",
     "text": [
      "<ipython-input-63-039d06be3595>:10: DeprecationWarning: The default dtype for empty Series will be 'object' instead of 'float64' in a future version. Specify a dtype explicitly to silence this warning.\n",
      "  new_pval = pd.Series(index=excluded)\n"
     ]
    },
    {
     "name": "stdout",
     "output_type": "stream",
     "text": [
      "Add  X_hispanc                      with p-value 4.21256e-95\n"
     ]
    },
    {
     "name": "stderr",
     "output_type": "stream",
     "text": [
      "<ipython-input-63-039d06be3595>:10: DeprecationWarning: The default dtype for empty Series will be 'object' instead of 'float64' in a future version. Specify a dtype explicitly to silence this warning.\n",
      "  new_pval = pd.Series(index=excluded)\n"
     ]
    },
    {
     "name": "stdout",
     "output_type": "stream",
     "text": [
      "Add  X_smoker3                      with p-value 7.55734e-95\n"
     ]
    },
    {
     "name": "stderr",
     "output_type": "stream",
     "text": [
      "<ipython-input-63-039d06be3595>:10: DeprecationWarning: The default dtype for empty Series will be 'object' instead of 'float64' in a future version. Specify a dtype explicitly to silence this warning.\n",
      "  new_pval = pd.Series(index=excluded)\n"
     ]
    },
    {
     "name": "stdout",
     "output_type": "stream",
     "text": [
      "Add  drocdy3_                       with p-value 1.85639e-89\n"
     ]
    },
    {
     "name": "stderr",
     "output_type": "stream",
     "text": [
      "<ipython-input-63-039d06be3595>:10: DeprecationWarning: The default dtype for empty Series will be 'object' instead of 'float64' in a future version. Specify a dtype explicitly to silence this warning.\n",
      "  new_pval = pd.Series(index=excluded)\n"
     ]
    },
    {
     "name": "stdout",
     "output_type": "stream",
     "text": [
      "Add  cvdcrhd4                       with p-value 8.956e-83\n"
     ]
    },
    {
     "name": "stderr",
     "output_type": "stream",
     "text": [
      "<ipython-input-63-039d06be3595>:10: DeprecationWarning: The default dtype for empty Series will be 'object' instead of 'float64' in a future version. Specify a dtype explicitly to silence this warning.\n",
      "  new_pval = pd.Series(index=excluded)\n"
     ]
    },
    {
     "name": "stdout",
     "output_type": "stream",
     "text": [
      "Add  X_drnkmo4                      with p-value 1.0979e-59\n"
     ]
    },
    {
     "name": "stderr",
     "output_type": "stream",
     "text": [
      "<ipython-input-63-039d06be3595>:10: DeprecationWarning: The default dtype for empty Series will be 'object' instead of 'float64' in a future version. Specify a dtype explicitly to silence this warning.\n",
      "  new_pval = pd.Series(index=excluded)\n"
     ]
    },
    {
     "name": "stdout",
     "output_type": "stream",
     "text": [
      "Add  grenday_                       with p-value 1.21957e-51\n"
     ]
    },
    {
     "name": "stderr",
     "output_type": "stream",
     "text": [
      "<ipython-input-63-039d06be3595>:10: DeprecationWarning: The default dtype for empty Series will be 'object' instead of 'float64' in a future version. Specify a dtype explicitly to silence this warning.\n",
      "  new_pval = pd.Series(index=excluded)\n"
     ]
    },
    {
     "name": "stdout",
     "output_type": "stream",
     "text": [
      "Add  X_asthms1                      with p-value 3.82798e-48\n"
     ]
    },
    {
     "name": "stderr",
     "output_type": "stream",
     "text": [
      "<ipython-input-63-039d06be3595>:10: DeprecationWarning: The default dtype for empty Series will be 'object' instead of 'float64' in a future version. Specify a dtype explicitly to silence this warning.\n",
      "  new_pval = pd.Series(index=excluded)\n"
     ]
    },
    {
     "name": "stdout",
     "output_type": "stream",
     "text": [
      "Add  X_dualuse                      with p-value 4.63941e-48\n"
     ]
    },
    {
     "name": "stderr",
     "output_type": "stream",
     "text": [
      "<ipython-input-63-039d06be3595>:10: DeprecationWarning: The default dtype for empty Series will be 'object' instead of 'float64' in a future version. Specify a dtype explicitly to silence this warning.\n",
      "  new_pval = pd.Series(index=excluded)\n"
     ]
    },
    {
     "name": "stdout",
     "output_type": "stream",
     "text": [
      "Add  addepev2                       with p-value 1.59124e-43\n"
     ]
    },
    {
     "name": "stderr",
     "output_type": "stream",
     "text": [
      "<ipython-input-63-039d06be3595>:10: DeprecationWarning: The default dtype for empty Series will be 'object' instead of 'float64' in a future version. Specify a dtype explicitly to silence this warning.\n",
      "  new_pval = pd.Series(index=excluded)\n"
     ]
    },
    {
     "name": "stdout",
     "output_type": "stream",
     "text": [
      "Add  educa                          with p-value 1.26324e-44\n"
     ]
    },
    {
     "name": "stderr",
     "output_type": "stream",
     "text": [
      "<ipython-input-63-039d06be3595>:10: DeprecationWarning: The default dtype for empty Series will be 'object' instead of 'float64' in a future version. Specify a dtype explicitly to silence this warning.\n",
      "  new_pval = pd.Series(index=excluded)\n"
     ]
    },
    {
     "name": "stdout",
     "output_type": "stream",
     "text": [
      "Add  frutda1_                       with p-value 4.23004e-43\n"
     ]
    },
    {
     "name": "stderr",
     "output_type": "stream",
     "text": [
      "<ipython-input-63-039d06be3595>:10: DeprecationWarning: The default dtype for empty Series will be 'object' instead of 'float64' in a future version. Specify a dtype explicitly to silence this warning.\n",
      "  new_pval = pd.Series(index=excluded)\n"
     ]
    },
    {
     "name": "stdout",
     "output_type": "stream",
     "text": [
      "Add  sleptim1                       with p-value 1.36028e-38\n"
     ]
    },
    {
     "name": "stderr",
     "output_type": "stream",
     "text": [
      "<ipython-input-63-039d06be3595>:10: DeprecationWarning: The default dtype for empty Series will be 'object' instead of 'float64' in a future version. Specify a dtype explicitly to silence this warning.\n",
      "  new_pval = pd.Series(index=excluded)\n"
     ]
    },
    {
     "name": "stdout",
     "output_type": "stream",
     "text": [
      "Add  X_rfseat3                      with p-value 3.2034e-34\n"
     ]
    },
    {
     "name": "stderr",
     "output_type": "stream",
     "text": [
      "<ipython-input-63-039d06be3595>:10: DeprecationWarning: The default dtype for empty Series will be 'object' instead of 'float64' in a future version. Specify a dtype explicitly to silence this warning.\n",
      "  new_pval = pd.Series(index=excluded)\n"
     ]
    },
    {
     "name": "stdout",
     "output_type": "stream",
     "text": [
      "Add  X_rfhype5                      with p-value 5.19695e-33\n"
     ]
    },
    {
     "name": "stderr",
     "output_type": "stream",
     "text": [
      "<ipython-input-63-039d06be3595>:10: DeprecationWarning: The default dtype for empty Series will be 'object' instead of 'float64' in a future version. Specify a dtype explicitly to silence this warning.\n",
      "  new_pval = pd.Series(index=excluded)\n"
     ]
    },
    {
     "name": "stdout",
     "output_type": "stream",
     "text": [
      "Add  hlthpln1                       with p-value 3.07442e-32\n"
     ]
    },
    {
     "name": "stderr",
     "output_type": "stream",
     "text": [
      "<ipython-input-63-039d06be3595>:10: DeprecationWarning: The default dtype for empty Series will be 'object' instead of 'float64' in a future version. Specify a dtype explicitly to silence this warning.\n",
      "  new_pval = pd.Series(index=excluded)\n"
     ]
    },
    {
     "name": "stdout",
     "output_type": "stream",
     "text": [
      "Add  strength                       with p-value 2.08909e-27\n"
     ]
    },
    {
     "name": "stderr",
     "output_type": "stream",
     "text": [
      "<ipython-input-63-039d06be3595>:10: DeprecationWarning: The default dtype for empty Series will be 'object' instead of 'float64' in a future version. Specify a dtype explicitly to silence this warning.\n",
      "  new_pval = pd.Series(index=excluded)\n"
     ]
    },
    {
     "name": "stdout",
     "output_type": "stream",
     "text": [
      "Add  X_cholchk                      with p-value 4.77533e-26\n"
     ]
    },
    {
     "name": "stderr",
     "output_type": "stream",
     "text": [
      "<ipython-input-63-039d06be3595>:10: DeprecationWarning: The default dtype for empty Series will be 'object' instead of 'float64' in a future version. Specify a dtype explicitly to silence this warning.\n",
      "  new_pval = pd.Series(index=excluded)\n"
     ]
    },
    {
     "name": "stdout",
     "output_type": "stream",
     "text": [
      "Add  sex                            with p-value 2.69852e-21\n"
     ]
    },
    {
     "name": "stderr",
     "output_type": "stream",
     "text": [
      "<ipython-input-63-039d06be3595>:10: DeprecationWarning: The default dtype for empty Series will be 'object' instead of 'float64' in a future version. Specify a dtype explicitly to silence this warning.\n",
      "  new_pval = pd.Series(index=excluded)\n"
     ]
    },
    {
     "name": "stdout",
     "output_type": "stream",
     "text": [
      "Add  fc60_                          with p-value 1.43702e-33\n"
     ]
    },
    {
     "name": "stderr",
     "output_type": "stream",
     "text": [
      "<ipython-input-63-039d06be3595>:10: DeprecationWarning: The default dtype for empty Series will be 'object' instead of 'float64' in a future version. Specify a dtype explicitly to silence this warning.\n",
      "  new_pval = pd.Series(index=excluded)\n"
     ]
    },
    {
     "name": "stdout",
     "output_type": "stream",
     "text": [
      "Add  X_age_g                        with p-value 4.84166e-62\n"
     ]
    },
    {
     "name": "stderr",
     "output_type": "stream",
     "text": [
      "<ipython-input-63-039d06be3595>:10: DeprecationWarning: The default dtype for empty Series will be 'object' instead of 'float64' in a future version. Specify a dtype explicitly to silence this warning.\n",
      "  new_pval = pd.Series(index=excluded)\n"
     ]
    },
    {
     "name": "stdout",
     "output_type": "stream",
     "text": [
      "Add  X_educag                       with p-value 4.90379e-21\n"
     ]
    },
    {
     "name": "stderr",
     "output_type": "stream",
     "text": [
      "<ipython-input-63-039d06be3595>:10: DeprecationWarning: The default dtype for empty Series will be 'object' instead of 'float64' in a future version. Specify a dtype explicitly to silence this warning.\n",
      "  new_pval = pd.Series(index=excluded)\n"
     ]
    },
    {
     "name": "stdout",
     "output_type": "stream",
     "text": [
      "Add  persdoc2                       with p-value 3.61422e-19\n"
     ]
    },
    {
     "name": "stderr",
     "output_type": "stream",
     "text": [
      "<ipython-input-63-039d06be3595>:10: DeprecationWarning: The default dtype for empty Series will be 'object' instead of 'float64' in a future version. Specify a dtype explicitly to silence this warning.\n",
      "  new_pval = pd.Series(index=excluded)\n"
     ]
    },
    {
     "name": "stdout",
     "output_type": "stream",
     "text": [
      "Add  children                       with p-value 1.32283e-17\n"
     ]
    },
    {
     "name": "stderr",
     "output_type": "stream",
     "text": [
      "<ipython-input-63-039d06be3595>:10: DeprecationWarning: The default dtype for empty Series will be 'object' instead of 'float64' in a future version. Specify a dtype explicitly to silence this warning.\n",
      "  new_pval = pd.Series(index=excluded)\n"
     ]
    },
    {
     "name": "stdout",
     "output_type": "stream",
     "text": [
      "Add  cvdstrk3                       with p-value 3.12582e-17\n"
     ]
    },
    {
     "name": "stderr",
     "output_type": "stream",
     "text": [
      "<ipython-input-63-039d06be3595>:10: DeprecationWarning: The default dtype for empty Series will be 'object' instead of 'float64' in a future version. Specify a dtype explicitly to silence this warning.\n",
      "  new_pval = pd.Series(index=excluded)\n"
     ]
    },
    {
     "name": "stdout",
     "output_type": "stream",
     "text": [
      "Add  chckidny                       with p-value 3.28262e-15\n"
     ]
    },
    {
     "name": "stderr",
     "output_type": "stream",
     "text": [
      "<ipython-input-63-039d06be3595>:10: DeprecationWarning: The default dtype for empty Series will be 'object' instead of 'float64' in a future version. Specify a dtype explicitly to silence this warning.\n",
      "  new_pval = pd.Series(index=excluded)\n"
     ]
    },
    {
     "name": "stdout",
     "output_type": "stream",
     "text": [
      "Add  qstlang                        with p-value 3.18574e-15\n"
     ]
    },
    {
     "name": "stderr",
     "output_type": "stream",
     "text": [
      "<ipython-input-63-039d06be3595>:10: DeprecationWarning: The default dtype for empty Series will be 'object' instead of 'float64' in a future version. Specify a dtype explicitly to silence this warning.\n",
      "  new_pval = pd.Series(index=excluded)\n"
     ]
    },
    {
     "name": "stdout",
     "output_type": "stream",
     "text": [
      "Add  strfreq_                       with p-value 2.05417e-13\n"
     ]
    },
    {
     "name": "stderr",
     "output_type": "stream",
     "text": [
      "<ipython-input-63-039d06be3595>:10: DeprecationWarning: The default dtype for empty Series will be 'object' instead of 'float64' in a future version. Specify a dtype explicitly to silence this warning.\n",
      "  new_pval = pd.Series(index=excluded)\n"
     ]
    },
    {
     "name": "stdout",
     "output_type": "stream",
     "text": [
      "Add  htin4                          with p-value 1.01018e-12\n"
     ]
    },
    {
     "name": "stderr",
     "output_type": "stream",
     "text": [
      "<ipython-input-63-039d06be3595>:10: DeprecationWarning: The default dtype for empty Series will be 'object' instead of 'float64' in a future version. Specify a dtype explicitly to silence this warning.\n",
      "  new_pval = pd.Series(index=excluded)\n"
     ]
    },
    {
     "name": "stdout",
     "output_type": "stream",
     "text": [
      "Add  wtkg3                          with p-value 4.68113e-54\n"
     ]
    },
    {
     "name": "stderr",
     "output_type": "stream",
     "text": [
      "<ipython-input-63-039d06be3595>:10: DeprecationWarning: The default dtype for empty Series will be 'object' instead of 'float64' in a future version. Specify a dtype explicitly to silence this warning.\n",
      "  new_pval = pd.Series(index=excluded)\n"
     ]
    },
    {
     "name": "stdout",
     "output_type": "stream",
     "text": [
      "Add  drnkany5                       with p-value 5.55301e-12\n"
     ]
    },
    {
     "name": "stderr",
     "output_type": "stream",
     "text": [
      "<ipython-input-63-039d06be3595>:10: DeprecationWarning: The default dtype for empty Series will be 'object' instead of 'float64' in a future version. Specify a dtype explicitly to silence this warning.\n",
      "  new_pval = pd.Series(index=excluded)\n"
     ]
    },
    {
     "name": "stdout",
     "output_type": "stream",
     "text": [
      "Add  X_rfbing5                      with p-value 1.39102e-11\n"
     ]
    },
    {
     "name": "stderr",
     "output_type": "stream",
     "text": [
      "<ipython-input-63-039d06be3595>:10: DeprecationWarning: The default dtype for empty Series will be 'object' instead of 'float64' in a future version. Specify a dtype explicitly to silence this warning.\n",
      "  new_pval = pd.Series(index=excluded)\n"
     ]
    },
    {
     "name": "stdout",
     "output_type": "stream",
     "text": [
      "Add  flushot6                       with p-value 2.87945e-11\n"
     ]
    },
    {
     "name": "stderr",
     "output_type": "stream",
     "text": [
      "<ipython-input-63-039d06be3595>:10: DeprecationWarning: The default dtype for empty Series will be 'object' instead of 'float64' in a future version. Specify a dtype explicitly to silence this warning.\n",
      "  new_pval = pd.Series(index=excluded)\n"
     ]
    },
    {
     "name": "stdout",
     "output_type": "stream",
     "text": [
      "Add  veteran3                       with p-value 1.07708e-11\n"
     ]
    },
    {
     "name": "stderr",
     "output_type": "stream",
     "text": [
      "<ipython-input-63-039d06be3595>:10: DeprecationWarning: The default dtype for empty Series will be 'object' instead of 'float64' in a future version. Specify a dtype explicitly to silence this warning.\n",
      "  new_pval = pd.Series(index=excluded)\n"
     ]
    },
    {
     "name": "stdout",
     "output_type": "stream",
     "text": [
      "Add  X_lmtscl1                      with p-value 3.27657e-10\n"
     ]
    },
    {
     "name": "stderr",
     "output_type": "stream",
     "text": [
      "<ipython-input-63-039d06be3595>:10: DeprecationWarning: The default dtype for empty Series will be 'object' instead of 'float64' in a future version. Specify a dtype explicitly to silence this warning.\n",
      "  new_pval = pd.Series(index=excluded)\n"
     ]
    },
    {
     "name": "stdout",
     "output_type": "stream",
     "text": [
      "Add  X_raceg21                      with p-value 1.08364e-09\n"
     ]
    },
    {
     "name": "stderr",
     "output_type": "stream",
     "text": [
      "<ipython-input-63-039d06be3595>:10: DeprecationWarning: The default dtype for empty Series will be 'object' instead of 'float64' in a future version. Specify a dtype explicitly to silence this warning.\n",
      "  new_pval = pd.Series(index=excluded)\n"
     ]
    },
    {
     "name": "stdout",
     "output_type": "stream",
     "text": [
      "Add  X_rfseat2                      with p-value 2.96889e-09\n"
     ]
    },
    {
     "name": "stderr",
     "output_type": "stream",
     "text": [
      "<ipython-input-63-039d06be3595>:10: DeprecationWarning: The default dtype for empty Series will be 'object' instead of 'float64' in a future version. Specify a dtype explicitly to silence this warning.\n",
      "  new_pval = pd.Series(index=excluded)\n"
     ]
    },
    {
     "name": "stdout",
     "output_type": "stream",
     "text": [
      "Add  X_age65yr                      with p-value 1.42141e-06\n"
     ]
    },
    {
     "name": "stderr",
     "output_type": "stream",
     "text": [
      "<ipython-input-63-039d06be3595>:10: DeprecationWarning: The default dtype for empty Series will be 'object' instead of 'float64' in a future version. Specify a dtype explicitly to silence this warning.\n",
      "  new_pval = pd.Series(index=excluded)\n"
     ]
    },
    {
     "name": "stdout",
     "output_type": "stream",
     "text": [
      "Add  checkup1                       with p-value 6.0054e-06\n"
     ]
    },
    {
     "name": "stderr",
     "output_type": "stream",
     "text": [
      "<ipython-input-63-039d06be3595>:10: DeprecationWarning: The default dtype for empty Series will be 'object' instead of 'float64' in a future version. Specify a dtype explicitly to silence this warning.\n",
      "  new_pval = pd.Series(index=excluded)\n"
     ]
    },
    {
     "name": "stdout",
     "output_type": "stream",
     "text": [
      "Add  beanday_                       with p-value 1.09458e-05\n"
     ]
    },
    {
     "name": "stderr",
     "output_type": "stream",
     "text": [
      "<ipython-input-63-039d06be3595>:10: DeprecationWarning: The default dtype for empty Series will be 'object' instead of 'float64' in a future version. Specify a dtype explicitly to silence this warning.\n",
      "  new_pval = pd.Series(index=excluded)\n"
     ]
    },
    {
     "name": "stdout",
     "output_type": "stream",
     "text": [
      "Add  X_rawrake                      with p-value 4.82908e-05\n"
     ]
    },
    {
     "name": "stderr",
     "output_type": "stream",
     "text": [
      "<ipython-input-63-039d06be3595>:10: DeprecationWarning: The default dtype for empty Series will be 'object' instead of 'float64' in a future version. Specify a dtype explicitly to silence this warning.\n",
      "  new_pval = pd.Series(index=excluded)\n"
     ]
    },
    {
     "name": "stdout",
     "output_type": "stream",
     "text": [
      "Add  seatbelt                       with p-value 0.000117151\n"
     ]
    },
    {
     "name": "stderr",
     "output_type": "stream",
     "text": [
      "<ipython-input-63-039d06be3595>:10: DeprecationWarning: The default dtype for empty Series will be 'object' instead of 'float64' in a future version. Specify a dtype explicitly to silence this warning.\n",
      "  new_pval = pd.Series(index=excluded)\n"
     ]
    },
    {
     "name": "stdout",
     "output_type": "stream",
     "text": [
      "Add  X_ageg5yr                      with p-value 0.000224167\n"
     ]
    },
    {
     "name": "stderr",
     "output_type": "stream",
     "text": [
      "<ipython-input-63-039d06be3595>:10: DeprecationWarning: The default dtype for empty Series will be 'object' instead of 'float64' in a future version. Specify a dtype explicitly to silence this warning.\n",
      "  new_pval = pd.Series(index=excluded)\n"
     ]
    },
    {
     "name": "stdout",
     "output_type": "stream",
     "text": [
      "Add  X_age80                        with p-value 2.4213e-06\n"
     ]
    },
    {
     "name": "stderr",
     "output_type": "stream",
     "text": [
      "<ipython-input-63-039d06be3595>:10: DeprecationWarning: The default dtype for empty Series will be 'object' instead of 'float64' in a future version. Specify a dtype explicitly to silence this warning.\n",
      "  new_pval = pd.Series(index=excluded)\n"
     ]
    },
    {
     "name": "stdout",
     "output_type": "stream",
     "text": [
      "Add  renthom1                       with p-value 0.000456698\n"
     ]
    },
    {
     "name": "stderr",
     "output_type": "stream",
     "text": [
      "<ipython-input-63-039d06be3595>:10: DeprecationWarning: The default dtype for empty Series will be 'object' instead of 'float64' in a future version. Specify a dtype explicitly to silence this warning.\n",
      "  new_pval = pd.Series(index=excluded)\n"
     ]
    },
    {
     "name": "stdout",
     "output_type": "stream",
     "text": [
      "Add  X_race_g1                      with p-value 0.0010697\n"
     ]
    },
    {
     "name": "stderr",
     "output_type": "stream",
     "text": [
      "<ipython-input-63-039d06be3595>:10: DeprecationWarning: The default dtype for empty Series will be 'object' instead of 'float64' in a future version. Specify a dtype explicitly to silence this warning.\n",
      "  new_pval = pd.Series(index=excluded)\n"
     ]
    },
    {
     "name": "stdout",
     "output_type": "stream",
     "text": [
      "Add  X_racegr3                      with p-value 0.0010697\n"
     ]
    },
    {
     "name": "stderr",
     "output_type": "stream",
     "text": [
      "<ipython-input-63-039d06be3595>:10: DeprecationWarning: The default dtype for empty Series will be 'object' instead of 'float64' in a future version. Specify a dtype explicitly to silence this warning.\n",
      "  new_pval = pd.Series(index=excluded)\n"
     ]
    },
    {
     "name": "stdout",
     "output_type": "stream",
     "text": [
      "Add  X_ststr                        with p-value 0.00135308\n"
     ]
    },
    {
     "name": "stderr",
     "output_type": "stream",
     "text": [
      "<ipython-input-63-039d06be3595>:10: DeprecationWarning: The default dtype for empty Series will be 'object' instead of 'float64' in a future version. Specify a dtype explicitly to silence this warning.\n",
      "  new_pval = pd.Series(index=excluded)\n"
     ]
    },
    {
     "name": "stdout",
     "output_type": "stream",
     "text": [
      "Add  X_rfdrhv4                      with p-value 0.00657312\n"
     ]
    },
    {
     "name": "stderr",
     "output_type": "stream",
     "text": [
      "<ipython-input-63-039d06be3595>:10: DeprecationWarning: The default dtype for empty Series will be 'object' instead of 'float64' in a future version. Specify a dtype explicitly to silence this warning.\n",
      "  new_pval = pd.Series(index=excluded)\n"
     ]
    },
    {
     "name": "stdout",
     "output_type": "stream",
     "text": [
      "Add  pamiss1_                       with p-value 0.0232147\n"
     ]
    },
    {
     "name": "stderr",
     "output_type": "stream",
     "text": [
      "<ipython-input-63-039d06be3595>:10: DeprecationWarning: The default dtype for empty Series will be 'object' instead of 'float64' in a future version. Specify a dtype explicitly to silence this warning.\n",
      "  new_pval = pd.Series(index=excluded)\n"
     ]
    },
    {
     "name": "stdout",
     "output_type": "stream",
     "text": [
      "Add  marital                        with p-value 0.0273482\n"
     ]
    },
    {
     "name": "stderr",
     "output_type": "stream",
     "text": [
      "<ipython-input-63-039d06be3595>:10: DeprecationWarning: The default dtype for empty Series will be 'object' instead of 'float64' in a future version. Specify a dtype explicitly to silence this warning.\n",
      "  new_pval = pd.Series(index=excluded)\n"
     ]
    },
    {
     "name": "stdout",
     "output_type": "stream",
     "text": [
      "Add  chcscncr                       with p-value 0.0355739\n"
     ]
    },
    {
     "name": "stderr",
     "output_type": "stream",
     "text": [
      "<ipython-input-63-039d06be3595>:10: DeprecationWarning: The default dtype for empty Series will be 'object' instead of 'float64' in a future version. Specify a dtype explicitly to silence this warning.\n",
      "  new_pval = pd.Series(index=excluded)\n"
     ]
    }
   ],
   "source": [
    "included= forward_regression(X,y,0.05,verbose=True)"
   ]
  },
  {
   "cell_type": "code",
   "execution_count": 73,
   "id": "7f1b36b6",
   "metadata": {},
   "outputs": [
    {
     "data": {
      "text/plain": [
       "81"
      ]
     },
     "execution_count": 73,
     "metadata": {},
     "output_type": "execute_result"
    }
   ],
   "source": [
    "len(included)"
   ]
  },
  {
   "cell_type": "code",
   "execution_count": 75,
   "id": "70f69356",
   "metadata": {},
   "outputs": [
    {
     "data": {
      "text/html": [
       "<div>\n",
       "<style scoped>\n",
       "    .dataframe tbody tr th:only-of-type {\n",
       "        vertical-align: middle;\n",
       "    }\n",
       "\n",
       "    .dataframe tbody tr th {\n",
       "        vertical-align: top;\n",
       "    }\n",
       "\n",
       "    .dataframe thead th {\n",
       "        text-align: right;\n",
       "    }\n",
       "</style>\n",
       "<table border=\"1\" class=\"dataframe\">\n",
       "  <thead>\n",
       "    <tr style=\"text-align: right;\">\n",
       "      <th></th>\n",
       "      <th>X_lmtwrk1</th>\n",
       "      <th>X_prace1</th>\n",
       "      <th>diffalon</th>\n",
       "      <th>employ1</th>\n",
       "      <th>diffwalk</th>\n",
       "      <th>alcday5</th>\n",
       "      <th>exerany2</th>\n",
       "      <th>chcocncr</th>\n",
       "      <th>X_frtlt1</th>\n",
       "      <th>useequip</th>\n",
       "      <th>...</th>\n",
       "      <th>X_ageg5yr</th>\n",
       "      <th>X_age80</th>\n",
       "      <th>renthom1</th>\n",
       "      <th>X_race_g1</th>\n",
       "      <th>X_racegr3</th>\n",
       "      <th>X_ststr</th>\n",
       "      <th>X_rfdrhv4</th>\n",
       "      <th>pamiss1_</th>\n",
       "      <th>marital</th>\n",
       "      <th>chcscncr</th>\n",
       "    </tr>\n",
       "  </thead>\n",
       "  <tbody>\n",
       "    <tr>\n",
       "      <th>0</th>\n",
       "      <td>0</td>\n",
       "      <td>7</td>\n",
       "      <td>0</td>\n",
       "      <td>2</td>\n",
       "      <td>0</td>\n",
       "      <td>0.0</td>\n",
       "      <td>1</td>\n",
       "      <td>0</td>\n",
       "      <td>0</td>\n",
       "      <td>0</td>\n",
       "      <td>...</td>\n",
       "      <td>6</td>\n",
       "      <td>50.0</td>\n",
       "      <td>1</td>\n",
       "      <td>4</td>\n",
       "      <td>4</td>\n",
       "      <td>11081.0</td>\n",
       "      <td>0</td>\n",
       "      <td>0.0</td>\n",
       "      <td>2</td>\n",
       "      <td>0</td>\n",
       "    </tr>\n",
       "    <tr>\n",
       "      <th>1</th>\n",
       "      <td>1</td>\n",
       "      <td>7</td>\n",
       "      <td>0</td>\n",
       "      <td>2</td>\n",
       "      <td>1</td>\n",
       "      <td>220.0</td>\n",
       "      <td>0</td>\n",
       "      <td>0</td>\n",
       "      <td>0</td>\n",
       "      <td>0</td>\n",
       "      <td>...</td>\n",
       "      <td>7</td>\n",
       "      <td>55.0</td>\n",
       "      <td>1</td>\n",
       "      <td>4</td>\n",
       "      <td>4</td>\n",
       "      <td>11081.0</td>\n",
       "      <td>1</td>\n",
       "      <td>0.0</td>\n",
       "      <td>2</td>\n",
       "      <td>0</td>\n",
       "    </tr>\n",
       "    <tr>\n",
       "      <th>2</th>\n",
       "      <td>0</td>\n",
       "      <td>7</td>\n",
       "      <td>0</td>\n",
       "      <td>5</td>\n",
       "      <td>0</td>\n",
       "      <td>208.0</td>\n",
       "      <td>1</td>\n",
       "      <td>0</td>\n",
       "      <td>0</td>\n",
       "      <td>0</td>\n",
       "      <td>...</td>\n",
       "      <td>8</td>\n",
       "      <td>64.0</td>\n",
       "      <td>1</td>\n",
       "      <td>4</td>\n",
       "      <td>4</td>\n",
       "      <td>11081.0</td>\n",
       "      <td>0</td>\n",
       "      <td>0.0</td>\n",
       "      <td>2</td>\n",
       "      <td>0</td>\n",
       "    </tr>\n",
       "    <tr>\n",
       "      <th>3</th>\n",
       "      <td>0</td>\n",
       "      <td>7</td>\n",
       "      <td>0</td>\n",
       "      <td>5</td>\n",
       "      <td>0</td>\n",
       "      <td>210.0</td>\n",
       "      <td>0</td>\n",
       "      <td>1</td>\n",
       "      <td>0</td>\n",
       "      <td>0</td>\n",
       "      <td>...</td>\n",
       "      <td>9</td>\n",
       "      <td>66.0</td>\n",
       "      <td>1</td>\n",
       "      <td>4</td>\n",
       "      <td>4</td>\n",
       "      <td>11082.0</td>\n",
       "      <td>0</td>\n",
       "      <td>0.0</td>\n",
       "      <td>2</td>\n",
       "      <td>0</td>\n",
       "    </tr>\n",
       "    <tr>\n",
       "      <th>4</th>\n",
       "      <td>0</td>\n",
       "      <td>2</td>\n",
       "      <td>0</td>\n",
       "      <td>2</td>\n",
       "      <td>0</td>\n",
       "      <td>0.0</td>\n",
       "      <td>1</td>\n",
       "      <td>0</td>\n",
       "      <td>1</td>\n",
       "      <td>0</td>\n",
       "      <td>...</td>\n",
       "      <td>5</td>\n",
       "      <td>49.0</td>\n",
       "      <td>1</td>\n",
       "      <td>0</td>\n",
       "      <td>0</td>\n",
       "      <td>11081.0</td>\n",
       "      <td>0</td>\n",
       "      <td>0.0</td>\n",
       "      <td>1</td>\n",
       "      <td>0</td>\n",
       "    </tr>\n",
       "    <tr>\n",
       "      <th>...</th>\n",
       "      <td>...</td>\n",
       "      <td>...</td>\n",
       "      <td>...</td>\n",
       "      <td>...</td>\n",
       "      <td>...</td>\n",
       "      <td>...</td>\n",
       "      <td>...</td>\n",
       "      <td>...</td>\n",
       "      <td>...</td>\n",
       "      <td>...</td>\n",
       "      <td>...</td>\n",
       "      <td>...</td>\n",
       "      <td>...</td>\n",
       "      <td>...</td>\n",
       "      <td>...</td>\n",
       "      <td>...</td>\n",
       "      <td>...</td>\n",
       "      <td>...</td>\n",
       "      <td>...</td>\n",
       "      <td>...</td>\n",
       "      <td>...</td>\n",
       "    </tr>\n",
       "    <tr>\n",
       "      <th>339277</th>\n",
       "      <td>2</td>\n",
       "      <td>7</td>\n",
       "      <td>0</td>\n",
       "      <td>0</td>\n",
       "      <td>0</td>\n",
       "      <td>0.0</td>\n",
       "      <td>0</td>\n",
       "      <td>0</td>\n",
       "      <td>0</td>\n",
       "      <td>0</td>\n",
       "      <td>...</td>\n",
       "      <td>9</td>\n",
       "      <td>65.0</td>\n",
       "      <td>1</td>\n",
       "      <td>1</td>\n",
       "      <td>1</td>\n",
       "      <td>722019.0</td>\n",
       "      <td>0</td>\n",
       "      <td>0.0</td>\n",
       "      <td>2</td>\n",
       "      <td>0</td>\n",
       "    </tr>\n",
       "    <tr>\n",
       "      <th>339278</th>\n",
       "      <td>0</td>\n",
       "      <td>7</td>\n",
       "      <td>0</td>\n",
       "      <td>2</td>\n",
       "      <td>1</td>\n",
       "      <td>204.0</td>\n",
       "      <td>1</td>\n",
       "      <td>0</td>\n",
       "      <td>0</td>\n",
       "      <td>1</td>\n",
       "      <td>...</td>\n",
       "      <td>5</td>\n",
       "      <td>47.0</td>\n",
       "      <td>1</td>\n",
       "      <td>1</td>\n",
       "      <td>1</td>\n",
       "      <td>722019.0</td>\n",
       "      <td>0</td>\n",
       "      <td>0.0</td>\n",
       "      <td>2</td>\n",
       "      <td>0</td>\n",
       "    </tr>\n",
       "    <tr>\n",
       "      <th>339279</th>\n",
       "      <td>2</td>\n",
       "      <td>7</td>\n",
       "      <td>1</td>\n",
       "      <td>0</td>\n",
       "      <td>1</td>\n",
       "      <td>0.0</td>\n",
       "      <td>0</td>\n",
       "      <td>0</td>\n",
       "      <td>1</td>\n",
       "      <td>0</td>\n",
       "      <td>...</td>\n",
       "      <td>7</td>\n",
       "      <td>58.0</td>\n",
       "      <td>1</td>\n",
       "      <td>1</td>\n",
       "      <td>1</td>\n",
       "      <td>722019.0</td>\n",
       "      <td>0</td>\n",
       "      <td>0.0</td>\n",
       "      <td>1</td>\n",
       "      <td>0</td>\n",
       "    </tr>\n",
       "    <tr>\n",
       "      <th>339280</th>\n",
       "      <td>0</td>\n",
       "      <td>6</td>\n",
       "      <td>0</td>\n",
       "      <td>2</td>\n",
       "      <td>0</td>\n",
       "      <td>0.0</td>\n",
       "      <td>1</td>\n",
       "      <td>0</td>\n",
       "      <td>1</td>\n",
       "      <td>0</td>\n",
       "      <td>...</td>\n",
       "      <td>3</td>\n",
       "      <td>37.0</td>\n",
       "      <td>1</td>\n",
       "      <td>1</td>\n",
       "      <td>1</td>\n",
       "      <td>722019.0</td>\n",
       "      <td>0</td>\n",
       "      <td>0.0</td>\n",
       "      <td>0</td>\n",
       "      <td>0</td>\n",
       "    </tr>\n",
       "    <tr>\n",
       "      <th>339281</th>\n",
       "      <td>0</td>\n",
       "      <td>7</td>\n",
       "      <td>0</td>\n",
       "      <td>0</td>\n",
       "      <td>0</td>\n",
       "      <td>0.0</td>\n",
       "      <td>1</td>\n",
       "      <td>0</td>\n",
       "      <td>1</td>\n",
       "      <td>0</td>\n",
       "      <td>...</td>\n",
       "      <td>2</td>\n",
       "      <td>30.0</td>\n",
       "      <td>0</td>\n",
       "      <td>1</td>\n",
       "      <td>1</td>\n",
       "      <td>722019.0</td>\n",
       "      <td>0</td>\n",
       "      <td>0.0</td>\n",
       "      <td>4</td>\n",
       "      <td>0</td>\n",
       "    </tr>\n",
       "  </tbody>\n",
       "</table>\n",
       "<p>333985 rows × 81 columns</p>\n",
       "</div>"
      ],
      "text/plain": [
       "       X_lmtwrk1 X_prace1 diffalon employ1 diffwalk  alcday5 exerany2  \\\n",
       "0              0        7        0       2        0      0.0        1   \n",
       "1              1        7        0       2        1    220.0        0   \n",
       "2              0        7        0       5        0    208.0        1   \n",
       "3              0        7        0       5        0    210.0        0   \n",
       "4              0        2        0       2        0      0.0        1   \n",
       "...          ...      ...      ...     ...      ...      ...      ...   \n",
       "339277         2        7        0       0        0      0.0        0   \n",
       "339278         0        7        0       2        1    204.0        1   \n",
       "339279         2        7        1       0        1      0.0        0   \n",
       "339280         0        6        0       2        0      0.0        1   \n",
       "339281         0        7        0       0        0      0.0        1   \n",
       "\n",
       "       chcocncr X_frtlt1 useequip  ...  X_ageg5yr X_age80 renthom1 X_race_g1  \\\n",
       "0             0        0        0  ...          6    50.0        1         4   \n",
       "1             0        0        0  ...          7    55.0        1         4   \n",
       "2             0        0        0  ...          8    64.0        1         4   \n",
       "3             1        0        0  ...          9    66.0        1         4   \n",
       "4             0        1        0  ...          5    49.0        1         0   \n",
       "...         ...      ...      ...  ...        ...     ...      ...       ...   \n",
       "339277        0        0        0  ...          9    65.0        1         1   \n",
       "339278        0        0        1  ...          5    47.0        1         1   \n",
       "339279        0        1        0  ...          7    58.0        1         1   \n",
       "339280        0        1        0  ...          3    37.0        1         1   \n",
       "339281        0        1        0  ...          2    30.0        0         1   \n",
       "\n",
       "       X_racegr3   X_ststr X_rfdrhv4 pamiss1_ marital  chcscncr  \n",
       "0              4   11081.0         0      0.0       2         0  \n",
       "1              4   11081.0         1      0.0       2         0  \n",
       "2              4   11081.0         0      0.0       2         0  \n",
       "3              4   11082.0         0      0.0       2         0  \n",
       "4              0   11081.0         0      0.0       1         0  \n",
       "...          ...       ...       ...      ...     ...       ...  \n",
       "339277         1  722019.0         0      0.0       2         0  \n",
       "339278         1  722019.0         0      0.0       2         0  \n",
       "339279         1  722019.0         0      0.0       1         0  \n",
       "339280         1  722019.0         0      0.0       0         0  \n",
       "339281         1  722019.0         0      0.0       4         0  \n",
       "\n",
       "[333985 rows x 81 columns]"
      ]
     },
     "execution_count": 75,
     "metadata": {},
     "output_type": "execute_result"
    }
   ],
   "source": [
    "with open('/Users/aliceqichaowu/Desktop/38615/brfss2013/features.txt', 'w') as fp:\n",
    "    fp.write('\\n'.join(included))"
   ]
  },
  {
   "cell_type": "code",
   "execution_count": 60,
   "id": "2701c4df",
   "metadata": {},
   "outputs": [
    {
     "data": {
      "text/html": [
       "<table class=\"simpletable\">\n",
       "<caption>OLS Regression Results</caption>\n",
       "<tr>\n",
       "  <th>Dep. Variable:</th>         <td>genhlth</td>     <th>  R-squared:         </th>  <td>   0.643</td>  \n",
       "</tr>\n",
       "<tr>\n",
       "  <th>Model:</th>                   <td>OLS</td>       <th>  Adj. R-squared:    </th>  <td>   0.643</td>  \n",
       "</tr>\n",
       "<tr>\n",
       "  <th>Method:</th>             <td>Least Squares</td>  <th>  F-statistic:       </th>  <td>   4457.</td>  \n",
       "</tr>\n",
       "<tr>\n",
       "  <th>Date:</th>             <td>Thu, 17 Nov 2022</td> <th>  Prob (F-statistic):</th>   <td>  0.00</td>   \n",
       "</tr>\n",
       "<tr>\n",
       "  <th>Time:</th>                 <td>16:23:43</td>     <th>  Log-Likelihood:    </th> <td>-2.5850e+05</td>\n",
       "</tr>\n",
       "<tr>\n",
       "  <th>No. Observations:</th>      <td>267188</td>      <th>  AIC:               </th>  <td>5.172e+05</td> \n",
       "</tr>\n",
       "<tr>\n",
       "  <th>Df Residuals:</th>          <td>267079</td>      <th>  BIC:               </th>  <td>5.184e+05</td> \n",
       "</tr>\n",
       "<tr>\n",
       "  <th>Df Model:</th>              <td>   108</td>      <th>                     </th>      <td> </td>     \n",
       "</tr>\n",
       "<tr>\n",
       "  <th>Covariance Type:</th>      <td>nonrobust</td>    <th>                     </th>      <td> </td>     \n",
       "</tr>\n",
       "</table>\n",
       "<table class=\"simpletable\">\n",
       "<tr>\n",
       "    <td></td>       <th>coef</th>     <th>std err</th>      <th>t</th>      <th>P>|t|</th>  <th>[0.025</th>    <th>0.975]</th>  \n",
       "</tr>\n",
       "<tr>\n",
       "  <th>const</th> <td>    2.4860</td> <td>    0.001</td> <td> 2017.503</td> <td> 0.000</td> <td>    2.484</td> <td>    2.488</td>\n",
       "</tr>\n",
       "<tr>\n",
       "  <th>x1</th>    <td>   -0.0152</td> <td>    0.001</td> <td>  -10.765</td> <td> 0.000</td> <td>   -0.018</td> <td>   -0.012</td>\n",
       "</tr>\n",
       "<tr>\n",
       "  <th>x2</th>    <td>   -0.0117</td> <td>    0.001</td> <td>   -9.179</td> <td> 0.000</td> <td>   -0.014</td> <td>   -0.009</td>\n",
       "</tr>\n",
       "<tr>\n",
       "  <th>x3</th>    <td>    0.0279</td> <td>    0.001</td> <td>   19.955</td> <td> 0.000</td> <td>    0.025</td> <td>    0.031</td>\n",
       "</tr>\n",
       "<tr>\n",
       "  <th>x4</th>    <td>    0.0054</td> <td>    0.001</td> <td>    3.790</td> <td> 0.000</td> <td>    0.003</td> <td>    0.008</td>\n",
       "</tr>\n",
       "<tr>\n",
       "  <th>x5</th>    <td>    0.0246</td> <td>    0.005</td> <td>    5.427</td> <td> 0.000</td> <td>    0.016</td> <td>    0.033</td>\n",
       "</tr>\n",
       "<tr>\n",
       "  <th>x6</th>    <td>    0.0027</td> <td>    0.003</td> <td>    0.918</td> <td> 0.358</td> <td>   -0.003</td> <td>    0.008</td>\n",
       "</tr>\n",
       "<tr>\n",
       "  <th>x7</th>    <td>    0.0126</td> <td>    0.001</td> <td>    8.771</td> <td> 0.000</td> <td>    0.010</td> <td>    0.015</td>\n",
       "</tr>\n",
       "<tr>\n",
       "  <th>x8</th>    <td>    0.0209</td> <td>    0.001</td> <td>   14.525</td> <td> 0.000</td> <td>    0.018</td> <td>    0.024</td>\n",
       "</tr>\n",
       "<tr>\n",
       "  <th>x9</th>    <td>    0.0100</td> <td>    0.001</td> <td>    7.735</td> <td> 0.000</td> <td>    0.007</td> <td>    0.012</td>\n",
       "</tr>\n",
       "<tr>\n",
       "  <th>x10</th>   <td> 5.843e+09</td> <td> 1.43e+10</td> <td>    0.407</td> <td> 0.684</td> <td>-2.23e+10</td> <td>  3.4e+10</td>\n",
       "</tr>\n",
       "<tr>\n",
       "  <th>x11</th>   <td>    0.0027</td> <td>    0.001</td> <td>    2.066</td> <td> 0.039</td> <td>    0.000</td> <td>    0.005</td>\n",
       "</tr>\n",
       "<tr>\n",
       "  <th>x12</th>   <td>    0.0378</td> <td>    0.001</td> <td>   29.504</td> <td> 0.000</td> <td>    0.035</td> <td>    0.040</td>\n",
       "</tr>\n",
       "<tr>\n",
       "  <th>x13</th>   <td>    0.0202</td> <td>    0.001</td> <td>   14.733</td> <td> 0.000</td> <td>    0.018</td> <td>    0.023</td>\n",
       "</tr>\n",
       "<tr>\n",
       "  <th>x14</th>   <td> 1.716e+10</td> <td> 8.38e+09</td> <td>    2.048</td> <td> 0.041</td> <td> 7.38e+08</td> <td> 3.36e+10</td>\n",
       "</tr>\n",
       "<tr>\n",
       "  <th>x15</th>   <td>    0.0218</td> <td>    0.001</td> <td>   15.257</td> <td> 0.000</td> <td>    0.019</td> <td>    0.025</td>\n",
       "</tr>\n",
       "<tr>\n",
       "  <th>x16</th>   <td>    0.0092</td> <td>    0.001</td> <td>    7.245</td> <td> 0.000</td> <td>    0.007</td> <td>    0.012</td>\n",
       "</tr>\n",
       "<tr>\n",
       "  <th>x17</th>   <td>    0.0424</td> <td>    0.001</td> <td>   31.561</td> <td> 0.000</td> <td>    0.040</td> <td>    0.045</td>\n",
       "</tr>\n",
       "<tr>\n",
       "  <th>x18</th>   <td>   -0.0091</td> <td>    0.001</td> <td>   -6.271</td> <td> 0.000</td> <td>   -0.012</td> <td>   -0.006</td>\n",
       "</tr>\n",
       "<tr>\n",
       "  <th>x19</th>   <td>    0.0024</td> <td>    0.001</td> <td>    1.762</td> <td> 0.078</td> <td>   -0.000</td> <td>    0.005</td>\n",
       "</tr>\n",
       "<tr>\n",
       "  <th>x20</th>   <td>    0.0209</td> <td>    0.002</td> <td>   11.805</td> <td> 0.000</td> <td>    0.017</td> <td>    0.024</td>\n",
       "</tr>\n",
       "<tr>\n",
       "  <th>x21</th>   <td>   -0.0087</td> <td>    0.001</td> <td>   -5.900</td> <td> 0.000</td> <td>   -0.012</td> <td>   -0.006</td>\n",
       "</tr>\n",
       "<tr>\n",
       "  <th>x22</th>   <td>   -0.0334</td> <td>    0.001</td> <td>  -22.381</td> <td> 0.000</td> <td>   -0.036</td> <td>   -0.030</td>\n",
       "</tr>\n",
       "<tr>\n",
       "  <th>x23</th>   <td>    0.0046</td> <td>    0.001</td> <td>    3.491</td> <td> 0.000</td> <td>    0.002</td> <td>    0.007</td>\n",
       "</tr>\n",
       "<tr>\n",
       "  <th>x24</th>   <td>    0.0321</td> <td>    0.002</td> <td>   14.217</td> <td> 0.000</td> <td>    0.028</td> <td>    0.036</td>\n",
       "</tr>\n",
       "<tr>\n",
       "  <th>x25</th>   <td>    0.0731</td> <td>    0.002</td> <td>   43.461</td> <td> 0.000</td> <td>    0.070</td> <td>    0.076</td>\n",
       "</tr>\n",
       "<tr>\n",
       "  <th>x26</th>   <td>    0.0017</td> <td>    0.002</td> <td>    1.103</td> <td> 0.270</td> <td>   -0.001</td> <td>    0.005</td>\n",
       "</tr>\n",
       "<tr>\n",
       "  <th>x27</th>   <td>    0.0008</td> <td>    0.001</td> <td>    0.603</td> <td> 0.547</td> <td>   -0.002</td> <td>    0.003</td>\n",
       "</tr>\n",
       "<tr>\n",
       "  <th>x28</th>   <td>    0.0086</td> <td>    0.001</td> <td>    5.878</td> <td> 0.000</td> <td>    0.006</td> <td>    0.011</td>\n",
       "</tr>\n",
       "<tr>\n",
       "  <th>x29</th>   <td>    0.0035</td> <td>    0.002</td> <td>    1.973</td> <td> 0.049</td> <td> 2.23e-05</td> <td>    0.007</td>\n",
       "</tr>\n",
       "<tr>\n",
       "  <th>x30</th>   <td>   -0.0012</td> <td>    0.001</td> <td>   -0.820</td> <td> 0.412</td> <td>   -0.004</td> <td>    0.002</td>\n",
       "</tr>\n",
       "<tr>\n",
       "  <th>x31</th>   <td>    0.0018</td> <td>    0.002</td> <td>    1.167</td> <td> 0.243</td> <td>   -0.001</td> <td>    0.005</td>\n",
       "</tr>\n",
       "<tr>\n",
       "  <th>x32</th>   <td>    0.0026</td> <td>    0.004</td> <td>    0.678</td> <td> 0.498</td> <td>   -0.005</td> <td>    0.010</td>\n",
       "</tr>\n",
       "<tr>\n",
       "  <th>x33</th>   <td>   -0.0015</td> <td>    0.001</td> <td>   -1.184</td> <td> 0.236</td> <td>   -0.004</td> <td>    0.001</td>\n",
       "</tr>\n",
       "<tr>\n",
       "  <th>x34</th>   <td> 1.312e+08</td> <td> 6.96e+07</td> <td>    1.885</td> <td> 0.059</td> <td> -5.2e+06</td> <td> 2.68e+08</td>\n",
       "</tr>\n",
       "<tr>\n",
       "  <th>x35</th>   <td>    0.0095</td> <td>    0.004</td> <td>    2.489</td> <td> 0.013</td> <td>    0.002</td> <td>    0.017</td>\n",
       "</tr>\n",
       "<tr>\n",
       "  <th>x36</th>   <td>    0.0066</td> <td>    0.001</td> <td>    5.021</td> <td> 0.000</td> <td>    0.004</td> <td>    0.009</td>\n",
       "</tr>\n",
       "<tr>\n",
       "  <th>x37</th>   <td>   -0.0015</td> <td>    0.001</td> <td>   -1.199</td> <td> 0.231</td> <td>   -0.004</td> <td>    0.001</td>\n",
       "</tr>\n",
       "<tr>\n",
       "  <th>x38</th>   <td>    0.0109</td> <td>    0.002</td> <td>    6.682</td> <td> 0.000</td> <td>    0.008</td> <td>    0.014</td>\n",
       "</tr>\n",
       "<tr>\n",
       "  <th>x39</th>   <td>    0.0351</td> <td>    0.015</td> <td>    2.345</td> <td> 0.019</td> <td>    0.006</td> <td>    0.064</td>\n",
       "</tr>\n",
       "<tr>\n",
       "  <th>x40</th>   <td>    0.0165</td> <td>    0.001</td> <td>   11.984</td> <td> 0.000</td> <td>    0.014</td> <td>    0.019</td>\n",
       "</tr>\n",
       "<tr>\n",
       "  <th>x41</th>   <td>   -0.5763</td> <td>    0.002</td> <td> -354.095</td> <td> 0.000</td> <td>   -0.580</td> <td>   -0.573</td>\n",
       "</tr>\n",
       "<tr>\n",
       "  <th>x42</th>   <td>    0.0482</td> <td>    0.005</td> <td>   10.514</td> <td> 0.000</td> <td>    0.039</td> <td>    0.057</td>\n",
       "</tr>\n",
       "<tr>\n",
       "  <th>x43</th>   <td>    0.0127</td> <td>    0.003</td> <td>    4.701</td> <td> 0.000</td> <td>    0.007</td> <td>    0.018</td>\n",
       "</tr>\n",
       "<tr>\n",
       "  <th>x44</th>   <td> 1.961e+11</td> <td> 9.88e+10</td> <td>    1.985</td> <td> 0.047</td> <td> 2.49e+09</td> <td>  3.9e+11</td>\n",
       "</tr>\n",
       "<tr>\n",
       "  <th>x45</th>   <td> 1.718e+11</td> <td> 8.37e+10</td> <td>    2.053</td> <td> 0.040</td> <td> 7.76e+09</td> <td> 3.36e+11</td>\n",
       "</tr>\n",
       "<tr>\n",
       "  <th>x46</th>   <td>  3.56e+11</td> <td> 1.73e+11</td> <td>    2.053</td> <td> 0.040</td> <td> 1.61e+10</td> <td> 6.96e+11</td>\n",
       "</tr>\n",
       "<tr>\n",
       "  <th>x47</th>   <td> 1.716e+10</td> <td> 8.38e+09</td> <td>    2.048</td> <td> 0.041</td> <td> 7.38e+08</td> <td> 3.36e+10</td>\n",
       "</tr>\n",
       "<tr>\n",
       "  <th>x48</th>   <td>   -0.0231</td> <td>    0.006</td> <td>   -3.944</td> <td> 0.000</td> <td>   -0.035</td> <td>   -0.012</td>\n",
       "</tr>\n",
       "<tr>\n",
       "  <th>x49</th>   <td>    0.0155</td> <td>    0.007</td> <td>    2.098</td> <td> 0.036</td> <td>    0.001</td> <td>    0.030</td>\n",
       "</tr>\n",
       "<tr>\n",
       "  <th>x50</th>   <td>   -0.0012</td> <td>    0.003</td> <td>   -0.405</td> <td> 0.686</td> <td>   -0.007</td> <td>    0.005</td>\n",
       "</tr>\n",
       "<tr>\n",
       "  <th>x51</th>   <td>   -0.0513</td> <td>    0.021</td> <td>   -2.393</td> <td> 0.017</td> <td>   -0.093</td> <td>   -0.009</td>\n",
       "</tr>\n",
       "<tr>\n",
       "  <th>x52</th>   <td>    0.0209</td> <td>    0.007</td> <td>    2.966</td> <td> 0.003</td> <td>    0.007</td> <td>    0.035</td>\n",
       "</tr>\n",
       "<tr>\n",
       "  <th>x53</th>   <td>-3.744e+07</td> <td> 1.99e+07</td> <td>   -1.885</td> <td> 0.059</td> <td>-7.64e+07</td> <td> 1.48e+06</td>\n",
       "</tr>\n",
       "<tr>\n",
       "  <th>x54</th>   <td> 3.744e+07</td> <td> 1.99e+07</td> <td>    1.885</td> <td> 0.059</td> <td>-1.48e+06</td> <td> 7.64e+07</td>\n",
       "</tr>\n",
       "<tr>\n",
       "  <th>x55</th>   <td>    0.0662</td> <td>    0.014</td> <td>    4.613</td> <td> 0.000</td> <td>    0.038</td> <td>    0.094</td>\n",
       "</tr>\n",
       "<tr>\n",
       "  <th>x56</th>   <td>    0.0054</td> <td>    0.002</td> <td>    2.668</td> <td> 0.008</td> <td>    0.001</td> <td>    0.009</td>\n",
       "</tr>\n",
       "<tr>\n",
       "  <th>x57</th>   <td>   -0.0651</td> <td>    0.006</td> <td>  -11.628</td> <td> 0.000</td> <td>   -0.076</td> <td>   -0.054</td>\n",
       "</tr>\n",
       "<tr>\n",
       "  <th>x58</th>   <td>   -0.0022</td> <td>    0.003</td> <td>   -0.882</td> <td> 0.378</td> <td>   -0.007</td> <td>    0.003</td>\n",
       "</tr>\n",
       "<tr>\n",
       "  <th>x59</th>   <td>    0.0352</td> <td>    0.003</td> <td>   10.589</td> <td> 0.000</td> <td>    0.029</td> <td>    0.042</td>\n",
       "</tr>\n",
       "<tr>\n",
       "  <th>x60</th>   <td>    0.0008</td> <td>    0.002</td> <td>    0.522</td> <td> 0.601</td> <td>   -0.002</td> <td>    0.004</td>\n",
       "</tr>\n",
       "<tr>\n",
       "  <th>x61</th>   <td>   -0.0100</td> <td>    0.002</td> <td>   -6.055</td> <td> 0.000</td> <td>   -0.013</td> <td>   -0.007</td>\n",
       "</tr>\n",
       "<tr>\n",
       "  <th>x62</th>   <td>   -0.0408</td> <td>    0.007</td> <td>   -5.890</td> <td> 0.000</td> <td>   -0.054</td> <td>   -0.027</td>\n",
       "</tr>\n",
       "<tr>\n",
       "  <th>x63</th>   <td>    0.0053</td> <td>    0.005</td> <td>    1.147</td> <td> 0.251</td> <td>   -0.004</td> <td>    0.014</td>\n",
       "</tr>\n",
       "<tr>\n",
       "  <th>x64</th>   <td>    0.0252</td> <td>    0.004</td> <td>    6.727</td> <td> 0.000</td> <td>    0.018</td> <td>    0.033</td>\n",
       "</tr>\n",
       "<tr>\n",
       "  <th>x65</th>   <td>    0.0098</td> <td>    0.002</td> <td>    6.222</td> <td> 0.000</td> <td>    0.007</td> <td>    0.013</td>\n",
       "</tr>\n",
       "<tr>\n",
       "  <th>x66</th>   <td>   -0.0036</td> <td>    0.002</td> <td>   -1.868</td> <td> 0.062</td> <td>   -0.007</td> <td>    0.000</td>\n",
       "</tr>\n",
       "<tr>\n",
       "  <th>x67</th>   <td>   -0.0063</td> <td>    0.002</td> <td>   -3.595</td> <td> 0.000</td> <td>   -0.010</td> <td>   -0.003</td>\n",
       "</tr>\n",
       "<tr>\n",
       "  <th>x68</th>   <td>    0.0020</td> <td>    0.002</td> <td>    1.326</td> <td> 0.185</td> <td>   -0.001</td> <td>    0.005</td>\n",
       "</tr>\n",
       "<tr>\n",
       "  <th>x69</th>   <td>-1.693e+08</td> <td> 8.98e+07</td> <td>   -1.885</td> <td> 0.059</td> <td>-3.45e+08</td> <td> 6.71e+06</td>\n",
       "</tr>\n",
       "<tr>\n",
       "  <th>x70</th>   <td>-1.267e+08</td> <td> 6.72e+07</td> <td>   -1.885</td> <td> 0.059</td> <td>-2.58e+08</td> <td> 5.03e+06</td>\n",
       "</tr>\n",
       "<tr>\n",
       "  <th>x71</th>   <td>-1.191e+08</td> <td> 6.32e+07</td> <td>   -1.885</td> <td> 0.059</td> <td>-2.43e+08</td> <td> 4.73e+06</td>\n",
       "</tr>\n",
       "<tr>\n",
       "  <th>x72</th>   <td>-2.322e+07</td> <td> 1.23e+07</td> <td>   -1.885</td> <td> 0.059</td> <td>-4.74e+07</td> <td> 9.21e+05</td>\n",
       "</tr>\n",
       "<tr>\n",
       "  <th>x73</th>   <td> 1.312e+08</td> <td> 6.96e+07</td> <td>    1.885</td> <td> 0.059</td> <td> -5.2e+06</td> <td> 2.68e+08</td>\n",
       "</tr>\n",
       "<tr>\n",
       "  <th>x74</th>   <td>   -0.0315</td> <td>    0.002</td> <td>  -13.082</td> <td> 0.000</td> <td>   -0.036</td> <td>   -0.027</td>\n",
       "</tr>\n",
       "<tr>\n",
       "  <th>x75</th>   <td>    0.0033</td> <td>    0.004</td> <td>    0.796</td> <td> 0.426</td> <td>   -0.005</td> <td>    0.011</td>\n",
       "</tr>\n",
       "<tr>\n",
       "  <th>x76</th>   <td>    0.0142</td> <td>    0.005</td> <td>    3.109</td> <td> 0.002</td> <td>    0.005</td> <td>    0.023</td>\n",
       "</tr>\n",
       "<tr>\n",
       "  <th>x77</th>   <td>   -0.0177</td> <td>    0.004</td> <td>   -5.068</td> <td> 0.000</td> <td>   -0.025</td> <td>   -0.011</td>\n",
       "</tr>\n",
       "<tr>\n",
       "  <th>x78</th>   <td>   -0.0144</td> <td>    0.003</td> <td>   -4.661</td> <td> 0.000</td> <td>   -0.020</td> <td>   -0.008</td>\n",
       "</tr>\n",
       "<tr>\n",
       "  <th>x79</th>   <td>    0.0141</td> <td>    0.002</td> <td>    6.825</td> <td> 0.000</td> <td>    0.010</td> <td>    0.018</td>\n",
       "</tr>\n",
       "<tr>\n",
       "  <th>x80</th>   <td>    0.0889</td> <td>    0.002</td> <td>   54.602</td> <td> 0.000</td> <td>    0.086</td> <td>    0.092</td>\n",
       "</tr>\n",
       "<tr>\n",
       "  <th>x81</th>   <td>    0.0258</td> <td>    0.001</td> <td>   17.437</td> <td> 0.000</td> <td>    0.023</td> <td>    0.029</td>\n",
       "</tr>\n",
       "<tr>\n",
       "  <th>x82</th>   <td>   -0.0170</td> <td>    0.001</td> <td>  -13.403</td> <td> 0.000</td> <td>   -0.019</td> <td>   -0.015</td>\n",
       "</tr>\n",
       "<tr>\n",
       "  <th>x83</th>   <td>   -0.0112</td> <td>    0.002</td> <td>   -6.979</td> <td> 0.000</td> <td>   -0.014</td> <td>   -0.008</td>\n",
       "</tr>\n",
       "<tr>\n",
       "  <th>x84</th>   <td>   -2.0966</td> <td>    8.699</td> <td>   -0.241</td> <td> 0.810</td> <td>  -19.146</td> <td>   14.952</td>\n",
       "</tr>\n",
       "<tr>\n",
       "  <th>x85</th>   <td>   -0.0025</td> <td>    0.002</td> <td>   -1.299</td> <td> 0.194</td> <td>   -0.006</td> <td>    0.001</td>\n",
       "</tr>\n",
       "<tr>\n",
       "  <th>x86</th>   <td>    0.0092</td> <td>    0.004</td> <td>    2.625</td> <td> 0.009</td> <td>    0.002</td> <td>    0.016</td>\n",
       "</tr>\n",
       "<tr>\n",
       "  <th>x87</th>   <td>    0.0014</td> <td>    0.001</td> <td>    1.059</td> <td> 0.290</td> <td>   -0.001</td> <td>    0.004</td>\n",
       "</tr>\n",
       "<tr>\n",
       "  <th>x88</th>   <td>    0.0007</td> <td>    0.002</td> <td>    0.429</td> <td> 0.668</td> <td>   -0.002</td> <td>    0.004</td>\n",
       "</tr>\n",
       "<tr>\n",
       "  <th>x89</th>   <td>   -0.0004</td> <td>    0.001</td> <td>   -0.321</td> <td> 0.748</td> <td>   -0.003</td> <td>    0.002</td>\n",
       "</tr>\n",
       "<tr>\n",
       "  <th>x90</th>   <td>   -0.0017</td> <td>    0.001</td> <td>   -1.129</td> <td> 0.259</td> <td>   -0.005</td> <td>    0.001</td>\n",
       "</tr>\n",
       "<tr>\n",
       "  <th>x91</th>   <td>    0.0002</td> <td>    0.001</td> <td>    0.110</td> <td> 0.912</td> <td>   -0.003</td> <td>    0.003</td>\n",
       "</tr>\n",
       "<tr>\n",
       "  <th>x92</th>   <td>    0.0023</td> <td>    0.002</td> <td>    1.417</td> <td> 0.157</td> <td>   -0.001</td> <td>    0.005</td>\n",
       "</tr>\n",
       "<tr>\n",
       "  <th>x93</th>   <td>   -0.0124</td> <td>    0.002</td> <td>   -7.402</td> <td> 0.000</td> <td>   -0.016</td> <td>   -0.009</td>\n",
       "</tr>\n",
       "<tr>\n",
       "  <th>x94</th>   <td>   -0.0034</td> <td>    0.001</td> <td>   -2.575</td> <td> 0.010</td> <td>   -0.006</td> <td>   -0.001</td>\n",
       "</tr>\n",
       "<tr>\n",
       "  <th>x95</th>   <td>    0.0085</td> <td>    0.005</td> <td>    1.837</td> <td> 0.066</td> <td>   -0.001</td> <td>    0.018</td>\n",
       "</tr>\n",
       "<tr>\n",
       "  <th>x96</th>   <td>    0.0063</td> <td>    0.002</td> <td>    3.712</td> <td> 0.000</td> <td>    0.003</td> <td>    0.010</td>\n",
       "</tr>\n",
       "<tr>\n",
       "  <th>x97</th>   <td>   -0.0024</td> <td>    0.006</td> <td>   -0.443</td> <td> 0.658</td> <td>   -0.013</td> <td>    0.008</td>\n",
       "</tr>\n",
       "<tr>\n",
       "  <th>x98</th>   <td>   -0.0126</td> <td>    0.004</td> <td>   -3.543</td> <td> 0.000</td> <td>   -0.020</td> <td>   -0.006</td>\n",
       "</tr>\n",
       "<tr>\n",
       "  <th>x99</th>   <td>    0.0088</td> <td>    0.002</td> <td>    3.969</td> <td> 0.000</td> <td>    0.004</td> <td>    0.013</td>\n",
       "</tr>\n",
       "<tr>\n",
       "  <th>x100</th>  <td>   -0.1076</td> <td>    0.045</td> <td>   -2.392</td> <td> 0.017</td> <td>   -0.196</td> <td>   -0.019</td>\n",
       "</tr>\n",
       "<tr>\n",
       "  <th>x101</th>  <td>    0.0221</td> <td>    0.044</td> <td>    0.499</td> <td> 0.618</td> <td>   -0.065</td> <td>    0.109</td>\n",
       "</tr>\n",
       "<tr>\n",
       "  <th>x102</th>  <td>    2.2516</td> <td>    8.698</td> <td>    0.259</td> <td> 0.796</td> <td>  -14.796</td> <td>   19.300</td>\n",
       "</tr>\n",
       "<tr>\n",
       "  <th>x103</th>  <td>   -0.0753</td> <td>    0.010</td> <td>   -7.567</td> <td> 0.000</td> <td>   -0.095</td> <td>   -0.056</td>\n",
       "</tr>\n",
       "<tr>\n",
       "  <th>x104</th>  <td>   -0.0446</td> <td>    0.002</td> <td>  -19.327</td> <td> 0.000</td> <td>   -0.049</td> <td>   -0.040</td>\n",
       "</tr>\n",
       "<tr>\n",
       "  <th>x105</th>  <td>   -0.2377</td> <td>    0.303</td> <td>   -0.785</td> <td> 0.432</td> <td>   -0.831</td> <td>    0.356</td>\n",
       "</tr>\n",
       "<tr>\n",
       "  <th>x106</th>  <td>    0.2623</td> <td>    0.303</td> <td>    0.867</td> <td> 0.386</td> <td>   -0.331</td> <td>    0.856</td>\n",
       "</tr>\n",
       "<tr>\n",
       "  <th>x107</th>  <td> 5.232e+10</td> <td> 2.56e+10</td> <td>    2.042</td> <td> 0.041</td> <td> 2.11e+09</td> <td> 1.03e+11</td>\n",
       "</tr>\n",
       "<tr>\n",
       "  <th>x108</th>  <td> 8.364e+10</td> <td>  4.1e+10</td> <td>    2.042</td> <td> 0.041</td> <td> 3.37e+09</td> <td> 1.64e+11</td>\n",
       "</tr>\n",
       "<tr>\n",
       "  <th>x109</th>  <td>-1.937e+10</td> <td> 9.48e+09</td> <td>   -2.042</td> <td> 0.041</td> <td> -3.8e+10</td> <td> -7.8e+08</td>\n",
       "</tr>\n",
       "<tr>\n",
       "  <th>x110</th>  <td>-3.035e+10</td> <td> 1.49e+10</td> <td>   -2.042</td> <td> 0.041</td> <td>-5.95e+10</td> <td>-1.22e+09</td>\n",
       "</tr>\n",
       "<tr>\n",
       "  <th>x111</th>  <td>-1.948e+10</td> <td> 9.54e+09</td> <td>   -2.042</td> <td> 0.041</td> <td>-3.82e+10</td> <td>-7.85e+08</td>\n",
       "</tr>\n",
       "<tr>\n",
       "  <th>x112</th>  <td>-3.609e+10</td> <td> 1.77e+10</td> <td>   -2.042</td> <td> 0.041</td> <td>-7.07e+10</td> <td>-1.45e+09</td>\n",
       "</tr>\n",
       "<tr>\n",
       "  <th>x113</th>  <td>-1.035e+11</td> <td> 5.07e+10</td> <td>   -2.042</td> <td> 0.041</td> <td>-2.03e+11</td> <td>-4.18e+09</td>\n",
       "</tr>\n",
       "<tr>\n",
       "  <th>x114</th>  <td> 7.104e+10</td> <td> 3.48e+10</td> <td>    2.042</td> <td> 0.041</td> <td> 2.86e+09</td> <td> 1.39e+11</td>\n",
       "</tr>\n",
       "<tr>\n",
       "  <th>x115</th>  <td>   -0.0442</td> <td>    0.578</td> <td>   -0.076</td> <td> 0.939</td> <td>   -1.178</td> <td>    1.090</td>\n",
       "</tr>\n",
       "<tr>\n",
       "  <th>x116</th>  <td>   -0.0282</td> <td>    0.579</td> <td>   -0.049</td> <td> 0.961</td> <td>   -1.162</td> <td>    1.106</td>\n",
       "</tr>\n",
       "<tr>\n",
       "  <th>x117</th>  <td>   -0.0152</td> <td>    0.002</td> <td>   -6.112</td> <td> 0.000</td> <td>   -0.020</td> <td>   -0.010</td>\n",
       "</tr>\n",
       "<tr>\n",
       "  <th>x118</th>  <td>    0.0024</td> <td>    0.001</td> <td>    1.864</td> <td> 0.062</td> <td>   -0.000</td> <td>    0.005</td>\n",
       "</tr>\n",
       "<tr>\n",
       "  <th>x119</th>  <td>   -0.0619</td> <td>    0.015</td> <td>   -4.059</td> <td> 0.000</td> <td>   -0.092</td> <td>   -0.032</td>\n",
       "</tr>\n",
       "</table>\n",
       "<table class=\"simpletable\">\n",
       "<tr>\n",
       "  <th>Omnibus:</th>       <td>12580.564</td> <th>  Durbin-Watson:     </th> <td>   2.001</td>\n",
       "</tr>\n",
       "<tr>\n",
       "  <th>Prob(Omnibus):</th>  <td> 0.000</td>   <th>  Jarque-Bera (JB):  </th> <td>6002.477</td>\n",
       "</tr>\n",
       "<tr>\n",
       "  <th>Skew:</th>           <td>-0.166</td>   <th>  Prob(JB):          </th> <td>    0.00</td>\n",
       "</tr>\n",
       "<tr>\n",
       "  <th>Kurtosis:</th>       <td> 2.345</td>   <th>  Cond. No.          </th> <td>3.03e+16</td>\n",
       "</tr>\n",
       "</table><br/><br/>Notes:<br/>[1] Standard Errors assume that the covariance matrix of the errors is correctly specified.<br/>[2] The smallest eigenvalue is 3.1e-27. This might indicate that there are<br/>strong multicollinearity problems or that the design matrix is singular."
      ],
      "text/plain": [
       "<class 'statsmodels.iolib.summary.Summary'>\n",
       "\"\"\"\n",
       "                            OLS Regression Results                            \n",
       "==============================================================================\n",
       "Dep. Variable:                genhlth   R-squared:                       0.643\n",
       "Model:                            OLS   Adj. R-squared:                  0.643\n",
       "Method:                 Least Squares   F-statistic:                     4457.\n",
       "Date:                Thu, 17 Nov 2022   Prob (F-statistic):               0.00\n",
       "Time:                        16:23:43   Log-Likelihood:            -2.5850e+05\n",
       "No. Observations:              267188   AIC:                         5.172e+05\n",
       "Df Residuals:                  267079   BIC:                         5.184e+05\n",
       "Df Model:                         108                                         \n",
       "Covariance Type:            nonrobust                                         \n",
       "==============================================================================\n",
       "                 coef    std err          t      P>|t|      [0.025      0.975]\n",
       "------------------------------------------------------------------------------\n",
       "const          2.4860      0.001   2017.503      0.000       2.484       2.488\n",
       "x1            -0.0152      0.001    -10.765      0.000      -0.018      -0.012\n",
       "x2            -0.0117      0.001     -9.179      0.000      -0.014      -0.009\n",
       "x3             0.0279      0.001     19.955      0.000       0.025       0.031\n",
       "x4             0.0054      0.001      3.790      0.000       0.003       0.008\n",
       "x5             0.0246      0.005      5.427      0.000       0.016       0.033\n",
       "x6             0.0027      0.003      0.918      0.358      -0.003       0.008\n",
       "x7             0.0126      0.001      8.771      0.000       0.010       0.015\n",
       "x8             0.0209      0.001     14.525      0.000       0.018       0.024\n",
       "x9             0.0100      0.001      7.735      0.000       0.007       0.012\n",
       "x10         5.843e+09   1.43e+10      0.407      0.684   -2.23e+10     3.4e+10\n",
       "x11            0.0027      0.001      2.066      0.039       0.000       0.005\n",
       "x12            0.0378      0.001     29.504      0.000       0.035       0.040\n",
       "x13            0.0202      0.001     14.733      0.000       0.018       0.023\n",
       "x14         1.716e+10   8.38e+09      2.048      0.041    7.38e+08    3.36e+10\n",
       "x15            0.0218      0.001     15.257      0.000       0.019       0.025\n",
       "x16            0.0092      0.001      7.245      0.000       0.007       0.012\n",
       "x17            0.0424      0.001     31.561      0.000       0.040       0.045\n",
       "x18           -0.0091      0.001     -6.271      0.000      -0.012      -0.006\n",
       "x19            0.0024      0.001      1.762      0.078      -0.000       0.005\n",
       "x20            0.0209      0.002     11.805      0.000       0.017       0.024\n",
       "x21           -0.0087      0.001     -5.900      0.000      -0.012      -0.006\n",
       "x22           -0.0334      0.001    -22.381      0.000      -0.036      -0.030\n",
       "x23            0.0046      0.001      3.491      0.000       0.002       0.007\n",
       "x24            0.0321      0.002     14.217      0.000       0.028       0.036\n",
       "x25            0.0731      0.002     43.461      0.000       0.070       0.076\n",
       "x26            0.0017      0.002      1.103      0.270      -0.001       0.005\n",
       "x27            0.0008      0.001      0.603      0.547      -0.002       0.003\n",
       "x28            0.0086      0.001      5.878      0.000       0.006       0.011\n",
       "x29            0.0035      0.002      1.973      0.049    2.23e-05       0.007\n",
       "x30           -0.0012      0.001     -0.820      0.412      -0.004       0.002\n",
       "x31            0.0018      0.002      1.167      0.243      -0.001       0.005\n",
       "x32            0.0026      0.004      0.678      0.498      -0.005       0.010\n",
       "x33           -0.0015      0.001     -1.184      0.236      -0.004       0.001\n",
       "x34         1.312e+08   6.96e+07      1.885      0.059    -5.2e+06    2.68e+08\n",
       "x35            0.0095      0.004      2.489      0.013       0.002       0.017\n",
       "x36            0.0066      0.001      5.021      0.000       0.004       0.009\n",
       "x37           -0.0015      0.001     -1.199      0.231      -0.004       0.001\n",
       "x38            0.0109      0.002      6.682      0.000       0.008       0.014\n",
       "x39            0.0351      0.015      2.345      0.019       0.006       0.064\n",
       "x40            0.0165      0.001     11.984      0.000       0.014       0.019\n",
       "x41           -0.5763      0.002   -354.095      0.000      -0.580      -0.573\n",
       "x42            0.0482      0.005     10.514      0.000       0.039       0.057\n",
       "x43            0.0127      0.003      4.701      0.000       0.007       0.018\n",
       "x44         1.961e+11   9.88e+10      1.985      0.047    2.49e+09     3.9e+11\n",
       "x45         1.718e+11   8.37e+10      2.053      0.040    7.76e+09    3.36e+11\n",
       "x46          3.56e+11   1.73e+11      2.053      0.040    1.61e+10    6.96e+11\n",
       "x47         1.716e+10   8.38e+09      2.048      0.041    7.38e+08    3.36e+10\n",
       "x48           -0.0231      0.006     -3.944      0.000      -0.035      -0.012\n",
       "x49            0.0155      0.007      2.098      0.036       0.001       0.030\n",
       "x50           -0.0012      0.003     -0.405      0.686      -0.007       0.005\n",
       "x51           -0.0513      0.021     -2.393      0.017      -0.093      -0.009\n",
       "x52            0.0209      0.007      2.966      0.003       0.007       0.035\n",
       "x53        -3.744e+07   1.99e+07     -1.885      0.059   -7.64e+07    1.48e+06\n",
       "x54         3.744e+07   1.99e+07      1.885      0.059   -1.48e+06    7.64e+07\n",
       "x55            0.0662      0.014      4.613      0.000       0.038       0.094\n",
       "x56            0.0054      0.002      2.668      0.008       0.001       0.009\n",
       "x57           -0.0651      0.006    -11.628      0.000      -0.076      -0.054\n",
       "x58           -0.0022      0.003     -0.882      0.378      -0.007       0.003\n",
       "x59            0.0352      0.003     10.589      0.000       0.029       0.042\n",
       "x60            0.0008      0.002      0.522      0.601      -0.002       0.004\n",
       "x61           -0.0100      0.002     -6.055      0.000      -0.013      -0.007\n",
       "x62           -0.0408      0.007     -5.890      0.000      -0.054      -0.027\n",
       "x63            0.0053      0.005      1.147      0.251      -0.004       0.014\n",
       "x64            0.0252      0.004      6.727      0.000       0.018       0.033\n",
       "x65            0.0098      0.002      6.222      0.000       0.007       0.013\n",
       "x66           -0.0036      0.002     -1.868      0.062      -0.007       0.000\n",
       "x67           -0.0063      0.002     -3.595      0.000      -0.010      -0.003\n",
       "x68            0.0020      0.002      1.326      0.185      -0.001       0.005\n",
       "x69        -1.693e+08   8.98e+07     -1.885      0.059   -3.45e+08    6.71e+06\n",
       "x70        -1.267e+08   6.72e+07     -1.885      0.059   -2.58e+08    5.03e+06\n",
       "x71        -1.191e+08   6.32e+07     -1.885      0.059   -2.43e+08    4.73e+06\n",
       "x72        -2.322e+07   1.23e+07     -1.885      0.059   -4.74e+07    9.21e+05\n",
       "x73         1.312e+08   6.96e+07      1.885      0.059    -5.2e+06    2.68e+08\n",
       "x74           -0.0315      0.002    -13.082      0.000      -0.036      -0.027\n",
       "x75            0.0033      0.004      0.796      0.426      -0.005       0.011\n",
       "x76            0.0142      0.005      3.109      0.002       0.005       0.023\n",
       "x77           -0.0177      0.004     -5.068      0.000      -0.025      -0.011\n",
       "x78           -0.0144      0.003     -4.661      0.000      -0.020      -0.008\n",
       "x79            0.0141      0.002      6.825      0.000       0.010       0.018\n",
       "x80            0.0889      0.002     54.602      0.000       0.086       0.092\n",
       "x81            0.0258      0.001     17.437      0.000       0.023       0.029\n",
       "x82           -0.0170      0.001    -13.403      0.000      -0.019      -0.015\n",
       "x83           -0.0112      0.002     -6.979      0.000      -0.014      -0.008\n",
       "x84           -2.0966      8.699     -0.241      0.810     -19.146      14.952\n",
       "x85           -0.0025      0.002     -1.299      0.194      -0.006       0.001\n",
       "x86            0.0092      0.004      2.625      0.009       0.002       0.016\n",
       "x87            0.0014      0.001      1.059      0.290      -0.001       0.004\n",
       "x88            0.0007      0.002      0.429      0.668      -0.002       0.004\n",
       "x89           -0.0004      0.001     -0.321      0.748      -0.003       0.002\n",
       "x90           -0.0017      0.001     -1.129      0.259      -0.005       0.001\n",
       "x91            0.0002      0.001      0.110      0.912      -0.003       0.003\n",
       "x92            0.0023      0.002      1.417      0.157      -0.001       0.005\n",
       "x93           -0.0124      0.002     -7.402      0.000      -0.016      -0.009\n",
       "x94           -0.0034      0.001     -2.575      0.010      -0.006      -0.001\n",
       "x95            0.0085      0.005      1.837      0.066      -0.001       0.018\n",
       "x96            0.0063      0.002      3.712      0.000       0.003       0.010\n",
       "x97           -0.0024      0.006     -0.443      0.658      -0.013       0.008\n",
       "x98           -0.0126      0.004     -3.543      0.000      -0.020      -0.006\n",
       "x99            0.0088      0.002      3.969      0.000       0.004       0.013\n",
       "x100          -0.1076      0.045     -2.392      0.017      -0.196      -0.019\n",
       "x101           0.0221      0.044      0.499      0.618      -0.065       0.109\n",
       "x102           2.2516      8.698      0.259      0.796     -14.796      19.300\n",
       "x103          -0.0753      0.010     -7.567      0.000      -0.095      -0.056\n",
       "x104          -0.0446      0.002    -19.327      0.000      -0.049      -0.040\n",
       "x105          -0.2377      0.303     -0.785      0.432      -0.831       0.356\n",
       "x106           0.2623      0.303      0.867      0.386      -0.331       0.856\n",
       "x107        5.232e+10   2.56e+10      2.042      0.041    2.11e+09    1.03e+11\n",
       "x108        8.364e+10    4.1e+10      2.042      0.041    3.37e+09    1.64e+11\n",
       "x109       -1.937e+10   9.48e+09     -2.042      0.041    -3.8e+10    -7.8e+08\n",
       "x110       -3.035e+10   1.49e+10     -2.042      0.041   -5.95e+10   -1.22e+09\n",
       "x111       -1.948e+10   9.54e+09     -2.042      0.041   -3.82e+10   -7.85e+08\n",
       "x112       -3.609e+10   1.77e+10     -2.042      0.041   -7.07e+10   -1.45e+09\n",
       "x113       -1.035e+11   5.07e+10     -2.042      0.041   -2.03e+11   -4.18e+09\n",
       "x114        7.104e+10   3.48e+10      2.042      0.041    2.86e+09    1.39e+11\n",
       "x115          -0.0442      0.578     -0.076      0.939      -1.178       1.090\n",
       "x116          -0.0282      0.579     -0.049      0.961      -1.162       1.106\n",
       "x117          -0.0152      0.002     -6.112      0.000      -0.020      -0.010\n",
       "x118           0.0024      0.001      1.864      0.062      -0.000       0.005\n",
       "x119          -0.0619      0.015     -4.059      0.000      -0.092      -0.032\n",
       "==============================================================================\n",
       "Omnibus:                    12580.564   Durbin-Watson:                   2.001\n",
       "Prob(Omnibus):                  0.000   Jarque-Bera (JB):             6002.477\n",
       "Skew:                          -0.166   Prob(JB):                         0.00\n",
       "Kurtosis:                       2.345   Cond. No.                     3.03e+16\n",
       "==============================================================================\n",
       "\n",
       "Notes:\n",
       "[1] Standard Errors assume that the covariance matrix of the errors is correctly specified.\n",
       "[2] The smallest eigenvalue is 3.1e-27. This might indicate that there are\n",
       "strong multicollinearity problems or that the design matrix is singular.\n",
       "\"\"\""
      ]
     },
     "execution_count": 60,
     "metadata": {},
     "output_type": "execute_result"
    }
   ],
   "source": [
    "## linear\n",
    "X_const= sm.add_constant(X_train)\n",
    "model1 = sm.OLS(y_train, X_const).fit()\n",
    "model1.summary()\n"
   ]
  },
  {
   "cell_type": "code",
   "execution_count": 102,
   "id": "ad56f434",
   "metadata": {},
   "outputs": [],
   "source": [
    "df3=df1[(df1['genhlth']== 1)|(df1['genhlth']== 3)|(df1['genhlth']== 5)]\n",
    "\n",
    "y = df3['genhlth']\n",
    "X = df3[feat_lst]\n"
   ]
  },
  {
   "cell_type": "code",
   "execution_count": 103,
   "id": "a1b206f8",
   "metadata": {},
   "outputs": [],
   "source": [
    "X_train, X_test, y_train, y_test = train_test_split(X, y, test_size=0.20, random_state=0)\n",
    "scaler = StandardScaler()  # normalization: zero mean, unit variance\n",
    "scaler.fit(X_train)  # scaling factor determined from the training set\n",
    "\n",
    "X_train = scaler.transform(X_train)\n",
    "scaler.fit(X_test) \n",
    "X_test = scaler.transform(X_test)"
   ]
  },
  {
   "cell_type": "code",
   "execution_count": 83,
   "id": "87ab9646",
   "metadata": {},
   "outputs": [
    {
     "name": "stderr",
     "output_type": "stream",
     "text": [
      "/Users/aliceqichaowu/opt/anaconda3/lib/python3.8/site-packages/sklearn/linear_model/_logistic.py:763: ConvergenceWarning: lbfgs failed to converge (status=1):\n",
      "STOP: TOTAL NO. of ITERATIONS REACHED LIMIT.\n",
      "\n",
      "Increase the number of iterations (max_iter) or scale the data as shown in:\n",
      "    https://scikit-learn.org/stable/modules/preprocessing.html\n",
      "Please also refer to the documentation for alternative solver options:\n",
      "    https://scikit-learn.org/stable/modules/linear_model.html#logistic-regression\n",
      "  n_iter_i = _check_optimize_result(\n"
     ]
    }
   ],
   "source": [
    "## logistic\n",
    "mdl_lr = LogisticRegression('l2')\n",
    "mdl_lr.fit(X_train, y_train)\n",
    "y_pred_LR = np.squeeze(mdl_lr.predict(X_test))"
   ]
  },
  {
   "cell_type": "code",
   "execution_count": 104,
   "id": "68b1f6de",
   "metadata": {},
   "outputs": [
    {
     "name": "stderr",
     "output_type": "stream",
     "text": [
      "/Users/aliceqichaowu/opt/anaconda3/lib/python3.8/site-packages/xgboost/sklearn.py:888: UserWarning: The use of label encoder in XGBClassifier is deprecated and will be removed in a future release. To remove this warning, do the following: 1) Pass option use_label_encoder=False when constructing XGBClassifier object; and 2) Encode your labels (y) as integers starting with 0, i.e. 0, 1, 2, ..., [num_class - 1].\n",
      "  warnings.warn(label_encoder_deprecation_msg, UserWarning)\n"
     ]
    },
    {
     "name": "stdout",
     "output_type": "stream",
     "text": [
      "[14:20:19] WARNING: /opt/concourse/worker/volumes/live/7a2b9f41-3287-451b-6691-43e9a6c0910f/volume/xgboost-split_1619728204606/work/src/learner.cc:1061: Starting in XGBoost 1.3.0, the default evaluation metric used with the objective 'multi:softprob' was changed from 'merror' to 'mlogloss'. Explicitly set eval_metric if you'd like to restore the old behavior.\n"
     ]
    }
   ],
   "source": [
    "## xgboost\n",
    "mdl_xgb = XGBClassifier()#booster='gblinear'\n",
    "mdl_xgb.fit(X_train, y_train)\n",
    "y_pred_xgb = np.squeeze(mdl_xgb.predict(X_test))\n"
   ]
  },
  {
   "cell_type": "code",
   "execution_count": 85,
   "id": "fa4402aa",
   "metadata": {},
   "outputs": [
    {
     "name": "stderr",
     "output_type": "stream",
     "text": [
      "/Users/aliceqichaowu/opt/anaconda3/lib/python3.8/site-packages/sklearn/linear_model/_sag.py:328: ConvergenceWarning: The max_iter was reached which means the coef_ did not converge\n",
      "  warnings.warn(\"The max_iter was reached which means \"\n"
     ]
    }
   ],
   "source": [
    "## Logistic regression + Elastic net\n",
    "mdl_lr2 = LogisticRegression(penalty='elasticnet',solver='saga',l1_ratio=0.5)\n",
    "mdl_lr2.fit(X_train, y_train)\n",
    "y_pred_lr2 = np.squeeze(mdl_lr2.predict(X_test))\n"
   ]
  },
  {
   "cell_type": "code",
   "execution_count": 110,
   "id": "e6d98fe7",
   "metadata": {},
   "outputs": [],
   "source": [
    "# random forest\n",
    "rf = RandomForestClassifier()\n",
    "rf.fit(X_train, y_train)\n",
    "y_pred_rf = np.squeeze(rf.predict(X_test))\n",
    "y_prob_rf = rf.predict_proba(X_test) "
   ]
  },
  {
   "cell_type": "code",
   "execution_count": 106,
   "id": "fa28e234",
   "metadata": {
    "scrolled": true
   },
   "outputs": [
    {
     "name": "stdout",
     "output_type": "stream",
     "text": [
      "              precision    recall  f1-score   support\n",
      "\n",
      "   Excellent       0.74      0.68      0.71     12497\n",
      "        Good       0.81      0.85      0.83     19759\n",
      "        Poor       1.00      1.00      1.00      3144\n",
      "\n",
      "    accuracy                           0.80     35400\n",
      "   macro avg       0.85      0.84      0.85     35400\n",
      "weighted avg       0.80      0.80      0.80     35400\n",
      "\n"
     ]
    }
   ],
   "source": [
    "# Evaluation metrics\n",
    "# target_names = ['Excellent','Very good','Good','Fair','Poor']\n",
    "target_names = ['Excellent','Good','Poor']\n",
    "print(classification_report(y_test, y_pred_xgb, target_names=target_names))"
   ]
  },
  {
   "cell_type": "code",
   "execution_count": 111,
   "id": "041f4b86",
   "metadata": {},
   "outputs": [
    {
     "name": "stdout",
     "output_type": "stream",
     "text": [
      "              precision    recall  f1-score   support\n",
      "\n",
      "   Excellent       0.75      0.65      0.70     12497\n",
      "        Good       0.80      0.86      0.83     19759\n",
      "        Poor       1.00      1.00      1.00      3144\n",
      "\n",
      "    accuracy                           0.80     35400\n",
      "   macro avg       0.85      0.84      0.84     35400\n",
      "weighted avg       0.80      0.80      0.80     35400\n",
      "\n"
     ]
    }
   ],
   "source": [
    "target_names = ['Excellent','Good','Poor']\n",
    "print(classification_report(y_test, y_pred_rf, target_names=target_names))"
   ]
  },
  {
   "cell_type": "code",
   "execution_count": 122,
   "id": "5354cec0",
   "metadata": {},
   "outputs": [
    {
     "name": "stderr",
     "output_type": "stream",
     "text": [
      "/Users/aliceqichaowu/opt/anaconda3/lib/python3.8/site-packages/xgboost/sklearn.py:888: UserWarning: The use of label encoder in XGBClassifier is deprecated and will be removed in a future release. To remove this warning, do the following: 1) Pass option use_label_encoder=False when constructing XGBClassifier object; and 2) Encode your labels (y) as integers starting with 0, i.e. 0, 1, 2, ..., [num_class - 1].\n",
      "  warnings.warn(label_encoder_deprecation_msg, UserWarning)\n",
      "/Users/aliceqichaowu/opt/anaconda3/lib/python3.8/site-packages/sklearn/model_selection/_validation.py:610: FitFailedWarning: Estimator fit failed. The score on this train-test partition for these parameters will be set to nan. Details: \n",
      "Traceback (most recent call last):\n",
      "  File \"/Users/aliceqichaowu/opt/anaconda3/lib/python3.8/site-packages/sklearn/model_selection/_validation.py\", line 593, in _fit_and_score\n",
      "    estimator.fit(X_train, y_train, **fit_params)\n",
      "  File \"/Users/aliceqichaowu/opt/anaconda3/lib/python3.8/site-packages/xgboost/core.py\", line 422, in inner_f\n",
      "    return f(**kwargs)\n",
      "  File \"/Users/aliceqichaowu/opt/anaconda3/lib/python3.8/site-packages/xgboost/sklearn.py\", line 903, in fit\n",
      "    train_dmatrix, evals = self._wrap_evaluation_matrices(\n",
      "  File \"/Users/aliceqichaowu/opt/anaconda3/lib/python3.8/site-packages/xgboost/sklearn.py\", line 265, in _wrap_evaluation_matrices\n",
      "    train_dmatrix = DMatrix(data=X, label=y, weight=sample_weight,\n",
      "  File \"/Users/aliceqichaowu/opt/anaconda3/lib/python3.8/site-packages/xgboost/core.py\", line 500, in __init__\n",
      "    handle, feature_names, feature_types = dispatch_data_backend(\n",
      "  File \"/Users/aliceqichaowu/opt/anaconda3/lib/python3.8/site-packages/xgboost/data.py\", line 539, in dispatch_data_backend\n",
      "    return _from_pandas_df(data, enable_categorical, missing, threads,\n",
      "  File \"/Users/aliceqichaowu/opt/anaconda3/lib/python3.8/site-packages/xgboost/data.py\", line 242, in _from_pandas_df\n",
      "    data, feature_names, feature_types = _transform_pandas_df(\n",
      "  File \"/Users/aliceqichaowu/opt/anaconda3/lib/python3.8/site-packages/xgboost/data.py\", line 207, in _transform_pandas_df\n",
      "    raise ValueError(msg + ', '.join(bad_fields))\n",
      "ValueError: DataFrame.dtypes for data must be int, float, bool or categorical.  When\n",
      "                categorical type is supplied, DMatrix parameter\n",
      "                `enable_categorical` must be set to `True`.X_prace1, diffalon, employ1, diffwalk, exerany2, chcocncr, X_frtlt1, useequip, X_drdxar1, X_fruitex, cvdinfr4, bphigh4, X_rfbmi5, X_rfhlth, decide, X_rfsmok3, qlactlm2, X_totinda, X_pastrng, diabete3, havarth3, internet, medcost, chccopd1, X_hispanc, X_smoker3, cvdcrhd4, X_asthms1, X_dualuse, addepev2, educa, X_rfhype5, hlthpln1, X_cholchk, sex, X_age_g, X_educag, persdoc2, cvdstrk3, chckidny, qstlang, drnkany5, X_rfbing5, flushot6, veteran3, X_raceg21, X_age65yr, checkup1, seatbelt, X_ageg5yr, renthom1, X_race_g1, X_racegr3, X_rfdrhv4, marital, chcscncr\n",
      "\n",
      "  warnings.warn(\"Estimator fit failed. The score on this train-test\"\n",
      "/Users/aliceqichaowu/opt/anaconda3/lib/python3.8/site-packages/xgboost/sklearn.py:888: UserWarning: The use of label encoder in XGBClassifier is deprecated and will be removed in a future release. To remove this warning, do the following: 1) Pass option use_label_encoder=False when constructing XGBClassifier object; and 2) Encode your labels (y) as integers starting with 0, i.e. 0, 1, 2, ..., [num_class - 1].\n",
      "  warnings.warn(label_encoder_deprecation_msg, UserWarning)\n",
      "/Users/aliceqichaowu/opt/anaconda3/lib/python3.8/site-packages/sklearn/model_selection/_validation.py:610: FitFailedWarning: Estimator fit failed. The score on this train-test partition for these parameters will be set to nan. Details: \n",
      "Traceback (most recent call last):\n",
      "  File \"/Users/aliceqichaowu/opt/anaconda3/lib/python3.8/site-packages/sklearn/model_selection/_validation.py\", line 593, in _fit_and_score\n",
      "    estimator.fit(X_train, y_train, **fit_params)\n",
      "  File \"/Users/aliceqichaowu/opt/anaconda3/lib/python3.8/site-packages/xgboost/core.py\", line 422, in inner_f\n",
      "    return f(**kwargs)\n",
      "  File \"/Users/aliceqichaowu/opt/anaconda3/lib/python3.8/site-packages/xgboost/sklearn.py\", line 903, in fit\n",
      "    train_dmatrix, evals = self._wrap_evaluation_matrices(\n",
      "  File \"/Users/aliceqichaowu/opt/anaconda3/lib/python3.8/site-packages/xgboost/sklearn.py\", line 265, in _wrap_evaluation_matrices\n",
      "    train_dmatrix = DMatrix(data=X, label=y, weight=sample_weight,\n",
      "  File \"/Users/aliceqichaowu/opt/anaconda3/lib/python3.8/site-packages/xgboost/core.py\", line 500, in __init__\n",
      "    handle, feature_names, feature_types = dispatch_data_backend(\n",
      "  File \"/Users/aliceqichaowu/opt/anaconda3/lib/python3.8/site-packages/xgboost/data.py\", line 539, in dispatch_data_backend\n",
      "    return _from_pandas_df(data, enable_categorical, missing, threads,\n",
      "  File \"/Users/aliceqichaowu/opt/anaconda3/lib/python3.8/site-packages/xgboost/data.py\", line 242, in _from_pandas_df\n",
      "    data, feature_names, feature_types = _transform_pandas_df(\n",
      "  File \"/Users/aliceqichaowu/opt/anaconda3/lib/python3.8/site-packages/xgboost/data.py\", line 207, in _transform_pandas_df\n",
      "    raise ValueError(msg + ', '.join(bad_fields))\n",
      "ValueError: DataFrame.dtypes for data must be int, float, bool or categorical.  When\n",
      "                categorical type is supplied, DMatrix parameter\n",
      "                `enable_categorical` must be set to `True`.X_prace1, diffalon, employ1, diffwalk, exerany2, chcocncr, X_frtlt1, useequip, X_drdxar1, X_fruitex, cvdinfr4, bphigh4, X_rfbmi5, X_rfhlth, decide, X_rfsmok3, qlactlm2, X_totinda, X_pastrng, diabete3, havarth3, internet, medcost, chccopd1, X_hispanc, X_smoker3, cvdcrhd4, X_asthms1, X_dualuse, addepev2, educa, X_rfhype5, hlthpln1, X_cholchk, sex, X_age_g, X_educag, persdoc2, cvdstrk3, chckidny, qstlang, drnkany5, X_rfbing5, flushot6, veteran3, X_raceg21, X_age65yr, checkup1, seatbelt, X_ageg5yr, renthom1, X_race_g1, X_racegr3, X_rfdrhv4, marital, chcscncr\n",
      "\n",
      "  warnings.warn(\"Estimator fit failed. The score on this train-test\"\n",
      "/Users/aliceqichaowu/opt/anaconda3/lib/python3.8/site-packages/xgboost/sklearn.py:888: UserWarning: The use of label encoder in XGBClassifier is deprecated and will be removed in a future release. To remove this warning, do the following: 1) Pass option use_label_encoder=False when constructing XGBClassifier object; and 2) Encode your labels (y) as integers starting with 0, i.e. 0, 1, 2, ..., [num_class - 1].\n",
      "  warnings.warn(label_encoder_deprecation_msg, UserWarning)\n",
      "/Users/aliceqichaowu/opt/anaconda3/lib/python3.8/site-packages/sklearn/model_selection/_validation.py:610: FitFailedWarning: Estimator fit failed. The score on this train-test partition for these parameters will be set to nan. Details: \n",
      "Traceback (most recent call last):\n",
      "  File \"/Users/aliceqichaowu/opt/anaconda3/lib/python3.8/site-packages/sklearn/model_selection/_validation.py\", line 593, in _fit_and_score\n",
      "    estimator.fit(X_train, y_train, **fit_params)\n",
      "  File \"/Users/aliceqichaowu/opt/anaconda3/lib/python3.8/site-packages/xgboost/core.py\", line 422, in inner_f\n",
      "    return f(**kwargs)\n",
      "  File \"/Users/aliceqichaowu/opt/anaconda3/lib/python3.8/site-packages/xgboost/sklearn.py\", line 903, in fit\n",
      "    train_dmatrix, evals = self._wrap_evaluation_matrices(\n",
      "  File \"/Users/aliceqichaowu/opt/anaconda3/lib/python3.8/site-packages/xgboost/sklearn.py\", line 265, in _wrap_evaluation_matrices\n",
      "    train_dmatrix = DMatrix(data=X, label=y, weight=sample_weight,\n",
      "  File \"/Users/aliceqichaowu/opt/anaconda3/lib/python3.8/site-packages/xgboost/core.py\", line 500, in __init__\n",
      "    handle, feature_names, feature_types = dispatch_data_backend(\n",
      "  File \"/Users/aliceqichaowu/opt/anaconda3/lib/python3.8/site-packages/xgboost/data.py\", line 539, in dispatch_data_backend\n",
      "    return _from_pandas_df(data, enable_categorical, missing, threads,\n",
      "  File \"/Users/aliceqichaowu/opt/anaconda3/lib/python3.8/site-packages/xgboost/data.py\", line 242, in _from_pandas_df\n",
      "    data, feature_names, feature_types = _transform_pandas_df(\n",
      "  File \"/Users/aliceqichaowu/opt/anaconda3/lib/python3.8/site-packages/xgboost/data.py\", line 207, in _transform_pandas_df\n",
      "    raise ValueError(msg + ', '.join(bad_fields))\n",
      "ValueError: DataFrame.dtypes for data must be int, float, bool or categorical.  When\n",
      "                categorical type is supplied, DMatrix parameter\n",
      "                `enable_categorical` must be set to `True`.X_prace1, diffalon, employ1, diffwalk, exerany2, chcocncr, X_frtlt1, useequip, X_drdxar1, X_fruitex, cvdinfr4, bphigh4, X_rfbmi5, X_rfhlth, decide, X_rfsmok3, qlactlm2, X_totinda, X_pastrng, diabete3, havarth3, internet, medcost, chccopd1, X_hispanc, X_smoker3, cvdcrhd4, X_asthms1, X_dualuse, addepev2, educa, X_rfhype5, hlthpln1, X_cholchk, sex, X_age_g, X_educag, persdoc2, cvdstrk3, chckidny, qstlang, drnkany5, X_rfbing5, flushot6, veteran3, X_raceg21, X_age65yr, checkup1, seatbelt, X_ageg5yr, renthom1, X_race_g1, X_racegr3, X_rfdrhv4, marital, chcscncr\n",
      "\n",
      "  warnings.warn(\"Estimator fit failed. The score on this train-test\"\n",
      "/Users/aliceqichaowu/opt/anaconda3/lib/python3.8/site-packages/xgboost/sklearn.py:888: UserWarning: The use of label encoder in XGBClassifier is deprecated and will be removed in a future release. To remove this warning, do the following: 1) Pass option use_label_encoder=False when constructing XGBClassifier object; and 2) Encode your labels (y) as integers starting with 0, i.e. 0, 1, 2, ..., [num_class - 1].\n",
      "  warnings.warn(label_encoder_deprecation_msg, UserWarning)\n",
      "/Users/aliceqichaowu/opt/anaconda3/lib/python3.8/site-packages/sklearn/model_selection/_validation.py:610: FitFailedWarning: Estimator fit failed. The score on this train-test partition for these parameters will be set to nan. Details: \n",
      "Traceback (most recent call last):\n",
      "  File \"/Users/aliceqichaowu/opt/anaconda3/lib/python3.8/site-packages/sklearn/model_selection/_validation.py\", line 593, in _fit_and_score\n",
      "    estimator.fit(X_train, y_train, **fit_params)\n",
      "  File \"/Users/aliceqichaowu/opt/anaconda3/lib/python3.8/site-packages/xgboost/core.py\", line 422, in inner_f\n",
      "    return f(**kwargs)\n",
      "  File \"/Users/aliceqichaowu/opt/anaconda3/lib/python3.8/site-packages/xgboost/sklearn.py\", line 903, in fit\n",
      "    train_dmatrix, evals = self._wrap_evaluation_matrices(\n",
      "  File \"/Users/aliceqichaowu/opt/anaconda3/lib/python3.8/site-packages/xgboost/sklearn.py\", line 265, in _wrap_evaluation_matrices\n",
      "    train_dmatrix = DMatrix(data=X, label=y, weight=sample_weight,\n",
      "  File \"/Users/aliceqichaowu/opt/anaconda3/lib/python3.8/site-packages/xgboost/core.py\", line 500, in __init__\n",
      "    handle, feature_names, feature_types = dispatch_data_backend(\n",
      "  File \"/Users/aliceqichaowu/opt/anaconda3/lib/python3.8/site-packages/xgboost/data.py\", line 539, in dispatch_data_backend\n",
      "    return _from_pandas_df(data, enable_categorical, missing, threads,\n",
      "  File \"/Users/aliceqichaowu/opt/anaconda3/lib/python3.8/site-packages/xgboost/data.py\", line 242, in _from_pandas_df\n",
      "    data, feature_names, feature_types = _transform_pandas_df(\n",
      "  File \"/Users/aliceqichaowu/opt/anaconda3/lib/python3.8/site-packages/xgboost/data.py\", line 207, in _transform_pandas_df\n",
      "    raise ValueError(msg + ', '.join(bad_fields))\n",
      "ValueError: DataFrame.dtypes for data must be int, float, bool or categorical.  When\n",
      "                categorical type is supplied, DMatrix parameter\n",
      "                `enable_categorical` must be set to `True`.X_prace1, diffalon, employ1, diffwalk, exerany2, chcocncr, X_frtlt1, useequip, X_drdxar1, X_fruitex, cvdinfr4, bphigh4, X_rfbmi5, X_rfhlth, decide, X_rfsmok3, qlactlm2, X_totinda, X_pastrng, diabete3, havarth3, internet, medcost, chccopd1, X_hispanc, X_smoker3, cvdcrhd4, X_asthms1, X_dualuse, addepev2, educa, X_rfhype5, hlthpln1, X_cholchk, sex, X_age_g, X_educag, persdoc2, cvdstrk3, chckidny, qstlang, drnkany5, X_rfbing5, flushot6, veteran3, X_raceg21, X_age65yr, checkup1, seatbelt, X_ageg5yr, renthom1, X_race_g1, X_racegr3, X_rfdrhv4, marital, chcscncr\n",
      "\n",
      "  warnings.warn(\"Estimator fit failed. The score on this train-test\"\n",
      "/Users/aliceqichaowu/opt/anaconda3/lib/python3.8/site-packages/xgboost/sklearn.py:888: UserWarning: The use of label encoder in XGBClassifier is deprecated and will be removed in a future release. To remove this warning, do the following: 1) Pass option use_label_encoder=False when constructing XGBClassifier object; and 2) Encode your labels (y) as integers starting with 0, i.e. 0, 1, 2, ..., [num_class - 1].\n",
      "  warnings.warn(label_encoder_deprecation_msg, UserWarning)\n",
      "/Users/aliceqichaowu/opt/anaconda3/lib/python3.8/site-packages/sklearn/model_selection/_validation.py:610: FitFailedWarning: Estimator fit failed. The score on this train-test partition for these parameters will be set to nan. Details: \n",
      "Traceback (most recent call last):\n",
      "  File \"/Users/aliceqichaowu/opt/anaconda3/lib/python3.8/site-packages/sklearn/model_selection/_validation.py\", line 593, in _fit_and_score\n",
      "    estimator.fit(X_train, y_train, **fit_params)\n",
      "  File \"/Users/aliceqichaowu/opt/anaconda3/lib/python3.8/site-packages/xgboost/core.py\", line 422, in inner_f\n",
      "    return f(**kwargs)\n",
      "  File \"/Users/aliceqichaowu/opt/anaconda3/lib/python3.8/site-packages/xgboost/sklearn.py\", line 903, in fit\n",
      "    train_dmatrix, evals = self._wrap_evaluation_matrices(\n",
      "  File \"/Users/aliceqichaowu/opt/anaconda3/lib/python3.8/site-packages/xgboost/sklearn.py\", line 265, in _wrap_evaluation_matrices\n",
      "    train_dmatrix = DMatrix(data=X, label=y, weight=sample_weight,\n",
      "  File \"/Users/aliceqichaowu/opt/anaconda3/lib/python3.8/site-packages/xgboost/core.py\", line 500, in __init__\n",
      "    handle, feature_names, feature_types = dispatch_data_backend(\n",
      "  File \"/Users/aliceqichaowu/opt/anaconda3/lib/python3.8/site-packages/xgboost/data.py\", line 539, in dispatch_data_backend\n",
      "    return _from_pandas_df(data, enable_categorical, missing, threads,\n",
      "  File \"/Users/aliceqichaowu/opt/anaconda3/lib/python3.8/site-packages/xgboost/data.py\", line 242, in _from_pandas_df\n",
      "    data, feature_names, feature_types = _transform_pandas_df(\n",
      "  File \"/Users/aliceqichaowu/opt/anaconda3/lib/python3.8/site-packages/xgboost/data.py\", line 207, in _transform_pandas_df\n",
      "    raise ValueError(msg + ', '.join(bad_fields))\n",
      "ValueError: DataFrame.dtypes for data must be int, float, bool or categorical.  When\n",
      "                categorical type is supplied, DMatrix parameter\n",
      "                `enable_categorical` must be set to `True`.X_prace1, diffalon, employ1, diffwalk, exerany2, chcocncr, X_frtlt1, useequip, X_drdxar1, X_fruitex, cvdinfr4, bphigh4, X_rfbmi5, X_rfhlth, decide, X_rfsmok3, qlactlm2, X_totinda, X_pastrng, diabete3, havarth3, internet, medcost, chccopd1, X_hispanc, X_smoker3, cvdcrhd4, X_asthms1, X_dualuse, addepev2, educa, X_rfhype5, hlthpln1, X_cholchk, sex, X_age_g, X_educag, persdoc2, cvdstrk3, chckidny, qstlang, drnkany5, X_rfbing5, flushot6, veteran3, X_raceg21, X_age65yr, checkup1, seatbelt, X_ageg5yr, renthom1, X_race_g1, X_racegr3, X_rfdrhv4, marital, chcscncr\n",
      "\n",
      "  warnings.warn(\"Estimator fit failed. The score on this train-test\"\n",
      "/Users/aliceqichaowu/opt/anaconda3/lib/python3.8/site-packages/xgboost/sklearn.py:888: UserWarning: The use of label encoder in XGBClassifier is deprecated and will be removed in a future release. To remove this warning, do the following: 1) Pass option use_label_encoder=False when constructing XGBClassifier object; and 2) Encode your labels (y) as integers starting with 0, i.e. 0, 1, 2, ..., [num_class - 1].\n",
      "  warnings.warn(label_encoder_deprecation_msg, UserWarning)\n",
      "/Users/aliceqichaowu/opt/anaconda3/lib/python3.8/site-packages/sklearn/model_selection/_validation.py:610: FitFailedWarning: Estimator fit failed. The score on this train-test partition for these parameters will be set to nan. Details: \n",
      "Traceback (most recent call last):\n",
      "  File \"/Users/aliceqichaowu/opt/anaconda3/lib/python3.8/site-packages/sklearn/model_selection/_validation.py\", line 593, in _fit_and_score\n",
      "    estimator.fit(X_train, y_train, **fit_params)\n",
      "  File \"/Users/aliceqichaowu/opt/anaconda3/lib/python3.8/site-packages/xgboost/core.py\", line 422, in inner_f\n",
      "    return f(**kwargs)\n",
      "  File \"/Users/aliceqichaowu/opt/anaconda3/lib/python3.8/site-packages/xgboost/sklearn.py\", line 903, in fit\n",
      "    train_dmatrix, evals = self._wrap_evaluation_matrices(\n",
      "  File \"/Users/aliceqichaowu/opt/anaconda3/lib/python3.8/site-packages/xgboost/sklearn.py\", line 265, in _wrap_evaluation_matrices\n",
      "    train_dmatrix = DMatrix(data=X, label=y, weight=sample_weight,\n",
      "  File \"/Users/aliceqichaowu/opt/anaconda3/lib/python3.8/site-packages/xgboost/core.py\", line 500, in __init__\n",
      "    handle, feature_names, feature_types = dispatch_data_backend(\n",
      "  File \"/Users/aliceqichaowu/opt/anaconda3/lib/python3.8/site-packages/xgboost/data.py\", line 539, in dispatch_data_backend\n",
      "    return _from_pandas_df(data, enable_categorical, missing, threads,\n",
      "  File \"/Users/aliceqichaowu/opt/anaconda3/lib/python3.8/site-packages/xgboost/data.py\", line 242, in _from_pandas_df\n",
      "    data, feature_names, feature_types = _transform_pandas_df(\n",
      "  File \"/Users/aliceqichaowu/opt/anaconda3/lib/python3.8/site-packages/xgboost/data.py\", line 207, in _transform_pandas_df\n",
      "    raise ValueError(msg + ', '.join(bad_fields))\n",
      "ValueError: DataFrame.dtypes for data must be int, float, bool or categorical.  When\n",
      "                categorical type is supplied, DMatrix parameter\n",
      "                `enable_categorical` must be set to `True`.X_prace1, diffalon, employ1, diffwalk, exerany2, chcocncr, X_frtlt1, useequip, X_drdxar1, X_fruitex, cvdinfr4, bphigh4, X_rfbmi5, X_rfhlth, decide, X_rfsmok3, qlactlm2, X_totinda, X_pastrng, diabete3, havarth3, internet, medcost, chccopd1, X_hispanc, X_smoker3, cvdcrhd4, X_asthms1, X_dualuse, addepev2, educa, X_rfhype5, hlthpln1, X_cholchk, sex, X_age_g, X_educag, persdoc2, cvdstrk3, chckidny, qstlang, drnkany5, X_rfbing5, flushot6, veteran3, X_raceg21, X_age65yr, checkup1, seatbelt, X_ageg5yr, renthom1, X_race_g1, X_racegr3, X_rfdrhv4, marital, chcscncr\n",
      "\n",
      "  warnings.warn(\"Estimator fit failed. The score on this train-test\"\n",
      "/Users/aliceqichaowu/opt/anaconda3/lib/python3.8/site-packages/xgboost/sklearn.py:888: UserWarning: The use of label encoder in XGBClassifier is deprecated and will be removed in a future release. To remove this warning, do the following: 1) Pass option use_label_encoder=False when constructing XGBClassifier object; and 2) Encode your labels (y) as integers starting with 0, i.e. 0, 1, 2, ..., [num_class - 1].\n",
      "  warnings.warn(label_encoder_deprecation_msg, UserWarning)\n",
      "/Users/aliceqichaowu/opt/anaconda3/lib/python3.8/site-packages/sklearn/model_selection/_validation.py:610: FitFailedWarning: Estimator fit failed. The score on this train-test partition for these parameters will be set to nan. Details: \n",
      "Traceback (most recent call last):\n",
      "  File \"/Users/aliceqichaowu/opt/anaconda3/lib/python3.8/site-packages/sklearn/model_selection/_validation.py\", line 593, in _fit_and_score\n",
      "    estimator.fit(X_train, y_train, **fit_params)\n",
      "  File \"/Users/aliceqichaowu/opt/anaconda3/lib/python3.8/site-packages/xgboost/core.py\", line 422, in inner_f\n",
      "    return f(**kwargs)\n",
      "  File \"/Users/aliceqichaowu/opt/anaconda3/lib/python3.8/site-packages/xgboost/sklearn.py\", line 903, in fit\n",
      "    train_dmatrix, evals = self._wrap_evaluation_matrices(\n",
      "  File \"/Users/aliceqichaowu/opt/anaconda3/lib/python3.8/site-packages/xgboost/sklearn.py\", line 265, in _wrap_evaluation_matrices\n",
      "    train_dmatrix = DMatrix(data=X, label=y, weight=sample_weight,\n",
      "  File \"/Users/aliceqichaowu/opt/anaconda3/lib/python3.8/site-packages/xgboost/core.py\", line 500, in __init__\n",
      "    handle, feature_names, feature_types = dispatch_data_backend(\n",
      "  File \"/Users/aliceqichaowu/opt/anaconda3/lib/python3.8/site-packages/xgboost/data.py\", line 539, in dispatch_data_backend\n",
      "    return _from_pandas_df(data, enable_categorical, missing, threads,\n",
      "  File \"/Users/aliceqichaowu/opt/anaconda3/lib/python3.8/site-packages/xgboost/data.py\", line 242, in _from_pandas_df\n",
      "    data, feature_names, feature_types = _transform_pandas_df(\n",
      "  File \"/Users/aliceqichaowu/opt/anaconda3/lib/python3.8/site-packages/xgboost/data.py\", line 207, in _transform_pandas_df\n",
      "    raise ValueError(msg + ', '.join(bad_fields))\n",
      "ValueError: DataFrame.dtypes for data must be int, float, bool or categorical.  When\n",
      "                categorical type is supplied, DMatrix parameter\n",
      "                `enable_categorical` must be set to `True`.X_prace1, diffalon, employ1, diffwalk, exerany2, chcocncr, X_frtlt1, useequip, X_drdxar1, X_fruitex, cvdinfr4, bphigh4, X_rfbmi5, X_rfhlth, decide, X_rfsmok3, qlactlm2, X_totinda, X_pastrng, diabete3, havarth3, internet, medcost, chccopd1, X_hispanc, X_smoker3, cvdcrhd4, X_asthms1, X_dualuse, addepev2, educa, X_rfhype5, hlthpln1, X_cholchk, sex, X_age_g, X_educag, persdoc2, cvdstrk3, chckidny, qstlang, drnkany5, X_rfbing5, flushot6, veteran3, X_raceg21, X_age65yr, checkup1, seatbelt, X_ageg5yr, renthom1, X_race_g1, X_racegr3, X_rfdrhv4, marital, chcscncr\n",
      "\n",
      "  warnings.warn(\"Estimator fit failed. The score on this train-test\"\n",
      "/Users/aliceqichaowu/opt/anaconda3/lib/python3.8/site-packages/xgboost/sklearn.py:888: UserWarning: The use of label encoder in XGBClassifier is deprecated and will be removed in a future release. To remove this warning, do the following: 1) Pass option use_label_encoder=False when constructing XGBClassifier object; and 2) Encode your labels (y) as integers starting with 0, i.e. 0, 1, 2, ..., [num_class - 1].\n",
      "  warnings.warn(label_encoder_deprecation_msg, UserWarning)\n",
      "/Users/aliceqichaowu/opt/anaconda3/lib/python3.8/site-packages/sklearn/model_selection/_validation.py:610: FitFailedWarning: Estimator fit failed. The score on this train-test partition for these parameters will be set to nan. Details: \n",
      "Traceback (most recent call last):\n",
      "  File \"/Users/aliceqichaowu/opt/anaconda3/lib/python3.8/site-packages/sklearn/model_selection/_validation.py\", line 593, in _fit_and_score\n",
      "    estimator.fit(X_train, y_train, **fit_params)\n",
      "  File \"/Users/aliceqichaowu/opt/anaconda3/lib/python3.8/site-packages/xgboost/core.py\", line 422, in inner_f\n",
      "    return f(**kwargs)\n",
      "  File \"/Users/aliceqichaowu/opt/anaconda3/lib/python3.8/site-packages/xgboost/sklearn.py\", line 903, in fit\n",
      "    train_dmatrix, evals = self._wrap_evaluation_matrices(\n",
      "  File \"/Users/aliceqichaowu/opt/anaconda3/lib/python3.8/site-packages/xgboost/sklearn.py\", line 265, in _wrap_evaluation_matrices\n",
      "    train_dmatrix = DMatrix(data=X, label=y, weight=sample_weight,\n",
      "  File \"/Users/aliceqichaowu/opt/anaconda3/lib/python3.8/site-packages/xgboost/core.py\", line 500, in __init__\n",
      "    handle, feature_names, feature_types = dispatch_data_backend(\n",
      "  File \"/Users/aliceqichaowu/opt/anaconda3/lib/python3.8/site-packages/xgboost/data.py\", line 539, in dispatch_data_backend\n",
      "    return _from_pandas_df(data, enable_categorical, missing, threads,\n",
      "  File \"/Users/aliceqichaowu/opt/anaconda3/lib/python3.8/site-packages/xgboost/data.py\", line 242, in _from_pandas_df\n",
      "    data, feature_names, feature_types = _transform_pandas_df(\n",
      "  File \"/Users/aliceqichaowu/opt/anaconda3/lib/python3.8/site-packages/xgboost/data.py\", line 207, in _transform_pandas_df\n",
      "    raise ValueError(msg + ', '.join(bad_fields))\n",
      "ValueError: DataFrame.dtypes for data must be int, float, bool or categorical.  When\n",
      "                categorical type is supplied, DMatrix parameter\n",
      "                `enable_categorical` must be set to `True`.X_prace1, diffalon, employ1, diffwalk, exerany2, chcocncr, X_frtlt1, useequip, X_drdxar1, X_fruitex, cvdinfr4, bphigh4, X_rfbmi5, X_rfhlth, decide, X_rfsmok3, qlactlm2, X_totinda, X_pastrng, diabete3, havarth3, internet, medcost, chccopd1, X_hispanc, X_smoker3, cvdcrhd4, X_asthms1, X_dualuse, addepev2, educa, X_rfhype5, hlthpln1, X_cholchk, sex, X_age_g, X_educag, persdoc2, cvdstrk3, chckidny, qstlang, drnkany5, X_rfbing5, flushot6, veteran3, X_raceg21, X_age65yr, checkup1, seatbelt, X_ageg5yr, renthom1, X_race_g1, X_racegr3, X_rfdrhv4, marital, chcscncr\n",
      "\n",
      "  warnings.warn(\"Estimator fit failed. The score on this train-test\"\n",
      "/Users/aliceqichaowu/opt/anaconda3/lib/python3.8/site-packages/xgboost/sklearn.py:888: UserWarning: The use of label encoder in XGBClassifier is deprecated and will be removed in a future release. To remove this warning, do the following: 1) Pass option use_label_encoder=False when constructing XGBClassifier object; and 2) Encode your labels (y) as integers starting with 0, i.e. 0, 1, 2, ..., [num_class - 1].\n",
      "  warnings.warn(label_encoder_deprecation_msg, UserWarning)\n",
      "/Users/aliceqichaowu/opt/anaconda3/lib/python3.8/site-packages/sklearn/model_selection/_validation.py:610: FitFailedWarning: Estimator fit failed. The score on this train-test partition for these parameters will be set to nan. Details: \n",
      "Traceback (most recent call last):\n",
      "  File \"/Users/aliceqichaowu/opt/anaconda3/lib/python3.8/site-packages/sklearn/model_selection/_validation.py\", line 593, in _fit_and_score\n",
      "    estimator.fit(X_train, y_train, **fit_params)\n",
      "  File \"/Users/aliceqichaowu/opt/anaconda3/lib/python3.8/site-packages/xgboost/core.py\", line 422, in inner_f\n",
      "    return f(**kwargs)\n",
      "  File \"/Users/aliceqichaowu/opt/anaconda3/lib/python3.8/site-packages/xgboost/sklearn.py\", line 903, in fit\n",
      "    train_dmatrix, evals = self._wrap_evaluation_matrices(\n",
      "  File \"/Users/aliceqichaowu/opt/anaconda3/lib/python3.8/site-packages/xgboost/sklearn.py\", line 265, in _wrap_evaluation_matrices\n",
      "    train_dmatrix = DMatrix(data=X, label=y, weight=sample_weight,\n",
      "  File \"/Users/aliceqichaowu/opt/anaconda3/lib/python3.8/site-packages/xgboost/core.py\", line 500, in __init__\n",
      "    handle, feature_names, feature_types = dispatch_data_backend(\n",
      "  File \"/Users/aliceqichaowu/opt/anaconda3/lib/python3.8/site-packages/xgboost/data.py\", line 539, in dispatch_data_backend\n",
      "    return _from_pandas_df(data, enable_categorical, missing, threads,\n",
      "  File \"/Users/aliceqichaowu/opt/anaconda3/lib/python3.8/site-packages/xgboost/data.py\", line 242, in _from_pandas_df\n",
      "    data, feature_names, feature_types = _transform_pandas_df(\n",
      "  File \"/Users/aliceqichaowu/opt/anaconda3/lib/python3.8/site-packages/xgboost/data.py\", line 207, in _transform_pandas_df\n",
      "    raise ValueError(msg + ', '.join(bad_fields))\n",
      "ValueError: DataFrame.dtypes for data must be int, float, bool or categorical.  When\n",
      "                categorical type is supplied, DMatrix parameter\n",
      "                `enable_categorical` must be set to `True`.X_prace1, diffalon, employ1, diffwalk, exerany2, chcocncr, X_frtlt1, useequip, X_drdxar1, X_fruitex, cvdinfr4, bphigh4, X_rfbmi5, X_rfhlth, decide, X_rfsmok3, qlactlm2, X_totinda, X_pastrng, diabete3, havarth3, internet, medcost, chccopd1, X_hispanc, X_smoker3, cvdcrhd4, X_asthms1, X_dualuse, addepev2, educa, X_rfhype5, hlthpln1, X_cholchk, sex, X_age_g, X_educag, persdoc2, cvdstrk3, chckidny, qstlang, drnkany5, X_rfbing5, flushot6, veteran3, X_raceg21, X_age65yr, checkup1, seatbelt, X_ageg5yr, renthom1, X_race_g1, X_racegr3, X_rfdrhv4, marital, chcscncr\n",
      "\n",
      "  warnings.warn(\"Estimator fit failed. The score on this train-test\"\n",
      "/Users/aliceqichaowu/opt/anaconda3/lib/python3.8/site-packages/xgboost/sklearn.py:888: UserWarning: The use of label encoder in XGBClassifier is deprecated and will be removed in a future release. To remove this warning, do the following: 1) Pass option use_label_encoder=False when constructing XGBClassifier object; and 2) Encode your labels (y) as integers starting with 0, i.e. 0, 1, 2, ..., [num_class - 1].\n",
      "  warnings.warn(label_encoder_deprecation_msg, UserWarning)\n"
     ]
    },
    {
     "name": "stderr",
     "output_type": "stream",
     "text": [
      "/Users/aliceqichaowu/opt/anaconda3/lib/python3.8/site-packages/sklearn/model_selection/_validation.py:610: FitFailedWarning: Estimator fit failed. The score on this train-test partition for these parameters will be set to nan. Details: \n",
      "Traceback (most recent call last):\n",
      "  File \"/Users/aliceqichaowu/opt/anaconda3/lib/python3.8/site-packages/sklearn/model_selection/_validation.py\", line 593, in _fit_and_score\n",
      "    estimator.fit(X_train, y_train, **fit_params)\n",
      "  File \"/Users/aliceqichaowu/opt/anaconda3/lib/python3.8/site-packages/xgboost/core.py\", line 422, in inner_f\n",
      "    return f(**kwargs)\n",
      "  File \"/Users/aliceqichaowu/opt/anaconda3/lib/python3.8/site-packages/xgboost/sklearn.py\", line 903, in fit\n",
      "    train_dmatrix, evals = self._wrap_evaluation_matrices(\n",
      "  File \"/Users/aliceqichaowu/opt/anaconda3/lib/python3.8/site-packages/xgboost/sklearn.py\", line 265, in _wrap_evaluation_matrices\n",
      "    train_dmatrix = DMatrix(data=X, label=y, weight=sample_weight,\n",
      "  File \"/Users/aliceqichaowu/opt/anaconda3/lib/python3.8/site-packages/xgboost/core.py\", line 500, in __init__\n",
      "    handle, feature_names, feature_types = dispatch_data_backend(\n",
      "  File \"/Users/aliceqichaowu/opt/anaconda3/lib/python3.8/site-packages/xgboost/data.py\", line 539, in dispatch_data_backend\n",
      "    return _from_pandas_df(data, enable_categorical, missing, threads,\n",
      "  File \"/Users/aliceqichaowu/opt/anaconda3/lib/python3.8/site-packages/xgboost/data.py\", line 242, in _from_pandas_df\n",
      "    data, feature_names, feature_types = _transform_pandas_df(\n",
      "  File \"/Users/aliceqichaowu/opt/anaconda3/lib/python3.8/site-packages/xgboost/data.py\", line 207, in _transform_pandas_df\n",
      "    raise ValueError(msg + ', '.join(bad_fields))\n",
      "ValueError: DataFrame.dtypes for data must be int, float, bool or categorical.  When\n",
      "                categorical type is supplied, DMatrix parameter\n",
      "                `enable_categorical` must be set to `True`.X_prace1, diffalon, employ1, diffwalk, exerany2, chcocncr, X_frtlt1, useequip, X_drdxar1, X_fruitex, cvdinfr4, bphigh4, X_rfbmi5, X_rfhlth, decide, X_rfsmok3, qlactlm2, X_totinda, X_pastrng, diabete3, havarth3, internet, medcost, chccopd1, X_hispanc, X_smoker3, cvdcrhd4, X_asthms1, X_dualuse, addepev2, educa, X_rfhype5, hlthpln1, X_cholchk, sex, X_age_g, X_educag, persdoc2, cvdstrk3, chckidny, qstlang, drnkany5, X_rfbing5, flushot6, veteran3, X_raceg21, X_age65yr, checkup1, seatbelt, X_ageg5yr, renthom1, X_race_g1, X_racegr3, X_rfdrhv4, marital, chcscncr\n",
      "\n",
      "  warnings.warn(\"Estimator fit failed. The score on this train-test\"\n",
      "/Users/aliceqichaowu/opt/anaconda3/lib/python3.8/site-packages/xgboost/sklearn.py:888: UserWarning: The use of label encoder in XGBClassifier is deprecated and will be removed in a future release. To remove this warning, do the following: 1) Pass option use_label_encoder=False when constructing XGBClassifier object; and 2) Encode your labels (y) as integers starting with 0, i.e. 0, 1, 2, ..., [num_class - 1].\n",
      "  warnings.warn(label_encoder_deprecation_msg, UserWarning)\n",
      "/Users/aliceqichaowu/opt/anaconda3/lib/python3.8/site-packages/sklearn/model_selection/_validation.py:610: FitFailedWarning: Estimator fit failed. The score on this train-test partition for these parameters will be set to nan. Details: \n",
      "Traceback (most recent call last):\n",
      "  File \"/Users/aliceqichaowu/opt/anaconda3/lib/python3.8/site-packages/sklearn/model_selection/_validation.py\", line 593, in _fit_and_score\n",
      "    estimator.fit(X_train, y_train, **fit_params)\n",
      "  File \"/Users/aliceqichaowu/opt/anaconda3/lib/python3.8/site-packages/xgboost/core.py\", line 422, in inner_f\n",
      "    return f(**kwargs)\n",
      "  File \"/Users/aliceqichaowu/opt/anaconda3/lib/python3.8/site-packages/xgboost/sklearn.py\", line 903, in fit\n",
      "    train_dmatrix, evals = self._wrap_evaluation_matrices(\n",
      "  File \"/Users/aliceqichaowu/opt/anaconda3/lib/python3.8/site-packages/xgboost/sklearn.py\", line 265, in _wrap_evaluation_matrices\n",
      "    train_dmatrix = DMatrix(data=X, label=y, weight=sample_weight,\n",
      "  File \"/Users/aliceqichaowu/opt/anaconda3/lib/python3.8/site-packages/xgboost/core.py\", line 500, in __init__\n",
      "    handle, feature_names, feature_types = dispatch_data_backend(\n",
      "  File \"/Users/aliceqichaowu/opt/anaconda3/lib/python3.8/site-packages/xgboost/data.py\", line 539, in dispatch_data_backend\n",
      "    return _from_pandas_df(data, enable_categorical, missing, threads,\n",
      "  File \"/Users/aliceqichaowu/opt/anaconda3/lib/python3.8/site-packages/xgboost/data.py\", line 242, in _from_pandas_df\n",
      "    data, feature_names, feature_types = _transform_pandas_df(\n",
      "  File \"/Users/aliceqichaowu/opt/anaconda3/lib/python3.8/site-packages/xgboost/data.py\", line 207, in _transform_pandas_df\n",
      "    raise ValueError(msg + ', '.join(bad_fields))\n",
      "ValueError: DataFrame.dtypes for data must be int, float, bool or categorical.  When\n",
      "                categorical type is supplied, DMatrix parameter\n",
      "                `enable_categorical` must be set to `True`.X_prace1, diffalon, employ1, diffwalk, exerany2, chcocncr, X_frtlt1, useequip, X_drdxar1, X_fruitex, cvdinfr4, bphigh4, X_rfbmi5, X_rfhlth, decide, X_rfsmok3, qlactlm2, X_totinda, X_pastrng, diabete3, havarth3, internet, medcost, chccopd1, X_hispanc, X_smoker3, cvdcrhd4, X_asthms1, X_dualuse, addepev2, educa, X_rfhype5, hlthpln1, X_cholchk, sex, X_age_g, X_educag, persdoc2, cvdstrk3, chckidny, qstlang, drnkany5, X_rfbing5, flushot6, veteran3, X_raceg21, X_age65yr, checkup1, seatbelt, X_ageg5yr, renthom1, X_race_g1, X_racegr3, X_rfdrhv4, marital, chcscncr\n",
      "\n",
      "  warnings.warn(\"Estimator fit failed. The score on this train-test\"\n",
      "/Users/aliceqichaowu/opt/anaconda3/lib/python3.8/site-packages/xgboost/sklearn.py:888: UserWarning: The use of label encoder in XGBClassifier is deprecated and will be removed in a future release. To remove this warning, do the following: 1) Pass option use_label_encoder=False when constructing XGBClassifier object; and 2) Encode your labels (y) as integers starting with 0, i.e. 0, 1, 2, ..., [num_class - 1].\n",
      "  warnings.warn(label_encoder_deprecation_msg, UserWarning)\n",
      "/Users/aliceqichaowu/opt/anaconda3/lib/python3.8/site-packages/sklearn/model_selection/_validation.py:610: FitFailedWarning: Estimator fit failed. The score on this train-test partition for these parameters will be set to nan. Details: \n",
      "Traceback (most recent call last):\n",
      "  File \"/Users/aliceqichaowu/opt/anaconda3/lib/python3.8/site-packages/sklearn/model_selection/_validation.py\", line 593, in _fit_and_score\n",
      "    estimator.fit(X_train, y_train, **fit_params)\n",
      "  File \"/Users/aliceqichaowu/opt/anaconda3/lib/python3.8/site-packages/xgboost/core.py\", line 422, in inner_f\n",
      "    return f(**kwargs)\n",
      "  File \"/Users/aliceqichaowu/opt/anaconda3/lib/python3.8/site-packages/xgboost/sklearn.py\", line 903, in fit\n",
      "    train_dmatrix, evals = self._wrap_evaluation_matrices(\n",
      "  File \"/Users/aliceqichaowu/opt/anaconda3/lib/python3.8/site-packages/xgboost/sklearn.py\", line 265, in _wrap_evaluation_matrices\n",
      "    train_dmatrix = DMatrix(data=X, label=y, weight=sample_weight,\n",
      "  File \"/Users/aliceqichaowu/opt/anaconda3/lib/python3.8/site-packages/xgboost/core.py\", line 500, in __init__\n",
      "    handle, feature_names, feature_types = dispatch_data_backend(\n",
      "  File \"/Users/aliceqichaowu/opt/anaconda3/lib/python3.8/site-packages/xgboost/data.py\", line 539, in dispatch_data_backend\n",
      "    return _from_pandas_df(data, enable_categorical, missing, threads,\n",
      "  File \"/Users/aliceqichaowu/opt/anaconda3/lib/python3.8/site-packages/xgboost/data.py\", line 242, in _from_pandas_df\n",
      "    data, feature_names, feature_types = _transform_pandas_df(\n",
      "  File \"/Users/aliceqichaowu/opt/anaconda3/lib/python3.8/site-packages/xgboost/data.py\", line 207, in _transform_pandas_df\n",
      "    raise ValueError(msg + ', '.join(bad_fields))\n",
      "ValueError: DataFrame.dtypes for data must be int, float, bool or categorical.  When\n",
      "                categorical type is supplied, DMatrix parameter\n",
      "                `enable_categorical` must be set to `True`.X_prace1, diffalon, employ1, diffwalk, exerany2, chcocncr, X_frtlt1, useequip, X_drdxar1, X_fruitex, cvdinfr4, bphigh4, X_rfbmi5, X_rfhlth, decide, X_rfsmok3, qlactlm2, X_totinda, X_pastrng, diabete3, havarth3, internet, medcost, chccopd1, X_hispanc, X_smoker3, cvdcrhd4, X_asthms1, X_dualuse, addepev2, educa, X_rfhype5, hlthpln1, X_cholchk, sex, X_age_g, X_educag, persdoc2, cvdstrk3, chckidny, qstlang, drnkany5, X_rfbing5, flushot6, veteran3, X_raceg21, X_age65yr, checkup1, seatbelt, X_ageg5yr, renthom1, X_race_g1, X_racegr3, X_rfdrhv4, marital, chcscncr\n",
      "\n",
      "  warnings.warn(\"Estimator fit failed. The score on this train-test\"\n",
      "/Users/aliceqichaowu/opt/anaconda3/lib/python3.8/site-packages/xgboost/sklearn.py:888: UserWarning: The use of label encoder in XGBClassifier is deprecated and will be removed in a future release. To remove this warning, do the following: 1) Pass option use_label_encoder=False when constructing XGBClassifier object; and 2) Encode your labels (y) as integers starting with 0, i.e. 0, 1, 2, ..., [num_class - 1].\n",
      "  warnings.warn(label_encoder_deprecation_msg, UserWarning)\n",
      "/Users/aliceqichaowu/opt/anaconda3/lib/python3.8/site-packages/sklearn/model_selection/_validation.py:610: FitFailedWarning: Estimator fit failed. The score on this train-test partition for these parameters will be set to nan. Details: \n",
      "Traceback (most recent call last):\n",
      "  File \"/Users/aliceqichaowu/opt/anaconda3/lib/python3.8/site-packages/sklearn/model_selection/_validation.py\", line 593, in _fit_and_score\n",
      "    estimator.fit(X_train, y_train, **fit_params)\n",
      "  File \"/Users/aliceqichaowu/opt/anaconda3/lib/python3.8/site-packages/xgboost/core.py\", line 422, in inner_f\n",
      "    return f(**kwargs)\n",
      "  File \"/Users/aliceqichaowu/opt/anaconda3/lib/python3.8/site-packages/xgboost/sklearn.py\", line 903, in fit\n",
      "    train_dmatrix, evals = self._wrap_evaluation_matrices(\n",
      "  File \"/Users/aliceqichaowu/opt/anaconda3/lib/python3.8/site-packages/xgboost/sklearn.py\", line 265, in _wrap_evaluation_matrices\n",
      "    train_dmatrix = DMatrix(data=X, label=y, weight=sample_weight,\n",
      "  File \"/Users/aliceqichaowu/opt/anaconda3/lib/python3.8/site-packages/xgboost/core.py\", line 500, in __init__\n",
      "    handle, feature_names, feature_types = dispatch_data_backend(\n",
      "  File \"/Users/aliceqichaowu/opt/anaconda3/lib/python3.8/site-packages/xgboost/data.py\", line 539, in dispatch_data_backend\n",
      "    return _from_pandas_df(data, enable_categorical, missing, threads,\n",
      "  File \"/Users/aliceqichaowu/opt/anaconda3/lib/python3.8/site-packages/xgboost/data.py\", line 242, in _from_pandas_df\n",
      "    data, feature_names, feature_types = _transform_pandas_df(\n",
      "  File \"/Users/aliceqichaowu/opt/anaconda3/lib/python3.8/site-packages/xgboost/data.py\", line 207, in _transform_pandas_df\n",
      "    raise ValueError(msg + ', '.join(bad_fields))\n",
      "ValueError: DataFrame.dtypes for data must be int, float, bool or categorical.  When\n",
      "                categorical type is supplied, DMatrix parameter\n",
      "                `enable_categorical` must be set to `True`.X_prace1, diffalon, employ1, diffwalk, exerany2, chcocncr, X_frtlt1, useequip, X_drdxar1, X_fruitex, cvdinfr4, bphigh4, X_rfbmi5, X_rfhlth, decide, X_rfsmok3, qlactlm2, X_totinda, X_pastrng, diabete3, havarth3, internet, medcost, chccopd1, X_hispanc, X_smoker3, cvdcrhd4, X_asthms1, X_dualuse, addepev2, educa, X_rfhype5, hlthpln1, X_cholchk, sex, X_age_g, X_educag, persdoc2, cvdstrk3, chckidny, qstlang, drnkany5, X_rfbing5, flushot6, veteran3, X_raceg21, X_age65yr, checkup1, seatbelt, X_ageg5yr, renthom1, X_race_g1, X_racegr3, X_rfdrhv4, marital, chcscncr\n",
      "\n",
      "  warnings.warn(\"Estimator fit failed. The score on this train-test\"\n",
      "/Users/aliceqichaowu/opt/anaconda3/lib/python3.8/site-packages/xgboost/sklearn.py:888: UserWarning: The use of label encoder in XGBClassifier is deprecated and will be removed in a future release. To remove this warning, do the following: 1) Pass option use_label_encoder=False when constructing XGBClassifier object; and 2) Encode your labels (y) as integers starting with 0, i.e. 0, 1, 2, ..., [num_class - 1].\n",
      "  warnings.warn(label_encoder_deprecation_msg, UserWarning)\n",
      "/Users/aliceqichaowu/opt/anaconda3/lib/python3.8/site-packages/sklearn/model_selection/_validation.py:610: FitFailedWarning: Estimator fit failed. The score on this train-test partition for these parameters will be set to nan. Details: \n",
      "Traceback (most recent call last):\n",
      "  File \"/Users/aliceqichaowu/opt/anaconda3/lib/python3.8/site-packages/sklearn/model_selection/_validation.py\", line 593, in _fit_and_score\n",
      "    estimator.fit(X_train, y_train, **fit_params)\n",
      "  File \"/Users/aliceqichaowu/opt/anaconda3/lib/python3.8/site-packages/xgboost/core.py\", line 422, in inner_f\n",
      "    return f(**kwargs)\n",
      "  File \"/Users/aliceqichaowu/opt/anaconda3/lib/python3.8/site-packages/xgboost/sklearn.py\", line 903, in fit\n",
      "    train_dmatrix, evals = self._wrap_evaluation_matrices(\n",
      "  File \"/Users/aliceqichaowu/opt/anaconda3/lib/python3.8/site-packages/xgboost/sklearn.py\", line 265, in _wrap_evaluation_matrices\n",
      "    train_dmatrix = DMatrix(data=X, label=y, weight=sample_weight,\n",
      "  File \"/Users/aliceqichaowu/opt/anaconda3/lib/python3.8/site-packages/xgboost/core.py\", line 500, in __init__\n",
      "    handle, feature_names, feature_types = dispatch_data_backend(\n",
      "  File \"/Users/aliceqichaowu/opt/anaconda3/lib/python3.8/site-packages/xgboost/data.py\", line 539, in dispatch_data_backend\n",
      "    return _from_pandas_df(data, enable_categorical, missing, threads,\n",
      "  File \"/Users/aliceqichaowu/opt/anaconda3/lib/python3.8/site-packages/xgboost/data.py\", line 242, in _from_pandas_df\n",
      "    data, feature_names, feature_types = _transform_pandas_df(\n",
      "  File \"/Users/aliceqichaowu/opt/anaconda3/lib/python3.8/site-packages/xgboost/data.py\", line 207, in _transform_pandas_df\n",
      "    raise ValueError(msg + ', '.join(bad_fields))\n",
      "ValueError: DataFrame.dtypes for data must be int, float, bool or categorical.  When\n",
      "                categorical type is supplied, DMatrix parameter\n",
      "                `enable_categorical` must be set to `True`.X_prace1, diffalon, employ1, diffwalk, exerany2, chcocncr, X_frtlt1, useequip, X_drdxar1, X_fruitex, cvdinfr4, bphigh4, X_rfbmi5, X_rfhlth, decide, X_rfsmok3, qlactlm2, X_totinda, X_pastrng, diabete3, havarth3, internet, medcost, chccopd1, X_hispanc, X_smoker3, cvdcrhd4, X_asthms1, X_dualuse, addepev2, educa, X_rfhype5, hlthpln1, X_cholchk, sex, X_age_g, X_educag, persdoc2, cvdstrk3, chckidny, qstlang, drnkany5, X_rfbing5, flushot6, veteran3, X_raceg21, X_age65yr, checkup1, seatbelt, X_ageg5yr, renthom1, X_race_g1, X_racegr3, X_rfdrhv4, marital, chcscncr\n",
      "\n",
      "  warnings.warn(\"Estimator fit failed. The score on this train-test\"\n",
      "/Users/aliceqichaowu/opt/anaconda3/lib/python3.8/site-packages/xgboost/sklearn.py:888: UserWarning: The use of label encoder in XGBClassifier is deprecated and will be removed in a future release. To remove this warning, do the following: 1) Pass option use_label_encoder=False when constructing XGBClassifier object; and 2) Encode your labels (y) as integers starting with 0, i.e. 0, 1, 2, ..., [num_class - 1].\n",
      "  warnings.warn(label_encoder_deprecation_msg, UserWarning)\n",
      "/Users/aliceqichaowu/opt/anaconda3/lib/python3.8/site-packages/sklearn/model_selection/_validation.py:610: FitFailedWarning: Estimator fit failed. The score on this train-test partition for these parameters will be set to nan. Details: \n",
      "Traceback (most recent call last):\n",
      "  File \"/Users/aliceqichaowu/opt/anaconda3/lib/python3.8/site-packages/sklearn/model_selection/_validation.py\", line 593, in _fit_and_score\n",
      "    estimator.fit(X_train, y_train, **fit_params)\n",
      "  File \"/Users/aliceqichaowu/opt/anaconda3/lib/python3.8/site-packages/xgboost/core.py\", line 422, in inner_f\n",
      "    return f(**kwargs)\n",
      "  File \"/Users/aliceqichaowu/opt/anaconda3/lib/python3.8/site-packages/xgboost/sklearn.py\", line 903, in fit\n",
      "    train_dmatrix, evals = self._wrap_evaluation_matrices(\n",
      "  File \"/Users/aliceqichaowu/opt/anaconda3/lib/python3.8/site-packages/xgboost/sklearn.py\", line 265, in _wrap_evaluation_matrices\n",
      "    train_dmatrix = DMatrix(data=X, label=y, weight=sample_weight,\n",
      "  File \"/Users/aliceqichaowu/opt/anaconda3/lib/python3.8/site-packages/xgboost/core.py\", line 500, in __init__\n",
      "    handle, feature_names, feature_types = dispatch_data_backend(\n",
      "  File \"/Users/aliceqichaowu/opt/anaconda3/lib/python3.8/site-packages/xgboost/data.py\", line 539, in dispatch_data_backend\n",
      "    return _from_pandas_df(data, enable_categorical, missing, threads,\n",
      "  File \"/Users/aliceqichaowu/opt/anaconda3/lib/python3.8/site-packages/xgboost/data.py\", line 242, in _from_pandas_df\n",
      "    data, feature_names, feature_types = _transform_pandas_df(\n",
      "  File \"/Users/aliceqichaowu/opt/anaconda3/lib/python3.8/site-packages/xgboost/data.py\", line 207, in _transform_pandas_df\n",
      "    raise ValueError(msg + ', '.join(bad_fields))\n",
      "ValueError: DataFrame.dtypes for data must be int, float, bool or categorical.  When\n",
      "                categorical type is supplied, DMatrix parameter\n",
      "                `enable_categorical` must be set to `True`.X_prace1, diffalon, employ1, diffwalk, exerany2, chcocncr, X_frtlt1, useequip, X_drdxar1, X_fruitex, cvdinfr4, bphigh4, X_rfbmi5, X_rfhlth, decide, X_rfsmok3, qlactlm2, X_totinda, X_pastrng, diabete3, havarth3, internet, medcost, chccopd1, X_hispanc, X_smoker3, cvdcrhd4, X_asthms1, X_dualuse, addepev2, educa, X_rfhype5, hlthpln1, X_cholchk, sex, X_age_g, X_educag, persdoc2, cvdstrk3, chckidny, qstlang, drnkany5, X_rfbing5, flushot6, veteran3, X_raceg21, X_age65yr, checkup1, seatbelt, X_ageg5yr, renthom1, X_race_g1, X_racegr3, X_rfdrhv4, marital, chcscncr\n",
      "\n",
      "  warnings.warn(\"Estimator fit failed. The score on this train-test\"\n",
      "/Users/aliceqichaowu/opt/anaconda3/lib/python3.8/site-packages/xgboost/sklearn.py:888: UserWarning: The use of label encoder in XGBClassifier is deprecated and will be removed in a future release. To remove this warning, do the following: 1) Pass option use_label_encoder=False when constructing XGBClassifier object; and 2) Encode your labels (y) as integers starting with 0, i.e. 0, 1, 2, ..., [num_class - 1].\n",
      "  warnings.warn(label_encoder_deprecation_msg, UserWarning)\n",
      "/Users/aliceqichaowu/opt/anaconda3/lib/python3.8/site-packages/sklearn/model_selection/_validation.py:610: FitFailedWarning: Estimator fit failed. The score on this train-test partition for these parameters will be set to nan. Details: \n",
      "Traceback (most recent call last):\n",
      "  File \"/Users/aliceqichaowu/opt/anaconda3/lib/python3.8/site-packages/sklearn/model_selection/_validation.py\", line 593, in _fit_and_score\n",
      "    estimator.fit(X_train, y_train, **fit_params)\n",
      "  File \"/Users/aliceqichaowu/opt/anaconda3/lib/python3.8/site-packages/xgboost/core.py\", line 422, in inner_f\n",
      "    return f(**kwargs)\n",
      "  File \"/Users/aliceqichaowu/opt/anaconda3/lib/python3.8/site-packages/xgboost/sklearn.py\", line 903, in fit\n",
      "    train_dmatrix, evals = self._wrap_evaluation_matrices(\n",
      "  File \"/Users/aliceqichaowu/opt/anaconda3/lib/python3.8/site-packages/xgboost/sklearn.py\", line 265, in _wrap_evaluation_matrices\n",
      "    train_dmatrix = DMatrix(data=X, label=y, weight=sample_weight,\n",
      "  File \"/Users/aliceqichaowu/opt/anaconda3/lib/python3.8/site-packages/xgboost/core.py\", line 500, in __init__\n",
      "    handle, feature_names, feature_types = dispatch_data_backend(\n",
      "  File \"/Users/aliceqichaowu/opt/anaconda3/lib/python3.8/site-packages/xgboost/data.py\", line 539, in dispatch_data_backend\n",
      "    return _from_pandas_df(data, enable_categorical, missing, threads,\n",
      "  File \"/Users/aliceqichaowu/opt/anaconda3/lib/python3.8/site-packages/xgboost/data.py\", line 242, in _from_pandas_df\n",
      "    data, feature_names, feature_types = _transform_pandas_df(\n",
      "  File \"/Users/aliceqichaowu/opt/anaconda3/lib/python3.8/site-packages/xgboost/data.py\", line 207, in _transform_pandas_df\n",
      "    raise ValueError(msg + ', '.join(bad_fields))\n",
      "ValueError: DataFrame.dtypes for data must be int, float, bool or categorical.  When\n",
      "                categorical type is supplied, DMatrix parameter\n",
      "                `enable_categorical` must be set to `True`.X_prace1, diffalon, employ1, diffwalk, exerany2, chcocncr, X_frtlt1, useequip, X_drdxar1, X_fruitex, cvdinfr4, bphigh4, X_rfbmi5, X_rfhlth, decide, X_rfsmok3, qlactlm2, X_totinda, X_pastrng, diabete3, havarth3, internet, medcost, chccopd1, X_hispanc, X_smoker3, cvdcrhd4, X_asthms1, X_dualuse, addepev2, educa, X_rfhype5, hlthpln1, X_cholchk, sex, X_age_g, X_educag, persdoc2, cvdstrk3, chckidny, qstlang, drnkany5, X_rfbing5, flushot6, veteran3, X_raceg21, X_age65yr, checkup1, seatbelt, X_ageg5yr, renthom1, X_race_g1, X_racegr3, X_rfdrhv4, marital, chcscncr\n",
      "\n",
      "  warnings.warn(\"Estimator fit failed. The score on this train-test\"\n",
      "/Users/aliceqichaowu/opt/anaconda3/lib/python3.8/site-packages/xgboost/sklearn.py:888: UserWarning: The use of label encoder in XGBClassifier is deprecated and will be removed in a future release. To remove this warning, do the following: 1) Pass option use_label_encoder=False when constructing XGBClassifier object; and 2) Encode your labels (y) as integers starting with 0, i.e. 0, 1, 2, ..., [num_class - 1].\n",
      "  warnings.warn(label_encoder_deprecation_msg, UserWarning)\n",
      "/Users/aliceqichaowu/opt/anaconda3/lib/python3.8/site-packages/sklearn/model_selection/_validation.py:610: FitFailedWarning: Estimator fit failed. The score on this train-test partition for these parameters will be set to nan. Details: \n",
      "Traceback (most recent call last):\n",
      "  File \"/Users/aliceqichaowu/opt/anaconda3/lib/python3.8/site-packages/sklearn/model_selection/_validation.py\", line 593, in _fit_and_score\n",
      "    estimator.fit(X_train, y_train, **fit_params)\n",
      "  File \"/Users/aliceqichaowu/opt/anaconda3/lib/python3.8/site-packages/xgboost/core.py\", line 422, in inner_f\n",
      "    return f(**kwargs)\n",
      "  File \"/Users/aliceqichaowu/opt/anaconda3/lib/python3.8/site-packages/xgboost/sklearn.py\", line 903, in fit\n",
      "    train_dmatrix, evals = self._wrap_evaluation_matrices(\n",
      "  File \"/Users/aliceqichaowu/opt/anaconda3/lib/python3.8/site-packages/xgboost/sklearn.py\", line 265, in _wrap_evaluation_matrices\n",
      "    train_dmatrix = DMatrix(data=X, label=y, weight=sample_weight,\n",
      "  File \"/Users/aliceqichaowu/opt/anaconda3/lib/python3.8/site-packages/xgboost/core.py\", line 500, in __init__\n",
      "    handle, feature_names, feature_types = dispatch_data_backend(\n",
      "  File \"/Users/aliceqichaowu/opt/anaconda3/lib/python3.8/site-packages/xgboost/data.py\", line 539, in dispatch_data_backend\n",
      "    return _from_pandas_df(data, enable_categorical, missing, threads,\n",
      "  File \"/Users/aliceqichaowu/opt/anaconda3/lib/python3.8/site-packages/xgboost/data.py\", line 242, in _from_pandas_df\n",
      "    data, feature_names, feature_types = _transform_pandas_df(\n",
      "  File \"/Users/aliceqichaowu/opt/anaconda3/lib/python3.8/site-packages/xgboost/data.py\", line 207, in _transform_pandas_df\n",
      "    raise ValueError(msg + ', '.join(bad_fields))\n",
      "ValueError: DataFrame.dtypes for data must be int, float, bool or categorical.  When\n",
      "                categorical type is supplied, DMatrix parameter\n",
      "                `enable_categorical` must be set to `True`.X_prace1, diffalon, employ1, diffwalk, exerany2, chcocncr, X_frtlt1, useequip, X_drdxar1, X_fruitex, cvdinfr4, bphigh4, X_rfbmi5, X_rfhlth, decide, X_rfsmok3, qlactlm2, X_totinda, X_pastrng, diabete3, havarth3, internet, medcost, chccopd1, X_hispanc, X_smoker3, cvdcrhd4, X_asthms1, X_dualuse, addepev2, educa, X_rfhype5, hlthpln1, X_cholchk, sex, X_age_g, X_educag, persdoc2, cvdstrk3, chckidny, qstlang, drnkany5, X_rfbing5, flushot6, veteran3, X_raceg21, X_age65yr, checkup1, seatbelt, X_ageg5yr, renthom1, X_race_g1, X_racegr3, X_rfdrhv4, marital, chcscncr\n",
      "\n",
      "  warnings.warn(\"Estimator fit failed. The score on this train-test\"\n",
      "/Users/aliceqichaowu/opt/anaconda3/lib/python3.8/site-packages/xgboost/sklearn.py:888: UserWarning: The use of label encoder in XGBClassifier is deprecated and will be removed in a future release. To remove this warning, do the following: 1) Pass option use_label_encoder=False when constructing XGBClassifier object; and 2) Encode your labels (y) as integers starting with 0, i.e. 0, 1, 2, ..., [num_class - 1].\n",
      "  warnings.warn(label_encoder_deprecation_msg, UserWarning)\n",
      "/Users/aliceqichaowu/opt/anaconda3/lib/python3.8/site-packages/sklearn/model_selection/_validation.py:610: FitFailedWarning: Estimator fit failed. The score on this train-test partition for these parameters will be set to nan. Details: \n",
      "Traceback (most recent call last):\n",
      "  File \"/Users/aliceqichaowu/opt/anaconda3/lib/python3.8/site-packages/sklearn/model_selection/_validation.py\", line 593, in _fit_and_score\n",
      "    estimator.fit(X_train, y_train, **fit_params)\n",
      "  File \"/Users/aliceqichaowu/opt/anaconda3/lib/python3.8/site-packages/xgboost/core.py\", line 422, in inner_f\n",
      "    return f(**kwargs)\n",
      "  File \"/Users/aliceqichaowu/opt/anaconda3/lib/python3.8/site-packages/xgboost/sklearn.py\", line 903, in fit\n",
      "    train_dmatrix, evals = self._wrap_evaluation_matrices(\n",
      "  File \"/Users/aliceqichaowu/opt/anaconda3/lib/python3.8/site-packages/xgboost/sklearn.py\", line 265, in _wrap_evaluation_matrices\n",
      "    train_dmatrix = DMatrix(data=X, label=y, weight=sample_weight,\n",
      "  File \"/Users/aliceqichaowu/opt/anaconda3/lib/python3.8/site-packages/xgboost/core.py\", line 500, in __init__\n",
      "    handle, feature_names, feature_types = dispatch_data_backend(\n",
      "  File \"/Users/aliceqichaowu/opt/anaconda3/lib/python3.8/site-packages/xgboost/data.py\", line 539, in dispatch_data_backend\n",
      "    return _from_pandas_df(data, enable_categorical, missing, threads,\n",
      "  File \"/Users/aliceqichaowu/opt/anaconda3/lib/python3.8/site-packages/xgboost/data.py\", line 242, in _from_pandas_df\n",
      "    data, feature_names, feature_types = _transform_pandas_df(\n",
      "  File \"/Users/aliceqichaowu/opt/anaconda3/lib/python3.8/site-packages/xgboost/data.py\", line 207, in _transform_pandas_df\n",
      "    raise ValueError(msg + ', '.join(bad_fields))\n",
      "ValueError: DataFrame.dtypes for data must be int, float, bool or categorical.  When\n",
      "                categorical type is supplied, DMatrix parameter\n",
      "                `enable_categorical` must be set to `True`.X_prace1, diffalon, employ1, diffwalk, exerany2, chcocncr, X_frtlt1, useequip, X_drdxar1, X_fruitex, cvdinfr4, bphigh4, X_rfbmi5, X_rfhlth, decide, X_rfsmok3, qlactlm2, X_totinda, X_pastrng, diabete3, havarth3, internet, medcost, chccopd1, X_hispanc, X_smoker3, cvdcrhd4, X_asthms1, X_dualuse, addepev2, educa, X_rfhype5, hlthpln1, X_cholchk, sex, X_age_g, X_educag, persdoc2, cvdstrk3, chckidny, qstlang, drnkany5, X_rfbing5, flushot6, veteran3, X_raceg21, X_age65yr, checkup1, seatbelt, X_ageg5yr, renthom1, X_race_g1, X_racegr3, X_rfdrhv4, marital, chcscncr\n",
      "\n",
      "  warnings.warn(\"Estimator fit failed. The score on this train-test\"\n",
      "/Users/aliceqichaowu/opt/anaconda3/lib/python3.8/site-packages/xgboost/sklearn.py:888: UserWarning: The use of label encoder in XGBClassifier is deprecated and will be removed in a future release. To remove this warning, do the following: 1) Pass option use_label_encoder=False when constructing XGBClassifier object; and 2) Encode your labels (y) as integers starting with 0, i.e. 0, 1, 2, ..., [num_class - 1].\n",
      "  warnings.warn(label_encoder_deprecation_msg, UserWarning)\n",
      "/Users/aliceqichaowu/opt/anaconda3/lib/python3.8/site-packages/sklearn/model_selection/_validation.py:610: FitFailedWarning: Estimator fit failed. The score on this train-test partition for these parameters will be set to nan. Details: \n",
      "Traceback (most recent call last):\n",
      "  File \"/Users/aliceqichaowu/opt/anaconda3/lib/python3.8/site-packages/sklearn/model_selection/_validation.py\", line 593, in _fit_and_score\n",
      "    estimator.fit(X_train, y_train, **fit_params)\n",
      "  File \"/Users/aliceqichaowu/opt/anaconda3/lib/python3.8/site-packages/xgboost/core.py\", line 422, in inner_f\n",
      "    return f(**kwargs)\n",
      "  File \"/Users/aliceqichaowu/opt/anaconda3/lib/python3.8/site-packages/xgboost/sklearn.py\", line 903, in fit\n",
      "    train_dmatrix, evals = self._wrap_evaluation_matrices(\n",
      "  File \"/Users/aliceqichaowu/opt/anaconda3/lib/python3.8/site-packages/xgboost/sklearn.py\", line 265, in _wrap_evaluation_matrices\n",
      "    train_dmatrix = DMatrix(data=X, label=y, weight=sample_weight,\n",
      "  File \"/Users/aliceqichaowu/opt/anaconda3/lib/python3.8/site-packages/xgboost/core.py\", line 500, in __init__\n",
      "    handle, feature_names, feature_types = dispatch_data_backend(\n",
      "  File \"/Users/aliceqichaowu/opt/anaconda3/lib/python3.8/site-packages/xgboost/data.py\", line 539, in dispatch_data_backend\n",
      "    return _from_pandas_df(data, enable_categorical, missing, threads,\n",
      "  File \"/Users/aliceqichaowu/opt/anaconda3/lib/python3.8/site-packages/xgboost/data.py\", line 242, in _from_pandas_df\n",
      "    data, feature_names, feature_types = _transform_pandas_df(\n",
      "  File \"/Users/aliceqichaowu/opt/anaconda3/lib/python3.8/site-packages/xgboost/data.py\", line 207, in _transform_pandas_df\n",
      "    raise ValueError(msg + ', '.join(bad_fields))\n",
      "ValueError: DataFrame.dtypes for data must be int, float, bool or categorical.  When\n",
      "                categorical type is supplied, DMatrix parameter\n",
      "                `enable_categorical` must be set to `True`.X_prace1, diffalon, employ1, diffwalk, exerany2, chcocncr, X_frtlt1, useequip, X_drdxar1, X_fruitex, cvdinfr4, bphigh4, X_rfbmi5, X_rfhlth, decide, X_rfsmok3, qlactlm2, X_totinda, X_pastrng, diabete3, havarth3, internet, medcost, chccopd1, X_hispanc, X_smoker3, cvdcrhd4, X_asthms1, X_dualuse, addepev2, educa, X_rfhype5, hlthpln1, X_cholchk, sex, X_age_g, X_educag, persdoc2, cvdstrk3, chckidny, qstlang, drnkany5, X_rfbing5, flushot6, veteran3, X_raceg21, X_age65yr, checkup1, seatbelt, X_ageg5yr, renthom1, X_race_g1, X_racegr3, X_rfdrhv4, marital, chcscncr\n",
      "\n",
      "  warnings.warn(\"Estimator fit failed. The score on this train-test\"\n",
      "/Users/aliceqichaowu/opt/anaconda3/lib/python3.8/site-packages/xgboost/sklearn.py:888: UserWarning: The use of label encoder in XGBClassifier is deprecated and will be removed in a future release. To remove this warning, do the following: 1) Pass option use_label_encoder=False when constructing XGBClassifier object; and 2) Encode your labels (y) as integers starting with 0, i.e. 0, 1, 2, ..., [num_class - 1].\n",
      "  warnings.warn(label_encoder_deprecation_msg, UserWarning)\n"
     ]
    },
    {
     "name": "stderr",
     "output_type": "stream",
     "text": [
      "/Users/aliceqichaowu/opt/anaconda3/lib/python3.8/site-packages/sklearn/model_selection/_validation.py:610: FitFailedWarning: Estimator fit failed. The score on this train-test partition for these parameters will be set to nan. Details: \n",
      "Traceback (most recent call last):\n",
      "  File \"/Users/aliceqichaowu/opt/anaconda3/lib/python3.8/site-packages/sklearn/model_selection/_validation.py\", line 593, in _fit_and_score\n",
      "    estimator.fit(X_train, y_train, **fit_params)\n",
      "  File \"/Users/aliceqichaowu/opt/anaconda3/lib/python3.8/site-packages/xgboost/core.py\", line 422, in inner_f\n",
      "    return f(**kwargs)\n",
      "  File \"/Users/aliceqichaowu/opt/anaconda3/lib/python3.8/site-packages/xgboost/sklearn.py\", line 903, in fit\n",
      "    train_dmatrix, evals = self._wrap_evaluation_matrices(\n",
      "  File \"/Users/aliceqichaowu/opt/anaconda3/lib/python3.8/site-packages/xgboost/sklearn.py\", line 265, in _wrap_evaluation_matrices\n",
      "    train_dmatrix = DMatrix(data=X, label=y, weight=sample_weight,\n",
      "  File \"/Users/aliceqichaowu/opt/anaconda3/lib/python3.8/site-packages/xgboost/core.py\", line 500, in __init__\n",
      "    handle, feature_names, feature_types = dispatch_data_backend(\n",
      "  File \"/Users/aliceqichaowu/opt/anaconda3/lib/python3.8/site-packages/xgboost/data.py\", line 539, in dispatch_data_backend\n",
      "    return _from_pandas_df(data, enable_categorical, missing, threads,\n",
      "  File \"/Users/aliceqichaowu/opt/anaconda3/lib/python3.8/site-packages/xgboost/data.py\", line 242, in _from_pandas_df\n",
      "    data, feature_names, feature_types = _transform_pandas_df(\n",
      "  File \"/Users/aliceqichaowu/opt/anaconda3/lib/python3.8/site-packages/xgboost/data.py\", line 207, in _transform_pandas_df\n",
      "    raise ValueError(msg + ', '.join(bad_fields))\n",
      "ValueError: DataFrame.dtypes for data must be int, float, bool or categorical.  When\n",
      "                categorical type is supplied, DMatrix parameter\n",
      "                `enable_categorical` must be set to `True`.X_prace1, diffalon, employ1, diffwalk, exerany2, chcocncr, X_frtlt1, useequip, X_drdxar1, X_fruitex, cvdinfr4, bphigh4, X_rfbmi5, X_rfhlth, decide, X_rfsmok3, qlactlm2, X_totinda, X_pastrng, diabete3, havarth3, internet, medcost, chccopd1, X_hispanc, X_smoker3, cvdcrhd4, X_asthms1, X_dualuse, addepev2, educa, X_rfhype5, hlthpln1, X_cholchk, sex, X_age_g, X_educag, persdoc2, cvdstrk3, chckidny, qstlang, drnkany5, X_rfbing5, flushot6, veteran3, X_raceg21, X_age65yr, checkup1, seatbelt, X_ageg5yr, renthom1, X_race_g1, X_racegr3, X_rfdrhv4, marital, chcscncr\n",
      "\n",
      "  warnings.warn(\"Estimator fit failed. The score on this train-test\"\n",
      "/Users/aliceqichaowu/opt/anaconda3/lib/python3.8/site-packages/xgboost/sklearn.py:888: UserWarning: The use of label encoder in XGBClassifier is deprecated and will be removed in a future release. To remove this warning, do the following: 1) Pass option use_label_encoder=False when constructing XGBClassifier object; and 2) Encode your labels (y) as integers starting with 0, i.e. 0, 1, 2, ..., [num_class - 1].\n",
      "  warnings.warn(label_encoder_deprecation_msg, UserWarning)\n",
      "/Users/aliceqichaowu/opt/anaconda3/lib/python3.8/site-packages/sklearn/model_selection/_validation.py:610: FitFailedWarning: Estimator fit failed. The score on this train-test partition for these parameters will be set to nan. Details: \n",
      "Traceback (most recent call last):\n",
      "  File \"/Users/aliceqichaowu/opt/anaconda3/lib/python3.8/site-packages/sklearn/model_selection/_validation.py\", line 593, in _fit_and_score\n",
      "    estimator.fit(X_train, y_train, **fit_params)\n",
      "  File \"/Users/aliceqichaowu/opt/anaconda3/lib/python3.8/site-packages/xgboost/core.py\", line 422, in inner_f\n",
      "    return f(**kwargs)\n",
      "  File \"/Users/aliceqichaowu/opt/anaconda3/lib/python3.8/site-packages/xgboost/sklearn.py\", line 903, in fit\n",
      "    train_dmatrix, evals = self._wrap_evaluation_matrices(\n",
      "  File \"/Users/aliceqichaowu/opt/anaconda3/lib/python3.8/site-packages/xgboost/sklearn.py\", line 265, in _wrap_evaluation_matrices\n",
      "    train_dmatrix = DMatrix(data=X, label=y, weight=sample_weight,\n",
      "  File \"/Users/aliceqichaowu/opt/anaconda3/lib/python3.8/site-packages/xgboost/core.py\", line 500, in __init__\n",
      "    handle, feature_names, feature_types = dispatch_data_backend(\n",
      "  File \"/Users/aliceqichaowu/opt/anaconda3/lib/python3.8/site-packages/xgboost/data.py\", line 539, in dispatch_data_backend\n",
      "    return _from_pandas_df(data, enable_categorical, missing, threads,\n",
      "  File \"/Users/aliceqichaowu/opt/anaconda3/lib/python3.8/site-packages/xgboost/data.py\", line 242, in _from_pandas_df\n",
      "    data, feature_names, feature_types = _transform_pandas_df(\n",
      "  File \"/Users/aliceqichaowu/opt/anaconda3/lib/python3.8/site-packages/xgboost/data.py\", line 207, in _transform_pandas_df\n",
      "    raise ValueError(msg + ', '.join(bad_fields))\n",
      "ValueError: DataFrame.dtypes for data must be int, float, bool or categorical.  When\n",
      "                categorical type is supplied, DMatrix parameter\n",
      "                `enable_categorical` must be set to `True`.X_prace1, diffalon, employ1, diffwalk, exerany2, chcocncr, X_frtlt1, useequip, X_drdxar1, X_fruitex, cvdinfr4, bphigh4, X_rfbmi5, X_rfhlth, decide, X_rfsmok3, qlactlm2, X_totinda, X_pastrng, diabete3, havarth3, internet, medcost, chccopd1, X_hispanc, X_smoker3, cvdcrhd4, X_asthms1, X_dualuse, addepev2, educa, X_rfhype5, hlthpln1, X_cholchk, sex, X_age_g, X_educag, persdoc2, cvdstrk3, chckidny, qstlang, drnkany5, X_rfbing5, flushot6, veteran3, X_raceg21, X_age65yr, checkup1, seatbelt, X_ageg5yr, renthom1, X_race_g1, X_racegr3, X_rfdrhv4, marital, chcscncr\n",
      "\n",
      "  warnings.warn(\"Estimator fit failed. The score on this train-test\"\n",
      "/Users/aliceqichaowu/opt/anaconda3/lib/python3.8/site-packages/xgboost/sklearn.py:888: UserWarning: The use of label encoder in XGBClassifier is deprecated and will be removed in a future release. To remove this warning, do the following: 1) Pass option use_label_encoder=False when constructing XGBClassifier object; and 2) Encode your labels (y) as integers starting with 0, i.e. 0, 1, 2, ..., [num_class - 1].\n",
      "  warnings.warn(label_encoder_deprecation_msg, UserWarning)\n",
      "/Users/aliceqichaowu/opt/anaconda3/lib/python3.8/site-packages/sklearn/model_selection/_validation.py:610: FitFailedWarning: Estimator fit failed. The score on this train-test partition for these parameters will be set to nan. Details: \n",
      "Traceback (most recent call last):\n",
      "  File \"/Users/aliceqichaowu/opt/anaconda3/lib/python3.8/site-packages/sklearn/model_selection/_validation.py\", line 593, in _fit_and_score\n",
      "    estimator.fit(X_train, y_train, **fit_params)\n",
      "  File \"/Users/aliceqichaowu/opt/anaconda3/lib/python3.8/site-packages/xgboost/core.py\", line 422, in inner_f\n",
      "    return f(**kwargs)\n",
      "  File \"/Users/aliceqichaowu/opt/anaconda3/lib/python3.8/site-packages/xgboost/sklearn.py\", line 903, in fit\n",
      "    train_dmatrix, evals = self._wrap_evaluation_matrices(\n",
      "  File \"/Users/aliceqichaowu/opt/anaconda3/lib/python3.8/site-packages/xgboost/sklearn.py\", line 265, in _wrap_evaluation_matrices\n",
      "    train_dmatrix = DMatrix(data=X, label=y, weight=sample_weight,\n",
      "  File \"/Users/aliceqichaowu/opt/anaconda3/lib/python3.8/site-packages/xgboost/core.py\", line 500, in __init__\n",
      "    handle, feature_names, feature_types = dispatch_data_backend(\n",
      "  File \"/Users/aliceqichaowu/opt/anaconda3/lib/python3.8/site-packages/xgboost/data.py\", line 539, in dispatch_data_backend\n",
      "    return _from_pandas_df(data, enable_categorical, missing, threads,\n",
      "  File \"/Users/aliceqichaowu/opt/anaconda3/lib/python3.8/site-packages/xgboost/data.py\", line 242, in _from_pandas_df\n",
      "    data, feature_names, feature_types = _transform_pandas_df(\n",
      "  File \"/Users/aliceqichaowu/opt/anaconda3/lib/python3.8/site-packages/xgboost/data.py\", line 207, in _transform_pandas_df\n",
      "    raise ValueError(msg + ', '.join(bad_fields))\n",
      "ValueError: DataFrame.dtypes for data must be int, float, bool or categorical.  When\n",
      "                categorical type is supplied, DMatrix parameter\n",
      "                `enable_categorical` must be set to `True`.X_prace1, diffalon, employ1, diffwalk, exerany2, chcocncr, X_frtlt1, useequip, X_drdxar1, X_fruitex, cvdinfr4, bphigh4, X_rfbmi5, X_rfhlth, decide, X_rfsmok3, qlactlm2, X_totinda, X_pastrng, diabete3, havarth3, internet, medcost, chccopd1, X_hispanc, X_smoker3, cvdcrhd4, X_asthms1, X_dualuse, addepev2, educa, X_rfhype5, hlthpln1, X_cholchk, sex, X_age_g, X_educag, persdoc2, cvdstrk3, chckidny, qstlang, drnkany5, X_rfbing5, flushot6, veteran3, X_raceg21, X_age65yr, checkup1, seatbelt, X_ageg5yr, renthom1, X_race_g1, X_racegr3, X_rfdrhv4, marital, chcscncr\n",
      "\n",
      "  warnings.warn(\"Estimator fit failed. The score on this train-test\"\n",
      "/Users/aliceqichaowu/opt/anaconda3/lib/python3.8/site-packages/xgboost/sklearn.py:888: UserWarning: The use of label encoder in XGBClassifier is deprecated and will be removed in a future release. To remove this warning, do the following: 1) Pass option use_label_encoder=False when constructing XGBClassifier object; and 2) Encode your labels (y) as integers starting with 0, i.e. 0, 1, 2, ..., [num_class - 1].\n",
      "  warnings.warn(label_encoder_deprecation_msg, UserWarning)\n",
      "/Users/aliceqichaowu/opt/anaconda3/lib/python3.8/site-packages/sklearn/model_selection/_validation.py:610: FitFailedWarning: Estimator fit failed. The score on this train-test partition for these parameters will be set to nan. Details: \n",
      "Traceback (most recent call last):\n",
      "  File \"/Users/aliceqichaowu/opt/anaconda3/lib/python3.8/site-packages/sklearn/model_selection/_validation.py\", line 593, in _fit_and_score\n",
      "    estimator.fit(X_train, y_train, **fit_params)\n",
      "  File \"/Users/aliceqichaowu/opt/anaconda3/lib/python3.8/site-packages/xgboost/core.py\", line 422, in inner_f\n",
      "    return f(**kwargs)\n",
      "  File \"/Users/aliceqichaowu/opt/anaconda3/lib/python3.8/site-packages/xgboost/sklearn.py\", line 903, in fit\n",
      "    train_dmatrix, evals = self._wrap_evaluation_matrices(\n",
      "  File \"/Users/aliceqichaowu/opt/anaconda3/lib/python3.8/site-packages/xgboost/sklearn.py\", line 265, in _wrap_evaluation_matrices\n",
      "    train_dmatrix = DMatrix(data=X, label=y, weight=sample_weight,\n",
      "  File \"/Users/aliceqichaowu/opt/anaconda3/lib/python3.8/site-packages/xgboost/core.py\", line 500, in __init__\n",
      "    handle, feature_names, feature_types = dispatch_data_backend(\n",
      "  File \"/Users/aliceqichaowu/opt/anaconda3/lib/python3.8/site-packages/xgboost/data.py\", line 539, in dispatch_data_backend\n",
      "    return _from_pandas_df(data, enable_categorical, missing, threads,\n",
      "  File \"/Users/aliceqichaowu/opt/anaconda3/lib/python3.8/site-packages/xgboost/data.py\", line 242, in _from_pandas_df\n",
      "    data, feature_names, feature_types = _transform_pandas_df(\n",
      "  File \"/Users/aliceqichaowu/opt/anaconda3/lib/python3.8/site-packages/xgboost/data.py\", line 207, in _transform_pandas_df\n",
      "    raise ValueError(msg + ', '.join(bad_fields))\n",
      "ValueError: DataFrame.dtypes for data must be int, float, bool or categorical.  When\n",
      "                categorical type is supplied, DMatrix parameter\n",
      "                `enable_categorical` must be set to `True`.X_prace1, diffalon, employ1, diffwalk, exerany2, chcocncr, X_frtlt1, useequip, X_drdxar1, X_fruitex, cvdinfr4, bphigh4, X_rfbmi5, X_rfhlth, decide, X_rfsmok3, qlactlm2, X_totinda, X_pastrng, diabete3, havarth3, internet, medcost, chccopd1, X_hispanc, X_smoker3, cvdcrhd4, X_asthms1, X_dualuse, addepev2, educa, X_rfhype5, hlthpln1, X_cholchk, sex, X_age_g, X_educag, persdoc2, cvdstrk3, chckidny, qstlang, drnkany5, X_rfbing5, flushot6, veteran3, X_raceg21, X_age65yr, checkup1, seatbelt, X_ageg5yr, renthom1, X_race_g1, X_racegr3, X_rfdrhv4, marital, chcscncr\n",
      "\n",
      "  warnings.warn(\"Estimator fit failed. The score on this train-test\"\n",
      "/Users/aliceqichaowu/opt/anaconda3/lib/python3.8/site-packages/xgboost/sklearn.py:888: UserWarning: The use of label encoder in XGBClassifier is deprecated and will be removed in a future release. To remove this warning, do the following: 1) Pass option use_label_encoder=False when constructing XGBClassifier object; and 2) Encode your labels (y) as integers starting with 0, i.e. 0, 1, 2, ..., [num_class - 1].\n",
      "  warnings.warn(label_encoder_deprecation_msg, UserWarning)\n",
      "/Users/aliceqichaowu/opt/anaconda3/lib/python3.8/site-packages/sklearn/model_selection/_validation.py:610: FitFailedWarning: Estimator fit failed. The score on this train-test partition for these parameters will be set to nan. Details: \n",
      "Traceback (most recent call last):\n",
      "  File \"/Users/aliceqichaowu/opt/anaconda3/lib/python3.8/site-packages/sklearn/model_selection/_validation.py\", line 593, in _fit_and_score\n",
      "    estimator.fit(X_train, y_train, **fit_params)\n",
      "  File \"/Users/aliceqichaowu/opt/anaconda3/lib/python3.8/site-packages/xgboost/core.py\", line 422, in inner_f\n",
      "    return f(**kwargs)\n",
      "  File \"/Users/aliceqichaowu/opt/anaconda3/lib/python3.8/site-packages/xgboost/sklearn.py\", line 903, in fit\n",
      "    train_dmatrix, evals = self._wrap_evaluation_matrices(\n",
      "  File \"/Users/aliceqichaowu/opt/anaconda3/lib/python3.8/site-packages/xgboost/sklearn.py\", line 265, in _wrap_evaluation_matrices\n",
      "    train_dmatrix = DMatrix(data=X, label=y, weight=sample_weight,\n",
      "  File \"/Users/aliceqichaowu/opt/anaconda3/lib/python3.8/site-packages/xgboost/core.py\", line 500, in __init__\n",
      "    handle, feature_names, feature_types = dispatch_data_backend(\n",
      "  File \"/Users/aliceqichaowu/opt/anaconda3/lib/python3.8/site-packages/xgboost/data.py\", line 539, in dispatch_data_backend\n",
      "    return _from_pandas_df(data, enable_categorical, missing, threads,\n",
      "  File \"/Users/aliceqichaowu/opt/anaconda3/lib/python3.8/site-packages/xgboost/data.py\", line 242, in _from_pandas_df\n",
      "    data, feature_names, feature_types = _transform_pandas_df(\n",
      "  File \"/Users/aliceqichaowu/opt/anaconda3/lib/python3.8/site-packages/xgboost/data.py\", line 207, in _transform_pandas_df\n",
      "    raise ValueError(msg + ', '.join(bad_fields))\n",
      "ValueError: DataFrame.dtypes for data must be int, float, bool or categorical.  When\n",
      "                categorical type is supplied, DMatrix parameter\n",
      "                `enable_categorical` must be set to `True`.X_prace1, diffalon, employ1, diffwalk, exerany2, chcocncr, X_frtlt1, useequip, X_drdxar1, X_fruitex, cvdinfr4, bphigh4, X_rfbmi5, X_rfhlth, decide, X_rfsmok3, qlactlm2, X_totinda, X_pastrng, diabete3, havarth3, internet, medcost, chccopd1, X_hispanc, X_smoker3, cvdcrhd4, X_asthms1, X_dualuse, addepev2, educa, X_rfhype5, hlthpln1, X_cholchk, sex, X_age_g, X_educag, persdoc2, cvdstrk3, chckidny, qstlang, drnkany5, X_rfbing5, flushot6, veteran3, X_raceg21, X_age65yr, checkup1, seatbelt, X_ageg5yr, renthom1, X_race_g1, X_racegr3, X_rfdrhv4, marital, chcscncr\n",
      "\n",
      "  warnings.warn(\"Estimator fit failed. The score on this train-test\"\n",
      "/Users/aliceqichaowu/opt/anaconda3/lib/python3.8/site-packages/xgboost/sklearn.py:888: UserWarning: The use of label encoder in XGBClassifier is deprecated and will be removed in a future release. To remove this warning, do the following: 1) Pass option use_label_encoder=False when constructing XGBClassifier object; and 2) Encode your labels (y) as integers starting with 0, i.e. 0, 1, 2, ..., [num_class - 1].\n",
      "  warnings.warn(label_encoder_deprecation_msg, UserWarning)\n",
      "/Users/aliceqichaowu/opt/anaconda3/lib/python3.8/site-packages/sklearn/model_selection/_validation.py:610: FitFailedWarning: Estimator fit failed. The score on this train-test partition for these parameters will be set to nan. Details: \n",
      "Traceback (most recent call last):\n",
      "  File \"/Users/aliceqichaowu/opt/anaconda3/lib/python3.8/site-packages/sklearn/model_selection/_validation.py\", line 593, in _fit_and_score\n",
      "    estimator.fit(X_train, y_train, **fit_params)\n",
      "  File \"/Users/aliceqichaowu/opt/anaconda3/lib/python3.8/site-packages/xgboost/core.py\", line 422, in inner_f\n",
      "    return f(**kwargs)\n",
      "  File \"/Users/aliceqichaowu/opt/anaconda3/lib/python3.8/site-packages/xgboost/sklearn.py\", line 903, in fit\n",
      "    train_dmatrix, evals = self._wrap_evaluation_matrices(\n",
      "  File \"/Users/aliceqichaowu/opt/anaconda3/lib/python3.8/site-packages/xgboost/sklearn.py\", line 265, in _wrap_evaluation_matrices\n",
      "    train_dmatrix = DMatrix(data=X, label=y, weight=sample_weight,\n",
      "  File \"/Users/aliceqichaowu/opt/anaconda3/lib/python3.8/site-packages/xgboost/core.py\", line 500, in __init__\n",
      "    handle, feature_names, feature_types = dispatch_data_backend(\n",
      "  File \"/Users/aliceqichaowu/opt/anaconda3/lib/python3.8/site-packages/xgboost/data.py\", line 539, in dispatch_data_backend\n",
      "    return _from_pandas_df(data, enable_categorical, missing, threads,\n",
      "  File \"/Users/aliceqichaowu/opt/anaconda3/lib/python3.8/site-packages/xgboost/data.py\", line 242, in _from_pandas_df\n",
      "    data, feature_names, feature_types = _transform_pandas_df(\n",
      "  File \"/Users/aliceqichaowu/opt/anaconda3/lib/python3.8/site-packages/xgboost/data.py\", line 207, in _transform_pandas_df\n",
      "    raise ValueError(msg + ', '.join(bad_fields))\n",
      "ValueError: DataFrame.dtypes for data must be int, float, bool or categorical.  When\n",
      "                categorical type is supplied, DMatrix parameter\n",
      "                `enable_categorical` must be set to `True`.X_prace1, diffalon, employ1, diffwalk, exerany2, chcocncr, X_frtlt1, useequip, X_drdxar1, X_fruitex, cvdinfr4, bphigh4, X_rfbmi5, X_rfhlth, decide, X_rfsmok3, qlactlm2, X_totinda, X_pastrng, diabete3, havarth3, internet, medcost, chccopd1, X_hispanc, X_smoker3, cvdcrhd4, X_asthms1, X_dualuse, addepev2, educa, X_rfhype5, hlthpln1, X_cholchk, sex, X_age_g, X_educag, persdoc2, cvdstrk3, chckidny, qstlang, drnkany5, X_rfbing5, flushot6, veteran3, X_raceg21, X_age65yr, checkup1, seatbelt, X_ageg5yr, renthom1, X_race_g1, X_racegr3, X_rfdrhv4, marital, chcscncr\n",
      "\n",
      "  warnings.warn(\"Estimator fit failed. The score on this train-test\"\n",
      "/Users/aliceqichaowu/opt/anaconda3/lib/python3.8/site-packages/xgboost/sklearn.py:888: UserWarning: The use of label encoder in XGBClassifier is deprecated and will be removed in a future release. To remove this warning, do the following: 1) Pass option use_label_encoder=False when constructing XGBClassifier object; and 2) Encode your labels (y) as integers starting with 0, i.e. 0, 1, 2, ..., [num_class - 1].\n",
      "  warnings.warn(label_encoder_deprecation_msg, UserWarning)\n",
      "/Users/aliceqichaowu/opt/anaconda3/lib/python3.8/site-packages/sklearn/model_selection/_validation.py:610: FitFailedWarning: Estimator fit failed. The score on this train-test partition for these parameters will be set to nan. Details: \n",
      "Traceback (most recent call last):\n",
      "  File \"/Users/aliceqichaowu/opt/anaconda3/lib/python3.8/site-packages/sklearn/model_selection/_validation.py\", line 593, in _fit_and_score\n",
      "    estimator.fit(X_train, y_train, **fit_params)\n",
      "  File \"/Users/aliceqichaowu/opt/anaconda3/lib/python3.8/site-packages/xgboost/core.py\", line 422, in inner_f\n",
      "    return f(**kwargs)\n",
      "  File \"/Users/aliceqichaowu/opt/anaconda3/lib/python3.8/site-packages/xgboost/sklearn.py\", line 903, in fit\n",
      "    train_dmatrix, evals = self._wrap_evaluation_matrices(\n",
      "  File \"/Users/aliceqichaowu/opt/anaconda3/lib/python3.8/site-packages/xgboost/sklearn.py\", line 265, in _wrap_evaluation_matrices\n",
      "    train_dmatrix = DMatrix(data=X, label=y, weight=sample_weight,\n",
      "  File \"/Users/aliceqichaowu/opt/anaconda3/lib/python3.8/site-packages/xgboost/core.py\", line 500, in __init__\n",
      "    handle, feature_names, feature_types = dispatch_data_backend(\n",
      "  File \"/Users/aliceqichaowu/opt/anaconda3/lib/python3.8/site-packages/xgboost/data.py\", line 539, in dispatch_data_backend\n",
      "    return _from_pandas_df(data, enable_categorical, missing, threads,\n",
      "  File \"/Users/aliceqichaowu/opt/anaconda3/lib/python3.8/site-packages/xgboost/data.py\", line 242, in _from_pandas_df\n",
      "    data, feature_names, feature_types = _transform_pandas_df(\n",
      "  File \"/Users/aliceqichaowu/opt/anaconda3/lib/python3.8/site-packages/xgboost/data.py\", line 207, in _transform_pandas_df\n",
      "    raise ValueError(msg + ', '.join(bad_fields))\n",
      "ValueError: DataFrame.dtypes for data must be int, float, bool or categorical.  When\n",
      "                categorical type is supplied, DMatrix parameter\n",
      "                `enable_categorical` must be set to `True`.X_prace1, diffalon, employ1, diffwalk, exerany2, chcocncr, X_frtlt1, useequip, X_drdxar1, X_fruitex, cvdinfr4, bphigh4, X_rfbmi5, X_rfhlth, decide, X_rfsmok3, qlactlm2, X_totinda, X_pastrng, diabete3, havarth3, internet, medcost, chccopd1, X_hispanc, X_smoker3, cvdcrhd4, X_asthms1, X_dualuse, addepev2, educa, X_rfhype5, hlthpln1, X_cholchk, sex, X_age_g, X_educag, persdoc2, cvdstrk3, chckidny, qstlang, drnkany5, X_rfbing5, flushot6, veteran3, X_raceg21, X_age65yr, checkup1, seatbelt, X_ageg5yr, renthom1, X_race_g1, X_racegr3, X_rfdrhv4, marital, chcscncr\n",
      "\n",
      "  warnings.warn(\"Estimator fit failed. The score on this train-test\"\n",
      "/Users/aliceqichaowu/opt/anaconda3/lib/python3.8/site-packages/xgboost/sklearn.py:888: UserWarning: The use of label encoder in XGBClassifier is deprecated and will be removed in a future release. To remove this warning, do the following: 1) Pass option use_label_encoder=False when constructing XGBClassifier object; and 2) Encode your labels (y) as integers starting with 0, i.e. 0, 1, 2, ..., [num_class - 1].\n",
      "  warnings.warn(label_encoder_deprecation_msg, UserWarning)\n",
      "/Users/aliceqichaowu/opt/anaconda3/lib/python3.8/site-packages/sklearn/model_selection/_validation.py:610: FitFailedWarning: Estimator fit failed. The score on this train-test partition for these parameters will be set to nan. Details: \n",
      "Traceback (most recent call last):\n",
      "  File \"/Users/aliceqichaowu/opt/anaconda3/lib/python3.8/site-packages/sklearn/model_selection/_validation.py\", line 593, in _fit_and_score\n",
      "    estimator.fit(X_train, y_train, **fit_params)\n",
      "  File \"/Users/aliceqichaowu/opt/anaconda3/lib/python3.8/site-packages/xgboost/core.py\", line 422, in inner_f\n",
      "    return f(**kwargs)\n",
      "  File \"/Users/aliceqichaowu/opt/anaconda3/lib/python3.8/site-packages/xgboost/sklearn.py\", line 903, in fit\n",
      "    train_dmatrix, evals = self._wrap_evaluation_matrices(\n",
      "  File \"/Users/aliceqichaowu/opt/anaconda3/lib/python3.8/site-packages/xgboost/sklearn.py\", line 265, in _wrap_evaluation_matrices\n",
      "    train_dmatrix = DMatrix(data=X, label=y, weight=sample_weight,\n",
      "  File \"/Users/aliceqichaowu/opt/anaconda3/lib/python3.8/site-packages/xgboost/core.py\", line 500, in __init__\n",
      "    handle, feature_names, feature_types = dispatch_data_backend(\n",
      "  File \"/Users/aliceqichaowu/opt/anaconda3/lib/python3.8/site-packages/xgboost/data.py\", line 539, in dispatch_data_backend\n",
      "    return _from_pandas_df(data, enable_categorical, missing, threads,\n",
      "  File \"/Users/aliceqichaowu/opt/anaconda3/lib/python3.8/site-packages/xgboost/data.py\", line 242, in _from_pandas_df\n",
      "    data, feature_names, feature_types = _transform_pandas_df(\n",
      "  File \"/Users/aliceqichaowu/opt/anaconda3/lib/python3.8/site-packages/xgboost/data.py\", line 207, in _transform_pandas_df\n",
      "    raise ValueError(msg + ', '.join(bad_fields))\n",
      "ValueError: DataFrame.dtypes for data must be int, float, bool or categorical.  When\n",
      "                categorical type is supplied, DMatrix parameter\n",
      "                `enable_categorical` must be set to `True`.X_prace1, diffalon, employ1, diffwalk, exerany2, chcocncr, X_frtlt1, useequip, X_drdxar1, X_fruitex, cvdinfr4, bphigh4, X_rfbmi5, X_rfhlth, decide, X_rfsmok3, qlactlm2, X_totinda, X_pastrng, diabete3, havarth3, internet, medcost, chccopd1, X_hispanc, X_smoker3, cvdcrhd4, X_asthms1, X_dualuse, addepev2, educa, X_rfhype5, hlthpln1, X_cholchk, sex, X_age_g, X_educag, persdoc2, cvdstrk3, chckidny, qstlang, drnkany5, X_rfbing5, flushot6, veteran3, X_raceg21, X_age65yr, checkup1, seatbelt, X_ageg5yr, renthom1, X_race_g1, X_racegr3, X_rfdrhv4, marital, chcscncr\n",
      "\n",
      "  warnings.warn(\"Estimator fit failed. The score on this train-test\"\n",
      "/Users/aliceqichaowu/opt/anaconda3/lib/python3.8/site-packages/xgboost/sklearn.py:888: UserWarning: The use of label encoder in XGBClassifier is deprecated and will be removed in a future release. To remove this warning, do the following: 1) Pass option use_label_encoder=False when constructing XGBClassifier object; and 2) Encode your labels (y) as integers starting with 0, i.e. 0, 1, 2, ..., [num_class - 1].\n",
      "  warnings.warn(label_encoder_deprecation_msg, UserWarning)\n",
      "/Users/aliceqichaowu/opt/anaconda3/lib/python3.8/site-packages/sklearn/model_selection/_validation.py:610: FitFailedWarning: Estimator fit failed. The score on this train-test partition for these parameters will be set to nan. Details: \n",
      "Traceback (most recent call last):\n",
      "  File \"/Users/aliceqichaowu/opt/anaconda3/lib/python3.8/site-packages/sklearn/model_selection/_validation.py\", line 593, in _fit_and_score\n",
      "    estimator.fit(X_train, y_train, **fit_params)\n",
      "  File \"/Users/aliceqichaowu/opt/anaconda3/lib/python3.8/site-packages/xgboost/core.py\", line 422, in inner_f\n",
      "    return f(**kwargs)\n",
      "  File \"/Users/aliceqichaowu/opt/anaconda3/lib/python3.8/site-packages/xgboost/sklearn.py\", line 903, in fit\n",
      "    train_dmatrix, evals = self._wrap_evaluation_matrices(\n",
      "  File \"/Users/aliceqichaowu/opt/anaconda3/lib/python3.8/site-packages/xgboost/sklearn.py\", line 265, in _wrap_evaluation_matrices\n",
      "    train_dmatrix = DMatrix(data=X, label=y, weight=sample_weight,\n",
      "  File \"/Users/aliceqichaowu/opt/anaconda3/lib/python3.8/site-packages/xgboost/core.py\", line 500, in __init__\n",
      "    handle, feature_names, feature_types = dispatch_data_backend(\n",
      "  File \"/Users/aliceqichaowu/opt/anaconda3/lib/python3.8/site-packages/xgboost/data.py\", line 539, in dispatch_data_backend\n",
      "    return _from_pandas_df(data, enable_categorical, missing, threads,\n",
      "  File \"/Users/aliceqichaowu/opt/anaconda3/lib/python3.8/site-packages/xgboost/data.py\", line 242, in _from_pandas_df\n",
      "    data, feature_names, feature_types = _transform_pandas_df(\n",
      "  File \"/Users/aliceqichaowu/opt/anaconda3/lib/python3.8/site-packages/xgboost/data.py\", line 207, in _transform_pandas_df\n",
      "    raise ValueError(msg + ', '.join(bad_fields))\n",
      "ValueError: DataFrame.dtypes for data must be int, float, bool or categorical.  When\n",
      "                categorical type is supplied, DMatrix parameter\n",
      "                `enable_categorical` must be set to `True`.X_prace1, diffalon, employ1, diffwalk, exerany2, chcocncr, X_frtlt1, useequip, X_drdxar1, X_fruitex, cvdinfr4, bphigh4, X_rfbmi5, X_rfhlth, decide, X_rfsmok3, qlactlm2, X_totinda, X_pastrng, diabete3, havarth3, internet, medcost, chccopd1, X_hispanc, X_smoker3, cvdcrhd4, X_asthms1, X_dualuse, addepev2, educa, X_rfhype5, hlthpln1, X_cholchk, sex, X_age_g, X_educag, persdoc2, cvdstrk3, chckidny, qstlang, drnkany5, X_rfbing5, flushot6, veteran3, X_raceg21, X_age65yr, checkup1, seatbelt, X_ageg5yr, renthom1, X_race_g1, X_racegr3, X_rfdrhv4, marital, chcscncr\n",
      "\n",
      "  warnings.warn(\"Estimator fit failed. The score on this train-test\"\n",
      "/Users/aliceqichaowu/opt/anaconda3/lib/python3.8/site-packages/xgboost/sklearn.py:888: UserWarning: The use of label encoder in XGBClassifier is deprecated and will be removed in a future release. To remove this warning, do the following: 1) Pass option use_label_encoder=False when constructing XGBClassifier object; and 2) Encode your labels (y) as integers starting with 0, i.e. 0, 1, 2, ..., [num_class - 1].\n",
      "  warnings.warn(label_encoder_deprecation_msg, UserWarning)\n",
      "/Users/aliceqichaowu/opt/anaconda3/lib/python3.8/site-packages/sklearn/model_selection/_validation.py:610: FitFailedWarning: Estimator fit failed. The score on this train-test partition for these parameters will be set to nan. Details: \n",
      "Traceback (most recent call last):\n",
      "  File \"/Users/aliceqichaowu/opt/anaconda3/lib/python3.8/site-packages/sklearn/model_selection/_validation.py\", line 593, in _fit_and_score\n",
      "    estimator.fit(X_train, y_train, **fit_params)\n",
      "  File \"/Users/aliceqichaowu/opt/anaconda3/lib/python3.8/site-packages/xgboost/core.py\", line 422, in inner_f\n",
      "    return f(**kwargs)\n",
      "  File \"/Users/aliceqichaowu/opt/anaconda3/lib/python3.8/site-packages/xgboost/sklearn.py\", line 903, in fit\n",
      "    train_dmatrix, evals = self._wrap_evaluation_matrices(\n",
      "  File \"/Users/aliceqichaowu/opt/anaconda3/lib/python3.8/site-packages/xgboost/sklearn.py\", line 265, in _wrap_evaluation_matrices\n",
      "    train_dmatrix = DMatrix(data=X, label=y, weight=sample_weight,\n",
      "  File \"/Users/aliceqichaowu/opt/anaconda3/lib/python3.8/site-packages/xgboost/core.py\", line 500, in __init__\n",
      "    handle, feature_names, feature_types = dispatch_data_backend(\n",
      "  File \"/Users/aliceqichaowu/opt/anaconda3/lib/python3.8/site-packages/xgboost/data.py\", line 539, in dispatch_data_backend\n",
      "    return _from_pandas_df(data, enable_categorical, missing, threads,\n",
      "  File \"/Users/aliceqichaowu/opt/anaconda3/lib/python3.8/site-packages/xgboost/data.py\", line 242, in _from_pandas_df\n",
      "    data, feature_names, feature_types = _transform_pandas_df(\n",
      "  File \"/Users/aliceqichaowu/opt/anaconda3/lib/python3.8/site-packages/xgboost/data.py\", line 207, in _transform_pandas_df\n",
      "    raise ValueError(msg + ', '.join(bad_fields))\n",
      "ValueError: DataFrame.dtypes for data must be int, float, bool or categorical.  When\n",
      "                categorical type is supplied, DMatrix parameter\n",
      "                `enable_categorical` must be set to `True`.X_prace1, diffalon, employ1, diffwalk, exerany2, chcocncr, X_frtlt1, useequip, X_drdxar1, X_fruitex, cvdinfr4, bphigh4, X_rfbmi5, X_rfhlth, decide, X_rfsmok3, qlactlm2, X_totinda, X_pastrng, diabete3, havarth3, internet, medcost, chccopd1, X_hispanc, X_smoker3, cvdcrhd4, X_asthms1, X_dualuse, addepev2, educa, X_rfhype5, hlthpln1, X_cholchk, sex, X_age_g, X_educag, persdoc2, cvdstrk3, chckidny, qstlang, drnkany5, X_rfbing5, flushot6, veteran3, X_raceg21, X_age65yr, checkup1, seatbelt, X_ageg5yr, renthom1, X_race_g1, X_racegr3, X_rfdrhv4, marital, chcscncr\n",
      "\n",
      "  warnings.warn(\"Estimator fit failed. The score on this train-test\"\n"
     ]
    },
    {
     "name": "stderr",
     "output_type": "stream",
     "text": [
      "/Users/aliceqichaowu/opt/anaconda3/lib/python3.8/site-packages/xgboost/sklearn.py:888: UserWarning: The use of label encoder in XGBClassifier is deprecated and will be removed in a future release. To remove this warning, do the following: 1) Pass option use_label_encoder=False when constructing XGBClassifier object; and 2) Encode your labels (y) as integers starting with 0, i.e. 0, 1, 2, ..., [num_class - 1].\n",
      "  warnings.warn(label_encoder_deprecation_msg, UserWarning)\n",
      "/Users/aliceqichaowu/opt/anaconda3/lib/python3.8/site-packages/sklearn/model_selection/_validation.py:610: FitFailedWarning: Estimator fit failed. The score on this train-test partition for these parameters will be set to nan. Details: \n",
      "Traceback (most recent call last):\n",
      "  File \"/Users/aliceqichaowu/opt/anaconda3/lib/python3.8/site-packages/sklearn/model_selection/_validation.py\", line 593, in _fit_and_score\n",
      "    estimator.fit(X_train, y_train, **fit_params)\n",
      "  File \"/Users/aliceqichaowu/opt/anaconda3/lib/python3.8/site-packages/xgboost/core.py\", line 422, in inner_f\n",
      "    return f(**kwargs)\n",
      "  File \"/Users/aliceqichaowu/opt/anaconda3/lib/python3.8/site-packages/xgboost/sklearn.py\", line 903, in fit\n",
      "    train_dmatrix, evals = self._wrap_evaluation_matrices(\n",
      "  File \"/Users/aliceqichaowu/opt/anaconda3/lib/python3.8/site-packages/xgboost/sklearn.py\", line 265, in _wrap_evaluation_matrices\n",
      "    train_dmatrix = DMatrix(data=X, label=y, weight=sample_weight,\n",
      "  File \"/Users/aliceqichaowu/opt/anaconda3/lib/python3.8/site-packages/xgboost/core.py\", line 500, in __init__\n",
      "    handle, feature_names, feature_types = dispatch_data_backend(\n",
      "  File \"/Users/aliceqichaowu/opt/anaconda3/lib/python3.8/site-packages/xgboost/data.py\", line 539, in dispatch_data_backend\n",
      "    return _from_pandas_df(data, enable_categorical, missing, threads,\n",
      "  File \"/Users/aliceqichaowu/opt/anaconda3/lib/python3.8/site-packages/xgboost/data.py\", line 242, in _from_pandas_df\n",
      "    data, feature_names, feature_types = _transform_pandas_df(\n",
      "  File \"/Users/aliceqichaowu/opt/anaconda3/lib/python3.8/site-packages/xgboost/data.py\", line 207, in _transform_pandas_df\n",
      "    raise ValueError(msg + ', '.join(bad_fields))\n",
      "ValueError: DataFrame.dtypes for data must be int, float, bool or categorical.  When\n",
      "                categorical type is supplied, DMatrix parameter\n",
      "                `enable_categorical` must be set to `True`.X_prace1, diffalon, employ1, diffwalk, exerany2, chcocncr, X_frtlt1, useequip, X_drdxar1, X_fruitex, cvdinfr4, bphigh4, X_rfbmi5, X_rfhlth, decide, X_rfsmok3, qlactlm2, X_totinda, X_pastrng, diabete3, havarth3, internet, medcost, chccopd1, X_hispanc, X_smoker3, cvdcrhd4, X_asthms1, X_dualuse, addepev2, educa, X_rfhype5, hlthpln1, X_cholchk, sex, X_age_g, X_educag, persdoc2, cvdstrk3, chckidny, qstlang, drnkany5, X_rfbing5, flushot6, veteran3, X_raceg21, X_age65yr, checkup1, seatbelt, X_ageg5yr, renthom1, X_race_g1, X_racegr3, X_rfdrhv4, marital, chcscncr\n",
      "\n",
      "  warnings.warn(\"Estimator fit failed. The score on this train-test\"\n",
      "/Users/aliceqichaowu/opt/anaconda3/lib/python3.8/site-packages/xgboost/sklearn.py:888: UserWarning: The use of label encoder in XGBClassifier is deprecated and will be removed in a future release. To remove this warning, do the following: 1) Pass option use_label_encoder=False when constructing XGBClassifier object; and 2) Encode your labels (y) as integers starting with 0, i.e. 0, 1, 2, ..., [num_class - 1].\n",
      "  warnings.warn(label_encoder_deprecation_msg, UserWarning)\n",
      "/Users/aliceqichaowu/opt/anaconda3/lib/python3.8/site-packages/sklearn/model_selection/_validation.py:610: FitFailedWarning: Estimator fit failed. The score on this train-test partition for these parameters will be set to nan. Details: \n",
      "Traceback (most recent call last):\n",
      "  File \"/Users/aliceqichaowu/opt/anaconda3/lib/python3.8/site-packages/sklearn/model_selection/_validation.py\", line 593, in _fit_and_score\n",
      "    estimator.fit(X_train, y_train, **fit_params)\n",
      "  File \"/Users/aliceqichaowu/opt/anaconda3/lib/python3.8/site-packages/xgboost/core.py\", line 422, in inner_f\n",
      "    return f(**kwargs)\n",
      "  File \"/Users/aliceqichaowu/opt/anaconda3/lib/python3.8/site-packages/xgboost/sklearn.py\", line 903, in fit\n",
      "    train_dmatrix, evals = self._wrap_evaluation_matrices(\n",
      "  File \"/Users/aliceqichaowu/opt/anaconda3/lib/python3.8/site-packages/xgboost/sklearn.py\", line 265, in _wrap_evaluation_matrices\n",
      "    train_dmatrix = DMatrix(data=X, label=y, weight=sample_weight,\n",
      "  File \"/Users/aliceqichaowu/opt/anaconda3/lib/python3.8/site-packages/xgboost/core.py\", line 500, in __init__\n",
      "    handle, feature_names, feature_types = dispatch_data_backend(\n",
      "  File \"/Users/aliceqichaowu/opt/anaconda3/lib/python3.8/site-packages/xgboost/data.py\", line 539, in dispatch_data_backend\n",
      "    return _from_pandas_df(data, enable_categorical, missing, threads,\n",
      "  File \"/Users/aliceqichaowu/opt/anaconda3/lib/python3.8/site-packages/xgboost/data.py\", line 242, in _from_pandas_df\n",
      "    data, feature_names, feature_types = _transform_pandas_df(\n",
      "  File \"/Users/aliceqichaowu/opt/anaconda3/lib/python3.8/site-packages/xgboost/data.py\", line 207, in _transform_pandas_df\n",
      "    raise ValueError(msg + ', '.join(bad_fields))\n",
      "ValueError: DataFrame.dtypes for data must be int, float, bool or categorical.  When\n",
      "                categorical type is supplied, DMatrix parameter\n",
      "                `enable_categorical` must be set to `True`.X_prace1, diffalon, employ1, diffwalk, exerany2, chcocncr, X_frtlt1, useequip, X_drdxar1, X_fruitex, cvdinfr4, bphigh4, X_rfbmi5, X_rfhlth, decide, X_rfsmok3, qlactlm2, X_totinda, X_pastrng, diabete3, havarth3, internet, medcost, chccopd1, X_hispanc, X_smoker3, cvdcrhd4, X_asthms1, X_dualuse, addepev2, educa, X_rfhype5, hlthpln1, X_cholchk, sex, X_age_g, X_educag, persdoc2, cvdstrk3, chckidny, qstlang, drnkany5, X_rfbing5, flushot6, veteran3, X_raceg21, X_age65yr, checkup1, seatbelt, X_ageg5yr, renthom1, X_race_g1, X_racegr3, X_rfdrhv4, marital, chcscncr\n",
      "\n",
      "  warnings.warn(\"Estimator fit failed. The score on this train-test\"\n",
      "/Users/aliceqichaowu/opt/anaconda3/lib/python3.8/site-packages/xgboost/sklearn.py:888: UserWarning: The use of label encoder in XGBClassifier is deprecated and will be removed in a future release. To remove this warning, do the following: 1) Pass option use_label_encoder=False when constructing XGBClassifier object; and 2) Encode your labels (y) as integers starting with 0, i.e. 0, 1, 2, ..., [num_class - 1].\n",
      "  warnings.warn(label_encoder_deprecation_msg, UserWarning)\n",
      "/Users/aliceqichaowu/opt/anaconda3/lib/python3.8/site-packages/sklearn/model_selection/_validation.py:610: FitFailedWarning: Estimator fit failed. The score on this train-test partition for these parameters will be set to nan. Details: \n",
      "Traceback (most recent call last):\n",
      "  File \"/Users/aliceqichaowu/opt/anaconda3/lib/python3.8/site-packages/sklearn/model_selection/_validation.py\", line 593, in _fit_and_score\n",
      "    estimator.fit(X_train, y_train, **fit_params)\n",
      "  File \"/Users/aliceqichaowu/opt/anaconda3/lib/python3.8/site-packages/xgboost/core.py\", line 422, in inner_f\n",
      "    return f(**kwargs)\n",
      "  File \"/Users/aliceqichaowu/opt/anaconda3/lib/python3.8/site-packages/xgboost/sklearn.py\", line 903, in fit\n",
      "    train_dmatrix, evals = self._wrap_evaluation_matrices(\n",
      "  File \"/Users/aliceqichaowu/opt/anaconda3/lib/python3.8/site-packages/xgboost/sklearn.py\", line 265, in _wrap_evaluation_matrices\n",
      "    train_dmatrix = DMatrix(data=X, label=y, weight=sample_weight,\n",
      "  File \"/Users/aliceqichaowu/opt/anaconda3/lib/python3.8/site-packages/xgboost/core.py\", line 500, in __init__\n",
      "    handle, feature_names, feature_types = dispatch_data_backend(\n",
      "  File \"/Users/aliceqichaowu/opt/anaconda3/lib/python3.8/site-packages/xgboost/data.py\", line 539, in dispatch_data_backend\n",
      "    return _from_pandas_df(data, enable_categorical, missing, threads,\n",
      "  File \"/Users/aliceqichaowu/opt/anaconda3/lib/python3.8/site-packages/xgboost/data.py\", line 242, in _from_pandas_df\n",
      "    data, feature_names, feature_types = _transform_pandas_df(\n",
      "  File \"/Users/aliceqichaowu/opt/anaconda3/lib/python3.8/site-packages/xgboost/data.py\", line 207, in _transform_pandas_df\n",
      "    raise ValueError(msg + ', '.join(bad_fields))\n",
      "ValueError: DataFrame.dtypes for data must be int, float, bool or categorical.  When\n",
      "                categorical type is supplied, DMatrix parameter\n",
      "                `enable_categorical` must be set to `True`.X_prace1, diffalon, employ1, diffwalk, exerany2, chcocncr, X_frtlt1, useequip, X_drdxar1, X_fruitex, cvdinfr4, bphigh4, X_rfbmi5, X_rfhlth, decide, X_rfsmok3, qlactlm2, X_totinda, X_pastrng, diabete3, havarth3, internet, medcost, chccopd1, X_hispanc, X_smoker3, cvdcrhd4, X_asthms1, X_dualuse, addepev2, educa, X_rfhype5, hlthpln1, X_cholchk, sex, X_age_g, X_educag, persdoc2, cvdstrk3, chckidny, qstlang, drnkany5, X_rfbing5, flushot6, veteran3, X_raceg21, X_age65yr, checkup1, seatbelt, X_ageg5yr, renthom1, X_race_g1, X_racegr3, X_rfdrhv4, marital, chcscncr\n",
      "\n",
      "  warnings.warn(\"Estimator fit failed. The score on this train-test\"\n",
      "/Users/aliceqichaowu/opt/anaconda3/lib/python3.8/site-packages/xgboost/sklearn.py:888: UserWarning: The use of label encoder in XGBClassifier is deprecated and will be removed in a future release. To remove this warning, do the following: 1) Pass option use_label_encoder=False when constructing XGBClassifier object; and 2) Encode your labels (y) as integers starting with 0, i.e. 0, 1, 2, ..., [num_class - 1].\n",
      "  warnings.warn(label_encoder_deprecation_msg, UserWarning)\n",
      "/Users/aliceqichaowu/opt/anaconda3/lib/python3.8/site-packages/sklearn/model_selection/_validation.py:610: FitFailedWarning: Estimator fit failed. The score on this train-test partition for these parameters will be set to nan. Details: \n",
      "Traceback (most recent call last):\n",
      "  File \"/Users/aliceqichaowu/opt/anaconda3/lib/python3.8/site-packages/sklearn/model_selection/_validation.py\", line 593, in _fit_and_score\n",
      "    estimator.fit(X_train, y_train, **fit_params)\n",
      "  File \"/Users/aliceqichaowu/opt/anaconda3/lib/python3.8/site-packages/xgboost/core.py\", line 422, in inner_f\n",
      "    return f(**kwargs)\n",
      "  File \"/Users/aliceqichaowu/opt/anaconda3/lib/python3.8/site-packages/xgboost/sklearn.py\", line 903, in fit\n",
      "    train_dmatrix, evals = self._wrap_evaluation_matrices(\n",
      "  File \"/Users/aliceqichaowu/opt/anaconda3/lib/python3.8/site-packages/xgboost/sklearn.py\", line 265, in _wrap_evaluation_matrices\n",
      "    train_dmatrix = DMatrix(data=X, label=y, weight=sample_weight,\n",
      "  File \"/Users/aliceqichaowu/opt/anaconda3/lib/python3.8/site-packages/xgboost/core.py\", line 500, in __init__\n",
      "    handle, feature_names, feature_types = dispatch_data_backend(\n",
      "  File \"/Users/aliceqichaowu/opt/anaconda3/lib/python3.8/site-packages/xgboost/data.py\", line 539, in dispatch_data_backend\n",
      "    return _from_pandas_df(data, enable_categorical, missing, threads,\n",
      "  File \"/Users/aliceqichaowu/opt/anaconda3/lib/python3.8/site-packages/xgboost/data.py\", line 242, in _from_pandas_df\n",
      "    data, feature_names, feature_types = _transform_pandas_df(\n",
      "  File \"/Users/aliceqichaowu/opt/anaconda3/lib/python3.8/site-packages/xgboost/data.py\", line 207, in _transform_pandas_df\n",
      "    raise ValueError(msg + ', '.join(bad_fields))\n",
      "ValueError: DataFrame.dtypes for data must be int, float, bool or categorical.  When\n",
      "                categorical type is supplied, DMatrix parameter\n",
      "                `enable_categorical` must be set to `True`.X_prace1, diffalon, employ1, diffwalk, exerany2, chcocncr, X_frtlt1, useequip, X_drdxar1, X_fruitex, cvdinfr4, bphigh4, X_rfbmi5, X_rfhlth, decide, X_rfsmok3, qlactlm2, X_totinda, X_pastrng, diabete3, havarth3, internet, medcost, chccopd1, X_hispanc, X_smoker3, cvdcrhd4, X_asthms1, X_dualuse, addepev2, educa, X_rfhype5, hlthpln1, X_cholchk, sex, X_age_g, X_educag, persdoc2, cvdstrk3, chckidny, qstlang, drnkany5, X_rfbing5, flushot6, veteran3, X_raceg21, X_age65yr, checkup1, seatbelt, X_ageg5yr, renthom1, X_race_g1, X_racegr3, X_rfdrhv4, marital, chcscncr\n",
      "\n",
      "  warnings.warn(\"Estimator fit failed. The score on this train-test\"\n",
      "/Users/aliceqichaowu/opt/anaconda3/lib/python3.8/site-packages/xgboost/sklearn.py:888: UserWarning: The use of label encoder in XGBClassifier is deprecated and will be removed in a future release. To remove this warning, do the following: 1) Pass option use_label_encoder=False when constructing XGBClassifier object; and 2) Encode your labels (y) as integers starting with 0, i.e. 0, 1, 2, ..., [num_class - 1].\n",
      "  warnings.warn(label_encoder_deprecation_msg, UserWarning)\n",
      "/Users/aliceqichaowu/opt/anaconda3/lib/python3.8/site-packages/sklearn/model_selection/_validation.py:610: FitFailedWarning: Estimator fit failed. The score on this train-test partition for these parameters will be set to nan. Details: \n",
      "Traceback (most recent call last):\n",
      "  File \"/Users/aliceqichaowu/opt/anaconda3/lib/python3.8/site-packages/sklearn/model_selection/_validation.py\", line 593, in _fit_and_score\n",
      "    estimator.fit(X_train, y_train, **fit_params)\n",
      "  File \"/Users/aliceqichaowu/opt/anaconda3/lib/python3.8/site-packages/xgboost/core.py\", line 422, in inner_f\n",
      "    return f(**kwargs)\n",
      "  File \"/Users/aliceqichaowu/opt/anaconda3/lib/python3.8/site-packages/xgboost/sklearn.py\", line 903, in fit\n",
      "    train_dmatrix, evals = self._wrap_evaluation_matrices(\n",
      "  File \"/Users/aliceqichaowu/opt/anaconda3/lib/python3.8/site-packages/xgboost/sklearn.py\", line 265, in _wrap_evaluation_matrices\n",
      "    train_dmatrix = DMatrix(data=X, label=y, weight=sample_weight,\n",
      "  File \"/Users/aliceqichaowu/opt/anaconda3/lib/python3.8/site-packages/xgboost/core.py\", line 500, in __init__\n",
      "    handle, feature_names, feature_types = dispatch_data_backend(\n",
      "  File \"/Users/aliceqichaowu/opt/anaconda3/lib/python3.8/site-packages/xgboost/data.py\", line 539, in dispatch_data_backend\n",
      "    return _from_pandas_df(data, enable_categorical, missing, threads,\n",
      "  File \"/Users/aliceqichaowu/opt/anaconda3/lib/python3.8/site-packages/xgboost/data.py\", line 242, in _from_pandas_df\n",
      "    data, feature_names, feature_types = _transform_pandas_df(\n",
      "  File \"/Users/aliceqichaowu/opt/anaconda3/lib/python3.8/site-packages/xgboost/data.py\", line 207, in _transform_pandas_df\n",
      "    raise ValueError(msg + ', '.join(bad_fields))\n",
      "ValueError: DataFrame.dtypes for data must be int, float, bool or categorical.  When\n",
      "                categorical type is supplied, DMatrix parameter\n",
      "                `enable_categorical` must be set to `True`.X_prace1, diffalon, employ1, diffwalk, exerany2, chcocncr, X_frtlt1, useequip, X_drdxar1, X_fruitex, cvdinfr4, bphigh4, X_rfbmi5, X_rfhlth, decide, X_rfsmok3, qlactlm2, X_totinda, X_pastrng, diabete3, havarth3, internet, medcost, chccopd1, X_hispanc, X_smoker3, cvdcrhd4, X_asthms1, X_dualuse, addepev2, educa, X_rfhype5, hlthpln1, X_cholchk, sex, X_age_g, X_educag, persdoc2, cvdstrk3, chckidny, qstlang, drnkany5, X_rfbing5, flushot6, veteran3, X_raceg21, X_age65yr, checkup1, seatbelt, X_ageg5yr, renthom1, X_race_g1, X_racegr3, X_rfdrhv4, marital, chcscncr\n",
      "\n",
      "  warnings.warn(\"Estimator fit failed. The score on this train-test\"\n",
      "/Users/aliceqichaowu/opt/anaconda3/lib/python3.8/site-packages/xgboost/sklearn.py:888: UserWarning: The use of label encoder in XGBClassifier is deprecated and will be removed in a future release. To remove this warning, do the following: 1) Pass option use_label_encoder=False when constructing XGBClassifier object; and 2) Encode your labels (y) as integers starting with 0, i.e. 0, 1, 2, ..., [num_class - 1].\n",
      "  warnings.warn(label_encoder_deprecation_msg, UserWarning)\n",
      "/Users/aliceqichaowu/opt/anaconda3/lib/python3.8/site-packages/sklearn/model_selection/_validation.py:610: FitFailedWarning: Estimator fit failed. The score on this train-test partition for these parameters will be set to nan. Details: \n",
      "Traceback (most recent call last):\n",
      "  File \"/Users/aliceqichaowu/opt/anaconda3/lib/python3.8/site-packages/sklearn/model_selection/_validation.py\", line 593, in _fit_and_score\n",
      "    estimator.fit(X_train, y_train, **fit_params)\n",
      "  File \"/Users/aliceqichaowu/opt/anaconda3/lib/python3.8/site-packages/xgboost/core.py\", line 422, in inner_f\n",
      "    return f(**kwargs)\n",
      "  File \"/Users/aliceqichaowu/opt/anaconda3/lib/python3.8/site-packages/xgboost/sklearn.py\", line 903, in fit\n",
      "    train_dmatrix, evals = self._wrap_evaluation_matrices(\n",
      "  File \"/Users/aliceqichaowu/opt/anaconda3/lib/python3.8/site-packages/xgboost/sklearn.py\", line 265, in _wrap_evaluation_matrices\n",
      "    train_dmatrix = DMatrix(data=X, label=y, weight=sample_weight,\n",
      "  File \"/Users/aliceqichaowu/opt/anaconda3/lib/python3.8/site-packages/xgboost/core.py\", line 500, in __init__\n",
      "    handle, feature_names, feature_types = dispatch_data_backend(\n",
      "  File \"/Users/aliceqichaowu/opt/anaconda3/lib/python3.8/site-packages/xgboost/data.py\", line 539, in dispatch_data_backend\n",
      "    return _from_pandas_df(data, enable_categorical, missing, threads,\n",
      "  File \"/Users/aliceqichaowu/opt/anaconda3/lib/python3.8/site-packages/xgboost/data.py\", line 242, in _from_pandas_df\n",
      "    data, feature_names, feature_types = _transform_pandas_df(\n",
      "  File \"/Users/aliceqichaowu/opt/anaconda3/lib/python3.8/site-packages/xgboost/data.py\", line 207, in _transform_pandas_df\n",
      "    raise ValueError(msg + ', '.join(bad_fields))\n",
      "ValueError: DataFrame.dtypes for data must be int, float, bool or categorical.  When\n",
      "                categorical type is supplied, DMatrix parameter\n",
      "                `enable_categorical` must be set to `True`.X_prace1, diffalon, employ1, diffwalk, exerany2, chcocncr, X_frtlt1, useequip, X_drdxar1, X_fruitex, cvdinfr4, bphigh4, X_rfbmi5, X_rfhlth, decide, X_rfsmok3, qlactlm2, X_totinda, X_pastrng, diabete3, havarth3, internet, medcost, chccopd1, X_hispanc, X_smoker3, cvdcrhd4, X_asthms1, X_dualuse, addepev2, educa, X_rfhype5, hlthpln1, X_cholchk, sex, X_age_g, X_educag, persdoc2, cvdstrk3, chckidny, qstlang, drnkany5, X_rfbing5, flushot6, veteran3, X_raceg21, X_age65yr, checkup1, seatbelt, X_ageg5yr, renthom1, X_race_g1, X_racegr3, X_rfdrhv4, marital, chcscncr\n",
      "\n",
      "  warnings.warn(\"Estimator fit failed. The score on this train-test\"\n",
      "/Users/aliceqichaowu/opt/anaconda3/lib/python3.8/site-packages/xgboost/sklearn.py:888: UserWarning: The use of label encoder in XGBClassifier is deprecated and will be removed in a future release. To remove this warning, do the following: 1) Pass option use_label_encoder=False when constructing XGBClassifier object; and 2) Encode your labels (y) as integers starting with 0, i.e. 0, 1, 2, ..., [num_class - 1].\n",
      "  warnings.warn(label_encoder_deprecation_msg, UserWarning)\n",
      "/Users/aliceqichaowu/opt/anaconda3/lib/python3.8/site-packages/sklearn/model_selection/_validation.py:610: FitFailedWarning: Estimator fit failed. The score on this train-test partition for these parameters will be set to nan. Details: \n",
      "Traceback (most recent call last):\n",
      "  File \"/Users/aliceqichaowu/opt/anaconda3/lib/python3.8/site-packages/sklearn/model_selection/_validation.py\", line 593, in _fit_and_score\n",
      "    estimator.fit(X_train, y_train, **fit_params)\n",
      "  File \"/Users/aliceqichaowu/opt/anaconda3/lib/python3.8/site-packages/xgboost/core.py\", line 422, in inner_f\n",
      "    return f(**kwargs)\n",
      "  File \"/Users/aliceqichaowu/opt/anaconda3/lib/python3.8/site-packages/xgboost/sklearn.py\", line 903, in fit\n",
      "    train_dmatrix, evals = self._wrap_evaluation_matrices(\n",
      "  File \"/Users/aliceqichaowu/opt/anaconda3/lib/python3.8/site-packages/xgboost/sklearn.py\", line 265, in _wrap_evaluation_matrices\n",
      "    train_dmatrix = DMatrix(data=X, label=y, weight=sample_weight,\n",
      "  File \"/Users/aliceqichaowu/opt/anaconda3/lib/python3.8/site-packages/xgboost/core.py\", line 500, in __init__\n",
      "    handle, feature_names, feature_types = dispatch_data_backend(\n",
      "  File \"/Users/aliceqichaowu/opt/anaconda3/lib/python3.8/site-packages/xgboost/data.py\", line 539, in dispatch_data_backend\n",
      "    return _from_pandas_df(data, enable_categorical, missing, threads,\n",
      "  File \"/Users/aliceqichaowu/opt/anaconda3/lib/python3.8/site-packages/xgboost/data.py\", line 242, in _from_pandas_df\n",
      "    data, feature_names, feature_types = _transform_pandas_df(\n",
      "  File \"/Users/aliceqichaowu/opt/anaconda3/lib/python3.8/site-packages/xgboost/data.py\", line 207, in _transform_pandas_df\n",
      "    raise ValueError(msg + ', '.join(bad_fields))\n",
      "ValueError: DataFrame.dtypes for data must be int, float, bool or categorical.  When\n",
      "                categorical type is supplied, DMatrix parameter\n",
      "                `enable_categorical` must be set to `True`.X_prace1, diffalon, employ1, diffwalk, exerany2, chcocncr, X_frtlt1, useequip, X_drdxar1, X_fruitex, cvdinfr4, bphigh4, X_rfbmi5, X_rfhlth, decide, X_rfsmok3, qlactlm2, X_totinda, X_pastrng, diabete3, havarth3, internet, medcost, chccopd1, X_hispanc, X_smoker3, cvdcrhd4, X_asthms1, X_dualuse, addepev2, educa, X_rfhype5, hlthpln1, X_cholchk, sex, X_age_g, X_educag, persdoc2, cvdstrk3, chckidny, qstlang, drnkany5, X_rfbing5, flushot6, veteran3, X_raceg21, X_age65yr, checkup1, seatbelt, X_ageg5yr, renthom1, X_race_g1, X_racegr3, X_rfdrhv4, marital, chcscncr\n",
      "\n",
      "  warnings.warn(\"Estimator fit failed. The score on this train-test\"\n",
      "/Users/aliceqichaowu/opt/anaconda3/lib/python3.8/site-packages/xgboost/sklearn.py:888: UserWarning: The use of label encoder in XGBClassifier is deprecated and will be removed in a future release. To remove this warning, do the following: 1) Pass option use_label_encoder=False when constructing XGBClassifier object; and 2) Encode your labels (y) as integers starting with 0, i.e. 0, 1, 2, ..., [num_class - 1].\n",
      "  warnings.warn(label_encoder_deprecation_msg, UserWarning)\n",
      "/Users/aliceqichaowu/opt/anaconda3/lib/python3.8/site-packages/sklearn/model_selection/_validation.py:610: FitFailedWarning: Estimator fit failed. The score on this train-test partition for these parameters will be set to nan. Details: \n",
      "Traceback (most recent call last):\n",
      "  File \"/Users/aliceqichaowu/opt/anaconda3/lib/python3.8/site-packages/sklearn/model_selection/_validation.py\", line 593, in _fit_and_score\n",
      "    estimator.fit(X_train, y_train, **fit_params)\n",
      "  File \"/Users/aliceqichaowu/opt/anaconda3/lib/python3.8/site-packages/xgboost/core.py\", line 422, in inner_f\n",
      "    return f(**kwargs)\n",
      "  File \"/Users/aliceqichaowu/opt/anaconda3/lib/python3.8/site-packages/xgboost/sklearn.py\", line 903, in fit\n",
      "    train_dmatrix, evals = self._wrap_evaluation_matrices(\n",
      "  File \"/Users/aliceqichaowu/opt/anaconda3/lib/python3.8/site-packages/xgboost/sklearn.py\", line 265, in _wrap_evaluation_matrices\n",
      "    train_dmatrix = DMatrix(data=X, label=y, weight=sample_weight,\n",
      "  File \"/Users/aliceqichaowu/opt/anaconda3/lib/python3.8/site-packages/xgboost/core.py\", line 500, in __init__\n",
      "    handle, feature_names, feature_types = dispatch_data_backend(\n",
      "  File \"/Users/aliceqichaowu/opt/anaconda3/lib/python3.8/site-packages/xgboost/data.py\", line 539, in dispatch_data_backend\n",
      "    return _from_pandas_df(data, enable_categorical, missing, threads,\n",
      "  File \"/Users/aliceqichaowu/opt/anaconda3/lib/python3.8/site-packages/xgboost/data.py\", line 242, in _from_pandas_df\n",
      "    data, feature_names, feature_types = _transform_pandas_df(\n",
      "  File \"/Users/aliceqichaowu/opt/anaconda3/lib/python3.8/site-packages/xgboost/data.py\", line 207, in _transform_pandas_df\n",
      "    raise ValueError(msg + ', '.join(bad_fields))\n",
      "ValueError: DataFrame.dtypes for data must be int, float, bool or categorical.  When\n",
      "                categorical type is supplied, DMatrix parameter\n",
      "                `enable_categorical` must be set to `True`.X_prace1, diffalon, employ1, diffwalk, exerany2, chcocncr, X_frtlt1, useequip, X_drdxar1, X_fruitex, cvdinfr4, bphigh4, X_rfbmi5, X_rfhlth, decide, X_rfsmok3, qlactlm2, X_totinda, X_pastrng, diabete3, havarth3, internet, medcost, chccopd1, X_hispanc, X_smoker3, cvdcrhd4, X_asthms1, X_dualuse, addepev2, educa, X_rfhype5, hlthpln1, X_cholchk, sex, X_age_g, X_educag, persdoc2, cvdstrk3, chckidny, qstlang, drnkany5, X_rfbing5, flushot6, veteran3, X_raceg21, X_age65yr, checkup1, seatbelt, X_ageg5yr, renthom1, X_race_g1, X_racegr3, X_rfdrhv4, marital, chcscncr\n",
      "\n",
      "  warnings.warn(\"Estimator fit failed. The score on this train-test\"\n",
      "/Users/aliceqichaowu/opt/anaconda3/lib/python3.8/site-packages/xgboost/sklearn.py:888: UserWarning: The use of label encoder in XGBClassifier is deprecated and will be removed in a future release. To remove this warning, do the following: 1) Pass option use_label_encoder=False when constructing XGBClassifier object; and 2) Encode your labels (y) as integers starting with 0, i.e. 0, 1, 2, ..., [num_class - 1].\n",
      "  warnings.warn(label_encoder_deprecation_msg, UserWarning)\n",
      "/Users/aliceqichaowu/opt/anaconda3/lib/python3.8/site-packages/sklearn/model_selection/_validation.py:610: FitFailedWarning: Estimator fit failed. The score on this train-test partition for these parameters will be set to nan. Details: \n",
      "Traceback (most recent call last):\n",
      "  File \"/Users/aliceqichaowu/opt/anaconda3/lib/python3.8/site-packages/sklearn/model_selection/_validation.py\", line 593, in _fit_and_score\n",
      "    estimator.fit(X_train, y_train, **fit_params)\n",
      "  File \"/Users/aliceqichaowu/opt/anaconda3/lib/python3.8/site-packages/xgboost/core.py\", line 422, in inner_f\n",
      "    return f(**kwargs)\n",
      "  File \"/Users/aliceqichaowu/opt/anaconda3/lib/python3.8/site-packages/xgboost/sklearn.py\", line 903, in fit\n",
      "    train_dmatrix, evals = self._wrap_evaluation_matrices(\n",
      "  File \"/Users/aliceqichaowu/opt/anaconda3/lib/python3.8/site-packages/xgboost/sklearn.py\", line 265, in _wrap_evaluation_matrices\n",
      "    train_dmatrix = DMatrix(data=X, label=y, weight=sample_weight,\n",
      "  File \"/Users/aliceqichaowu/opt/anaconda3/lib/python3.8/site-packages/xgboost/core.py\", line 500, in __init__\n",
      "    handle, feature_names, feature_types = dispatch_data_backend(\n",
      "  File \"/Users/aliceqichaowu/opt/anaconda3/lib/python3.8/site-packages/xgboost/data.py\", line 539, in dispatch_data_backend\n",
      "    return _from_pandas_df(data, enable_categorical, missing, threads,\n",
      "  File \"/Users/aliceqichaowu/opt/anaconda3/lib/python3.8/site-packages/xgboost/data.py\", line 242, in _from_pandas_df\n",
      "    data, feature_names, feature_types = _transform_pandas_df(\n",
      "  File \"/Users/aliceqichaowu/opt/anaconda3/lib/python3.8/site-packages/xgboost/data.py\", line 207, in _transform_pandas_df\n",
      "    raise ValueError(msg + ', '.join(bad_fields))\n",
      "ValueError: DataFrame.dtypes for data must be int, float, bool or categorical.  When\n",
      "                categorical type is supplied, DMatrix parameter\n",
      "                `enable_categorical` must be set to `True`.X_prace1, diffalon, employ1, diffwalk, exerany2, chcocncr, X_frtlt1, useequip, X_drdxar1, X_fruitex, cvdinfr4, bphigh4, X_rfbmi5, X_rfhlth, decide, X_rfsmok3, qlactlm2, X_totinda, X_pastrng, diabete3, havarth3, internet, medcost, chccopd1, X_hispanc, X_smoker3, cvdcrhd4, X_asthms1, X_dualuse, addepev2, educa, X_rfhype5, hlthpln1, X_cholchk, sex, X_age_g, X_educag, persdoc2, cvdstrk3, chckidny, qstlang, drnkany5, X_rfbing5, flushot6, veteran3, X_raceg21, X_age65yr, checkup1, seatbelt, X_ageg5yr, renthom1, X_race_g1, X_racegr3, X_rfdrhv4, marital, chcscncr\n",
      "\n",
      "  warnings.warn(\"Estimator fit failed. The score on this train-test\"\n",
      "/Users/aliceqichaowu/opt/anaconda3/lib/python3.8/site-packages/xgboost/sklearn.py:888: UserWarning: The use of label encoder in XGBClassifier is deprecated and will be removed in a future release. To remove this warning, do the following: 1) Pass option use_label_encoder=False when constructing XGBClassifier object; and 2) Encode your labels (y) as integers starting with 0, i.e. 0, 1, 2, ..., [num_class - 1].\n",
      "  warnings.warn(label_encoder_deprecation_msg, UserWarning)\n",
      "/Users/aliceqichaowu/opt/anaconda3/lib/python3.8/site-packages/sklearn/model_selection/_validation.py:610: FitFailedWarning: Estimator fit failed. The score on this train-test partition for these parameters will be set to nan. Details: \n",
      "Traceback (most recent call last):\n",
      "  File \"/Users/aliceqichaowu/opt/anaconda3/lib/python3.8/site-packages/sklearn/model_selection/_validation.py\", line 593, in _fit_and_score\n",
      "    estimator.fit(X_train, y_train, **fit_params)\n",
      "  File \"/Users/aliceqichaowu/opt/anaconda3/lib/python3.8/site-packages/xgboost/core.py\", line 422, in inner_f\n",
      "    return f(**kwargs)\n",
      "  File \"/Users/aliceqichaowu/opt/anaconda3/lib/python3.8/site-packages/xgboost/sklearn.py\", line 903, in fit\n",
      "    train_dmatrix, evals = self._wrap_evaluation_matrices(\n",
      "  File \"/Users/aliceqichaowu/opt/anaconda3/lib/python3.8/site-packages/xgboost/sklearn.py\", line 265, in _wrap_evaluation_matrices\n",
      "    train_dmatrix = DMatrix(data=X, label=y, weight=sample_weight,\n",
      "  File \"/Users/aliceqichaowu/opt/anaconda3/lib/python3.8/site-packages/xgboost/core.py\", line 500, in __init__\n",
      "    handle, feature_names, feature_types = dispatch_data_backend(\n",
      "  File \"/Users/aliceqichaowu/opt/anaconda3/lib/python3.8/site-packages/xgboost/data.py\", line 539, in dispatch_data_backend\n",
      "    return _from_pandas_df(data, enable_categorical, missing, threads,\n",
      "  File \"/Users/aliceqichaowu/opt/anaconda3/lib/python3.8/site-packages/xgboost/data.py\", line 242, in _from_pandas_df\n",
      "    data, feature_names, feature_types = _transform_pandas_df(\n",
      "  File \"/Users/aliceqichaowu/opt/anaconda3/lib/python3.8/site-packages/xgboost/data.py\", line 207, in _transform_pandas_df\n",
      "    raise ValueError(msg + ', '.join(bad_fields))\n",
      "ValueError: DataFrame.dtypes for data must be int, float, bool or categorical.  When\n",
      "                categorical type is supplied, DMatrix parameter\n",
      "                `enable_categorical` must be set to `True`.X_prace1, diffalon, employ1, diffwalk, exerany2, chcocncr, X_frtlt1, useequip, X_drdxar1, X_fruitex, cvdinfr4, bphigh4, X_rfbmi5, X_rfhlth, decide, X_rfsmok3, qlactlm2, X_totinda, X_pastrng, diabete3, havarth3, internet, medcost, chccopd1, X_hispanc, X_smoker3, cvdcrhd4, X_asthms1, X_dualuse, addepev2, educa, X_rfhype5, hlthpln1, X_cholchk, sex, X_age_g, X_educag, persdoc2, cvdstrk3, chckidny, qstlang, drnkany5, X_rfbing5, flushot6, veteran3, X_raceg21, X_age65yr, checkup1, seatbelt, X_ageg5yr, renthom1, X_race_g1, X_racegr3, X_rfdrhv4, marital, chcscncr\n",
      "\n",
      "  warnings.warn(\"Estimator fit failed. The score on this train-test\"\n"
     ]
    },
    {
     "name": "stderr",
     "output_type": "stream",
     "text": [
      "/Users/aliceqichaowu/opt/anaconda3/lib/python3.8/site-packages/xgboost/sklearn.py:888: UserWarning: The use of label encoder in XGBClassifier is deprecated and will be removed in a future release. To remove this warning, do the following: 1) Pass option use_label_encoder=False when constructing XGBClassifier object; and 2) Encode your labels (y) as integers starting with 0, i.e. 0, 1, 2, ..., [num_class - 1].\n",
      "  warnings.warn(label_encoder_deprecation_msg, UserWarning)\n",
      "/Users/aliceqichaowu/opt/anaconda3/lib/python3.8/site-packages/sklearn/model_selection/_validation.py:610: FitFailedWarning: Estimator fit failed. The score on this train-test partition for these parameters will be set to nan. Details: \n",
      "Traceback (most recent call last):\n",
      "  File \"/Users/aliceqichaowu/opt/anaconda3/lib/python3.8/site-packages/sklearn/model_selection/_validation.py\", line 593, in _fit_and_score\n",
      "    estimator.fit(X_train, y_train, **fit_params)\n",
      "  File \"/Users/aliceqichaowu/opt/anaconda3/lib/python3.8/site-packages/xgboost/core.py\", line 422, in inner_f\n",
      "    return f(**kwargs)\n",
      "  File \"/Users/aliceqichaowu/opt/anaconda3/lib/python3.8/site-packages/xgboost/sklearn.py\", line 903, in fit\n",
      "    train_dmatrix, evals = self._wrap_evaluation_matrices(\n",
      "  File \"/Users/aliceqichaowu/opt/anaconda3/lib/python3.8/site-packages/xgboost/sklearn.py\", line 265, in _wrap_evaluation_matrices\n",
      "    train_dmatrix = DMatrix(data=X, label=y, weight=sample_weight,\n",
      "  File \"/Users/aliceqichaowu/opt/anaconda3/lib/python3.8/site-packages/xgboost/core.py\", line 500, in __init__\n",
      "    handle, feature_names, feature_types = dispatch_data_backend(\n",
      "  File \"/Users/aliceqichaowu/opt/anaconda3/lib/python3.8/site-packages/xgboost/data.py\", line 539, in dispatch_data_backend\n",
      "    return _from_pandas_df(data, enable_categorical, missing, threads,\n",
      "  File \"/Users/aliceqichaowu/opt/anaconda3/lib/python3.8/site-packages/xgboost/data.py\", line 242, in _from_pandas_df\n",
      "    data, feature_names, feature_types = _transform_pandas_df(\n",
      "  File \"/Users/aliceqichaowu/opt/anaconda3/lib/python3.8/site-packages/xgboost/data.py\", line 207, in _transform_pandas_df\n",
      "    raise ValueError(msg + ', '.join(bad_fields))\n",
      "ValueError: DataFrame.dtypes for data must be int, float, bool or categorical.  When\n",
      "                categorical type is supplied, DMatrix parameter\n",
      "                `enable_categorical` must be set to `True`.X_prace1, diffalon, employ1, diffwalk, exerany2, chcocncr, X_frtlt1, useequip, X_drdxar1, X_fruitex, cvdinfr4, bphigh4, X_rfbmi5, X_rfhlth, decide, X_rfsmok3, qlactlm2, X_totinda, X_pastrng, diabete3, havarth3, internet, medcost, chccopd1, X_hispanc, X_smoker3, cvdcrhd4, X_asthms1, X_dualuse, addepev2, educa, X_rfhype5, hlthpln1, X_cholchk, sex, X_age_g, X_educag, persdoc2, cvdstrk3, chckidny, qstlang, drnkany5, X_rfbing5, flushot6, veteran3, X_raceg21, X_age65yr, checkup1, seatbelt, X_ageg5yr, renthom1, X_race_g1, X_racegr3, X_rfdrhv4, marital, chcscncr\n",
      "\n",
      "  warnings.warn(\"Estimator fit failed. The score on this train-test\"\n",
      "/Users/aliceqichaowu/opt/anaconda3/lib/python3.8/site-packages/xgboost/sklearn.py:888: UserWarning: The use of label encoder in XGBClassifier is deprecated and will be removed in a future release. To remove this warning, do the following: 1) Pass option use_label_encoder=False when constructing XGBClassifier object; and 2) Encode your labels (y) as integers starting with 0, i.e. 0, 1, 2, ..., [num_class - 1].\n",
      "  warnings.warn(label_encoder_deprecation_msg, UserWarning)\n",
      "/Users/aliceqichaowu/opt/anaconda3/lib/python3.8/site-packages/sklearn/model_selection/_validation.py:610: FitFailedWarning: Estimator fit failed. The score on this train-test partition for these parameters will be set to nan. Details: \n",
      "Traceback (most recent call last):\n",
      "  File \"/Users/aliceqichaowu/opt/anaconda3/lib/python3.8/site-packages/sklearn/model_selection/_validation.py\", line 593, in _fit_and_score\n",
      "    estimator.fit(X_train, y_train, **fit_params)\n",
      "  File \"/Users/aliceqichaowu/opt/anaconda3/lib/python3.8/site-packages/xgboost/core.py\", line 422, in inner_f\n",
      "    return f(**kwargs)\n",
      "  File \"/Users/aliceqichaowu/opt/anaconda3/lib/python3.8/site-packages/xgboost/sklearn.py\", line 903, in fit\n",
      "    train_dmatrix, evals = self._wrap_evaluation_matrices(\n",
      "  File \"/Users/aliceqichaowu/opt/anaconda3/lib/python3.8/site-packages/xgboost/sklearn.py\", line 265, in _wrap_evaluation_matrices\n",
      "    train_dmatrix = DMatrix(data=X, label=y, weight=sample_weight,\n",
      "  File \"/Users/aliceqichaowu/opt/anaconda3/lib/python3.8/site-packages/xgboost/core.py\", line 500, in __init__\n",
      "    handle, feature_names, feature_types = dispatch_data_backend(\n",
      "  File \"/Users/aliceqichaowu/opt/anaconda3/lib/python3.8/site-packages/xgboost/data.py\", line 539, in dispatch_data_backend\n",
      "    return _from_pandas_df(data, enable_categorical, missing, threads,\n",
      "  File \"/Users/aliceqichaowu/opt/anaconda3/lib/python3.8/site-packages/xgboost/data.py\", line 242, in _from_pandas_df\n",
      "    data, feature_names, feature_types = _transform_pandas_df(\n",
      "  File \"/Users/aliceqichaowu/opt/anaconda3/lib/python3.8/site-packages/xgboost/data.py\", line 207, in _transform_pandas_df\n",
      "    raise ValueError(msg + ', '.join(bad_fields))\n",
      "ValueError: DataFrame.dtypes for data must be int, float, bool or categorical.  When\n",
      "                categorical type is supplied, DMatrix parameter\n",
      "                `enable_categorical` must be set to `True`.X_prace1, diffalon, employ1, diffwalk, exerany2, chcocncr, X_frtlt1, useequip, X_drdxar1, X_fruitex, cvdinfr4, bphigh4, X_rfbmi5, X_rfhlth, decide, X_rfsmok3, qlactlm2, X_totinda, X_pastrng, diabete3, havarth3, internet, medcost, chccopd1, X_hispanc, X_smoker3, cvdcrhd4, X_asthms1, X_dualuse, addepev2, educa, X_rfhype5, hlthpln1, X_cholchk, sex, X_age_g, X_educag, persdoc2, cvdstrk3, chckidny, qstlang, drnkany5, X_rfbing5, flushot6, veteran3, X_raceg21, X_age65yr, checkup1, seatbelt, X_ageg5yr, renthom1, X_race_g1, X_racegr3, X_rfdrhv4, marital, chcscncr\n",
      "\n",
      "  warnings.warn(\"Estimator fit failed. The score on this train-test\"\n",
      "/Users/aliceqichaowu/opt/anaconda3/lib/python3.8/site-packages/xgboost/sklearn.py:888: UserWarning: The use of label encoder in XGBClassifier is deprecated and will be removed in a future release. To remove this warning, do the following: 1) Pass option use_label_encoder=False when constructing XGBClassifier object; and 2) Encode your labels (y) as integers starting with 0, i.e. 0, 1, 2, ..., [num_class - 1].\n",
      "  warnings.warn(label_encoder_deprecation_msg, UserWarning)\n",
      "/Users/aliceqichaowu/opt/anaconda3/lib/python3.8/site-packages/sklearn/model_selection/_validation.py:610: FitFailedWarning: Estimator fit failed. The score on this train-test partition for these parameters will be set to nan. Details: \n",
      "Traceback (most recent call last):\n",
      "  File \"/Users/aliceqichaowu/opt/anaconda3/lib/python3.8/site-packages/sklearn/model_selection/_validation.py\", line 593, in _fit_and_score\n",
      "    estimator.fit(X_train, y_train, **fit_params)\n",
      "  File \"/Users/aliceqichaowu/opt/anaconda3/lib/python3.8/site-packages/xgboost/core.py\", line 422, in inner_f\n",
      "    return f(**kwargs)\n",
      "  File \"/Users/aliceqichaowu/opt/anaconda3/lib/python3.8/site-packages/xgboost/sklearn.py\", line 903, in fit\n",
      "    train_dmatrix, evals = self._wrap_evaluation_matrices(\n",
      "  File \"/Users/aliceqichaowu/opt/anaconda3/lib/python3.8/site-packages/xgboost/sklearn.py\", line 265, in _wrap_evaluation_matrices\n",
      "    train_dmatrix = DMatrix(data=X, label=y, weight=sample_weight,\n",
      "  File \"/Users/aliceqichaowu/opt/anaconda3/lib/python3.8/site-packages/xgboost/core.py\", line 500, in __init__\n",
      "    handle, feature_names, feature_types = dispatch_data_backend(\n",
      "  File \"/Users/aliceqichaowu/opt/anaconda3/lib/python3.8/site-packages/xgboost/data.py\", line 539, in dispatch_data_backend\n",
      "    return _from_pandas_df(data, enable_categorical, missing, threads,\n",
      "  File \"/Users/aliceqichaowu/opt/anaconda3/lib/python3.8/site-packages/xgboost/data.py\", line 242, in _from_pandas_df\n",
      "    data, feature_names, feature_types = _transform_pandas_df(\n",
      "  File \"/Users/aliceqichaowu/opt/anaconda3/lib/python3.8/site-packages/xgboost/data.py\", line 207, in _transform_pandas_df\n",
      "    raise ValueError(msg + ', '.join(bad_fields))\n",
      "ValueError: DataFrame.dtypes for data must be int, float, bool or categorical.  When\n",
      "                categorical type is supplied, DMatrix parameter\n",
      "                `enable_categorical` must be set to `True`.X_prace1, diffalon, employ1, diffwalk, exerany2, chcocncr, X_frtlt1, useequip, X_drdxar1, X_fruitex, cvdinfr4, bphigh4, X_rfbmi5, X_rfhlth, decide, X_rfsmok3, qlactlm2, X_totinda, X_pastrng, diabete3, havarth3, internet, medcost, chccopd1, X_hispanc, X_smoker3, cvdcrhd4, X_asthms1, X_dualuse, addepev2, educa, X_rfhype5, hlthpln1, X_cholchk, sex, X_age_g, X_educag, persdoc2, cvdstrk3, chckidny, qstlang, drnkany5, X_rfbing5, flushot6, veteran3, X_raceg21, X_age65yr, checkup1, seatbelt, X_ageg5yr, renthom1, X_race_g1, X_racegr3, X_rfdrhv4, marital, chcscncr\n",
      "\n",
      "  warnings.warn(\"Estimator fit failed. The score on this train-test\"\n",
      "/Users/aliceqichaowu/opt/anaconda3/lib/python3.8/site-packages/xgboost/sklearn.py:888: UserWarning: The use of label encoder in XGBClassifier is deprecated and will be removed in a future release. To remove this warning, do the following: 1) Pass option use_label_encoder=False when constructing XGBClassifier object; and 2) Encode your labels (y) as integers starting with 0, i.e. 0, 1, 2, ..., [num_class - 1].\n",
      "  warnings.warn(label_encoder_deprecation_msg, UserWarning)\n",
      "/Users/aliceqichaowu/opt/anaconda3/lib/python3.8/site-packages/sklearn/model_selection/_validation.py:610: FitFailedWarning: Estimator fit failed. The score on this train-test partition for these parameters will be set to nan. Details: \n",
      "Traceback (most recent call last):\n",
      "  File \"/Users/aliceqichaowu/opt/anaconda3/lib/python3.8/site-packages/sklearn/model_selection/_validation.py\", line 593, in _fit_and_score\n",
      "    estimator.fit(X_train, y_train, **fit_params)\n",
      "  File \"/Users/aliceqichaowu/opt/anaconda3/lib/python3.8/site-packages/xgboost/core.py\", line 422, in inner_f\n",
      "    return f(**kwargs)\n",
      "  File \"/Users/aliceqichaowu/opt/anaconda3/lib/python3.8/site-packages/xgboost/sklearn.py\", line 903, in fit\n",
      "    train_dmatrix, evals = self._wrap_evaluation_matrices(\n",
      "  File \"/Users/aliceqichaowu/opt/anaconda3/lib/python3.8/site-packages/xgboost/sklearn.py\", line 265, in _wrap_evaluation_matrices\n",
      "    train_dmatrix = DMatrix(data=X, label=y, weight=sample_weight,\n",
      "  File \"/Users/aliceqichaowu/opt/anaconda3/lib/python3.8/site-packages/xgboost/core.py\", line 500, in __init__\n",
      "    handle, feature_names, feature_types = dispatch_data_backend(\n",
      "  File \"/Users/aliceqichaowu/opt/anaconda3/lib/python3.8/site-packages/xgboost/data.py\", line 539, in dispatch_data_backend\n",
      "    return _from_pandas_df(data, enable_categorical, missing, threads,\n",
      "  File \"/Users/aliceqichaowu/opt/anaconda3/lib/python3.8/site-packages/xgboost/data.py\", line 242, in _from_pandas_df\n",
      "    data, feature_names, feature_types = _transform_pandas_df(\n",
      "  File \"/Users/aliceqichaowu/opt/anaconda3/lib/python3.8/site-packages/xgboost/data.py\", line 207, in _transform_pandas_df\n",
      "    raise ValueError(msg + ', '.join(bad_fields))\n",
      "ValueError: DataFrame.dtypes for data must be int, float, bool or categorical.  When\n",
      "                categorical type is supplied, DMatrix parameter\n",
      "                `enable_categorical` must be set to `True`.X_prace1, diffalon, employ1, diffwalk, exerany2, chcocncr, X_frtlt1, useequip, X_drdxar1, X_fruitex, cvdinfr4, bphigh4, X_rfbmi5, X_rfhlth, decide, X_rfsmok3, qlactlm2, X_totinda, X_pastrng, diabete3, havarth3, internet, medcost, chccopd1, X_hispanc, X_smoker3, cvdcrhd4, X_asthms1, X_dualuse, addepev2, educa, X_rfhype5, hlthpln1, X_cholchk, sex, X_age_g, X_educag, persdoc2, cvdstrk3, chckidny, qstlang, drnkany5, X_rfbing5, flushot6, veteran3, X_raceg21, X_age65yr, checkup1, seatbelt, X_ageg5yr, renthom1, X_race_g1, X_racegr3, X_rfdrhv4, marital, chcscncr\n",
      "\n",
      "  warnings.warn(\"Estimator fit failed. The score on this train-test\"\n",
      "/Users/aliceqichaowu/opt/anaconda3/lib/python3.8/site-packages/xgboost/sklearn.py:888: UserWarning: The use of label encoder in XGBClassifier is deprecated and will be removed in a future release. To remove this warning, do the following: 1) Pass option use_label_encoder=False when constructing XGBClassifier object; and 2) Encode your labels (y) as integers starting with 0, i.e. 0, 1, 2, ..., [num_class - 1].\n",
      "  warnings.warn(label_encoder_deprecation_msg, UserWarning)\n",
      "/Users/aliceqichaowu/opt/anaconda3/lib/python3.8/site-packages/sklearn/model_selection/_validation.py:610: FitFailedWarning: Estimator fit failed. The score on this train-test partition for these parameters will be set to nan. Details: \n",
      "Traceback (most recent call last):\n",
      "  File \"/Users/aliceqichaowu/opt/anaconda3/lib/python3.8/site-packages/sklearn/model_selection/_validation.py\", line 593, in _fit_and_score\n",
      "    estimator.fit(X_train, y_train, **fit_params)\n",
      "  File \"/Users/aliceqichaowu/opt/anaconda3/lib/python3.8/site-packages/xgboost/core.py\", line 422, in inner_f\n",
      "    return f(**kwargs)\n",
      "  File \"/Users/aliceqichaowu/opt/anaconda3/lib/python3.8/site-packages/xgboost/sklearn.py\", line 903, in fit\n",
      "    train_dmatrix, evals = self._wrap_evaluation_matrices(\n",
      "  File \"/Users/aliceqichaowu/opt/anaconda3/lib/python3.8/site-packages/xgboost/sklearn.py\", line 265, in _wrap_evaluation_matrices\n",
      "    train_dmatrix = DMatrix(data=X, label=y, weight=sample_weight,\n",
      "  File \"/Users/aliceqichaowu/opt/anaconda3/lib/python3.8/site-packages/xgboost/core.py\", line 500, in __init__\n",
      "    handle, feature_names, feature_types = dispatch_data_backend(\n",
      "  File \"/Users/aliceqichaowu/opt/anaconda3/lib/python3.8/site-packages/xgboost/data.py\", line 539, in dispatch_data_backend\n",
      "    return _from_pandas_df(data, enable_categorical, missing, threads,\n",
      "  File \"/Users/aliceqichaowu/opt/anaconda3/lib/python3.8/site-packages/xgboost/data.py\", line 242, in _from_pandas_df\n",
      "    data, feature_names, feature_types = _transform_pandas_df(\n",
      "  File \"/Users/aliceqichaowu/opt/anaconda3/lib/python3.8/site-packages/xgboost/data.py\", line 207, in _transform_pandas_df\n",
      "    raise ValueError(msg + ', '.join(bad_fields))\n",
      "ValueError: DataFrame.dtypes for data must be int, float, bool or categorical.  When\n",
      "                categorical type is supplied, DMatrix parameter\n",
      "                `enable_categorical` must be set to `True`.X_prace1, diffalon, employ1, diffwalk, exerany2, chcocncr, X_frtlt1, useequip, X_drdxar1, X_fruitex, cvdinfr4, bphigh4, X_rfbmi5, X_rfhlth, decide, X_rfsmok3, qlactlm2, X_totinda, X_pastrng, diabete3, havarth3, internet, medcost, chccopd1, X_hispanc, X_smoker3, cvdcrhd4, X_asthms1, X_dualuse, addepev2, educa, X_rfhype5, hlthpln1, X_cholchk, sex, X_age_g, X_educag, persdoc2, cvdstrk3, chckidny, qstlang, drnkany5, X_rfbing5, flushot6, veteran3, X_raceg21, X_age65yr, checkup1, seatbelt, X_ageg5yr, renthom1, X_race_g1, X_racegr3, X_rfdrhv4, marital, chcscncr\n",
      "\n",
      "  warnings.warn(\"Estimator fit failed. The score on this train-test\"\n",
      "/Users/aliceqichaowu/opt/anaconda3/lib/python3.8/site-packages/xgboost/sklearn.py:888: UserWarning: The use of label encoder in XGBClassifier is deprecated and will be removed in a future release. To remove this warning, do the following: 1) Pass option use_label_encoder=False when constructing XGBClassifier object; and 2) Encode your labels (y) as integers starting with 0, i.e. 0, 1, 2, ..., [num_class - 1].\n",
      "  warnings.warn(label_encoder_deprecation_msg, UserWarning)\n",
      "/Users/aliceqichaowu/opt/anaconda3/lib/python3.8/site-packages/sklearn/model_selection/_validation.py:610: FitFailedWarning: Estimator fit failed. The score on this train-test partition for these parameters will be set to nan. Details: \n",
      "Traceback (most recent call last):\n",
      "  File \"/Users/aliceqichaowu/opt/anaconda3/lib/python3.8/site-packages/sklearn/model_selection/_validation.py\", line 593, in _fit_and_score\n",
      "    estimator.fit(X_train, y_train, **fit_params)\n",
      "  File \"/Users/aliceqichaowu/opt/anaconda3/lib/python3.8/site-packages/xgboost/core.py\", line 422, in inner_f\n",
      "    return f(**kwargs)\n",
      "  File \"/Users/aliceqichaowu/opt/anaconda3/lib/python3.8/site-packages/xgboost/sklearn.py\", line 903, in fit\n",
      "    train_dmatrix, evals = self._wrap_evaluation_matrices(\n",
      "  File \"/Users/aliceqichaowu/opt/anaconda3/lib/python3.8/site-packages/xgboost/sklearn.py\", line 265, in _wrap_evaluation_matrices\n",
      "    train_dmatrix = DMatrix(data=X, label=y, weight=sample_weight,\n",
      "  File \"/Users/aliceqichaowu/opt/anaconda3/lib/python3.8/site-packages/xgboost/core.py\", line 500, in __init__\n",
      "    handle, feature_names, feature_types = dispatch_data_backend(\n",
      "  File \"/Users/aliceqichaowu/opt/anaconda3/lib/python3.8/site-packages/xgboost/data.py\", line 539, in dispatch_data_backend\n",
      "    return _from_pandas_df(data, enable_categorical, missing, threads,\n",
      "  File \"/Users/aliceqichaowu/opt/anaconda3/lib/python3.8/site-packages/xgboost/data.py\", line 242, in _from_pandas_df\n",
      "    data, feature_names, feature_types = _transform_pandas_df(\n",
      "  File \"/Users/aliceqichaowu/opt/anaconda3/lib/python3.8/site-packages/xgboost/data.py\", line 207, in _transform_pandas_df\n",
      "    raise ValueError(msg + ', '.join(bad_fields))\n",
      "ValueError: DataFrame.dtypes for data must be int, float, bool or categorical.  When\n",
      "                categorical type is supplied, DMatrix parameter\n",
      "                `enable_categorical` must be set to `True`.X_prace1, diffalon, employ1, diffwalk, exerany2, chcocncr, X_frtlt1, useequip, X_drdxar1, X_fruitex, cvdinfr4, bphigh4, X_rfbmi5, X_rfhlth, decide, X_rfsmok3, qlactlm2, X_totinda, X_pastrng, diabete3, havarth3, internet, medcost, chccopd1, X_hispanc, X_smoker3, cvdcrhd4, X_asthms1, X_dualuse, addepev2, educa, X_rfhype5, hlthpln1, X_cholchk, sex, X_age_g, X_educag, persdoc2, cvdstrk3, chckidny, qstlang, drnkany5, X_rfbing5, flushot6, veteran3, X_raceg21, X_age65yr, checkup1, seatbelt, X_ageg5yr, renthom1, X_race_g1, X_racegr3, X_rfdrhv4, marital, chcscncr\n",
      "\n",
      "  warnings.warn(\"Estimator fit failed. The score on this train-test\"\n",
      "/Users/aliceqichaowu/opt/anaconda3/lib/python3.8/site-packages/xgboost/sklearn.py:888: UserWarning: The use of label encoder in XGBClassifier is deprecated and will be removed in a future release. To remove this warning, do the following: 1) Pass option use_label_encoder=False when constructing XGBClassifier object; and 2) Encode your labels (y) as integers starting with 0, i.e. 0, 1, 2, ..., [num_class - 1].\n",
      "  warnings.warn(label_encoder_deprecation_msg, UserWarning)\n",
      "/Users/aliceqichaowu/opt/anaconda3/lib/python3.8/site-packages/sklearn/model_selection/_validation.py:610: FitFailedWarning: Estimator fit failed. The score on this train-test partition for these parameters will be set to nan. Details: \n",
      "Traceback (most recent call last):\n",
      "  File \"/Users/aliceqichaowu/opt/anaconda3/lib/python3.8/site-packages/sklearn/model_selection/_validation.py\", line 593, in _fit_and_score\n",
      "    estimator.fit(X_train, y_train, **fit_params)\n",
      "  File \"/Users/aliceqichaowu/opt/anaconda3/lib/python3.8/site-packages/xgboost/core.py\", line 422, in inner_f\n",
      "    return f(**kwargs)\n",
      "  File \"/Users/aliceqichaowu/opt/anaconda3/lib/python3.8/site-packages/xgboost/sklearn.py\", line 903, in fit\n",
      "    train_dmatrix, evals = self._wrap_evaluation_matrices(\n",
      "  File \"/Users/aliceqichaowu/opt/anaconda3/lib/python3.8/site-packages/xgboost/sklearn.py\", line 265, in _wrap_evaluation_matrices\n",
      "    train_dmatrix = DMatrix(data=X, label=y, weight=sample_weight,\n",
      "  File \"/Users/aliceqichaowu/opt/anaconda3/lib/python3.8/site-packages/xgboost/core.py\", line 500, in __init__\n",
      "    handle, feature_names, feature_types = dispatch_data_backend(\n",
      "  File \"/Users/aliceqichaowu/opt/anaconda3/lib/python3.8/site-packages/xgboost/data.py\", line 539, in dispatch_data_backend\n",
      "    return _from_pandas_df(data, enable_categorical, missing, threads,\n",
      "  File \"/Users/aliceqichaowu/opt/anaconda3/lib/python3.8/site-packages/xgboost/data.py\", line 242, in _from_pandas_df\n",
      "    data, feature_names, feature_types = _transform_pandas_df(\n",
      "  File \"/Users/aliceqichaowu/opt/anaconda3/lib/python3.8/site-packages/xgboost/data.py\", line 207, in _transform_pandas_df\n",
      "    raise ValueError(msg + ', '.join(bad_fields))\n",
      "ValueError: DataFrame.dtypes for data must be int, float, bool or categorical.  When\n",
      "                categorical type is supplied, DMatrix parameter\n",
      "                `enable_categorical` must be set to `True`.X_prace1, diffalon, employ1, diffwalk, exerany2, chcocncr, X_frtlt1, useequip, X_drdxar1, X_fruitex, cvdinfr4, bphigh4, X_rfbmi5, X_rfhlth, decide, X_rfsmok3, qlactlm2, X_totinda, X_pastrng, diabete3, havarth3, internet, medcost, chccopd1, X_hispanc, X_smoker3, cvdcrhd4, X_asthms1, X_dualuse, addepev2, educa, X_rfhype5, hlthpln1, X_cholchk, sex, X_age_g, X_educag, persdoc2, cvdstrk3, chckidny, qstlang, drnkany5, X_rfbing5, flushot6, veteran3, X_raceg21, X_age65yr, checkup1, seatbelt, X_ageg5yr, renthom1, X_race_g1, X_racegr3, X_rfdrhv4, marital, chcscncr\n",
      "\n",
      "  warnings.warn(\"Estimator fit failed. The score on this train-test\"\n",
      "/Users/aliceqichaowu/opt/anaconda3/lib/python3.8/site-packages/xgboost/sklearn.py:888: UserWarning: The use of label encoder in XGBClassifier is deprecated and will be removed in a future release. To remove this warning, do the following: 1) Pass option use_label_encoder=False when constructing XGBClassifier object; and 2) Encode your labels (y) as integers starting with 0, i.e. 0, 1, 2, ..., [num_class - 1].\n",
      "  warnings.warn(label_encoder_deprecation_msg, UserWarning)\n",
      "/Users/aliceqichaowu/opt/anaconda3/lib/python3.8/site-packages/sklearn/model_selection/_validation.py:610: FitFailedWarning: Estimator fit failed. The score on this train-test partition for these parameters will be set to nan. Details: \n",
      "Traceback (most recent call last):\n",
      "  File \"/Users/aliceqichaowu/opt/anaconda3/lib/python3.8/site-packages/sklearn/model_selection/_validation.py\", line 593, in _fit_and_score\n",
      "    estimator.fit(X_train, y_train, **fit_params)\n",
      "  File \"/Users/aliceqichaowu/opt/anaconda3/lib/python3.8/site-packages/xgboost/core.py\", line 422, in inner_f\n",
      "    return f(**kwargs)\n",
      "  File \"/Users/aliceqichaowu/opt/anaconda3/lib/python3.8/site-packages/xgboost/sklearn.py\", line 903, in fit\n",
      "    train_dmatrix, evals = self._wrap_evaluation_matrices(\n",
      "  File \"/Users/aliceqichaowu/opt/anaconda3/lib/python3.8/site-packages/xgboost/sklearn.py\", line 265, in _wrap_evaluation_matrices\n",
      "    train_dmatrix = DMatrix(data=X, label=y, weight=sample_weight,\n",
      "  File \"/Users/aliceqichaowu/opt/anaconda3/lib/python3.8/site-packages/xgboost/core.py\", line 500, in __init__\n",
      "    handle, feature_names, feature_types = dispatch_data_backend(\n",
      "  File \"/Users/aliceqichaowu/opt/anaconda3/lib/python3.8/site-packages/xgboost/data.py\", line 539, in dispatch_data_backend\n",
      "    return _from_pandas_df(data, enable_categorical, missing, threads,\n",
      "  File \"/Users/aliceqichaowu/opt/anaconda3/lib/python3.8/site-packages/xgboost/data.py\", line 242, in _from_pandas_df\n",
      "    data, feature_names, feature_types = _transform_pandas_df(\n",
      "  File \"/Users/aliceqichaowu/opt/anaconda3/lib/python3.8/site-packages/xgboost/data.py\", line 207, in _transform_pandas_df\n",
      "    raise ValueError(msg + ', '.join(bad_fields))\n",
      "ValueError: DataFrame.dtypes for data must be int, float, bool or categorical.  When\n",
      "                categorical type is supplied, DMatrix parameter\n",
      "                `enable_categorical` must be set to `True`.X_prace1, diffalon, employ1, diffwalk, exerany2, chcocncr, X_frtlt1, useequip, X_drdxar1, X_fruitex, cvdinfr4, bphigh4, X_rfbmi5, X_rfhlth, decide, X_rfsmok3, qlactlm2, X_totinda, X_pastrng, diabete3, havarth3, internet, medcost, chccopd1, X_hispanc, X_smoker3, cvdcrhd4, X_asthms1, X_dualuse, addepev2, educa, X_rfhype5, hlthpln1, X_cholchk, sex, X_age_g, X_educag, persdoc2, cvdstrk3, chckidny, qstlang, drnkany5, X_rfbing5, flushot6, veteran3, X_raceg21, X_age65yr, checkup1, seatbelt, X_ageg5yr, renthom1, X_race_g1, X_racegr3, X_rfdrhv4, marital, chcscncr\n",
      "\n",
      "  warnings.warn(\"Estimator fit failed. The score on this train-test\"\n",
      "/Users/aliceqichaowu/opt/anaconda3/lib/python3.8/site-packages/xgboost/sklearn.py:888: UserWarning: The use of label encoder in XGBClassifier is deprecated and will be removed in a future release. To remove this warning, do the following: 1) Pass option use_label_encoder=False when constructing XGBClassifier object; and 2) Encode your labels (y) as integers starting with 0, i.e. 0, 1, 2, ..., [num_class - 1].\n",
      "  warnings.warn(label_encoder_deprecation_msg, UserWarning)\n",
      "/Users/aliceqichaowu/opt/anaconda3/lib/python3.8/site-packages/sklearn/model_selection/_validation.py:610: FitFailedWarning: Estimator fit failed. The score on this train-test partition for these parameters will be set to nan. Details: \n",
      "Traceback (most recent call last):\n",
      "  File \"/Users/aliceqichaowu/opt/anaconda3/lib/python3.8/site-packages/sklearn/model_selection/_validation.py\", line 593, in _fit_and_score\n",
      "    estimator.fit(X_train, y_train, **fit_params)\n",
      "  File \"/Users/aliceqichaowu/opt/anaconda3/lib/python3.8/site-packages/xgboost/core.py\", line 422, in inner_f\n",
      "    return f(**kwargs)\n",
      "  File \"/Users/aliceqichaowu/opt/anaconda3/lib/python3.8/site-packages/xgboost/sklearn.py\", line 903, in fit\n",
      "    train_dmatrix, evals = self._wrap_evaluation_matrices(\n",
      "  File \"/Users/aliceqichaowu/opt/anaconda3/lib/python3.8/site-packages/xgboost/sklearn.py\", line 265, in _wrap_evaluation_matrices\n",
      "    train_dmatrix = DMatrix(data=X, label=y, weight=sample_weight,\n",
      "  File \"/Users/aliceqichaowu/opt/anaconda3/lib/python3.8/site-packages/xgboost/core.py\", line 500, in __init__\n",
      "    handle, feature_names, feature_types = dispatch_data_backend(\n",
      "  File \"/Users/aliceqichaowu/opt/anaconda3/lib/python3.8/site-packages/xgboost/data.py\", line 539, in dispatch_data_backend\n",
      "    return _from_pandas_df(data, enable_categorical, missing, threads,\n",
      "  File \"/Users/aliceqichaowu/opt/anaconda3/lib/python3.8/site-packages/xgboost/data.py\", line 242, in _from_pandas_df\n",
      "    data, feature_names, feature_types = _transform_pandas_df(\n",
      "  File \"/Users/aliceqichaowu/opt/anaconda3/lib/python3.8/site-packages/xgboost/data.py\", line 207, in _transform_pandas_df\n",
      "    raise ValueError(msg + ', '.join(bad_fields))\n",
      "ValueError: DataFrame.dtypes for data must be int, float, bool or categorical.  When\n",
      "                categorical type is supplied, DMatrix parameter\n",
      "                `enable_categorical` must be set to `True`.X_prace1, diffalon, employ1, diffwalk, exerany2, chcocncr, X_frtlt1, useequip, X_drdxar1, X_fruitex, cvdinfr4, bphigh4, X_rfbmi5, X_rfhlth, decide, X_rfsmok3, qlactlm2, X_totinda, X_pastrng, diabete3, havarth3, internet, medcost, chccopd1, X_hispanc, X_smoker3, cvdcrhd4, X_asthms1, X_dualuse, addepev2, educa, X_rfhype5, hlthpln1, X_cholchk, sex, X_age_g, X_educag, persdoc2, cvdstrk3, chckidny, qstlang, drnkany5, X_rfbing5, flushot6, veteran3, X_raceg21, X_age65yr, checkup1, seatbelt, X_ageg5yr, renthom1, X_race_g1, X_racegr3, X_rfdrhv4, marital, chcscncr\n",
      "\n",
      "  warnings.warn(\"Estimator fit failed. The score on this train-test\"\n",
      "/Users/aliceqichaowu/opt/anaconda3/lib/python3.8/site-packages/xgboost/sklearn.py:888: UserWarning: The use of label encoder in XGBClassifier is deprecated and will be removed in a future release. To remove this warning, do the following: 1) Pass option use_label_encoder=False when constructing XGBClassifier object; and 2) Encode your labels (y) as integers starting with 0, i.e. 0, 1, 2, ..., [num_class - 1].\n",
      "  warnings.warn(label_encoder_deprecation_msg, UserWarning)\n",
      "/Users/aliceqichaowu/opt/anaconda3/lib/python3.8/site-packages/sklearn/model_selection/_validation.py:610: FitFailedWarning: Estimator fit failed. The score on this train-test partition for these parameters will be set to nan. Details: \n",
      "Traceback (most recent call last):\n",
      "  File \"/Users/aliceqichaowu/opt/anaconda3/lib/python3.8/site-packages/sklearn/model_selection/_validation.py\", line 593, in _fit_and_score\n",
      "    estimator.fit(X_train, y_train, **fit_params)\n",
      "  File \"/Users/aliceqichaowu/opt/anaconda3/lib/python3.8/site-packages/xgboost/core.py\", line 422, in inner_f\n",
      "    return f(**kwargs)\n",
      "  File \"/Users/aliceqichaowu/opt/anaconda3/lib/python3.8/site-packages/xgboost/sklearn.py\", line 903, in fit\n",
      "    train_dmatrix, evals = self._wrap_evaluation_matrices(\n",
      "  File \"/Users/aliceqichaowu/opt/anaconda3/lib/python3.8/site-packages/xgboost/sklearn.py\", line 265, in _wrap_evaluation_matrices\n",
      "    train_dmatrix = DMatrix(data=X, label=y, weight=sample_weight,\n",
      "  File \"/Users/aliceqichaowu/opt/anaconda3/lib/python3.8/site-packages/xgboost/core.py\", line 500, in __init__\n",
      "    handle, feature_names, feature_types = dispatch_data_backend(\n",
      "  File \"/Users/aliceqichaowu/opt/anaconda3/lib/python3.8/site-packages/xgboost/data.py\", line 539, in dispatch_data_backend\n",
      "    return _from_pandas_df(data, enable_categorical, missing, threads,\n",
      "  File \"/Users/aliceqichaowu/opt/anaconda3/lib/python3.8/site-packages/xgboost/data.py\", line 242, in _from_pandas_df\n",
      "    data, feature_names, feature_types = _transform_pandas_df(\n",
      "  File \"/Users/aliceqichaowu/opt/anaconda3/lib/python3.8/site-packages/xgboost/data.py\", line 207, in _transform_pandas_df\n",
      "    raise ValueError(msg + ', '.join(bad_fields))\n",
      "ValueError: DataFrame.dtypes for data must be int, float, bool or categorical.  When\n",
      "                categorical type is supplied, DMatrix parameter\n",
      "                `enable_categorical` must be set to `True`.X_prace1, diffalon, employ1, diffwalk, exerany2, chcocncr, X_frtlt1, useequip, X_drdxar1, X_fruitex, cvdinfr4, bphigh4, X_rfbmi5, X_rfhlth, decide, X_rfsmok3, qlactlm2, X_totinda, X_pastrng, diabete3, havarth3, internet, medcost, chccopd1, X_hispanc, X_smoker3, cvdcrhd4, X_asthms1, X_dualuse, addepev2, educa, X_rfhype5, hlthpln1, X_cholchk, sex, X_age_g, X_educag, persdoc2, cvdstrk3, chckidny, qstlang, drnkany5, X_rfbing5, flushot6, veteran3, X_raceg21, X_age65yr, checkup1, seatbelt, X_ageg5yr, renthom1, X_race_g1, X_racegr3, X_rfdrhv4, marital, chcscncr\n",
      "\n",
      "  warnings.warn(\"Estimator fit failed. The score on this train-test\"\n"
     ]
    },
    {
     "name": "stderr",
     "output_type": "stream",
     "text": [
      "/Users/aliceqichaowu/opt/anaconda3/lib/python3.8/site-packages/xgboost/sklearn.py:888: UserWarning: The use of label encoder in XGBClassifier is deprecated and will be removed in a future release. To remove this warning, do the following: 1) Pass option use_label_encoder=False when constructing XGBClassifier object; and 2) Encode your labels (y) as integers starting with 0, i.e. 0, 1, 2, ..., [num_class - 1].\n",
      "  warnings.warn(label_encoder_deprecation_msg, UserWarning)\n",
      "/Users/aliceqichaowu/opt/anaconda3/lib/python3.8/site-packages/sklearn/model_selection/_validation.py:610: FitFailedWarning: Estimator fit failed. The score on this train-test partition for these parameters will be set to nan. Details: \n",
      "Traceback (most recent call last):\n",
      "  File \"/Users/aliceqichaowu/opt/anaconda3/lib/python3.8/site-packages/sklearn/model_selection/_validation.py\", line 593, in _fit_and_score\n",
      "    estimator.fit(X_train, y_train, **fit_params)\n",
      "  File \"/Users/aliceqichaowu/opt/anaconda3/lib/python3.8/site-packages/xgboost/core.py\", line 422, in inner_f\n",
      "    return f(**kwargs)\n",
      "  File \"/Users/aliceqichaowu/opt/anaconda3/lib/python3.8/site-packages/xgboost/sklearn.py\", line 903, in fit\n",
      "    train_dmatrix, evals = self._wrap_evaluation_matrices(\n",
      "  File \"/Users/aliceqichaowu/opt/anaconda3/lib/python3.8/site-packages/xgboost/sklearn.py\", line 265, in _wrap_evaluation_matrices\n",
      "    train_dmatrix = DMatrix(data=X, label=y, weight=sample_weight,\n",
      "  File \"/Users/aliceqichaowu/opt/anaconda3/lib/python3.8/site-packages/xgboost/core.py\", line 500, in __init__\n",
      "    handle, feature_names, feature_types = dispatch_data_backend(\n",
      "  File \"/Users/aliceqichaowu/opt/anaconda3/lib/python3.8/site-packages/xgboost/data.py\", line 539, in dispatch_data_backend\n",
      "    return _from_pandas_df(data, enable_categorical, missing, threads,\n",
      "  File \"/Users/aliceqichaowu/opt/anaconda3/lib/python3.8/site-packages/xgboost/data.py\", line 242, in _from_pandas_df\n",
      "    data, feature_names, feature_types = _transform_pandas_df(\n",
      "  File \"/Users/aliceqichaowu/opt/anaconda3/lib/python3.8/site-packages/xgboost/data.py\", line 207, in _transform_pandas_df\n",
      "    raise ValueError(msg + ', '.join(bad_fields))\n",
      "ValueError: DataFrame.dtypes for data must be int, float, bool or categorical.  When\n",
      "                categorical type is supplied, DMatrix parameter\n",
      "                `enable_categorical` must be set to `True`.X_prace1, diffalon, employ1, diffwalk, exerany2, chcocncr, X_frtlt1, useequip, X_drdxar1, X_fruitex, cvdinfr4, bphigh4, X_rfbmi5, X_rfhlth, decide, X_rfsmok3, qlactlm2, X_totinda, X_pastrng, diabete3, havarth3, internet, medcost, chccopd1, X_hispanc, X_smoker3, cvdcrhd4, X_asthms1, X_dualuse, addepev2, educa, X_rfhype5, hlthpln1, X_cholchk, sex, X_age_g, X_educag, persdoc2, cvdstrk3, chckidny, qstlang, drnkany5, X_rfbing5, flushot6, veteran3, X_raceg21, X_age65yr, checkup1, seatbelt, X_ageg5yr, renthom1, X_race_g1, X_racegr3, X_rfdrhv4, marital, chcscncr\n",
      "\n",
      "  warnings.warn(\"Estimator fit failed. The score on this train-test\"\n"
     ]
    }
   ],
   "source": [
    "train_sizes, train_scores, valid_scores = learning_curve(XGBClassifier(use_label_encoder=False), X, y, train_sizes=np.linspace(0.1, 1, 10), cv=5)"
   ]
  },
  {
   "cell_type": "code",
   "execution_count": 117,
   "id": "bf52c6b3",
   "metadata": {},
   "outputs": [
    {
     "data": {
      "text/plain": [
       "[<matplotlib.lines.Line2D at 0x7fd4c0d7d430>,\n",
       " <matplotlib.lines.Line2D at 0x7fd4c0d7d490>,\n",
       " <matplotlib.lines.Line2D at 0x7fd4c0d7d550>,\n",
       " <matplotlib.lines.Line2D at 0x7fd4c0d7d610>,\n",
       " <matplotlib.lines.Line2D at 0x7fd4c0d7d6d0>]"
      ]
     },
     "execution_count": 117,
     "metadata": {},
     "output_type": "execute_result"
    },
    {
     "data": {
      "image/png": "[encoded data removed]",
      "text/plain": [
       "<Figure size 432x288 with 1 Axes>"
      ]
     },
     "metadata": {
      "needs_background": "light"
     },
     "output_type": "display_data"
    }
   ],
   "source": [
    "plt.plot(train_sizes, train_scores, markersize=5,color='green', label='Training Accuracy')"
   ]
  },
  {
   "cell_type": "code",
   "execution_count": null,
   "id": "ab22a2b7",
   "metadata": {},
   "outputs": [],
   "source": []
  },
  {
   "cell_type": "code",
   "execution_count": null,
   "id": "a6ce4775",
   "metadata": {},
   "outputs": [],
   "source": []
  }
 ],
 "metadata": {
  "kernelspec": {
   "display_name": "Python 3",
   "language": "python",
   "name": "python3"
  },
  "language_info": {
   "codemirror_mode": {
    "name": "ipython",
    "version": 3
   },
   "file_extension": ".py",
   "mimetype": "text/x-python",
   "name": "python",
   "nbconvert_exporter": "python",
   "pygments_lexer": "ipython3",
   "version": "3.8.8"
  }
 },
 "nbformat": 4,
 "nbformat_minor": 5
}
